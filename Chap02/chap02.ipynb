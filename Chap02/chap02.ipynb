{
 "cells": [
  {
   "cell_type": "markdown",
   "metadata": {},
   "source": [
    "### Chapter 2. Python 활용"
   ]
  },
  {
   "cell_type": "markdown",
   "metadata": {},
   "source": [
    "### 자료형과 변수"
   ]
  },
  {
   "cell_type": "code",
   "execution_count": null,
   "metadata": {},
   "outputs": [],
   "source": [
    "# 변수에 문자열 대입하기\n",
    "var1 = \"Python\"\n",
    "\n",
    "# 변수에 정수 대입하기\n",
    "var2 = 13\n",
    "\n",
    "# 변수에 실수 대입하기\n",
    "var3 = 3.14\n",
    "\n",
    "# 변수에 bool 자료 대입하기\n",
    "var4 = True"
   ]
  },
  {
   "cell_type": "code",
   "execution_count": null,
   "metadata": {},
   "outputs": [],
   "source": [
    "print (f'변수에 저장된 자료는 {var1} / {var2} / {var3} / {var4}')"
   ]
  },
  {
   "cell_type": "markdown",
   "metadata": {},
   "source": [
    "### 자료 입력 받기"
   ]
  },
  {
   "cell_type": "code",
   "execution_count": null,
   "metadata": {},
   "outputs": [],
   "source": [
    "# 문자열 입력 받기\n",
    "name = input ( \"이름을 입력하세요 : \" )\n",
    "\n",
    "# 정수 입력 받기\n",
    "age = int ( input ( \"나이를 입력하세요 : \" ) )\n",
    "\n",
    "# 실수 입력 받기\n",
    "weight = float ( input (\"무게를 입력하세요 (g) : \" ) )\n",
    "\n",
    "# bool 입력 받기\n",
    "flag = bool ( input ( 'True 또는 False : ' ) )"
   ]
  },
  {
   "cell_type": "code",
   "execution_count": null,
   "metadata": {},
   "outputs": [],
   "source": [
    "print (f'입력된 자료는 {name} / {age} / {weight} / {flag}')"
   ]
  },
  {
   "cell_type": "markdown",
   "metadata": {},
   "source": [
    "### 자료 출력 하기"
   ]
  },
  {
   "cell_type": "code",
   "execution_count": null,
   "metadata": {},
   "outputs": [],
   "source": [
    "# 문자열 출력\n",
    "print ( \"Hello world!\" )\n",
    "\n",
    "# 정수 출력\n",
    "print ( '%d' % (123 + 1) )\n",
    "\n",
    "# 정수를 문자로 출력\n",
    "print ( '%s' % str(123) + '1' )\n",
    "\n",
    "# 실수 출력\n",
    "print ( '%.3f' % 3.14 )\n",
    "\n",
    "# bool 출력\n",
    "print ( True )"
   ]
  },
  {
   "cell_type": "markdown",
   "metadata": {},
   "source": [
    "### 컬렉션 자료형 - list"
   ]
  },
  {
   "cell_type": "code",
   "execution_count": null,
   "metadata": {},
   "outputs": [],
   "source": [
    "# 리스트에 여러 자료형 넣기\n",
    "number = 10\n",
    "fruit = 'apple'\n",
    "alphabet = 'C'\n",
    "my_list = [ number, fruit, alphabet ]\n",
    "my_list.append ( 123.45 )\n",
    "my_list.append ( False )\n",
    "print ( my_list )"
   ]
  },
  {
   "cell_type": "code",
   "execution_count": null,
   "metadata": {},
   "outputs": [],
   "source": [
    "# 리스트 자료 확인\n",
    "print ( f'인덱스 번호 3 : { my_list [3] }')\n",
    "print ( f'1~3까지의 자료 : { my_list[1:4] }')"
   ]
  },
  {
   "cell_type": "markdown",
   "metadata": {},
   "source": [
    "### 컬렉션 자료형 - tuple"
   ]
  },
  {
   "cell_type": "code",
   "execution_count": null,
   "metadata": {},
   "outputs": [],
   "source": [
    "my_tuple = ( 1, 3, 5, 7, 9 )\n",
    "print ( f' my_tuple의 자료형은 { type ( my_tuple )}')"
   ]
  },
  {
   "cell_type": "code",
   "execution_count": null,
   "metadata": {},
   "outputs": [],
   "source": [
    "my_tuple1 = ( 'val' )\n",
    "print( f' tuple(val)로 선언하는 경우 자료형은 {type(my_tuple1)}로 확인된다.')\n",
    "my_tuple2 = ( 'val' ,  )\n",
    "print( f' tuple(val, )로 선언하는 경우 자료형은 {type(my_tuple2)}로 확인된다.')"
   ]
  },
  {
   "cell_type": "markdown",
   "metadata": {},
   "source": [
    "### 컬렉션 자료형 - dictionary"
   ]
  },
  {
   "cell_type": "code",
   "execution_count": null,
   "metadata": {},
   "outputs": [],
   "source": [
    "my_dictionary1 = { 'name' : '한옥영', '연락처' : '010-1234-5678' }\n",
    "my_dictionary2 = { 1 : '한국어', 2 : '영어' }\n",
    "print ( my_dictionary1 )\n",
    "print ( my_dictionary2 )\n",
    "my_dictionary3 = { 1 : '한국', 2 : '미국', 2 : '영국' }\n",
    "print ( my_dictionary3 )\n",
    "my_dictionary4 = { (1, 2) : '대한한국' }\n",
    "print ( my_dictionary4 )"
   ]
  },
  {
   "cell_type": "code",
   "execution_count": null,
   "metadata": {},
   "outputs": [],
   "source": [
    "my_dictionary = { 'name' : '한옥영', '연락처' : '010-1234-5678' }\n",
    "my_dictionary['전공'] = [ '데이터 분석', '인공지능' ]\n",
    "print ( my_dictionary )"
   ]
  },
  {
   "cell_type": "markdown",
   "metadata": {},
   "source": [
    "### 연산자 - 산술 연산자"
   ]
  },
  {
   "cell_type": "code",
   "execution_count": null,
   "metadata": {},
   "outputs": [],
   "source": [
    "num_list = [ 22, 15, 33, 10, 14, 12, 5, 3 ]\n",
    "print( f'원본 자료 : {num_list}' )\n",
    "num_list [0] = num_list [0] + 30\n",
    "num_list [1] = num_list [1] - 8\n",
    "num_list [2] = num_list [2] * 3\n",
    "num_list [3] = num_list [3] / 3\n",
    "num_list [4] = num_list [4] // 5\n",
    "num_list [5] = num_list [5] % 7\n",
    "num_list [6] = num_list [6] ** num_list [7]\n",
    "num_list [7] = 0   # 대입 연산자\n",
    "print( f'수정 자료 : {num_list}' )"
   ]
  },
  {
   "cell_type": "markdown",
   "metadata": {},
   "source": [
    "### 연산자 - 관계 연산자"
   ]
  },
  {
   "cell_type": "code",
   "execution_count": null,
   "metadata": {},
   "outputs": [],
   "source": [
    "x = 100; y = 200\n",
    "print ( f' {x} == {y}의 결과 { x==y }' )\n",
    "print ( f' {x} < {y}의 결과 { x < y }' )\n",
    "print ( f' {x} <= {y}의 결과 { x <= y }' )\n",
    "print ( f' {x} > {y}의 결과 { x > y }' )\n",
    "print ( f' {x} >= {y}의 결과 { x >= y }' )\n",
    "print ( f' {x} != {y}의 결과 { x != y }' )"
   ]
  },
  {
   "cell_type": "markdown",
   "metadata": {},
   "source": [
    "### 연산자 - 논리 연산자"
   ]
  },
  {
   "cell_type": "code",
   "execution_count": 1,
   "metadata": {},
   "outputs": [
    {
     "name": "stdout",
     "output_type": "stream",
     "text": [
      "거짓 or 참의 결과 : \tTrue\n",
      "거짓 and 참의 결과 : \tFalse\n",
      "Not 거짓의 결과 : \tTrue\n"
     ]
    }
   ],
   "source": [
    "x = ( 100 == 200 )   # False\n",
    "y = ( 150 < 300 )    # True\n",
    "\n",
    "print ( f'거짓 or 참의 결과 : \\t{ x or y }' )\n",
    "print ( f'거짓 and 참의 결과 : \\t{ x and y }' )\n",
    "print ( f'Not 거짓의 결과 : \\t{ not x }' )"
   ]
  },
  {
   "cell_type": "code",
   "execution_count": 2,
   "metadata": {},
   "outputs": [
    {
     "name": "stdout",
     "output_type": "stream",
     "text": [
      " 0 and 0 = 0\t 0 and 1 = 0\n",
      " 1 and 0 = 0\t 1 and 1 = 1\n",
      "\n",
      " 0 or 0 = 0\t 0 or 1 = 1\n",
      " 1 or 0 = 1\t 1 or 1 = 1\n"
     ]
    }
   ],
   "source": [
    "print ( f' 0 and 0 = {0 and 0}\\t 0 and 1 = {0 and 1}' )\n",
    "print ( f' 1 and 0 = {1 and 0}\\t 1 and 1 = {1 and 1}\\n' )\n",
    "print ( f' 0 or 0 = {0 or 0}\\t 0 or 1 = {0 or 1}' )\n",
    "print ( f' 1 or 0 = {1 or 0}\\t 1 or 1 = {1 or 1}' )"
   ]
  },
  {
   "cell_type": "markdown",
   "metadata": {},
   "source": [
    "---\n",
    "#### 가위바위보 게임"
   ]
  },
  {
   "cell_type": "code",
   "execution_count": 1,
   "metadata": {},
   "outputs": [
    {
     "name": "stdout",
     "output_type": "stream",
     "text": [
      "**** 가위바위보 게임 시작 ****\n",
      "당신의 선택은? (가위, 바위, 보): 가위\n",
      "컴퓨터의 선택은 보 였습니다!\n",
      "이겼습니다!\n",
      "계속합니까? (Y/N)Y\n",
      "\n",
      "당신의 선택은? (가위, 바위, 보): 바위\n",
      "컴퓨터의 선택은 보 였습니다!\n",
      "졌습니다!\n",
      "계속합니까? (Y/N)N\n",
      "**** 가위바위보 게임 끝 ****\n"
     ]
    }
   ],
   "source": [
    "import random\n",
    "\n",
    "print(\"**** 가위바위보 게임 시작 ****\")\n",
    "\n",
    "while True:\n",
    "    rsp = ['가위', '바위', '보']\n",
    "    computer = random.choice(rsp) # 가위 바위 보 중 임의의 값\n",
    "    \n",
    "    player = input(\"당신의 선택은? (가위, 바위, 보): \")\n",
    "    \n",
    "    print(\"컴퓨터의 선택은 %s 였습니다!\"%(computer))\n",
    "    \n",
    "    if player == computer:\n",
    "        print(\"비겼습니다!\")\n",
    "    elif player == '가위' and computer == '바위':\n",
    "        print(\"졌습니다!\")\n",
    "    elif player == '바위' and computer == '보':\n",
    "        print(\"졌습니다!\")\n",
    "    elif player == '보' and computer == '가위':\n",
    "        print(\"졌습니다!\")\n",
    "    else:\n",
    "        print(\"이겼습니다!\")\n",
    "        \n",
    "    more = input(\"계속합니까? (Y/N)\")\n",
    "    if more == 'y' or more == 'Y':\n",
    "        print()\n",
    "        continue\n",
    "    else:\n",
    "        break\n",
    "        \n",
    "print(\"**** 가위바위보 게임 끝 ****\")"
   ]
  },
  {
   "cell_type": "markdown",
   "metadata": {},
   "source": [
    "#### 달력 출력 프로그램"
   ]
  },
  {
   "cell_type": "code",
   "execution_count": 1,
   "metadata": {},
   "outputs": [
    {
     "name": "stdout",
     "output_type": "stream",
     "text": [
      "이번 달의 마지막 날은 며칠인가요?31\n",
      "['Mon', 'Tue', 'Wed', 'Thu', 'Fri', 'Sat', 'Sun']\n",
      "이번 달은 무슨 요일로 시작하나요?Tue\n",
      "=================================\n",
      "Mon  Tue  Wed  Thu  Fri  Sat  Sun  \n",
      "=================================\n",
      "       1    2    3    4    5    6  \n",
      "  7    8    9   10   11   12   13  \n",
      " 14   15   16   17   18   19   20  \n",
      " 21   22   23   24   25   26   27  \n",
      " 28   29   30   31  "
     ]
    }
   ],
   "source": [
    "week = ['Mon', 'Tue', 'Wed', 'Thu', 'Fri', 'Sat', 'Sun']\n",
    "\n",
    "n = int(input(\"이번 달의 마지막 날은 며칠인가요?\"))\n",
    "print(week)\n",
    "start = input(\"이번 달은 무슨 요일로 시작하나요?\")\n",
    "\n",
    "print('='*33) \n",
    "for i in week:\n",
    "    print(i,end='  ')\n",
    "print('\\n'+'='*33)    \n",
    "    \n",
    "cnt = week.index(start)\n",
    "\n",
    "for empty in range(cnt):\n",
    "    print(' '*3,end=' '*2)\n",
    "    \n",
    "for i in range(1, n+1):\n",
    "    print(\"%3d\"%(i),end=' '*2)\n",
    "        \n",
    "    if (i+cnt)%7==0:\n",
    "        print()"
   ]
  }
 ],
 "metadata": {
  "kernelspec": {
   "display_name": "Python 3",
   "language": "python",
   "name": "python3"
  },
  "language_info": {
   "codemirror_mode": {
    "name": "ipython",
    "version": 3
   },
   "file_extension": ".py",
   "mimetype": "text/x-python",
   "name": "python",
   "nbconvert_exporter": "python",
   "pygments_lexer": "ipython3",
   "version": "3.7.6"
  }
 },
 "nbformat": 4,
 "nbformat_minor": 4
}
