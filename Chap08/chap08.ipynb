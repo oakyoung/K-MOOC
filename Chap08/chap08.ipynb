{
 "cells": [
  {
   "cell_type": "markdown",
   "metadata": {},
   "source": [
    "### Chapter 8. 데이터 분석을 위한 Numpy"
   ]
  },
  {
   "cell_type": "markdown",
   "metadata": {},
   "source": [
    "#### 코드 8.1"
   ]
  },
  {
   "cell_type": "code",
   "execution_count": null,
   "metadata": {},
   "outputs": [],
   "source": [
    "import numpy as np"
   ]
  },
  {
   "cell_type": "markdown",
   "metadata": {},
   "source": [
    "#### 코드 8.2"
   ]
  },
  {
   "cell_type": "code",
   "execution_count": 1,
   "metadata": {
    "scrolled": true
   },
   "outputs": [
    {
     "data": {
      "text/plain": [
       "array([[0.39663715, 0.9508772 ],\n",
       "       [0.47066099, 0.2052124 ],\n",
       "       [0.36368727, 0.76122445],\n",
       "       [0.95349073, 0.28339245],\n",
       "       [0.9897659 , 0.85983586]])"
      ]
     },
     "execution_count": 1,
     "metadata": {},
     "output_type": "execute_result"
    }
   ],
   "source": [
    "import numpy as np\n",
    "np.random.rand(5, 2)     # 5 X 2 랜덤값을 가진 배열 생성"
   ]
  },
  {
   "cell_type": "markdown",
   "metadata": {},
   "source": [
    "#### 코드 8.3"
   ]
  },
  {
   "cell_type": "code",
   "execution_count": 2,
   "metadata": {},
   "outputs": [
    {
     "data": {
      "text/plain": [
       "array([0, 1, 2, 3, 4, 5])"
      ]
     },
     "execution_count": 2,
     "metadata": {},
     "output_type": "execute_result"
    }
   ],
   "source": [
    "import numpy as np\n",
    "np.arange(6)"
   ]
  },
  {
   "cell_type": "code",
   "execution_count": 3,
   "metadata": {},
   "outputs": [
    {
     "data": {
      "text/plain": [
       "array([[ 0,  1,  2],\n",
       "       [ 3,  4,  5],\n",
       "       [ 6,  7,  8],\n",
       "       [ 9, 10, 11]])"
      ]
     },
     "execution_count": 3,
     "metadata": {},
     "output_type": "execute_result"
    }
   ],
   "source": [
    "np.arange(12).reshape(4,3)"
   ]
  },
  {
   "cell_type": "code",
   "execution_count": 4,
   "metadata": {},
   "outputs": [
    {
     "data": {
      "text/plain": [
       "array([[[ 0,  1,  2,  3],\n",
       "        [ 4,  5,  6,  7],\n",
       "        [ 8,  9, 10, 11]],\n",
       "\n",
       "       [[12, 13, 14, 15],\n",
       "        [16, 17, 18, 19],\n",
       "        [20, 21, 22, 23]]])"
      ]
     },
     "execution_count": 4,
     "metadata": {},
     "output_type": "execute_result"
    }
   ],
   "source": [
    "np.arange(24).reshape(2,3,4)"
   ]
  },
  {
   "cell_type": "markdown",
   "metadata": {},
   "source": [
    "#### 코드 8.4"
   ]
  },
  {
   "cell_type": "code",
   "execution_count": 5,
   "metadata": {},
   "outputs": [
    {
     "name": "stdout",
     "output_type": "stream",
     "text": [
      "[1, 3, 5, 7, 9, 3, 5, 6, 7, 9]\n"
     ]
    }
   ],
   "source": [
    "a = [1,3,5,7,9] \n",
    "b = [3,5,6,7,9]\n",
    "c = a + b\n",
    "print(c)"
   ]
  },
  {
   "cell_type": "code",
   "execution_count": 6,
   "metadata": {},
   "outputs": [
    {
     "name": "stdout",
     "output_type": "stream",
     "text": [
      "[ 4  8 11 14 18]\n"
     ]
    }
   ],
   "source": [
    "a = np.array([1,3,5,7,9]) \n",
    "b = np.array([3,5,6,7,9])\n",
    "c = a + b\n",
    "print(c)"
   ]
  },
  {
   "cell_type": "code",
   "execution_count": 7,
   "metadata": {},
   "outputs": [
    {
     "data": {
      "text/plain": [
       "(5,)"
      ]
     },
     "execution_count": 7,
     "metadata": {},
     "output_type": "execute_result"
    }
   ],
   "source": [
    "c.shape"
   ]
  },
  {
   "cell_type": "markdown",
   "metadata": {},
   "source": [
    "#### 코드 8.5"
   ]
  },
  {
   "cell_type": "code",
   "execution_count": 8,
   "metadata": {},
   "outputs": [
    {
     "name": "stdout",
     "output_type": "stream",
     "text": [
      "[[1 2 3]\n",
      " [3 6 9]\n",
      " [2 4 6]]\n"
     ]
    }
   ],
   "source": [
    "my_list = [[1, 2, 3], [3, 6, 9], [2, 4, 6]]  # create a list \n",
    "my_array = np.array(my_list)  # convert a list to an array \n",
    "print(my_array) "
   ]
  },
  {
   "cell_type": "code",
   "execution_count": 9,
   "metadata": {},
   "outputs": [
    {
     "data": {
      "text/plain": [
       "(3, 3)"
      ]
     },
     "execution_count": 9,
     "metadata": {},
     "output_type": "execute_result"
    }
   ],
   "source": [
    "my_array.shape"
   ]
  },
  {
   "cell_type": "markdown",
   "metadata": {},
   "source": [
    "#### 코드 8.6"
   ]
  },
  {
   "cell_type": "code",
   "execution_count": 10,
   "metadata": {},
   "outputs": [
    {
     "data": {
      "text/plain": [
       "array([['1', '2', '3'],\n",
       "       ['a', 'b', 'c'],\n",
       "       ['가', '나', '다']], dtype='<U11')"
      ]
     },
     "execution_count": 10,
     "metadata": {},
     "output_type": "execute_result"
    }
   ],
   "source": [
    "my_list = [(1,2,3), ('a','b','c'), (\"가\",\"나\",\"다\")]\n",
    "my_array = np.array(my_list)\n",
    "my_array"
   ]
  },
  {
   "cell_type": "markdown",
   "metadata": {},
   "source": [
    "#### 코드 8.7"
   ]
  },
  {
   "cell_type": "code",
   "execution_count": 11,
   "metadata": {},
   "outputs": [
    {
     "data": {
      "text/plain": [
       "array([[0., 0., 0.],\n",
       "       [0., 0., 0.]])"
      ]
     },
     "execution_count": 11,
     "metadata": {},
     "output_type": "execute_result"
    }
   ],
   "source": [
    "create_array1 = np.zeros( (2,3))\n",
    "create_array1"
   ]
  },
  {
   "cell_type": "code",
   "execution_count": 12,
   "metadata": {},
   "outputs": [
    {
     "data": {
      "text/plain": [
       "array([[1., 1., 1.],\n",
       "       [1., 1., 1.]])"
      ]
     },
     "execution_count": 12,
     "metadata": {},
     "output_type": "execute_result"
    }
   ],
   "source": [
    "create_array2 = np.ones( (2,3))\n",
    "create_array2"
   ]
  },
  {
   "cell_type": "code",
   "execution_count": 13,
   "metadata": {},
   "outputs": [
    {
     "data": {
      "text/plain": [
       "array([[[1.10423230e-311, 2.86558075e-322],\n",
       "        [0.00000000e+000, 0.00000000e+000],\n",
       "        [0.00000000e+000, 3.76231868e+174]],\n",
       "\n",
       "       [[5.20765409e-090, 2.74072580e-057],\n",
       "        [1.52431287e-052, 2.48972159e+180],\n",
       "        [6.48224659e+170, 5.82471487e+257]]])"
      ]
     },
     "execution_count": 13,
     "metadata": {},
     "output_type": "execute_result"
    }
   ],
   "source": [
    "create_array3 = np.empty( (2,3,2))\n",
    "create_array3"
   ]
  },
  {
   "cell_type": "markdown",
   "metadata": {},
   "source": [
    "#### 코드 8.8"
   ]
  },
  {
   "cell_type": "code",
   "execution_count": 18,
   "metadata": {},
   "outputs": [
    {
     "data": {
      "text/plain": [
       "array([[8, 8, 8],\n",
       "       [8, 8, 8],\n",
       "       [8, 8, 8]])"
      ]
     },
     "execution_count": 18,
     "metadata": {},
     "output_type": "execute_result"
    }
   ],
   "source": [
    "create_array4 = np.full( (3,3), 8 )\n",
    "create_array4"
   ]
  },
  {
   "cell_type": "code",
   "execution_count": 19,
   "metadata": {},
   "outputs": [
    {
     "data": {
      "text/plain": [
       "array([[1., 0., 0., 0., 0.],\n",
       "       [0., 1., 0., 0., 0.],\n",
       "       [0., 0., 1., 0., 0.],\n",
       "       [0., 0., 0., 1., 0.],\n",
       "       [0., 0., 0., 0., 1.]])"
      ]
     },
     "execution_count": 19,
     "metadata": {},
     "output_type": "execute_result"
    }
   ],
   "source": [
    "create_array5 = np.eye( 5 )\n",
    "create_array5 "
   ]
  },
  {
   "cell_type": "markdown",
   "metadata": {},
   "source": [
    "#### 코드 8.9"
   ]
  },
  {
   "cell_type": "markdown",
   "metadata": {},
   "source": [
    "###### np.linspace( ) : 요소 개수를 기준으로 균등 간격의 배열을 생성"
   ]
  },
  {
   "cell_type": "code",
   "execution_count": 20,
   "metadata": {},
   "outputs": [
    {
     "data": {
      "text/plain": [
       "array([ 0. ,  2.5,  5. ,  7.5, 10. ])"
      ]
     },
     "execution_count": 20,
     "metadata": {},
     "output_type": "execute_result"
    }
   ],
   "source": [
    "create_array6 = np.linspace(0, 10, 5)\n",
    "create_array6 "
   ]
  },
  {
   "cell_type": "markdown",
   "metadata": {},
   "source": [
    "##### np.arnage( ) : 데이터의 간격을  기준으로 데이터 생성"
   ]
  },
  {
   "cell_type": "code",
   "execution_count": 21,
   "metadata": {},
   "outputs": [
    {
     "data": {
      "text/plain": [
       "array([ 0,  8, 16, 24, 32])"
      ]
     },
     "execution_count": 21,
     "metadata": {},
     "output_type": "execute_result"
    }
   ],
   "source": [
    "create_array7 = np.arange( 0, 40, 8 )\n",
    "create_array7 "
   ]
  },
  {
   "cell_type": "markdown",
   "metadata": {},
   "source": [
    "#### 코드 8.10"
   ]
  },
  {
   "cell_type": "code",
   "execution_count": 14,
   "metadata": {},
   "outputs": [
    {
     "data": {
      "text/plain": [
       "array([[1, 2],\n",
       "       [3, 4],\n",
       "       [5, 6]])"
      ]
     },
     "execution_count": 14,
     "metadata": {},
     "output_type": "execute_result"
    }
   ],
   "source": [
    "int_array = np.array ([[1, 2], [3, 4], [5, 6]], dtype=int)\n",
    "int_array"
   ]
  },
  {
   "cell_type": "code",
   "execution_count": 15,
   "metadata": {},
   "outputs": [
    {
     "data": {
      "text/plain": [
       "array([[1., 2.],\n",
       "       [3., 4.],\n",
       "       [5., 6.]])"
      ]
     },
     "execution_count": 15,
     "metadata": {},
     "output_type": "execute_result"
    }
   ],
   "source": [
    "float_array = np.array ([[1, 2], [3, 4], [5, 6]], dtype=float)\n",
    "float_array"
   ]
  },
  {
   "cell_type": "code",
   "execution_count": 16,
   "metadata": {},
   "outputs": [
    {
     "data": {
      "text/plain": [
       "array([['1', '2'],\n",
       "       ['3', '4'],\n",
       "       ['5', '6']], dtype='<U1')"
      ]
     },
     "execution_count": 16,
     "metadata": {},
     "output_type": "execute_result"
    }
   ],
   "source": [
    "str_array = np.array ([[1, 2], [3, 4], [5, 6]], dtype=str)\n",
    "str_array"
   ]
  },
  {
   "cell_type": "markdown",
   "metadata": {},
   "source": [
    "#### 코드 8.11"
   ]
  },
  {
   "cell_type": "code",
   "execution_count": 22,
   "metadata": {},
   "outputs": [
    {
     "name": "stdout",
     "output_type": "stream",
     "text": [
      "[ 0 10 20 30 40 50 60 70]\n",
      "[10 20 50]\n"
     ]
    }
   ],
   "source": [
    "import numpy as np\n",
    "a = np.arange(0,80,10)\n",
    "print(a)\n",
    "y = a[[1, 2, -3]]   # fancy indexing\n",
    "print(y)"
   ]
  },
  {
   "cell_type": "code",
   "execution_count": 23,
   "metadata": {},
   "outputs": [
    {
     "name": "stdout",
     "output_type": "stream",
     "text": [
      "[10 20 50]\n"
     ]
    }
   ],
   "source": [
    "y = np.take(a,[1,2,-3])   # using take() 함수\n",
    "print(y)"
   ]
  },
  {
   "cell_type": "markdown",
   "metadata": {},
   "source": [
    "#### 코드 8.12"
   ]
  },
  {
   "cell_type": "code",
   "execution_count": 24,
   "metadata": {},
   "outputs": [
    {
     "name": "stdout",
     "output_type": "stream",
     "text": [
      "[10 20 50]\n"
     ]
    }
   ],
   "source": [
    "mask = np.array([0,1,1,0,0,1,0,0], dtype=bool)\n",
    "y = a[mask]\n",
    "print(y)"
   ]
  },
  {
   "cell_type": "code",
   "execution_count": 25,
   "metadata": {},
   "outputs": [
    {
     "name": "stdout",
     "output_type": "stream",
     "text": [
      "[10 20 50]\n"
     ]
    }
   ],
   "source": [
    "y = np.compress(mask, a)   # using compress() 함수\n",
    "print(y)"
   ]
  },
  {
   "cell_type": "markdown",
   "metadata": {},
   "source": [
    "#### 코드 8.13"
   ]
  },
  {
   "cell_type": "code",
   "execution_count": 26,
   "metadata": {},
   "outputs": [
    {
     "data": {
      "text/plain": [
       "array([ 1, 12, 23, 34, 45])"
      ]
     },
     "execution_count": 26,
     "metadata": {},
     "output_type": "execute_result"
    }
   ],
   "source": [
    "a=np.array([np.arange(0,6),np.arange(10,16),\n",
    "      np.arange(20,26),np.arange(30,36),\n",
    "      np.arange(40,46),np.arange(50,56)])\n",
    "a[(0,1,2,3,4),(1,2,3,4,5)]   # orage color"
   ]
  },
  {
   "cell_type": "code",
   "execution_count": 27,
   "metadata": {},
   "outputs": [
    {
     "data": {
      "text/plain": [
       "array([[30, 32, 35],\n",
       "       [40, 42, 45],\n",
       "       [50, 52, 55]])"
      ]
     },
     "execution_count": 27,
     "metadata": {},
     "output_type": "execute_result"
    }
   ],
   "source": [
    "a[3:,[0, 2, 5]]   # blue color"
   ]
  },
  {
   "cell_type": "markdown",
   "metadata": {},
   "source": [
    "#### 코드 8.14"
   ]
  },
  {
   "cell_type": "code",
   "execution_count": 28,
   "metadata": {},
   "outputs": [
    {
     "data": {
      "text/plain": [
       "array([ 2, 22, 52])"
      ]
     },
     "execution_count": 28,
     "metadata": {},
     "output_type": "execute_result"
    }
   ],
   "source": [
    "mask = np.array ( [1,0,1,0,0,1], dtype=bool ) \n",
    "a[mask,2]   # red color"
   ]
  },
  {
   "cell_type": "code",
   "execution_count": 29,
   "metadata": {},
   "outputs": [
    {
     "data": {
      "text/plain": [
       "array([30, 32, 35])"
      ]
     },
     "execution_count": 29,
     "metadata": {},
     "output_type": "execute_result"
    }
   ],
   "source": [
    "a[3,mask]   # green color"
   ]
  },
  {
   "cell_type": "markdown",
   "metadata": {},
   "source": [
    "#### 코드 8.15"
   ]
  },
  {
   "cell_type": "code",
   "execution_count": 30,
   "metadata": {},
   "outputs": [
    {
     "data": {
      "text/plain": [
       "(array([1, 2, 5], dtype=int64),)"
      ]
     },
     "execution_count": 30,
     "metadata": {},
     "output_type": "execute_result"
    }
   ],
   "source": [
    "a = np.array([ 3, -5, -10, 8, 0, -5])\n",
    "result = np.where(a < 0)\n",
    "result"
   ]
  },
  {
   "cell_type": "code",
   "execution_count": 31,
   "metadata": {},
   "outputs": [
    {
     "data": {
      "text/plain": [
       "array([ -5, -10,  -5])"
      ]
     },
     "execution_count": 31,
     "metadata": {},
     "output_type": "execute_result"
    }
   ],
   "source": [
    "a[result]"
   ]
  },
  {
   "cell_type": "code",
   "execution_count": 32,
   "metadata": {},
   "outputs": [
    {
     "data": {
      "text/plain": [
       "array([3, 0, 0, 8, 0, 0])"
      ]
     },
     "execution_count": 32,
     "metadata": {},
     "output_type": "execute_result"
    }
   ],
   "source": [
    "a[result] = 0\n",
    "a"
   ]
  },
  {
   "cell_type": "markdown",
   "metadata": {},
   "source": [
    "#### 코드 8.16"
   ]
  },
  {
   "cell_type": "code",
   "execution_count": 33,
   "metadata": {},
   "outputs": [
    {
     "name": "stdout",
     "output_type": "stream",
     "text": [
      "[[1 2 3]\n",
      " [4 5 6]\n",
      " [7 8 9]]\n",
      "[[9 8 7]\n",
      " [6 5 4]\n",
      " [3 2 1]]\n"
     ]
    }
   ],
   "source": [
    "import numpy as np\n",
    "array1 = np.arange(1, 10).reshape(3, 3)\n",
    "array2 = np.arange(9, 0, -1).reshape(3, 3)\n",
    "print(array1)\n",
    "print(array2)"
   ]
  },
  {
   "cell_type": "code",
   "execution_count": 34,
   "metadata": {},
   "outputs": [
    {
     "data": {
      "text/plain": [
       "array([[10, 10, 10],\n",
       "       [10, 10, 10],\n",
       "       [10, 10, 10]])"
      ]
     },
     "execution_count": 34,
     "metadata": {},
     "output_type": "execute_result"
    }
   ],
   "source": [
    "array1 + array2"
   ]
  },
  {
   "cell_type": "code",
   "execution_count": 35,
   "metadata": {},
   "outputs": [
    {
     "data": {
      "text/plain": [
       "array([[10, 10, 10],\n",
       "       [10, 10, 10],\n",
       "       [10, 10, 10]])"
      ]
     },
     "execution_count": 35,
     "metadata": {},
     "output_type": "execute_result"
    }
   ],
   "source": [
    "np.add (array1, array2)"
   ]
  },
  {
   "cell_type": "markdown",
   "metadata": {},
   "source": [
    "#### 코드 8.17"
   ]
  },
  {
   "cell_type": "code",
   "execution_count": 36,
   "metadata": {},
   "outputs": [
    {
     "name": "stdout",
     "output_type": "stream",
     "text": [
      "[[1 2 3]\n",
      " [4 5 6]\n",
      " [7 8 9]]\n",
      "[[10  9  8  7  6]\n",
      " [ 5  4  3  2  1]]\n"
     ]
    }
   ],
   "source": [
    "array1 = np.arange(1, 10).reshape(3, 3)\n",
    "array2 = np.arange(10, 0, -1).reshape(2, 5)\n",
    "print(array1)\n",
    "print(array2)"
   ]
  },
  {
   "cell_type": "code",
   "execution_count": 37,
   "metadata": {},
   "outputs": [
    {
     "ename": "ValueError",
     "evalue": "operands could not be broadcast together with shapes (3,3) (2,5) ",
     "output_type": "error",
     "traceback": [
      "\u001b[1;31m---------------------------------------------------------------------------\u001b[0m",
      "\u001b[1;31mValueError\u001b[0m                                Traceback (most recent call last)",
      "\u001b[1;32m<ipython-input-37-00ebf1f2a456>\u001b[0m in \u001b[0;36m<module>\u001b[1;34m\u001b[0m\n\u001b[1;32m----> 1\u001b[1;33m \u001b[0mnp\u001b[0m\u001b[1;33m.\u001b[0m\u001b[0madd\u001b[0m \u001b[1;33m(\u001b[0m\u001b[0marray1\u001b[0m\u001b[1;33m,\u001b[0m \u001b[0marray2\u001b[0m\u001b[1;33m)\u001b[0m\u001b[1;33m\u001b[0m\u001b[1;33m\u001b[0m\u001b[0m\n\u001b[0m",
      "\u001b[1;31mValueError\u001b[0m: operands could not be broadcast together with shapes (3,3) (2,5) "
     ]
    }
   ],
   "source": [
    "np.add (array1, array2)   # shape이 다른 경우 오류 발생"
   ]
  },
  {
   "cell_type": "markdown",
   "metadata": {},
   "source": [
    "#### 코드 8.18"
   ]
  },
  {
   "cell_type": "code",
   "execution_count": 38,
   "metadata": {},
   "outputs": [
    {
     "name": "stdout",
     "output_type": "stream",
     "text": [
      "[[0 1 2 3 4]]\n",
      "[[0]\n",
      " [1]\n",
      " [2]\n",
      " [3]\n",
      " [4]]\n"
     ]
    }
   ],
   "source": [
    "array1 = np.arange(5).reshape((1, 5))\n",
    "array2 = np.arange(5).reshape((5, 1))\n",
    "print(array1)\n",
    "print(array2)"
   ]
  },
  {
   "cell_type": "code",
   "execution_count": 39,
   "metadata": {},
   "outputs": [
    {
     "data": {
      "text/plain": [
       "array([[0, 1, 2, 3, 4],\n",
       "       [1, 2, 3, 4, 5],\n",
       "       [2, 3, 4, 5, 6],\n",
       "       [3, 4, 5, 6, 7],\n",
       "       [4, 5, 6, 7, 8]])"
      ]
     },
     "execution_count": 39,
     "metadata": {},
     "output_type": "execute_result"
    }
   ],
   "source": [
    "array1 + array2"
   ]
  },
  {
   "cell_type": "markdown",
   "metadata": {},
   "source": [
    "#### 코드 8.19"
   ]
  },
  {
   "cell_type": "code",
   "execution_count": 40,
   "metadata": {},
   "outputs": [
    {
     "name": "stdout",
     "output_type": "stream",
     "text": [
      "[[1 2 3]\n",
      " [4 5 6]\n",
      " [7 8 9]]\n",
      "[[9 8 7]\n",
      " [6 5 4]\n",
      " [3 2 1]]\n"
     ]
    },
    {
     "data": {
      "text/plain": [
       "array([[-8, -6, -4],\n",
       "       [-2,  0,  2],\n",
       "       [ 4,  6,  8]])"
      ]
     },
     "execution_count": 40,
     "metadata": {},
     "output_type": "execute_result"
    }
   ],
   "source": [
    "array1 = np.arange(1, 10).reshape(3, 3)\n",
    "array2 = np.arange(9, 0, -1).reshape(3, 3)\n",
    "print(array1)\n",
    "print(array2)\n",
    "array1 - array2"
   ]
  },
  {
   "cell_type": "code",
   "execution_count": 41,
   "metadata": {},
   "outputs": [
    {
     "data": {
      "text/plain": [
       "array([[-8, -6, -4],\n",
       "       [-2,  0,  2],\n",
       "       [ 4,  6,  8]])"
      ]
     },
     "execution_count": 41,
     "metadata": {},
     "output_type": "execute_result"
    }
   ],
   "source": [
    "np.subtract (array1, array2)"
   ]
  },
  {
   "cell_type": "markdown",
   "metadata": {},
   "source": [
    "#### 코드 8.20"
   ]
  },
  {
   "cell_type": "code",
   "execution_count": 42,
   "metadata": {},
   "outputs": [
    {
     "name": "stdout",
     "output_type": "stream",
     "text": [
      "[[1 2 3]\n",
      " [4 5 6]\n",
      " [7 8 9]]\n",
      "[[9 8 7]\n",
      " [6 5 4]\n",
      " [3 2 1]]\n"
     ]
    },
    {
     "data": {
      "text/plain": [
       "array([[ 9, 16, 21],\n",
       "       [24, 25, 24],\n",
       "       [21, 16,  9]])"
      ]
     },
     "execution_count": 42,
     "metadata": {},
     "output_type": "execute_result"
    }
   ],
   "source": [
    "array1 = np.arange(1, 10).reshape(3, 3)\n",
    "array2 = np.arange(9, 0, -1).reshape(3, 3)\n",
    "print(array1)\n",
    "print(array2)\n",
    "array1 * array2"
   ]
  },
  {
   "cell_type": "code",
   "execution_count": 43,
   "metadata": {},
   "outputs": [
    {
     "data": {
      "text/plain": [
       "array([[ 9, 16, 21],\n",
       "       [24, 25, 24],\n",
       "       [21, 16,  9]])"
      ]
     },
     "execution_count": 43,
     "metadata": {},
     "output_type": "execute_result"
    }
   ],
   "source": [
    "np.multiply (array1, array2)"
   ]
  },
  {
   "cell_type": "markdown",
   "metadata": {},
   "source": [
    "#### 코드 8.21"
   ]
  },
  {
   "cell_type": "code",
   "execution_count": 44,
   "metadata": {},
   "outputs": [
    {
     "name": "stdout",
     "output_type": "stream",
     "text": [
      "[[1 2 3]\n",
      " [4 5 6]\n",
      " [7 8 9]]\n",
      "[[9 8 7]\n",
      " [6 5 4]\n",
      " [3 2 1]]\n"
     ]
    },
    {
     "data": {
      "text/plain": [
       "array([[0.11111111, 0.25      , 0.42857143],\n",
       "       [0.66666667, 1.        , 1.5       ],\n",
       "       [2.33333333, 4.        , 9.        ]])"
      ]
     },
     "execution_count": 44,
     "metadata": {},
     "output_type": "execute_result"
    }
   ],
   "source": [
    "array1 = np.arange(1, 10).reshape(3, 3)\n",
    "array2 = np.arange(9, 0, -1).reshape(3, 3)\n",
    "print(array1)\n",
    "print(array2)\n",
    "array1 / array2"
   ]
  },
  {
   "cell_type": "code",
   "execution_count": 45,
   "metadata": {},
   "outputs": [
    {
     "data": {
      "text/plain": [
       "array([[0.11111111, 0.25      , 0.42857143],\n",
       "       [0.66666667, 1.        , 1.5       ],\n",
       "       [2.33333333, 4.        , 9.        ]])"
      ]
     },
     "execution_count": 45,
     "metadata": {},
     "output_type": "execute_result"
    }
   ],
   "source": [
    "np.divide (array1, array2)"
   ]
  },
  {
   "cell_type": "markdown",
   "metadata": {},
   "source": [
    "#### 코드 8.22"
   ]
  },
  {
   "cell_type": "code",
   "execution_count": 46,
   "metadata": {},
   "outputs": [
    {
     "data": {
      "text/plain": [
       "array([[[ 0,  1,  2,  3],\n",
       "        [ 4,  5,  6,  7],\n",
       "        [ 8,  9, 10, 11]],\n",
       "\n",
       "       [[12, 13, 14, 15],\n",
       "        [16, 17, 18, 19],\n",
       "        [20, 21, 22, 23]]])"
      ]
     },
     "execution_count": 46,
     "metadata": {},
     "output_type": "execute_result"
    }
   ],
   "source": [
    "arr = np.arange(24).reshape(2,3,4)\n",
    "arr"
   ]
  },
  {
   "cell_type": "code",
   "execution_count": 47,
   "metadata": {},
   "outputs": [
    {
     "data": {
      "text/plain": [
       "276"
      ]
     },
     "execution_count": 47,
     "metadata": {},
     "output_type": "execute_result"
    }
   ],
   "source": [
    "np.sum(arr)"
   ]
  },
  {
   "cell_type": "code",
   "execution_count": 48,
   "metadata": {},
   "outputs": [
    {
     "data": {
      "text/plain": [
       "array([[12, 14, 16, 18],\n",
       "       [20, 22, 24, 26],\n",
       "       [28, 30, 32, 34]])"
      ]
     },
     "execution_count": 48,
     "metadata": {},
     "output_type": "execute_result"
    }
   ],
   "source": [
    "np.sum(arr, axis=0)"
   ]
  },
  {
   "cell_type": "code",
   "execution_count": 49,
   "metadata": {},
   "outputs": [
    {
     "data": {
      "text/plain": [
       "array([[12, 15, 18, 21],\n",
       "       [48, 51, 54, 57]])"
      ]
     },
     "execution_count": 49,
     "metadata": {},
     "output_type": "execute_result"
    }
   ],
   "source": [
    "np.sum(arr, axis=1)"
   ]
  },
  {
   "cell_type": "markdown",
   "metadata": {},
   "source": [
    "#### 코드 8.23"
   ]
  },
  {
   "cell_type": "code",
   "execution_count": 50,
   "metadata": {},
   "outputs": [],
   "source": [
    "import numpy as np\n",
    "a = np.arange (0, 100) * 0.5\n",
    "np.save('a_file', a)"
   ]
  },
  {
   "cell_type": "code",
   "execution_count": 51,
   "metadata": {},
   "outputs": [
    {
     "name": "stdout",
     "output_type": "stream",
     "text": [
      "[ 0.   0.5  1.   1.5  2.   2.5  3.   3.5  4.   4.5  5.   5.5  6.   6.5\n",
      "  7.   7.5  8.   8.5  9.   9.5 10.  10.5 11.  11.5 12.  12.5 13.  13.5\n",
      " 14.  14.5 15.  15.5 16.  16.5 17.  17.5 18.  18.5 19.  19.5 20.  20.5\n",
      " 21.  21.5 22.  22.5 23.  23.5 24.  24.5 25.  25.5 26.  26.5 27.  27.5\n",
      " 28.  28.5 29.  29.5 30.  30.5 31.  31.5 32.  32.5 33.  33.5 34.  34.5\n",
      " 35.  35.5 36.  36.5 37.  37.5 38.  38.5 39.  39.5 40.  40.5 41.  41.5\n",
      " 42.  42.5 43.  43.5 44.  44.5 45.  45.5 46.  46.5 47.  47.5 48.  48.5\n",
      " 49.  49.5]\n"
     ]
    }
   ],
   "source": [
    "check_a = np.load('a_file.npy')\n",
    "print(check_a)"
   ]
  },
  {
   "cell_type": "markdown",
   "metadata": {},
   "source": [
    "#### 코드 8.24"
   ]
  },
  {
   "cell_type": "code",
   "execution_count": 52,
   "metadata": {},
   "outputs": [
    {
     "name": "stdout",
     "output_type": "stream",
     "text": [
      "<numpy.lib.npyio.NpzFile object at 0x000002086164D688>\n"
     ]
    }
   ],
   "source": [
    "a = np.arange (0, 100) * 0.5\n",
    "b = np.arange (-100, 0) * 0.5\n",
    "np.save('a_file', a)\n",
    "np.save('b_file', b)\n",
    "np.savez('ab_file', a=a, b=b)\n",
    "z = np.load('ab_file.npz')\n",
    "print(z)"
   ]
  },
  {
   "cell_type": "code",
   "execution_count": 53,
   "metadata": {},
   "outputs": [
    {
     "name": "stdout",
     "output_type": "stream",
     "text": [
      "[-50.  -49.5 -49.  -48.5 -48.  -47.5 -47.  -46.5 -46.  -45.5 -45.  -44.5\n",
      " -44.  -43.5 -43.  -42.5 -42.  -41.5 -41.  -40.5 -40.  -39.5 -39.  -38.5\n",
      " -38.  -37.5 -37.  -36.5 -36.  -35.5 -35.  -34.5 -34.  -33.5 -33.  -32.5\n",
      " -32.  -31.5 -31.  -30.5 -30.  -29.5 -29.  -28.5 -28.  -27.5 -27.  -26.5\n",
      " -26.  -25.5 -25.  -24.5 -24.  -23.5 -23.  -22.5 -22.  -21.5 -21.  -20.5\n",
      " -20.  -19.5 -19.  -18.5 -18.  -17.5 -17.  -16.5 -16.  -15.5 -15.  -14.5\n",
      " -14.  -13.5 -13.  -12.5 -12.  -11.5 -11.  -10.5 -10.   -9.5  -9.   -8.5\n",
      "  -8.   -7.5  -7.   -6.5  -6.   -5.5  -5.   -4.5  -4.   -3.5  -3.   -2.5\n",
      "  -2.   -1.5  -1.   -0.5]\n"
     ]
    }
   ],
   "source": [
    "bb = z['b']\n",
    "print(bb)"
   ]
  },
  {
   "cell_type": "markdown",
   "metadata": {},
   "source": [
    "#### 코드 8.25"
   ]
  },
  {
   "cell_type": "code",
   "execution_count": 54,
   "metadata": {},
   "outputs": [
    {
     "name": "stdout",
     "output_type": "stream",
     "text": [
      "[['\"지역별\"' '2001' '2001' ... '2020' '2020' '2020']\n",
      " ['\"지역별\"' '계' 'ML≥5' ... '5> ML≥4' '4＞ML≥3' '3＞ML≥2']\n",
      " ['\"계\"' '41' '0' ... '0' '5' '63']\n",
      " ...\n",
      " ['\"서해\"' '10' '0' ... '0' '1' '10']\n",
      " ['\"남해\"' '2' '0' ... '0' '0' '3']\n",
      " ['\"동해\"' '3' '0' ... '0' '0' '7']]\n"
     ]
    }
   ],
   "source": [
    "#데이터 출처: KOSIS 지역별 규모별 지진발생 횟수\n",
    "import numpy as np\n",
    "\n",
    "data = np.loadtxt(\"earthquake_count.csv\", delimiter = ',', encoding='cp949', dtype = np.str_)\n",
    "print(data)"
   ]
  },
  {
   "cell_type": "markdown",
   "metadata": {},
   "source": [
    "#### 코드 8.26"
   ]
  },
  {
   "cell_type": "code",
   "execution_count": 55,
   "metadata": {},
   "outputs": [
    {
     "name": "stdout",
     "output_type": "stream",
     "text": [
      "(20, 13, 5)\n",
      "[[ 1  0  0  0  1]\n",
      " [ 2  0  0  0  2]\n",
      " [ 8  0  0  3  5]\n",
      " [ 3  0  0  0  3]\n",
      " [ 4  0  0  1  3]\n",
      " [ 4  0  0  0  4]\n",
      " [ 1  0  0  0  1]\n",
      " [ 2  0  0  0  2]\n",
      " [ 0  0  0  0  0]\n",
      " [ 1  0  0  0  1]\n",
      " [10  0  0  2  8]\n",
      " [ 2  0  0  0  2]\n",
      " [ 3  0  1  0  2]]\n"
     ]
    }
   ],
   "source": [
    "# 연도별 데이터로 배열 구조 변환\n",
    "data_year = np.zeros((20,13,5),dtype=np.int64) #numpy 배열 초기화\n",
    "for i in range(20):\n",
    "    data_year[i]=data[3:,i*5+1:i*5+6] #연도별 지진 횟수 슬라이싱\n",
    "print(np.shape(data_year))\n",
    "print(data_year[0])"
   ]
  },
  {
   "cell_type": "markdown",
   "metadata": {},
   "source": [
    "#### 코드 8.27"
   ]
  },
  {
   "cell_type": "code",
   "execution_count": 56,
   "metadata": {},
   "outputs": [
    {
     "name": "stdout",
     "output_type": "stream",
     "text": [
      "[2001 2002 2003 2004 2005 2006 2007 2008 2009 2010 2011 2012 2013 2014\n",
      " 2015 2016 2017 2018 2019 2020]\n"
     ]
    }
   ],
   "source": [
    "#연도 배열 만들기\n",
    "years = np.arange(2001,2001+20)\n",
    "print(years)"
   ]
  },
  {
   "cell_type": "code",
   "execution_count": 57,
   "metadata": {},
   "outputs": [
    {
     "name": "stdout",
     "output_type": "stream",
     "text": [
      "[[  7   0   0   0   7]\n",
      " [ 18   0   0   2  16]\n",
      " [352   3   3  31 315]\n",
      " [ 10   0   0   1   9]\n",
      " [  6   0   0   1   5]\n",
      " [ 15   0   0   2  13]\n",
      " [  9   0   0   0   9]\n",
      " [  5   0   0   0   5]\n",
      " [  3   0   0   0   3]\n",
      " [ 85   0   0  13  72]\n",
      " [ 70   0   0  11  59]\n",
      " [ 65   0   0   2  63]\n",
      " [ 77   1   2   5  69]]\n"
     ]
    }
   ],
   "source": [
    "#2015년부터 2019년까지의 지역별 규모별 지진 발생 횟수 합계 구하기\n",
    "data_new = data_year[(2015<=years) & (years<=2019)]\n",
    "\n",
    "choice = np.zeros((13,5),dtype=np.int64) #결과 배열 초기화\n",
    "for each in data_new: \n",
    "    choice = choice + each #선택된 연도별 배열 누적합 \n",
    "\n",
    "print(choice)"
   ]
  },
  {
   "cell_type": "markdown",
   "metadata": {},
   "source": [
    "#### 코드 8.28"
   ]
  },
  {
   "cell_type": "code",
   "execution_count": 58,
   "metadata": {},
   "outputs": [
    {
     "name": "stdout",
     "output_type": "stream",
     "text": [
      "(13,)\n",
      "['\"서울·경기·인천\"' '\"부산·울산·경남\"' '\"대구·경북\"' '\"광주·전남\"' '\"전북\"' '\"대전·충남·세종\"' '\"충북\"'\n",
      " '\"강원\"' '\"제주\"' '\"북한\"' '\"서해\"' '\"남해\"' '\"동해\"']\n"
     ]
    }
   ],
   "source": [
    "#지역 이름 가져오기\n",
    "region = np.squeeze(data[3:, 0])\n",
    "print(np.shape(region))\n",
    "print(region)"
   ]
  },
  {
   "cell_type": "code",
   "execution_count": 59,
   "metadata": {
    "scrolled": true
   },
   "outputs": [
    {
     "name": "stdout",
     "output_type": "stream",
     "text": [
      "['계' 'ML≥5' '5> ML≥4' '4＞ML≥3' '3＞ML≥2']\n"
     ]
    }
   ],
   "source": [
    "#규모 가져오기\n",
    "ML = data[1,1:6]\n",
    "print(ML)"
   ]
  },
  {
   "cell_type": "markdown",
   "metadata": {},
   "source": [
    "#### 코드 8.29"
   ]
  },
  {
   "cell_type": "code",
   "execution_count": 60,
   "metadata": {},
   "outputs": [
    {
     "name": "stdout",
     "output_type": "stream",
     "text": [
      "2015년 ~ 2019년 제주지역 지진 횟수: [3 0 0 0 3]\n",
      "2015년 ~ 2019년 제주지역 3＞ML≥2 규모 지진 횟수: [3]\n"
     ]
    }
   ],
   "source": [
    "#2015년부터 2019년까지의 제주 지역의 3＞ML≥2 규모 지진 발생 횟수 합계 구하기\n",
    "\n",
    "choice = choice[region=='\"제주\"'].reshape(-1) #일차원으로 차원축소\n",
    "print(\"2015년 ~ 2019년 제주지역 지진 횟수:\",choice)\n",
    "print(\"2015년 ~ 2019년 제주지역 3＞ML≥2 규모 지진 횟수:\",choice[ML=='3＞ML≥2'])"
   ]
  },
  {
   "cell_type": "markdown",
   "metadata": {},
   "source": [
    "#### 코드 8.30"
   ]
  },
  {
   "cell_type": "code",
   "execution_count": 61,
   "metadata": {},
   "outputs": [
    {
     "name": "stdout",
     "output_type": "stream",
     "text": [
      "지역별 지진 발생 총 횟수 : [7, 18, 352, 10, 6, 15, 9, 5, 3, 85, 70, 65, 77]\n"
     ]
    }
   ],
   "source": [
    "choice = np.zeros((13,5),dtype=np.int64) #결과 배열 초기화\n",
    "for each in data_new: \n",
    "    choice = choice + each #선택된 연도별 배열 누적합 \n",
    "\n",
    "total = list(choice[:, 0])\n",
    "print(f'지역별 지진 발생 총 횟수 : {total}')"
   ]
  },
  {
   "cell_type": "markdown",
   "metadata": {},
   "source": [
    "#### 코드 8.31"
   ]
  },
  {
   "cell_type": "code",
   "execution_count": 63,
   "metadata": {},
   "outputs": [
    {
     "data": {
      "image/png": "[encoded data removed]",
      "text/plain": [
       "<Figure size 864x504 with 1 Axes>"
      ]
     },
     "metadata": {
      "needs_background": "light"
     },
     "output_type": "display_data"
    }
   ],
   "source": [
    "import matplotlib.pyplot as plt\n",
    " \n",
    "plt.figure(figsize=(12,7))  # 차트 사이즈 지정\n",
    "    # 바 차트 출력, 막대 색을 red로 설정\n",
    "plt.bar(region, total, color='red')\n",
    "plt.rc('font', family='Gothic')  # 한글 지원\n",
    "plt.title('지역별 지진 발생 횟수',fontsize=20) # 타이틀 출력\n",
    "plt.xlabel('지역') # x축 라벨 출력\n",
    "plt.ylabel('지진 발생 횟수') # y축 라벨 출력\n",
    "plt.show()"
   ]
  }
 ],
 "metadata": {
  "kernelspec": {
   "display_name": "Python 3",
   "language": "python",
   "name": "python3"
  },
  "language_info": {
   "codemirror_mode": {
    "name": "ipython",
    "version": 3
   },
   "file_extension": ".py",
   "mimetype": "text/x-python",
   "name": "python",
   "nbconvert_exporter": "python",
   "pygments_lexer": "ipython3",
   "version": "3.7.6"
  }
 },
 "nbformat": 4,
 "nbformat_minor": 2
}
