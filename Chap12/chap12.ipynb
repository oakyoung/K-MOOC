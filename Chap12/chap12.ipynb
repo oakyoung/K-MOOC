{
 "cells": [
  {
   "cell_type": "markdown",
   "metadata": {},
   "source": [
    "### Chapter 12. 통계 분석"
   ]
  },
  {
   "cell_type": "markdown",
   "metadata": {},
   "source": [
    "#### 코드 12.1"
   ]
  },
  {
   "cell_type": "code",
   "execution_count": 1,
   "metadata": {},
   "outputs": [
    {
     "data": {
      "text/html": [
       "<div>\n",
       "<style scoped>\n",
       "    .dataframe tbody tr th:only-of-type {\n",
       "        vertical-align: middle;\n",
       "    }\n",
       "\n",
       "    .dataframe tbody tr th {\n",
       "        vertical-align: top;\n",
       "    }\n",
       "\n",
       "    .dataframe thead th {\n",
       "        text-align: right;\n",
       "    }\n",
       "</style>\n",
       "<table border=\"1\" class=\"dataframe\">\n",
       "  <thead>\n",
       "    <tr style=\"text-align: right;\">\n",
       "      <th></th>\n",
       "      <th>MATH</th>\n",
       "      <th>ENGLISH</th>\n",
       "      <th>KOREAN</th>\n",
       "    </tr>\n",
       "  </thead>\n",
       "  <tbody>\n",
       "    <tr>\n",
       "      <th>0</th>\n",
       "      <td>79</td>\n",
       "      <td>81</td>\n",
       "      <td>73</td>\n",
       "    </tr>\n",
       "    <tr>\n",
       "      <th>1</th>\n",
       "      <td>75</td>\n",
       "      <td>89</td>\n",
       "      <td>90</td>\n",
       "    </tr>\n",
       "    <tr>\n",
       "      <th>2</th>\n",
       "      <td>75</td>\n",
       "      <td>80</td>\n",
       "      <td>80</td>\n",
       "    </tr>\n",
       "    <tr>\n",
       "      <th>3</th>\n",
       "      <td>100</td>\n",
       "      <td>100</td>\n",
       "      <td>100</td>\n",
       "    </tr>\n",
       "    <tr>\n",
       "      <th>4</th>\n",
       "      <td>79</td>\n",
       "      <td>80</td>\n",
       "      <td>80</td>\n",
       "    </tr>\n",
       "    <tr>\n",
       "      <th>5</th>\n",
       "      <td>92</td>\n",
       "      <td>99</td>\n",
       "      <td>95</td>\n",
       "    </tr>\n",
       "    <tr>\n",
       "      <th>6</th>\n",
       "      <td>100</td>\n",
       "      <td>100</td>\n",
       "      <td>100</td>\n",
       "    </tr>\n",
       "    <tr>\n",
       "      <th>7</th>\n",
       "      <td>74</td>\n",
       "      <td>81</td>\n",
       "      <td>75</td>\n",
       "    </tr>\n",
       "    <tr>\n",
       "      <th>8</th>\n",
       "      <td>78</td>\n",
       "      <td>80</td>\n",
       "      <td>82</td>\n",
       "    </tr>\n",
       "    <tr>\n",
       "      <th>9</th>\n",
       "      <td>74</td>\n",
       "      <td>78</td>\n",
       "      <td>80</td>\n",
       "    </tr>\n",
       "  </tbody>\n",
       "</table>\n",
       "</div>"
      ],
      "text/plain": [
       "   MATH  ENGLISH  KOREAN\n",
       "0    79       81      73\n",
       "1    75       89      90\n",
       "2    75       80      80\n",
       "3   100      100     100\n",
       "4    79       80      80\n",
       "5    92       99      95\n",
       "6   100      100     100\n",
       "7    74       81      75\n",
       "8    78       80      82\n",
       "9    74       78      80"
      ]
     },
     "execution_count": 1,
     "metadata": {},
     "output_type": "execute_result"
    }
   ],
   "source": [
    "import numpy as np\n",
    "import pandas as pd\n",
    "df = pd.read_csv('scores.csv')\n",
    "df.head(10)"
   ]
  },
  {
   "cell_type": "markdown",
   "metadata": {},
   "source": [
    "#### 코드 12.2"
   ]
  },
  {
   "cell_type": "code",
   "execution_count": 2,
   "metadata": {},
   "outputs": [
    {
     "data": {
      "text/plain": [
       "82.28"
      ]
     },
     "execution_count": 2,
     "metadata": {},
     "output_type": "execute_result"
    }
   ],
   "source": [
    "scores = np.array(df['MATH'])\n",
    "sum(scores) / len(scores)   #평균값"
   ]
  },
  {
   "cell_type": "markdown",
   "metadata": {},
   "source": [
    "#### 코드 12.3"
   ]
  },
  {
   "cell_type": "code",
   "execution_count": 3,
   "metadata": {},
   "outputs": [
    {
     "data": {
      "text/plain": [
       "82.28"
      ]
     },
     "execution_count": 3,
     "metadata": {},
     "output_type": "execute_result"
    }
   ],
   "source": [
    "np.mean(scores)"
   ]
  },
  {
   "cell_type": "markdown",
   "metadata": {},
   "source": [
    "#### 코드 12.4"
   ]
  },
  {
   "cell_type": "code",
   "execution_count": 4,
   "metadata": {},
   "outputs": [
    {
     "data": {
      "text/plain": [
       "array([ 20,  28,  35,  41,  50,  54,  56,  57,  57,  57,  60,  60,  61,\n",
       "        61,  62,  63,  66,  67,  67,  68,  68,  68,  70,  70,  70,  70,\n",
       "        70,  70,  70,  71,  71,  71,  72,  72,  72,  73,  74,  74,  74,\n",
       "        74,  74,  74,  74,  75,  75,  75,  75,  75,  75,  75,  75,  75,\n",
       "        75,  75,  76,  76,  76,  76,  76,  76,  77,  77,  77,  77,  77,\n",
       "        77,  77,  77,  78,  78,  78,  78,  78,  78,  79,  79,  79,  79,\n",
       "        79,  79,  79,  79,  79,  79,  80,  80,  80,  80,  80,  80,  80,\n",
       "        80,  81,  81,  81,  81,  81,  81,  81,  82,  82,  82,  82,  82,\n",
       "        82,  82,  83,  83,  83,  83,  83,  83,  83,  84,  84,  84,  85,\n",
       "        86,  86,  86,  86,  86,  86,  86,  87,  87,  87,  87,  88,  88,\n",
       "        89,  89,  89,  89,  89,  90,  90,  90,  90,  91,  91,  91,  91,\n",
       "        91,  91,  92,  92,  92,  92,  92,  92,  92,  93,  93,  93,  94,\n",
       "        95,  95,  96,  96,  96,  98,  99,  99,  99,  99, 100, 100, 100,\n",
       "       100, 100, 100, 100, 100, 100, 100, 100, 100, 100, 100, 100, 100,\n",
       "       100, 100, 100, 100, 100, 100, 100, 100, 100, 100, 100, 100, 100,\n",
       "       100, 100, 100, 100, 100], dtype=int64)"
      ]
     },
     "execution_count": 4,
     "metadata": {},
     "output_type": "execute_result"
    }
   ],
   "source": [
    "sort_scores = np.sort(scores)\n",
    "sort_scores"
   ]
  },
  {
   "cell_type": "markdown",
   "metadata": {},
   "source": [
    "#### [참고]"
   ]
  },
  {
   "cell_type": "code",
   "execution_count": 5,
   "metadata": {},
   "outputs": [
    {
     "data": {
      "text/plain": [
       "array([100, 100, 100, 100, 100, 100, 100, 100, 100, 100, 100, 100, 100,\n",
       "       100, 100, 100, 100, 100, 100, 100, 100, 100, 100, 100, 100, 100,\n",
       "       100, 100, 100, 100, 100, 100, 100, 100,  99,  99,  99,  99,  98,\n",
       "        96,  96,  96,  95,  95,  94,  93,  93,  93,  92,  92,  92,  92,\n",
       "        92,  92,  92,  91,  91,  91,  91,  91,  91,  90,  90,  90,  90,\n",
       "        89,  89,  89,  89,  89,  88,  88,  87,  87,  87,  87,  86,  86,\n",
       "        86,  86,  86,  86,  86,  85,  84,  84,  84,  83,  83,  83,  83,\n",
       "        83,  83,  83,  82,  82,  82,  82,  82,  82,  82,  81,  81,  81,\n",
       "        81,  81,  81,  81,  80,  80,  80,  80,  80,  80,  80,  80,  79,\n",
       "        79,  79,  79,  79,  79,  79,  79,  79,  79,  78,  78,  78,  78,\n",
       "        78,  78,  77,  77,  77,  77,  77,  77,  77,  77,  76,  76,  76,\n",
       "        76,  76,  76,  75,  75,  75,  75,  75,  75,  75,  75,  75,  75,\n",
       "        75,  74,  74,  74,  74,  74,  74,  74,  73,  72,  72,  72,  71,\n",
       "        71,  71,  70,  70,  70,  70,  70,  70,  70,  68,  68,  68,  67,\n",
       "        67,  66,  63,  62,  61,  61,  60,  60,  57,  57,  57,  56,  54,\n",
       "        50,  41,  35,  28,  20], dtype=int64)"
      ]
     },
     "execution_count": 5,
     "metadata": {},
     "output_type": "execute_result"
    }
   ],
   "source": [
    "sort_scores_desc = np.sort(scores)[::-1]\n",
    "sort_scores_desc "
   ]
  },
  {
   "cell_type": "markdown",
   "metadata": {},
   "source": [
    "#### 코드 12.5"
   ]
  },
  {
   "cell_type": "code",
   "execution_count": 6,
   "metadata": {},
   "outputs": [
    {
     "data": {
      "text/plain": [
       "82.0"
      ]
     },
     "execution_count": 6,
     "metadata": {},
     "output_type": "execute_result"
    }
   ],
   "source": [
    "n = len(sort_scores)\n",
    "if n %2 == 0:   # 데이터의 개수가 짝수인 경우\n",
    "    m0 = sort_scores[n//2 -1]\n",
    "    m1 = sort_scores[n//2]\n",
    "    median = (m0 + m1) / 2\n",
    "else:\n",
    "    median = sort_scores[(n+1)//2 -1]\n",
    "median"
   ]
  },
  {
   "cell_type": "markdown",
   "metadata": {},
   "source": [
    "#### 코드 12.6"
   ]
  },
  {
   "cell_type": "code",
   "execution_count": 7,
   "metadata": {},
   "outputs": [
    {
     "data": {
      "text/plain": [
       "82.0"
      ]
     },
     "execution_count": 7,
     "metadata": {},
     "output_type": "execute_result"
    }
   ],
   "source": [
    "np.median(scores)"
   ]
  },
  {
   "cell_type": "markdown",
   "metadata": {},
   "source": [
    "#### 코드 12.7"
   ]
  },
  {
   "cell_type": "code",
   "execution_count": 8,
   "metadata": {},
   "outputs": [
    {
     "data": {
      "text/plain": [
       "MATH       82.0\n",
       "ENGLISH    85.5\n",
       "KOREAN     81.5\n",
       "dtype: float64"
      ]
     },
     "execution_count": 8,
     "metadata": {},
     "output_type": "execute_result"
    }
   ],
   "source": [
    "df.median()   # dataframe의 중앙값"
   ]
  },
  {
   "cell_type": "markdown",
   "metadata": {},
   "source": [
    "#### 코드 12.8"
   ]
  },
  {
   "cell_type": "code",
   "execution_count": 9,
   "metadata": {},
   "outputs": [
    {
     "name": "stdout",
     "output_type": "stream",
     "text": [
      "Counter({100: 34, 75: 11, 79: 10, 77: 8, 80: 8, 92: 7, 74: 7, 86: 7, 82: 7, 70: 7, 83: 7, 81: 7, 78: 6, 76: 6, 91: 6, 89: 5, 90: 4, 99: 4, 87: 4, 71: 3, 84: 3, 93: 3, 96: 3, 72: 3, 57: 3, 68: 3, 67: 2, 88: 2, 95: 2, 60: 2, 61: 2, 98: 1, 63: 1, 50: 1, 20: 1, 56: 1, 85: 1, 28: 1, 66: 1, 54: 1, 73: 1, 35: 1, 62: 1, 41: 1, 94: 1})\n"
     ]
    }
   ],
   "source": [
    "all_scores = np.array(df['MATH'])\n",
    "import collections\n",
    "freq = collections.Counter(all_scores)\n",
    "print(freq)"
   ]
  },
  {
   "cell_type": "code",
   "execution_count": 10,
   "metadata": {},
   "outputs": [
    {
     "name": "stdout",
     "output_type": "stream",
     "text": [
      "34\n"
     ]
    }
   ],
   "source": [
    "mode = max(freq.values())\n",
    "print(mode)"
   ]
  },
  {
   "cell_type": "code",
   "execution_count": 11,
   "metadata": {},
   "outputs": [
    {
     "name": "stdout",
     "output_type": "stream",
     "text": [
      "100\n"
     ]
    }
   ],
   "source": [
    "for key, value in freq.items(): \n",
    "    if mode == value: \n",
    "        print(key)"
   ]
  },
  {
   "cell_type": "markdown",
   "metadata": {},
   "source": [
    "#### 코드 12.9"
   ]
  },
  {
   "cell_type": "code",
   "execution_count": 12,
   "metadata": {},
   "outputs": [
    {
     "name": "stdout",
     "output_type": "stream",
     "text": [
      "100\n"
     ]
    }
   ],
   "source": [
    "# numpy 최빈값\n",
    "vals,counts = np.unique(scores, return_counts=True)\n",
    "index = np.argmax(counts)\n",
    "print(vals[index])"
   ]
  },
  {
   "cell_type": "markdown",
   "metadata": {},
   "source": [
    "#### 코드 12.10"
   ]
  },
  {
   "cell_type": "code",
   "execution_count": 13,
   "metadata": {
    "scrolled": true
   },
   "outputs": [
    {
     "data": {
      "text/html": [
       "<div>\n",
       "<style scoped>\n",
       "    .dataframe tbody tr th:only-of-type {\n",
       "        vertical-align: middle;\n",
       "    }\n",
       "\n",
       "    .dataframe tbody tr th {\n",
       "        vertical-align: top;\n",
       "    }\n",
       "\n",
       "    .dataframe thead th {\n",
       "        text-align: right;\n",
       "    }\n",
       "</style>\n",
       "<table border=\"1\" class=\"dataframe\">\n",
       "  <thead>\n",
       "    <tr style=\"text-align: right;\">\n",
       "      <th></th>\n",
       "      <th>MATH</th>\n",
       "    </tr>\n",
       "  </thead>\n",
       "  <tbody>\n",
       "    <tr>\n",
       "      <th>0</th>\n",
       "      <td>100</td>\n",
       "    </tr>\n",
       "  </tbody>\n",
       "</table>\n",
       "</div>"
      ],
      "text/plain": [
       "   MATH\n",
       "0   100"
      ]
     },
     "execution_count": 13,
     "metadata": {},
     "output_type": "execute_result"
    }
   ],
   "source": [
    "math_score = df.iloc[:, 0:1]   # 첫번째열\n",
    "math_score.mode()"
   ]
  },
  {
   "cell_type": "markdown",
   "metadata": {},
   "source": [
    "#### 코드 12.11"
   ]
  },
  {
   "cell_type": "code",
   "execution_count": 14,
   "metadata": {},
   "outputs": [
    {
     "name": "stdout",
     "output_type": "stream",
     "text": [
      "[ 79  75  75 100  79  92 100  74  78  74  77  76 100  67  71  91  79  86\n",
      "  84  93  89  90  98  96  72  74 100  77  57  92  78  80  63  82  90  77\n",
      "  92  76  82  74  77 100  88  50  76 100  91  95  99  90  86  93 100 100\n",
      "  20  56  85  92 100 100  75  99  91  75  28  70 100 100  70  76  66  83\n",
      " 100  83 100  54 100 100  80 100 100  86  81  83  77  68  75  81 100  86\n",
      "  78  86  57  79 100  82  88  81  82  68  76  75  71  75  83  72  80  89\n",
      " 100 100 100  70  92  60 100  60  87  73  81  89  35  75  96  86  89  62\n",
      "  91  82  96  61  95  75  80  70  92  71  78  57 100  80  80  74  78  80\n",
      "  81  41 100  79  87  91  86  77  84  89 100  79  84  83  79  99 100 100\n",
      "  72  81  83  79  91  61 100  82  79  78  75  83  87  82  77 100  80  79\n",
      " 100 100  93  74  67  77  90  74  70  87  75  68  76  70  70  81  94 100\n",
      "  92  99]\n",
      "82.28\n"
     ]
    },
    {
     "data": {
      "text/plain": [
       "array([ -3.28,  -7.28,  -7.28,  17.72,  -3.28,   9.72,  17.72,  -8.28,\n",
       "        -4.28,  -8.28,  -5.28,  -6.28,  17.72, -15.28, -11.28,   8.72,\n",
       "        -3.28,   3.72,   1.72,  10.72,   6.72,   7.72,  15.72,  13.72,\n",
       "       -10.28,  -8.28,  17.72,  -5.28, -25.28,   9.72,  -4.28,  -2.28,\n",
       "       -19.28,  -0.28,   7.72,  -5.28,   9.72,  -6.28,  -0.28,  -8.28,\n",
       "        -5.28,  17.72,   5.72, -32.28,  -6.28,  17.72,   8.72,  12.72,\n",
       "        16.72,   7.72,   3.72,  10.72,  17.72,  17.72, -62.28, -26.28,\n",
       "         2.72,   9.72,  17.72,  17.72,  -7.28,  16.72,   8.72,  -7.28,\n",
       "       -54.28, -12.28,  17.72,  17.72, -12.28,  -6.28, -16.28,   0.72,\n",
       "        17.72,   0.72,  17.72, -28.28,  17.72,  17.72,  -2.28,  17.72,\n",
       "        17.72,   3.72,  -1.28,   0.72,  -5.28, -14.28,  -7.28,  -1.28,\n",
       "        17.72,   3.72,  -4.28,   3.72, -25.28,  -3.28,  17.72,  -0.28,\n",
       "         5.72,  -1.28,  -0.28, -14.28,  -6.28,  -7.28, -11.28,  -7.28,\n",
       "         0.72, -10.28,  -2.28,   6.72,  17.72,  17.72,  17.72, -12.28,\n",
       "         9.72, -22.28,  17.72, -22.28,   4.72,  -9.28,  -1.28,   6.72,\n",
       "       -47.28,  -7.28,  13.72,   3.72,   6.72, -20.28,   8.72,  -0.28,\n",
       "        13.72, -21.28,  12.72,  -7.28,  -2.28, -12.28,   9.72, -11.28,\n",
       "        -4.28, -25.28,  17.72,  -2.28,  -2.28,  -8.28,  -4.28,  -2.28,\n",
       "        -1.28, -41.28,  17.72,  -3.28,   4.72,   8.72,   3.72,  -5.28,\n",
       "         1.72,   6.72,  17.72,  -3.28,   1.72,   0.72,  -3.28,  16.72,\n",
       "        17.72,  17.72, -10.28,  -1.28,   0.72,  -3.28,   8.72, -21.28,\n",
       "        17.72,  -0.28,  -3.28,  -4.28,  -7.28,   0.72,   4.72,  -0.28,\n",
       "        -5.28,  17.72,  -2.28,  -3.28,  17.72,  17.72,  10.72,  -8.28,\n",
       "       -15.28,  -5.28,   7.72,  -8.28, -12.28,   4.72,  -7.28, -14.28,\n",
       "        -6.28, -12.28, -12.28,  -1.28,  11.72,  17.72,   9.72,  16.72])"
      ]
     },
     "execution_count": 14,
     "metadata": {},
     "output_type": "execute_result"
    }
   ],
   "source": [
    "print(scores)\n",
    "mean = np.mean(scores)\n",
    "print(mean)\n",
    "deviation = scores - mean\n",
    "deviation"
   ]
  },
  {
   "cell_type": "markdown",
   "metadata": {},
   "source": [
    "#### 코드 12.12"
   ]
  },
  {
   "cell_type": "code",
   "execution_count": 15,
   "metadata": {},
   "outputs": [
    {
     "data": {
      "text/plain": [
       "190.6916"
      ]
     },
     "execution_count": 15,
     "metadata": {},
     "output_type": "execute_result"
    }
   ],
   "source": [
    "mean = np.mean(scores)\n",
    "deviation = scores - mean\n",
    "np.mean(deviation ** 2)"
   ]
  },
  {
   "cell_type": "markdown",
   "metadata": {},
   "source": [
    "#### 코드 12.13"
   ]
  },
  {
   "cell_type": "code",
   "execution_count": 16,
   "metadata": {},
   "outputs": [
    {
     "data": {
      "text/plain": [
       "190.6916"
      ]
     },
     "execution_count": 16,
     "metadata": {},
     "output_type": "execute_result"
    }
   ],
   "source": [
    "np.var(scores)"
   ]
  },
  {
   "cell_type": "markdown",
   "metadata": {},
   "source": [
    "#### 코드 12.14"
   ]
  },
  {
   "cell_type": "code",
   "execution_count": 17,
   "metadata": {},
   "outputs": [
    {
     "data": {
      "text/plain": [
       "MATH    191.649849\n",
       "dtype: float64"
      ]
     },
     "execution_count": 17,
     "metadata": {},
     "output_type": "execute_result"
    }
   ],
   "source": [
    "math_df = df.iloc[:, 0:1] \n",
    "math_df.var()"
   ]
  },
  {
   "cell_type": "markdown",
   "metadata": {},
   "source": [
    "#### [참고]"
   ]
  },
  {
   "cell_type": "code",
   "execution_count": 18,
   "metadata": {},
   "outputs": [
    {
     "data": {
      "text/plain": [
       "190.6916"
      ]
     },
     "execution_count": 18,
     "metadata": {},
     "output_type": "execute_result"
    }
   ],
   "source": [
    "math_df = np.square(deviation)\n",
    "math_df.mean()"
   ]
  },
  {
   "cell_type": "markdown",
   "metadata": {},
   "source": [
    "#### 코드 12.15"
   ]
  },
  {
   "cell_type": "code",
   "execution_count": 19,
   "metadata": {},
   "outputs": [
    {
     "data": {
      "text/plain": [
       "13.809112933132237"
      ]
     },
     "execution_count": 19,
     "metadata": {},
     "output_type": "execute_result"
    }
   ],
   "source": [
    "np.sqrt(np.var(scores, ddof=0))   "
   ]
  },
  {
   "cell_type": "code",
   "execution_count": 20,
   "metadata": {},
   "outputs": [
    {
     "data": {
      "text/plain": [
       "13.809112933132237"
      ]
     },
     "execution_count": 20,
     "metadata": {},
     "output_type": "execute_result"
    }
   ],
   "source": [
    "np.std(scores, ddof=0)"
   ]
  },
  {
   "cell_type": "markdown",
   "metadata": {},
   "source": [
    "#### 코드 12.16"
   ]
  },
  {
   "cell_type": "code",
   "execution_count": 21,
   "metadata": {},
   "outputs": [
    {
     "data": {
      "text/plain": [
       "80"
      ]
     },
     "execution_count": 21,
     "metadata": {},
     "output_type": "execute_result"
    }
   ],
   "source": [
    "np.max(scores) - np.min(scores)"
   ]
  },
  {
   "cell_type": "markdown",
   "metadata": {},
   "source": [
    "#### 코드 12.17"
   ]
  },
  {
   "cell_type": "code",
   "execution_count": 22,
   "metadata": {},
   "outputs": [
    {
     "name": "stdout",
     "output_type": "stream",
     "text": [
      "Q3 = 92.0, Q1 = 75.0, IQR = 17.0\n"
     ]
    }
   ],
   "source": [
    "scores_Q1 = np.percentile(scores, 25)\n",
    "scores_Q3 = np.percentile(scores, 75)\n",
    "scores_IQR = scores_Q3 - scores_Q1\n",
    "print(f'Q3 = {scores_Q3}, Q1 = {scores_Q1}, IQR = {scores_IQR}')"
   ]
  },
  {
   "cell_type": "markdown",
   "metadata": {},
   "source": [
    "#### 코드 12.18"
   ]
  },
  {
   "cell_type": "code",
   "execution_count": 23,
   "metadata": {},
   "outputs": [
    {
     "data": {
      "text/html": [
       "<div>\n",
       "<style scoped>\n",
       "    .dataframe tbody tr th:only-of-type {\n",
       "        vertical-align: middle;\n",
       "    }\n",
       "\n",
       "    .dataframe tbody tr th {\n",
       "        vertical-align: top;\n",
       "    }\n",
       "\n",
       "    .dataframe thead th {\n",
       "        text-align: right;\n",
       "    }\n",
       "</style>\n",
       "<table border=\"1\" class=\"dataframe\">\n",
       "  <thead>\n",
       "    <tr style=\"text-align: right;\">\n",
       "      <th></th>\n",
       "      <th>MATH</th>\n",
       "      <th>ENGLISH</th>\n",
       "      <th>KOREAN</th>\n",
       "    </tr>\n",
       "  </thead>\n",
       "  <tbody>\n",
       "    <tr>\n",
       "      <th>count</th>\n",
       "      <td>200.000000</td>\n",
       "      <td>200.000000</td>\n",
       "      <td>200.000000</td>\n",
       "    </tr>\n",
       "    <tr>\n",
       "      <th>mean</th>\n",
       "      <td>82.280000</td>\n",
       "      <td>85.235000</td>\n",
       "      <td>83.305000</td>\n",
       "    </tr>\n",
       "    <tr>\n",
       "      <th>std</th>\n",
       "      <td>13.843766</td>\n",
       "      <td>13.594626</td>\n",
       "      <td>14.330695</td>\n",
       "    </tr>\n",
       "    <tr>\n",
       "      <th>min</th>\n",
       "      <td>20.000000</td>\n",
       "      <td>20.000000</td>\n",
       "      <td>20.000000</td>\n",
       "    </tr>\n",
       "    <tr>\n",
       "      <th>25%</th>\n",
       "      <td>75.000000</td>\n",
       "      <td>79.000000</td>\n",
       "      <td>76.750000</td>\n",
       "    </tr>\n",
       "    <tr>\n",
       "      <th>50%</th>\n",
       "      <td>82.000000</td>\n",
       "      <td>85.500000</td>\n",
       "      <td>81.500000</td>\n",
       "    </tr>\n",
       "    <tr>\n",
       "      <th>75%</th>\n",
       "      <td>92.000000</td>\n",
       "      <td>99.250000</td>\n",
       "      <td>98.000000</td>\n",
       "    </tr>\n",
       "    <tr>\n",
       "      <th>max</th>\n",
       "      <td>100.000000</td>\n",
       "      <td>100.000000</td>\n",
       "      <td>100.000000</td>\n",
       "    </tr>\n",
       "  </tbody>\n",
       "</table>\n",
       "</div>"
      ],
      "text/plain": [
       "             MATH     ENGLISH      KOREAN\n",
       "count  200.000000  200.000000  200.000000\n",
       "mean    82.280000   85.235000   83.305000\n",
       "std     13.843766   13.594626   14.330695\n",
       "min     20.000000   20.000000   20.000000\n",
       "25%     75.000000   79.000000   76.750000\n",
       "50%     82.000000   85.500000   81.500000\n",
       "75%     92.000000   99.250000   98.000000\n",
       "max    100.000000  100.000000  100.000000"
      ]
     },
     "execution_count": 23,
     "metadata": {},
     "output_type": "execute_result"
    }
   ],
   "source": [
    "df = pd.read_csv('scores.csv')  # DataFrame\n",
    "df.describe()"
   ]
  },
  {
   "cell_type": "markdown",
   "metadata": {},
   "source": [
    "#### 코드 12.19"
   ]
  },
  {
   "cell_type": "code",
   "execution_count": 24,
   "metadata": {},
   "outputs": [
    {
     "data": {
      "text/plain": [
       "count    200.000000\n",
       "mean      82.280000\n",
       "std       13.843766\n",
       "min       20.000000\n",
       "25%       75.000000\n",
       "50%       82.000000\n",
       "75%       92.000000\n",
       "max      100.000000\n",
       "dtype: float64"
      ]
     },
     "execution_count": 24,
     "metadata": {},
     "output_type": "execute_result"
    }
   ],
   "source": [
    "pd.Series(scores).describe()"
   ]
  },
  {
   "cell_type": "markdown",
   "metadata": {},
   "source": [
    "#### 코드 12.20"
   ]
  },
  {
   "cell_type": "code",
   "execution_count": 25,
   "metadata": {},
   "outputs": [
    {
     "data": {
      "image/png": "[encoded data removed]",
      "text/plain": [
       "<Figure size 360x432 with 1 Axes>"
      ]
     },
     "metadata": {
      "needs_background": "light"
     },
     "output_type": "display_data"
    }
   ],
   "source": [
    "import matplotlib.pyplot as plt\n",
    "fig = plt.figure(figsize =(5,6))\n",
    "ax = fig.add_subplot(111)\n",
    "ax.boxplot(scores, labels=['Math'])\n",
    "plt.show()"
   ]
  },
  {
   "cell_type": "markdown",
   "metadata": {},
   "source": [
    "#### 코드 12.21"
   ]
  },
  {
   "cell_type": "code",
   "execution_count": 26,
   "metadata": {},
   "outputs": [
    {
     "data": {
      "text/plain": [
       "array([ 0,  0,  2,  1,  1,  6, 12, 62, 51, 65], dtype=int64)"
      ]
     },
     "execution_count": 26,
     "metadata": {},
     "output_type": "execute_result"
    }
   ],
   "source": [
    "bins = np.arange(0,101,10)\n",
    "freq, bins = np.histogram(scores, bins)\n",
    "freq"
   ]
  },
  {
   "cell_type": "markdown",
   "metadata": {},
   "source": [
    "#### 코드 12.22"
   ]
  },
  {
   "cell_type": "code",
   "execution_count": 27,
   "metadata": {},
   "outputs": [
    {
     "data": {
      "text/html": [
       "<div>\n",
       "<style scoped>\n",
       "    .dataframe tbody tr th:only-of-type {\n",
       "        vertical-align: middle;\n",
       "    }\n",
       "\n",
       "    .dataframe tbody tr th {\n",
       "        vertical-align: top;\n",
       "    }\n",
       "\n",
       "    .dataframe thead th {\n",
       "        text-align: right;\n",
       "    }\n",
       "</style>\n",
       "<table border=\"1\" class=\"dataframe\">\n",
       "  <thead>\n",
       "    <tr style=\"text-align: right;\">\n",
       "      <th></th>\n",
       "      <th>Frequency</th>\n",
       "    </tr>\n",
       "  </thead>\n",
       "  <tbody>\n",
       "    <tr>\n",
       "      <th>0~10</th>\n",
       "      <td>0</td>\n",
       "    </tr>\n",
       "    <tr>\n",
       "      <th>10~20</th>\n",
       "      <td>0</td>\n",
       "    </tr>\n",
       "    <tr>\n",
       "      <th>20~30</th>\n",
       "      <td>2</td>\n",
       "    </tr>\n",
       "    <tr>\n",
       "      <th>30~40</th>\n",
       "      <td>1</td>\n",
       "    </tr>\n",
       "    <tr>\n",
       "      <th>40~50</th>\n",
       "      <td>1</td>\n",
       "    </tr>\n",
       "    <tr>\n",
       "      <th>50~60</th>\n",
       "      <td>6</td>\n",
       "    </tr>\n",
       "    <tr>\n",
       "      <th>60~70</th>\n",
       "      <td>12</td>\n",
       "    </tr>\n",
       "    <tr>\n",
       "      <th>70~80</th>\n",
       "      <td>62</td>\n",
       "    </tr>\n",
       "    <tr>\n",
       "      <th>80~90</th>\n",
       "      <td>51</td>\n",
       "    </tr>\n",
       "    <tr>\n",
       "      <th>90~100</th>\n",
       "      <td>65</td>\n",
       "    </tr>\n",
       "  </tbody>\n",
       "</table>\n",
       "</div>"
      ],
      "text/plain": [
       "        Frequency\n",
       "0~10            0\n",
       "10~20           0\n",
       "20~30           2\n",
       "30~40           1\n",
       "40~50           1\n",
       "50~60           6\n",
       "60~70          12\n",
       "70~80          62\n",
       "80~90          51\n",
       "90~100         65"
      ]
     },
     "execution_count": 27,
     "metadata": {},
     "output_type": "execute_result"
    }
   ],
   "source": [
    "freq_class = [f'{i}~{i+10}' for i in range(0, 100, 10)]\n",
    "freq_class\n",
    "freq_dist_df = pd.DataFrame({'Frequency': freq}, index=freq_class)\n",
    "freq_dist_df"
   ]
  },
  {
   "cell_type": "markdown",
   "metadata": {},
   "source": [
    "#### 코드 12.23"
   ]
  },
  {
   "cell_type": "code",
   "execution_count": 28,
   "metadata": {
    "scrolled": true
   },
   "outputs": [
    {
     "data": {
      "text/plain": [
       "<BarContainer object of 10 artists>"
      ]
     },
     "execution_count": 28,
     "metadata": {},
     "output_type": "execute_result"
    },
    {
     "data": {
      "image/png": "[encoded data removed]",
      "text/plain": [
       "<Figure size 720x432 with 1 Axes>"
      ]
     },
     "metadata": {
      "needs_background": "light"
     },
     "output_type": "display_data"
    }
   ],
   "source": [
    "plt.figure(figsize =(10,6))\n",
    "plt.bar(freq_class, freq)"
   ]
  },
  {
   "cell_type": "markdown",
   "metadata": {},
   "source": [
    "#### [참고]"
   ]
  },
  {
   "cell_type": "code",
   "execution_count": 29,
   "metadata": {},
   "outputs": [
    {
     "data": {
      "text/plain": [
       "6"
      ]
     },
     "execution_count": 29,
     "metadata": {},
     "output_type": "execute_result"
    }
   ],
   "source": [
    "value = [1,2,3,4,5,6]\n",
    "prob = [1/21, 2/21, 3/21, 4/21, 5/21, 6/21]\n",
    "np.random.choice(value, p=prob)"
   ]
  },
  {
   "cell_type": "markdown",
   "metadata": {},
   "source": [
    "#### [참고]"
   ]
  },
  {
   "cell_type": "code",
   "execution_count": 30,
   "metadata": {},
   "outputs": [
    {
     "data": {
      "text/plain": [
       "array([5, 2, 3, 5, 5, 5, 3, 6, 6, 5, 5, 5, 5, 1, 3, 2, 4, 4, 5, 2, 1, 2,\n",
       "       6, 3, 4, 3, 6, 3, 4, 6, 4, 5, 4, 5, 5, 6, 5, 4, 4, 6, 4, 5, 2, 4,\n",
       "       4, 5, 5, 4, 6, 6, 6, 5, 4, 3, 5, 6, 4, 5, 6, 3, 3, 2, 6, 2, 1, 4,\n",
       "       3, 5, 2, 3, 6, 1, 2, 5, 1, 3, 6, 6, 5, 6, 5, 3, 6, 4, 3, 6, 4, 5,\n",
       "       6, 2, 3, 4, 5, 6, 4, 6, 3, 4, 6, 2])"
      ]
     },
     "execution_count": 30,
     "metadata": {},
     "output_type": "execute_result"
    }
   ],
   "source": [
    "count = 100\n",
    "sample = np.random.choice(value, count, p=prob)\n",
    "sample"
   ]
  },
  {
   "cell_type": "markdown",
   "metadata": {},
   "source": [
    "#### [참고]"
   ]
  },
  {
   "cell_type": "code",
   "execution_count": 31,
   "metadata": {},
   "outputs": [
    {
     "data": {
      "text/html": [
       "<div>\n",
       "<style scoped>\n",
       "    .dataframe tbody tr th:only-of-type {\n",
       "        vertical-align: middle;\n",
       "    }\n",
       "\n",
       "    .dataframe tbody tr th {\n",
       "        vertical-align: top;\n",
       "    }\n",
       "\n",
       "    .dataframe thead th {\n",
       "        text-align: right;\n",
       "    }\n",
       "</style>\n",
       "<table border=\"1\" class=\"dataframe\">\n",
       "  <thead>\n",
       "    <tr style=\"text-align: right;\">\n",
       "      <th></th>\n",
       "      <th>Frequency</th>\n",
       "      <th>Relative Frequency</th>\n",
       "    </tr>\n",
       "    <tr>\n",
       "      <th>Value</th>\n",
       "      <th></th>\n",
       "      <th></th>\n",
       "    </tr>\n",
       "  </thead>\n",
       "  <tbody>\n",
       "    <tr>\n",
       "      <th>1</th>\n",
       "      <td>5</td>\n",
       "      <td>0.05</td>\n",
       "    </tr>\n",
       "    <tr>\n",
       "      <th>2</th>\n",
       "      <td>11</td>\n",
       "      <td>0.11</td>\n",
       "    </tr>\n",
       "    <tr>\n",
       "      <th>3</th>\n",
       "      <td>16</td>\n",
       "      <td>0.16</td>\n",
       "    </tr>\n",
       "    <tr>\n",
       "      <th>4</th>\n",
       "      <td>20</td>\n",
       "      <td>0.20</td>\n",
       "    </tr>\n",
       "    <tr>\n",
       "      <th>5</th>\n",
       "      <td>25</td>\n",
       "      <td>0.25</td>\n",
       "    </tr>\n",
       "    <tr>\n",
       "      <th>6</th>\n",
       "      <td>23</td>\n",
       "      <td>0.23</td>\n",
       "    </tr>\n",
       "  </tbody>\n",
       "</table>\n",
       "</div>"
      ],
      "text/plain": [
       "       Frequency  Relative Frequency\n",
       "Value                               \n",
       "1              5                0.05\n",
       "2             11                0.11\n",
       "3             16                0.16\n",
       "4             20                0.20\n",
       "5             25                0.25\n",
       "6             23                0.23"
      ]
     },
     "execution_count": 31,
     "metadata": {},
     "output_type": "execute_result"
    }
   ],
   "source": [
    "freq, _ = np.histogram(sample, bins=6, range=(1,7))\n",
    "pd.DataFrame({'Frequency': freq,\n",
    "             'Relative Frequency': freq/count},\n",
    "            index=pd.Index(np.arange(1,7), name = \"Value\"))"
   ]
  },
  {
   "cell_type": "markdown",
   "metadata": {},
   "source": [
    "#### [참고]"
   ]
  },
  {
   "cell_type": "code",
   "execution_count": 32,
   "metadata": {},
   "outputs": [
    {
     "data": {
      "image/png": "[encoded data removed]",
      "text/plain": [
       "<Figure size 720x360 with 1 Axes>"
      ]
     },
     "metadata": {
      "needs_background": "light"
     },
     "output_type": "display_data"
    }
   ],
   "source": [
    "fig = plt.figure(figsize=(10, 5))\n",
    "ax = fig.add_subplot(111)\n",
    "ax.hist(sample, bins=6, range=(1, 7), density=True, rwidth=0.8)\n",
    "\n",
    "# 실제의 확률분포를 가로선으로 표시\n",
    "ax.hlines(prob, np.arange(1, 7), np.arange(2, 8), colors='red')\n",
    "\n",
    "# 막대 그래프의 [1.5, 2.5, ..., 6.5]에 눈금을 표시\n",
    "ax.set_xticks(np.linspace(1.5, 6.5, 6))\n",
    "\n",
    "# value 값은 [1, 2, 3, 4, 5, 6]\n",
    "ax.set_xticklabels(np.arange(1, 7))\n",
    "ax.set_xlabel('value')\n",
    "ax.set_ylabel('relative frequency')\n",
    "plt.show()"
   ]
  },
  {
   "cell_type": "markdown",
   "metadata": {},
   "source": [
    "#### [참고]"
   ]
  },
  {
   "cell_type": "code",
   "execution_count": 33,
   "metadata": {},
   "outputs": [
    {
     "data": {
      "image/png": "[encoded data removed]",
      "text/plain": [
       "<Figure size 720x432 with 1 Axes>"
      ]
     },
     "metadata": {
      "needs_background": "light"
     },
     "output_type": "display_data"
    }
   ],
   "source": [
    "count = 10000\n",
    "sample = np.random.choice(value, size=count, p=prob)\n",
    "\n",
    "fig = plt.figure(figsize=(10, 6))\n",
    "ax = fig.add_subplot(111)\n",
    "ax.hist(sample, bins=6, range=(1, 7), density=True, rwidth=0.8)\n",
    "ax.hlines(prob, np.arange(1, 7), np.arange(2, 8), colors='red')\n",
    "ax.set_xticks(np.linspace(1.5, 6.5, 6))\n",
    "ax.set_xticklabels(np.arange(1, 7))\n",
    "ax.set_xlabel('value')\n",
    "ax.set_ylabel('relative frequency')\n",
    "plt.show()"
   ]
  },
  {
   "cell_type": "markdown",
   "metadata": {},
   "source": [
    "#### [참고]"
   ]
  },
  {
   "cell_type": "code",
   "execution_count": 34,
   "metadata": {},
   "outputs": [
    {
     "data": {
      "image/png": "[encoded data removed]",
      "text/plain": [
       "<Figure size 720x432 with 1 Axes>"
      ]
     },
     "metadata": {
      "needs_background": "light"
     },
     "output_type": "display_data"
    }
   ],
   "source": [
    "count = 100000\n",
    "sample = np.random.choice(value, size=count, p=prob)\n",
    "\n",
    "fig = plt.figure(figsize=(10, 6))\n",
    "ax = fig.add_subplot(111)\n",
    "ax.hist(sample, bins=6, range=(1, 7), density=True, rwidth=0.8)\n",
    "ax.hlines(prob, np.arange(1, 7), np.arange(2, 8), colors='red')\n",
    "ax.set_xticks(np.linspace(1.5, 6.5, 6))\n",
    "ax.set_xticklabels(np.arange(1, 7))\n",
    "ax.set_xlabel('value')\n",
    "ax.set_ylabel('relative frequency')\n",
    "plt.show()"
   ]
  },
  {
   "cell_type": "markdown",
   "metadata": {},
   "source": [
    "#### [참고]"
   ]
  },
  {
   "cell_type": "code",
   "execution_count": 35,
   "metadata": {},
   "outputs": [
    {
     "data": {
      "image/png": "[encoded data removed]",
      "text/plain": [
       "<Figure size 720x432 with 1 Axes>"
      ]
     },
     "metadata": {
      "needs_background": "light"
     },
     "output_type": "display_data"
    }
   ],
   "source": [
    "fig = plt.figure(figsize=(10, 6))\n",
    "ax = fig.add_subplot(111)\n",
    "ax.hist(scores, bins=100, range=(0, 100), density=True)\n",
    "ax.set_xlim(20, 100)\n",
    "ax.set_ylim(0, 0.042)\n",
    "ax.set_xlabel('score')\n",
    "ax.set_ylabel('relative frequency')\n",
    "plt.show()"
   ]
  },
  {
   "cell_type": "markdown",
   "metadata": {},
   "source": [
    "#### [참고]"
   ]
  },
  {
   "cell_type": "code",
   "execution_count": 36,
   "metadata": {},
   "outputs": [
    {
     "name": "stdout",
     "output_type": "stream",
     "text": [
      "81\n"
     ]
    },
    {
     "data": {
      "image/png": "[encoded data removed]",
      "text/plain": [
       "<Figure size 720x360 with 1 Axes>"
      ]
     },
     "metadata": {
      "needs_background": "light"
     },
     "output_type": "display_data"
    }
   ],
   "source": [
    "x=np.random.choice(scores)   # 무작위로 표본데이터 선택\n",
    "print(x)\n",
    "\n",
    "sample = np.random.choice(scores, 1000)\n",
    "\n",
    "fig = plt.figure(figsize=(10, 5))\n",
    "ax = fig.add_subplot(111)\n",
    "ax.hist(sample, bins=100, range=(0, 100), density=True)\n",
    "ax.set_xlim(20, 100)\n",
    "ax.set_ylim(0, 0.042)\n",
    "ax.set_xlabel('score')\n",
    "ax.set_ylabel('relative frequency')\n",
    "plt.show()"
   ]
  },
  {
   "cell_type": "markdown",
   "metadata": {},
   "source": [
    "#### [참고]"
   ]
  },
  {
   "cell_type": "code",
   "execution_count": 37,
   "metadata": {},
   "outputs": [
    {
     "data": {
      "image/png": "[encoded data removed]",
      "text/plain": [
       "<Figure size 720x432 with 1 Axes>"
      ]
     },
     "metadata": {
      "needs_background": "light"
     },
     "output_type": "display_data"
    }
   ],
   "source": [
    "sample = np.random.choice(scores, 100000)\n",
    "fig = plt.figure(figsize=(10, 6))\n",
    "ax = fig.add_subplot(111)\n",
    "ax.hist(sample, bins=100, range=(0, 100), density=True)\n",
    "ax.set_xlim(20, 100)\n",
    "ax.set_ylim(0, 0.042)\n",
    "ax.set_xlabel('score')\n",
    "ax.set_ylabel('relative frequency')\n",
    "plt.show()"
   ]
  },
  {
   "cell_type": "markdown",
   "metadata": {},
   "source": [
    "#### [참고]"
   ]
  },
  {
   "cell_type": "code",
   "execution_count": 38,
   "metadata": {},
   "outputs": [
    {
     "data": {
      "image/png": "[encoded data removed]",
      "text/plain": [
       "<Figure size 720x432 with 1 Axes>"
      ]
     },
     "metadata": {
      "needs_background": "light"
     },
     "output_type": "display_data"
    }
   ],
   "source": [
    "sample_means = [np.random.choice(scores, 30).mean()\n",
    "                for i in range(10000)]\n",
    "\n",
    "fig = plt.figure(figsize=(10, 6))\n",
    "ax = fig.add_subplot(111)\n",
    "ax.hist(sample_means, bins=100, range=(0, 100), density=True)\n",
    "\n",
    "ax.vlines(np.mean(scores), 0, 1, 'red')   # 모평균을 세로선으로 표시\n",
    "ax.set_xlim(65, 100)\n",
    "ax.set_ylim(0, 0.15)\n",
    "ax.set_xlabel('score')\n",
    "ax.set_ylabel('relative frequency')\n",
    "plt.show()"
   ]
  },
  {
   "cell_type": "markdown",
   "metadata": {},
   "source": [
    "#### 코드 12.24"
   ]
  },
  {
   "cell_type": "code",
   "execution_count": 39,
   "metadata": {},
   "outputs": [
    {
     "data": {
      "text/html": [
       "<div>\n",
       "<style scoped>\n",
       "    .dataframe tbody tr th:only-of-type {\n",
       "        vertical-align: middle;\n",
       "    }\n",
       "\n",
       "    .dataframe tbody tr th {\n",
       "        vertical-align: top;\n",
       "    }\n",
       "\n",
       "    .dataframe thead th {\n",
       "        text-align: right;\n",
       "    }\n",
       "</style>\n",
       "<table border=\"1\" class=\"dataframe\">\n",
       "  <thead>\n",
       "    <tr style=\"text-align: right;\">\n",
       "      <th></th>\n",
       "      <th>Mathematics</th>\n",
       "      <th>English</th>\n",
       "    </tr>\n",
       "  </thead>\n",
       "  <tbody>\n",
       "    <tr>\n",
       "      <th>0</th>\n",
       "      <td>79</td>\n",
       "      <td>81</td>\n",
       "    </tr>\n",
       "    <tr>\n",
       "      <th>1</th>\n",
       "      <td>75</td>\n",
       "      <td>89</td>\n",
       "    </tr>\n",
       "    <tr>\n",
       "      <th>2</th>\n",
       "      <td>75</td>\n",
       "      <td>80</td>\n",
       "    </tr>\n",
       "    <tr>\n",
       "      <th>3</th>\n",
       "      <td>100</td>\n",
       "      <td>100</td>\n",
       "    </tr>\n",
       "    <tr>\n",
       "      <th>4</th>\n",
       "      <td>79</td>\n",
       "      <td>80</td>\n",
       "    </tr>\n",
       "    <tr>\n",
       "      <th>5</th>\n",
       "      <td>92</td>\n",
       "      <td>99</td>\n",
       "    </tr>\n",
       "    <tr>\n",
       "      <th>6</th>\n",
       "      <td>100</td>\n",
       "      <td>100</td>\n",
       "    </tr>\n",
       "    <tr>\n",
       "      <th>7</th>\n",
       "      <td>74</td>\n",
       "      <td>81</td>\n",
       "    </tr>\n",
       "    <tr>\n",
       "      <th>8</th>\n",
       "      <td>78</td>\n",
       "      <td>80</td>\n",
       "    </tr>\n",
       "    <tr>\n",
       "      <th>9</th>\n",
       "      <td>74</td>\n",
       "      <td>78</td>\n",
       "    </tr>\n",
       "    <tr>\n",
       "      <th>10</th>\n",
       "      <td>77</td>\n",
       "      <td>77</td>\n",
       "    </tr>\n",
       "    <tr>\n",
       "      <th>11</th>\n",
       "      <td>76</td>\n",
       "      <td>80</td>\n",
       "    </tr>\n",
       "  </tbody>\n",
       "</table>\n",
       "</div>"
      ],
      "text/plain": [
       "    Mathematics  English\n",
       "0            79       81\n",
       "1            75       89\n",
       "2            75       80\n",
       "3           100      100\n",
       "4            79       80\n",
       "5            92       99\n",
       "6           100      100\n",
       "7            74       81\n",
       "8            78       80\n",
       "9            74       78\n",
       "10           77       77\n",
       "11           76       80"
      ]
     },
     "execution_count": 39,
     "metadata": {},
     "output_type": "execute_result"
    }
   ],
   "source": [
    "ma_scores = np.array(df['MATH'])[:12]\n",
    "en_scores = np.array(df['ENGLISH'])[:12]\n",
    "\n",
    "scores_df = pd.DataFrame({'Mathematics':ma_scores,\n",
    "                         'English':en_scores})\n",
    "scores_df"
   ]
  },
  {
   "cell_type": "markdown",
   "metadata": {},
   "source": [
    "#### 코드 12.25"
   ]
  },
  {
   "cell_type": "code",
   "execution_count": 40,
   "metadata": {},
   "outputs": [
    {
     "data": {
      "text/html": [
       "<div>\n",
       "<style scoped>\n",
       "    .dataframe tbody tr th:only-of-type {\n",
       "        vertical-align: middle;\n",
       "    }\n",
       "\n",
       "    .dataframe tbody tr th {\n",
       "        vertical-align: top;\n",
       "    }\n",
       "\n",
       "    .dataframe thead th {\n",
       "        text-align: right;\n",
       "    }\n",
       "</style>\n",
       "<table border=\"1\" class=\"dataframe\">\n",
       "  <thead>\n",
       "    <tr style=\"text-align: right;\">\n",
       "      <th></th>\n",
       "      <th>Mathematics</th>\n",
       "      <th>English</th>\n",
       "      <th>mathematics_deviation</th>\n",
       "      <th>english_deviation</th>\n",
       "      <th>product of deviations</th>\n",
       "    </tr>\n",
       "  </thead>\n",
       "  <tbody>\n",
       "    <tr>\n",
       "      <th>0</th>\n",
       "      <td>79</td>\n",
       "      <td>81</td>\n",
       "      <td>-2.583333</td>\n",
       "      <td>-4.416667</td>\n",
       "      <td>11.409722</td>\n",
       "    </tr>\n",
       "    <tr>\n",
       "      <th>1</th>\n",
       "      <td>75</td>\n",
       "      <td>89</td>\n",
       "      <td>-6.583333</td>\n",
       "      <td>3.583333</td>\n",
       "      <td>-23.590278</td>\n",
       "    </tr>\n",
       "    <tr>\n",
       "      <th>2</th>\n",
       "      <td>75</td>\n",
       "      <td>80</td>\n",
       "      <td>-6.583333</td>\n",
       "      <td>-5.416667</td>\n",
       "      <td>35.659722</td>\n",
       "    </tr>\n",
       "    <tr>\n",
       "      <th>3</th>\n",
       "      <td>100</td>\n",
       "      <td>100</td>\n",
       "      <td>18.416667</td>\n",
       "      <td>14.583333</td>\n",
       "      <td>268.576389</td>\n",
       "    </tr>\n",
       "    <tr>\n",
       "      <th>4</th>\n",
       "      <td>79</td>\n",
       "      <td>80</td>\n",
       "      <td>-2.583333</td>\n",
       "      <td>-5.416667</td>\n",
       "      <td>13.993056</td>\n",
       "    </tr>\n",
       "    <tr>\n",
       "      <th>5</th>\n",
       "      <td>92</td>\n",
       "      <td>99</td>\n",
       "      <td>10.416667</td>\n",
       "      <td>13.583333</td>\n",
       "      <td>141.493056</td>\n",
       "    </tr>\n",
       "    <tr>\n",
       "      <th>6</th>\n",
       "      <td>100</td>\n",
       "      <td>100</td>\n",
       "      <td>18.416667</td>\n",
       "      <td>14.583333</td>\n",
       "      <td>268.576389</td>\n",
       "    </tr>\n",
       "    <tr>\n",
       "      <th>7</th>\n",
       "      <td>74</td>\n",
       "      <td>81</td>\n",
       "      <td>-7.583333</td>\n",
       "      <td>-4.416667</td>\n",
       "      <td>33.493056</td>\n",
       "    </tr>\n",
       "    <tr>\n",
       "      <th>8</th>\n",
       "      <td>78</td>\n",
       "      <td>80</td>\n",
       "      <td>-3.583333</td>\n",
       "      <td>-5.416667</td>\n",
       "      <td>19.409722</td>\n",
       "    </tr>\n",
       "    <tr>\n",
       "      <th>9</th>\n",
       "      <td>74</td>\n",
       "      <td>78</td>\n",
       "      <td>-7.583333</td>\n",
       "      <td>-7.416667</td>\n",
       "      <td>56.243056</td>\n",
       "    </tr>\n",
       "    <tr>\n",
       "      <th>10</th>\n",
       "      <td>77</td>\n",
       "      <td>77</td>\n",
       "      <td>-4.583333</td>\n",
       "      <td>-8.416667</td>\n",
       "      <td>38.576389</td>\n",
       "    </tr>\n",
       "    <tr>\n",
       "      <th>11</th>\n",
       "      <td>76</td>\n",
       "      <td>80</td>\n",
       "      <td>-5.583333</td>\n",
       "      <td>-5.416667</td>\n",
       "      <td>30.243056</td>\n",
       "    </tr>\n",
       "  </tbody>\n",
       "</table>\n",
       "</div>"
      ],
      "text/plain": [
       "    Mathematics  English  mathematics_deviation  english_deviation  \\\n",
       "0            79       81              -2.583333          -4.416667   \n",
       "1            75       89              -6.583333           3.583333   \n",
       "2            75       80              -6.583333          -5.416667   \n",
       "3           100      100              18.416667          14.583333   \n",
       "4            79       80              -2.583333          -5.416667   \n",
       "5            92       99              10.416667          13.583333   \n",
       "6           100      100              18.416667          14.583333   \n",
       "7            74       81              -7.583333          -4.416667   \n",
       "8            78       80              -3.583333          -5.416667   \n",
       "9            74       78              -7.583333          -7.416667   \n",
       "10           77       77              -4.583333          -8.416667   \n",
       "11           76       80              -5.583333          -5.416667   \n",
       "\n",
       "    product of deviations  \n",
       "0               11.409722  \n",
       "1              -23.590278  \n",
       "2               35.659722  \n",
       "3              268.576389  \n",
       "4               13.993056  \n",
       "5              141.493056  \n",
       "6              268.576389  \n",
       "7               33.493056  \n",
       "8               19.409722  \n",
       "9               56.243056  \n",
       "10              38.576389  \n",
       "11              30.243056  "
      ]
     },
     "execution_count": 40,
     "metadata": {},
     "output_type": "execute_result"
    }
   ],
   "source": [
    "summary_df = scores_df.copy()\n",
    "summary_df['mathematics_deviation'] = \\\n",
    "    summary_df['Mathematics'] - summary_df['Mathematics'].mean()\n",
    "summary_df['english_deviation'] = \\\n",
    "    summary_df['English'] - summary_df['English'].mean()\n",
    "summary_df['product of deviations'] = \\\n",
    "    summary_df['mathematics_deviation'] * summary_df['english_deviation']\n",
    "summary_df"
   ]
  },
  {
   "cell_type": "markdown",
   "metadata": {},
   "source": [
    "#### 코드 12.26"
   ]
  },
  {
   "cell_type": "code",
   "execution_count": 41,
   "metadata": {},
   "outputs": [
    {
     "data": {
      "text/plain": [
       "74.50694444444443"
      ]
     },
     "execution_count": 41,
     "metadata": {},
     "output_type": "execute_result"
    }
   ],
   "source": [
    "summary_df['product of deviations'].mean()"
   ]
  },
  {
   "cell_type": "markdown",
   "metadata": {},
   "source": [
    "#### 코드 12.27"
   ]
  },
  {
   "cell_type": "code",
   "execution_count": 42,
   "metadata": {},
   "outputs": [
    {
     "data": {
      "image/png": "[encoded data removed]",
      "text/plain": [
       "<Figure size 432x432 with 1 Axes>"
      ]
     },
     "metadata": {
      "needs_background": "light"
     },
     "output_type": "display_data"
    }
   ],
   "source": [
    "english_scores = np.array(df['ENGLISH'])\n",
    "math_scores = np.array(df['MATH'])\n",
    "\n",
    "fig = plt.figure(figsize=(6, 6))\n",
    "ax = fig.add_subplot(111)\n",
    "# 산점도\n",
    "ax.scatter(english_scores, math_scores)\n",
    "ax.set_xlabel('english')\n",
    "ax.set_ylabel('mathematics')\n",
    "\n",
    "plt.show()"
   ]
  },
  {
   "cell_type": "markdown",
   "metadata": {},
   "source": [
    "#### 코드 12.28"
   ]
  },
  {
   "cell_type": "code",
   "execution_count": 43,
   "metadata": {},
   "outputs": [
    {
     "data": {
      "image/png": "[encoded data removed]",
      "text/plain": [
       "<Figure size 432x432 with 1 Axes>"
      ]
     },
     "metadata": {
      "needs_background": "light"
     },
     "output_type": "display_data"
    }
   ],
   "source": [
    "# 계수β_0와β_1를 구한다\n",
    "poly_fit = np.polyfit(english_scores, math_scores, 1)\n",
    "# β_0+β_1 x를 반환하는 함수를 작성\n",
    "poly_1d = np.poly1d(poly_fit)\n",
    "# 직선을 그리기 위해 x좌표를 생성\n",
    "xs = np.linspace(english_scores.min(), english_scores.max())\n",
    "# xs에 대응하는 y좌표를 구한다\n",
    "ys = poly_1d(xs)\n",
    "\n",
    "fig = plt.figure(figsize=(6, 6))\n",
    "ax = fig.add_subplot(111)\n",
    "ax.set_xlabel('english')\n",
    "ax.set_ylabel('mathematics')\n",
    "ax.scatter(english_scores, math_scores, label='score')\n",
    "ax.plot(xs, ys, color='red',\n",
    "        label=f'{poly_fit[1]:.2f}+{poly_fit[0]:.2f}x')\n",
    "# 범례의 표시\n",
    "ax.legend(loc='upper left')\n",
    "\n",
    "plt.show()"
   ]
  },
  {
   "cell_type": "markdown",
   "metadata": {},
   "source": [
    "#### 참고"
   ]
  },
  {
   "cell_type": "code",
   "execution_count": 44,
   "metadata": {},
   "outputs": [
    {
     "data": {
      "image/png": "[encoded data removed]",
      "text/plain": [
       "<Figure size 720x576 with 2 Axes>"
      ]
     },
     "metadata": {
      "needs_background": "light"
     },
     "output_type": "display_data"
    }
   ],
   "source": [
    "fig = plt.figure(figsize=(10, 8))\n",
    "ax = fig.add_subplot(111)\n",
    "\n",
    "c = ax.hist2d(english_scores, math_scores,\n",
    "              bins=[8, 8], range=[(20, 100), (20, 100)])\n",
    "ax.set_xlabel('english')\n",
    "ax.set_ylabel('mathematics')\n",
    "ax.set_xticks(c[1])\n",
    "ax.set_yticks(c[2])\n",
    "# 컬러 바의 표시\n",
    "fig.colorbar(c[3], ax=ax)\n",
    "plt.show()"
   ]
  },
  {
   "cell_type": "markdown",
   "metadata": {
    "id": "k8r1PUlYJcgS"
   },
   "source": [
    "### 통계 분석 도전"
   ]
  },
  {
   "cell_type": "markdown",
   "metadata": {},
   "source": [
    "#### 코드 12.29"
   ]
  },
  {
   "cell_type": "code",
   "execution_count": 45,
   "metadata": {
    "colab": {
     "base_uri": "https://localhost:8080/",
     "height": 424
    },
    "executionInfo": {
     "elapsed": 272,
     "status": "ok",
     "timestamp": 1638622182617,
     "user": {
      "displayName": "심규현",
      "photoUrl": "https://lh3.googleusercontent.com/a-/AOh14GhUsWhBvCuWBX8eybQOLddreDC1UApHKcmBFbvDAA=s64",
      "userId": "00091973774470887912"
     },
     "user_tz": -540
    },
    "id": "hB-5ICDVIwnm",
    "outputId": "2941bd3e-192e-4cd6-e81f-3332c241e806"
   },
   "outputs": [
    {
     "data": {
      "text/html": [
       "<div>\n",
       "<style scoped>\n",
       "    .dataframe tbody tr th:only-of-type {\n",
       "        vertical-align: middle;\n",
       "    }\n",
       "\n",
       "    .dataframe tbody tr th {\n",
       "        vertical-align: top;\n",
       "    }\n",
       "\n",
       "    .dataframe thead th {\n",
       "        text-align: right;\n",
       "    }\n",
       "</style>\n",
       "<table border=\"1\" class=\"dataframe\">\n",
       "  <thead>\n",
       "    <tr style=\"text-align: right;\">\n",
       "      <th></th>\n",
       "      <th>대여일시</th>\n",
       "      <th>대여건수</th>\n",
       "    </tr>\n",
       "  </thead>\n",
       "  <tbody>\n",
       "    <tr>\n",
       "      <th>0</th>\n",
       "      <td>2021-02-01</td>\n",
       "      <td>41,152</td>\n",
       "    </tr>\n",
       "    <tr>\n",
       "      <th>1</th>\n",
       "      <td>2021-02-02</td>\n",
       "      <td>31,136</td>\n",
       "    </tr>\n",
       "    <tr>\n",
       "      <th>2</th>\n",
       "      <td>2021-02-03</td>\n",
       "      <td>31,016</td>\n",
       "    </tr>\n",
       "    <tr>\n",
       "      <th>3</th>\n",
       "      <td>2021-02-04</td>\n",
       "      <td>20,201</td>\n",
       "    </tr>\n",
       "    <tr>\n",
       "      <th>4</th>\n",
       "      <td>2021-02-05</td>\n",
       "      <td>37,675</td>\n",
       "    </tr>\n",
       "    <tr>\n",
       "      <th>...</th>\n",
       "      <td>...</td>\n",
       "      <td>...</td>\n",
       "    </tr>\n",
       "    <tr>\n",
       "      <th>145</th>\n",
       "      <td>2021-06-26</td>\n",
       "      <td>105,813</td>\n",
       "    </tr>\n",
       "    <tr>\n",
       "      <th>146</th>\n",
       "      <td>2021-06-27</td>\n",
       "      <td>92,869</td>\n",
       "    </tr>\n",
       "    <tr>\n",
       "      <th>147</th>\n",
       "      <td>2021-06-28</td>\n",
       "      <td>106,378</td>\n",
       "    </tr>\n",
       "    <tr>\n",
       "      <th>148</th>\n",
       "      <td>2021-06-29</td>\n",
       "      <td>111,907</td>\n",
       "    </tr>\n",
       "    <tr>\n",
       "      <th>149</th>\n",
       "      <td>2021-06-30</td>\n",
       "      <td>122,200</td>\n",
       "    </tr>\n",
       "  </tbody>\n",
       "</table>\n",
       "<p>150 rows × 2 columns</p>\n",
       "</div>"
      ],
      "text/plain": [
       "           대여일시     대여건수\n",
       "0    2021-02-01   41,152\n",
       "1    2021-02-02   31,136\n",
       "2    2021-02-03   31,016\n",
       "3    2021-02-04   20,201\n",
       "4    2021-02-05   37,675\n",
       "..          ...      ...\n",
       "145  2021-06-26  105,813\n",
       "146  2021-06-27   92,869\n",
       "147  2021-06-28  106,378\n",
       "148  2021-06-29  111,907\n",
       "149  2021-06-30  122,200\n",
       "\n",
       "[150 rows x 2 columns]"
      ]
     },
     "execution_count": 45,
     "metadata": {},
     "output_type": "execute_result"
    }
   ],
   "source": [
    "# 데이터 출처: 서울 열린데이터 광장\n",
    "# 링크 1 (대여건수): http://data.seoul.go.kr/dataList/OA-14994/F/1/datasetView.do\n",
    "# 링크 2 (가입자수): http://data.seoul.go.kr/dataList/OA-15243/S/1/datasetView.do\n",
    "\n",
    "import numpy as np\n",
    "import pandas as pd\n",
    "\n",
    "cycle1 = pd.read_csv('bicycle_rent.csv', encoding='cp949')\n",
    "cycle1"
   ]
  },
  {
   "cell_type": "markdown",
   "metadata": {},
   "source": [
    "#### 코드 12.30"
   ]
  },
  {
   "cell_type": "code",
   "execution_count": 46,
   "metadata": {
    "colab": {
     "base_uri": "https://localhost:8080/",
     "height": 424
    },
    "executionInfo": {
     "elapsed": 6,
     "status": "ok",
     "timestamp": 1638622182930,
     "user": {
      "displayName": "심규현",
      "photoUrl": "https://lh3.googleusercontent.com/a-/AOh14GhUsWhBvCuWBX8eybQOLddreDC1UApHKcmBFbvDAA=s64",
      "userId": "00091973774470887912"
     },
     "user_tz": -540
    },
    "id": "FR8qZfElB9kK",
    "outputId": "5c3352fd-5589-4680-930a-747fbf0988aa"
   },
   "outputs": [
    {
     "data": {
      "text/html": [
       "<div>\n",
       "<style scoped>\n",
       "    .dataframe tbody tr th:only-of-type {\n",
       "        vertical-align: middle;\n",
       "    }\n",
       "\n",
       "    .dataframe tbody tr th {\n",
       "        vertical-align: top;\n",
       "    }\n",
       "\n",
       "    .dataframe thead th {\n",
       "        text-align: right;\n",
       "    }\n",
       "</style>\n",
       "<table border=\"1\" class=\"dataframe\">\n",
       "  <thead>\n",
       "    <tr style=\"text-align: right;\">\n",
       "      <th></th>\n",
       "      <th>대여일시</th>\n",
       "      <th>대여건수</th>\n",
       "    </tr>\n",
       "  </thead>\n",
       "  <tbody>\n",
       "    <tr>\n",
       "      <th>0</th>\n",
       "      <td>2021-02-01</td>\n",
       "      <td>41152</td>\n",
       "    </tr>\n",
       "    <tr>\n",
       "      <th>1</th>\n",
       "      <td>2021-02-02</td>\n",
       "      <td>31136</td>\n",
       "    </tr>\n",
       "    <tr>\n",
       "      <th>2</th>\n",
       "      <td>2021-02-03</td>\n",
       "      <td>31016</td>\n",
       "    </tr>\n",
       "    <tr>\n",
       "      <th>3</th>\n",
       "      <td>2021-02-04</td>\n",
       "      <td>20201</td>\n",
       "    </tr>\n",
       "    <tr>\n",
       "      <th>4</th>\n",
       "      <td>2021-02-05</td>\n",
       "      <td>37675</td>\n",
       "    </tr>\n",
       "    <tr>\n",
       "      <th>...</th>\n",
       "      <td>...</td>\n",
       "      <td>...</td>\n",
       "    </tr>\n",
       "    <tr>\n",
       "      <th>145</th>\n",
       "      <td>2021-06-26</td>\n",
       "      <td>105813</td>\n",
       "    </tr>\n",
       "    <tr>\n",
       "      <th>146</th>\n",
       "      <td>2021-06-27</td>\n",
       "      <td>92869</td>\n",
       "    </tr>\n",
       "    <tr>\n",
       "      <th>147</th>\n",
       "      <td>2021-06-28</td>\n",
       "      <td>106378</td>\n",
       "    </tr>\n",
       "    <tr>\n",
       "      <th>148</th>\n",
       "      <td>2021-06-29</td>\n",
       "      <td>111907</td>\n",
       "    </tr>\n",
       "    <tr>\n",
       "      <th>149</th>\n",
       "      <td>2021-06-30</td>\n",
       "      <td>122200</td>\n",
       "    </tr>\n",
       "  </tbody>\n",
       "</table>\n",
       "<p>150 rows × 2 columns</p>\n",
       "</div>"
      ],
      "text/plain": [
       "           대여일시    대여건수\n",
       "0    2021-02-01   41152\n",
       "1    2021-02-02   31136\n",
       "2    2021-02-03   31016\n",
       "3    2021-02-04   20201\n",
       "4    2021-02-05   37675\n",
       "..          ...     ...\n",
       "145  2021-06-26  105813\n",
       "146  2021-06-27   92869\n",
       "147  2021-06-28  106378\n",
       "148  2021-06-29  111907\n",
       "149  2021-06-30  122200\n",
       "\n",
       "[150 rows x 2 columns]"
      ]
     },
     "execution_count": 46,
     "metadata": {},
     "output_type": "execute_result"
    }
   ],
   "source": [
    "# DataFrame의 대여건수의 자료형을 int64로 변경하기\n",
    "cycle1['대여건수'] = pd.to_numeric(cycle1['대여건수'].str.replace(',', ''))\n",
    "cycle1"
   ]
  },
  {
   "cell_type": "markdown",
   "metadata": {},
   "source": [
    "#### 코드 12.31 "
   ]
  },
  {
   "cell_type": "code",
   "execution_count": 47,
   "metadata": {},
   "outputs": [
    {
     "data": {
      "image/png": "[encoded data removed]",
      "text/plain": [
       "<Figure size 720x432 with 1 Axes>"
      ]
     },
     "metadata": {
      "needs_background": "light"
     },
     "output_type": "display_data"
    }
   ],
   "source": [
    "import matplotlib.pyplot as plt\n",
    "\n",
    "cycle1.columns = ['Date', 'Num of Rent']\n",
    "cycle1.plot(x='Date', y='Num of Rent', figsize=(10,6))\n",
    "plt.show()"
   ]
  },
  {
   "cell_type": "markdown",
   "metadata": {},
   "source": [
    "#### 코드 12.32 "
   ]
  },
  {
   "cell_type": "code",
   "execution_count": 48,
   "metadata": {},
   "outputs": [
    {
     "data": {
      "text/html": [
       "<div>\n",
       "<style scoped>\n",
       "    .dataframe tbody tr th:only-of-type {\n",
       "        vertical-align: middle;\n",
       "    }\n",
       "\n",
       "    .dataframe tbody tr th {\n",
       "        vertical-align: top;\n",
       "    }\n",
       "\n",
       "    .dataframe thead th {\n",
       "        text-align: right;\n",
       "    }\n",
       "</style>\n",
       "<table border=\"1\" class=\"dataframe\">\n",
       "  <thead>\n",
       "    <tr style=\"text-align: right;\">\n",
       "      <th></th>\n",
       "      <th>Num of Rent</th>\n",
       "    </tr>\n",
       "  </thead>\n",
       "  <tbody>\n",
       "    <tr>\n",
       "      <th>count</th>\n",
       "      <td>150.000000</td>\n",
       "    </tr>\n",
       "    <tr>\n",
       "      <th>mean</th>\n",
       "      <td>85817.126667</td>\n",
       "    </tr>\n",
       "    <tr>\n",
       "      <th>std</th>\n",
       "      <td>35243.755425</td>\n",
       "    </tr>\n",
       "    <tr>\n",
       "      <th>min</th>\n",
       "      <td>2514.000000</td>\n",
       "    </tr>\n",
       "    <tr>\n",
       "      <th>25%</th>\n",
       "      <td>60985.500000</td>\n",
       "    </tr>\n",
       "    <tr>\n",
       "      <th>50%</th>\n",
       "      <td>92190.500000</td>\n",
       "    </tr>\n",
       "    <tr>\n",
       "      <th>75%</th>\n",
       "      <td>115711.000000</td>\n",
       "    </tr>\n",
       "    <tr>\n",
       "      <th>max</th>\n",
       "      <td>140870.000000</td>\n",
       "    </tr>\n",
       "  </tbody>\n",
       "</table>\n",
       "</div>"
      ],
      "text/plain": [
       "         Num of Rent\n",
       "count     150.000000\n",
       "mean    85817.126667\n",
       "std     35243.755425\n",
       "min      2514.000000\n",
       "25%     60985.500000\n",
       "50%     92190.500000\n",
       "75%    115711.000000\n",
       "max    140870.000000"
      ]
     },
     "execution_count": 48,
     "metadata": {},
     "output_type": "execute_result"
    }
   ],
   "source": [
    "cycle1.describe()"
   ]
  },
  {
   "cell_type": "markdown",
   "metadata": {},
   "source": [
    "#### 코드 12.35"
   ]
  },
  {
   "cell_type": "code",
   "execution_count": 49,
   "metadata": {},
   "outputs": [
    {
     "name": "stdout",
     "output_type": "stream",
     "text": [
      "데이터의 개수 : 150\n",
      "평균 : 85817.12666666666\n",
      "분산 : 1233841481.1239548\n",
      "표준 편차 : 35126.07978587925\n",
      "최대값 : 140870\n",
      "최소값 : 2514\n",
      "중앙값 : 92190.5\n",
      "1사분위 수 : 60985.5\n",
      "2사분위 수 = 중앙값 : 92190.5\n",
      "3사분위 수 : 115711.0\n",
      "42백분위수 (42%) : 78878.02\n"
     ]
    }
   ],
   "source": [
    "data = cycle1.to_numpy()\n",
    "np_cycle1 = data[:,1]  # 대여수 열 선택\n",
    "\n",
    "print( f'데이터의 개수 : {len(np_cycle1)}') \n",
    "print( f'평균 : {np.mean(np_cycle1)}')\n",
    "print( f'분산 : {np.var(np_cycle1)}') \n",
    "print( f'표준 편차 : {np.std(np_cycle1)}') \n",
    "print( f'최대값 : {np.max(np_cycle1)}')\n",
    "print( f'최소값 : {np.min(np_cycle1)}')\n",
    "print( f'중앙값 : {np.median(np_cycle1) }')\n",
    "print( f'1사분위 수 : {np.percentile(np_cycle1, 25)}')\n",
    "print( f'2사분위 수 = 중앙값 : {np.percentile(np_cycle1, 50)}') \n",
    "print( f'3사분위 수 : {np.percentile(np_cycle1, 75)}')\n",
    "print( f'42백분위수 (42%) : {np.percentile(np_cycle1, 42)}')"
   ]
  },
  {
   "cell_type": "markdown",
   "metadata": {},
   "source": [
    "#### 코드 12.36"
   ]
  },
  {
   "cell_type": "code",
   "execution_count": 50,
   "metadata": {
    "colab": {
     "base_uri": "https://localhost:8080/",
     "height": 424
    },
    "executionInfo": {
     "elapsed": 7,
     "status": "ok",
     "timestamp": 1638622182931,
     "user": {
      "displayName": "심규현",
      "photoUrl": "https://lh3.googleusercontent.com/a-/AOh14GhUsWhBvCuWBX8eybQOLddreDC1UApHKcmBFbvDAA=s64",
      "userId": "00091973774470887912"
     },
     "user_tz": -540
    },
    "id": "gd4zUUBJF_dv",
    "outputId": "92b53404-4130-4038-e837-ce1081059e3d"
   },
   "outputs": [
    {
     "data": {
      "text/html": [
       "<div>\n",
       "<style scoped>\n",
       "    .dataframe tbody tr th:only-of-type {\n",
       "        vertical-align: middle;\n",
       "    }\n",
       "\n",
       "    .dataframe tbody tr th {\n",
       "        vertical-align: top;\n",
       "    }\n",
       "\n",
       "    .dataframe thead th {\n",
       "        text-align: right;\n",
       "    }\n",
       "</style>\n",
       "<table border=\"1\" class=\"dataframe\">\n",
       "  <thead>\n",
       "    <tr style=\"text-align: right;\">\n",
       "      <th></th>\n",
       "      <th>가입일자</th>\n",
       "      <th>사용자코드</th>\n",
       "      <th>연령대코드</th>\n",
       "      <th>성별</th>\n",
       "      <th>가입 수</th>\n",
       "      <th>Unnamed: 5</th>\n",
       "      <th>Unnamed: 6</th>\n",
       "    </tr>\n",
       "  </thead>\n",
       "  <tbody>\n",
       "    <tr>\n",
       "      <th>0</th>\n",
       "      <td>2021-02-01</td>\n",
       "      <td>USR_001</td>\n",
       "      <td>AGE_001</td>\n",
       "      <td>F</td>\n",
       "      <td>73</td>\n",
       "      <td>360903.0</td>\n",
       "      <td>44796.0</td>\n",
       "    </tr>\n",
       "    <tr>\n",
       "      <th>1</th>\n",
       "      <td>2021-02-01</td>\n",
       "      <td>USR_001</td>\n",
       "      <td>AGE_001</td>\n",
       "      <td>M</td>\n",
       "      <td>61</td>\n",
       "      <td>NaN</td>\n",
       "      <td>NaN</td>\n",
       "    </tr>\n",
       "    <tr>\n",
       "      <th>2</th>\n",
       "      <td>2021-02-01</td>\n",
       "      <td>USR_001</td>\n",
       "      <td>AGE_002</td>\n",
       "      <td>F</td>\n",
       "      <td>150</td>\n",
       "      <td>NaN</td>\n",
       "      <td>NaN</td>\n",
       "    </tr>\n",
       "    <tr>\n",
       "      <th>3</th>\n",
       "      <td>2021-02-01</td>\n",
       "      <td>USR_001</td>\n",
       "      <td>AGE_002</td>\n",
       "      <td>M</td>\n",
       "      <td>149</td>\n",
       "      <td>NaN</td>\n",
       "      <td>NaN</td>\n",
       "    </tr>\n",
       "    <tr>\n",
       "      <th>4</th>\n",
       "      <td>2021-02-01</td>\n",
       "      <td>USR_001</td>\n",
       "      <td>AGE_003</td>\n",
       "      <td>F</td>\n",
       "      <td>62</td>\n",
       "      <td>NaN</td>\n",
       "      <td>NaN</td>\n",
       "    </tr>\n",
       "    <tr>\n",
       "      <th>...</th>\n",
       "      <td>...</td>\n",
       "      <td>...</td>\n",
       "      <td>...</td>\n",
       "      <td>...</td>\n",
       "      <td>...</td>\n",
       "      <td>...</td>\n",
       "      <td>...</td>\n",
       "    </tr>\n",
       "    <tr>\n",
       "      <th>2226</th>\n",
       "      <td>2021-06-30</td>\n",
       "      <td>USR_001</td>\n",
       "      <td>AGE_005</td>\n",
       "      <td>M</td>\n",
       "      <td>7</td>\n",
       "      <td>NaN</td>\n",
       "      <td>NaN</td>\n",
       "    </tr>\n",
       "    <tr>\n",
       "      <th>2227</th>\n",
       "      <td>2021-06-30</td>\n",
       "      <td>USR_001</td>\n",
       "      <td>AGE_006</td>\n",
       "      <td>F</td>\n",
       "      <td>2</td>\n",
       "      <td>NaN</td>\n",
       "      <td>NaN</td>\n",
       "    </tr>\n",
       "    <tr>\n",
       "      <th>2228</th>\n",
       "      <td>2021-06-30</td>\n",
       "      <td>USR_001</td>\n",
       "      <td>AGE_006</td>\n",
       "      <td>M</td>\n",
       "      <td>4</td>\n",
       "      <td>NaN</td>\n",
       "      <td>NaN</td>\n",
       "    </tr>\n",
       "    <tr>\n",
       "      <th>2229</th>\n",
       "      <td>2021-06-30</td>\n",
       "      <td>USR_001</td>\n",
       "      <td>AGE_008</td>\n",
       "      <td>F</td>\n",
       "      <td>730</td>\n",
       "      <td>NaN</td>\n",
       "      <td>NaN</td>\n",
       "    </tr>\n",
       "    <tr>\n",
       "      <th>2230</th>\n",
       "      <td>2021-06-30</td>\n",
       "      <td>USR_001</td>\n",
       "      <td>AGE_008</td>\n",
       "      <td>M</td>\n",
       "      <td>902</td>\n",
       "      <td>NaN</td>\n",
       "      <td>NaN</td>\n",
       "    </tr>\n",
       "  </tbody>\n",
       "</table>\n",
       "<p>2231 rows × 7 columns</p>\n",
       "</div>"
      ],
      "text/plain": [
       "            가입일자    사용자코드    연령대코드 성별  가입 수  Unnamed: 5  Unnamed: 6\n",
       "0     2021-02-01  USR_001  AGE_001  F    73    360903.0     44796.0\n",
       "1     2021-02-01  USR_001  AGE_001  M    61         NaN         NaN\n",
       "2     2021-02-01  USR_001  AGE_002  F   150         NaN         NaN\n",
       "3     2021-02-01  USR_001  AGE_002  M   149         NaN         NaN\n",
       "4     2021-02-01  USR_001  AGE_003  F    62         NaN         NaN\n",
       "...          ...      ...      ... ..   ...         ...         ...\n",
       "2226  2021-06-30  USR_001  AGE_005  M     7         NaN         NaN\n",
       "2227  2021-06-30  USR_001  AGE_006  F     2         NaN         NaN\n",
       "2228  2021-06-30  USR_001  AGE_006  M     4         NaN         NaN\n",
       "2229  2021-06-30  USR_001  AGE_008  F   730         NaN         NaN\n",
       "2230  2021-06-30  USR_001  AGE_008  M   902         NaN         NaN\n",
       "\n",
       "[2231 rows x 7 columns]"
      ]
     },
     "execution_count": 50,
     "metadata": {},
     "output_type": "execute_result"
    }
   ],
   "source": [
    "cycle2 = pd.read_csv('bicycle_sign_up.csv', encoding='cp949')\n",
    "cycle2"
   ]
  },
  {
   "cell_type": "markdown",
   "metadata": {},
   "source": [
    "#### 코드 12.37"
   ]
  },
  {
   "cell_type": "code",
   "execution_count": 51,
   "metadata": {
    "colab": {
     "base_uri": "https://localhost:8080/",
     "height": 424
    },
    "executionInfo": {
     "elapsed": 6,
     "status": "ok",
     "timestamp": 1638622182931,
     "user": {
      "displayName": "심규현",
      "photoUrl": "https://lh3.googleusercontent.com/a-/AOh14GhUsWhBvCuWBX8eybQOLddreDC1UApHKcmBFbvDAA=s64",
      "userId": "00091973774470887912"
     },
     "user_tz": -540
    },
    "id": "-FvmMnDkG4T5",
    "outputId": "81110014-f171-4273-fef8-0e017b31a783"
   },
   "outputs": [
    {
     "data": {
      "text/html": [
       "<div>\n",
       "<style scoped>\n",
       "    .dataframe tbody tr th:only-of-type {\n",
       "        vertical-align: middle;\n",
       "    }\n",
       "\n",
       "    .dataframe tbody tr th {\n",
       "        vertical-align: top;\n",
       "    }\n",
       "\n",
       "    .dataframe thead th {\n",
       "        text-align: right;\n",
       "    }\n",
       "</style>\n",
       "<table border=\"1\" class=\"dataframe\">\n",
       "  <thead>\n",
       "    <tr style=\"text-align: right;\">\n",
       "      <th></th>\n",
       "      <th>가입일자</th>\n",
       "      <th>가입 수</th>\n",
       "    </tr>\n",
       "  </thead>\n",
       "  <tbody>\n",
       "    <tr>\n",
       "      <th>0</th>\n",
       "      <td>2021-02-01</td>\n",
       "      <td>732</td>\n",
       "    </tr>\n",
       "    <tr>\n",
       "      <th>1</th>\n",
       "      <td>2021-02-02</td>\n",
       "      <td>463</td>\n",
       "    </tr>\n",
       "    <tr>\n",
       "      <th>2</th>\n",
       "      <td>2021-02-03</td>\n",
       "      <td>407</td>\n",
       "    </tr>\n",
       "    <tr>\n",
       "      <th>3</th>\n",
       "      <td>2021-02-04</td>\n",
       "      <td>316</td>\n",
       "    </tr>\n",
       "    <tr>\n",
       "      <th>4</th>\n",
       "      <td>2021-02-05</td>\n",
       "      <td>576</td>\n",
       "    </tr>\n",
       "    <tr>\n",
       "      <th>...</th>\n",
       "      <td>...</td>\n",
       "      <td>...</td>\n",
       "    </tr>\n",
       "    <tr>\n",
       "      <th>145</th>\n",
       "      <td>2021-06-26</td>\n",
       "      <td>3526</td>\n",
       "    </tr>\n",
       "    <tr>\n",
       "      <th>146</th>\n",
       "      <td>2021-06-27</td>\n",
       "      <td>3371</td>\n",
       "    </tr>\n",
       "    <tr>\n",
       "      <th>147</th>\n",
       "      <td>2021-06-28</td>\n",
       "      <td>1804</td>\n",
       "    </tr>\n",
       "    <tr>\n",
       "      <th>148</th>\n",
       "      <td>2021-06-29</td>\n",
       "      <td>1687</td>\n",
       "    </tr>\n",
       "    <tr>\n",
       "      <th>149</th>\n",
       "      <td>2021-06-30</td>\n",
       "      <td>1784</td>\n",
       "    </tr>\n",
       "  </tbody>\n",
       "</table>\n",
       "<p>150 rows × 2 columns</p>\n",
       "</div>"
      ],
      "text/plain": [
       "           가입일자  가입 수\n",
       "0    2021-02-01   732\n",
       "1    2021-02-02   463\n",
       "2    2021-02-03   407\n",
       "3    2021-02-04   316\n",
       "4    2021-02-05   576\n",
       "..          ...   ...\n",
       "145  2021-06-26  3526\n",
       "146  2021-06-27  3371\n",
       "147  2021-06-28  1804\n",
       "148  2021-06-29  1687\n",
       "149  2021-06-30  1784\n",
       "\n",
       "[150 rows x 2 columns]"
      ]
     },
     "execution_count": 51,
     "metadata": {},
     "output_type": "execute_result"
    }
   ],
   "source": [
    "# 일별 가입한 숫자로 데이터 정리하기\n",
    "cycle2 = cycle2[['가입일자', '가입 수']]\n",
    "cycle2 = cycle2.groupby('가입일자')\n",
    "cycle2 = cycle2.sum()\n",
    "cycle2.reset_index(level=0, inplace=True)\n",
    "cycle2"
   ]
  },
  {
   "cell_type": "markdown",
   "metadata": {},
   "source": [
    "#### 코드 12.38"
   ]
  },
  {
   "cell_type": "code",
   "execution_count": 52,
   "metadata": {
    "colab": {
     "base_uri": "https://localhost:8080/",
     "height": 424
    },
    "executionInfo": {
     "elapsed": 286,
     "status": "ok",
     "timestamp": 1638622183212,
     "user": {
      "displayName": "심규현",
      "photoUrl": "https://lh3.googleusercontent.com/a-/AOh14GhUsWhBvCuWBX8eybQOLddreDC1UApHKcmBFbvDAA=s64",
      "userId": "00091973774470887912"
     },
     "user_tz": -540
    },
    "id": "h_NbQOgnJ4c0",
    "outputId": "3fb99647-a6ee-4cfa-e416-59620f573d27"
   },
   "outputs": [
    {
     "data": {
      "text/html": [
       "<div>\n",
       "<style scoped>\n",
       "    .dataframe tbody tr th:only-of-type {\n",
       "        vertical-align: middle;\n",
       "    }\n",
       "\n",
       "    .dataframe tbody tr th {\n",
       "        vertical-align: top;\n",
       "    }\n",
       "\n",
       "    .dataframe thead th {\n",
       "        text-align: right;\n",
       "    }\n",
       "</style>\n",
       "<table border=\"1\" class=\"dataframe\">\n",
       "  <thead>\n",
       "    <tr style=\"text-align: right;\">\n",
       "      <th></th>\n",
       "      <th>Date</th>\n",
       "      <th>Num of Rent</th>\n",
       "      <th>Date2</th>\n",
       "      <th>Num of Sign-Up</th>\n",
       "    </tr>\n",
       "  </thead>\n",
       "  <tbody>\n",
       "    <tr>\n",
       "      <th>0</th>\n",
       "      <td>2021-02-01</td>\n",
       "      <td>41152</td>\n",
       "      <td>2021-02-01</td>\n",
       "      <td>732</td>\n",
       "    </tr>\n",
       "    <tr>\n",
       "      <th>1</th>\n",
       "      <td>2021-02-02</td>\n",
       "      <td>31136</td>\n",
       "      <td>2021-02-02</td>\n",
       "      <td>463</td>\n",
       "    </tr>\n",
       "    <tr>\n",
       "      <th>2</th>\n",
       "      <td>2021-02-03</td>\n",
       "      <td>31016</td>\n",
       "      <td>2021-02-03</td>\n",
       "      <td>407</td>\n",
       "    </tr>\n",
       "    <tr>\n",
       "      <th>3</th>\n",
       "      <td>2021-02-04</td>\n",
       "      <td>20201</td>\n",
       "      <td>2021-02-04</td>\n",
       "      <td>316</td>\n",
       "    </tr>\n",
       "    <tr>\n",
       "      <th>4</th>\n",
       "      <td>2021-02-05</td>\n",
       "      <td>37675</td>\n",
       "      <td>2021-02-05</td>\n",
       "      <td>576</td>\n",
       "    </tr>\n",
       "    <tr>\n",
       "      <th>...</th>\n",
       "      <td>...</td>\n",
       "      <td>...</td>\n",
       "      <td>...</td>\n",
       "      <td>...</td>\n",
       "    </tr>\n",
       "    <tr>\n",
       "      <th>145</th>\n",
       "      <td>2021-06-26</td>\n",
       "      <td>105813</td>\n",
       "      <td>2021-06-26</td>\n",
       "      <td>3526</td>\n",
       "    </tr>\n",
       "    <tr>\n",
       "      <th>146</th>\n",
       "      <td>2021-06-27</td>\n",
       "      <td>92869</td>\n",
       "      <td>2021-06-27</td>\n",
       "      <td>3371</td>\n",
       "    </tr>\n",
       "    <tr>\n",
       "      <th>147</th>\n",
       "      <td>2021-06-28</td>\n",
       "      <td>106378</td>\n",
       "      <td>2021-06-28</td>\n",
       "      <td>1804</td>\n",
       "    </tr>\n",
       "    <tr>\n",
       "      <th>148</th>\n",
       "      <td>2021-06-29</td>\n",
       "      <td>111907</td>\n",
       "      <td>2021-06-29</td>\n",
       "      <td>1687</td>\n",
       "    </tr>\n",
       "    <tr>\n",
       "      <th>149</th>\n",
       "      <td>2021-06-30</td>\n",
       "      <td>122200</td>\n",
       "      <td>2021-06-30</td>\n",
       "      <td>1784</td>\n",
       "    </tr>\n",
       "  </tbody>\n",
       "</table>\n",
       "<p>150 rows × 4 columns</p>\n",
       "</div>"
      ],
      "text/plain": [
       "           Date  Num of Rent       Date2  Num of Sign-Up\n",
       "0    2021-02-01        41152  2021-02-01             732\n",
       "1    2021-02-02        31136  2021-02-02             463\n",
       "2    2021-02-03        31016  2021-02-03             407\n",
       "3    2021-02-04        20201  2021-02-04             316\n",
       "4    2021-02-05        37675  2021-02-05             576\n",
       "..          ...          ...         ...             ...\n",
       "145  2021-06-26       105813  2021-06-26            3526\n",
       "146  2021-06-27        92869  2021-06-27            3371\n",
       "147  2021-06-28       106378  2021-06-28            1804\n",
       "148  2021-06-29       111907  2021-06-29            1687\n",
       "149  2021-06-30       122200  2021-06-30            1784\n",
       "\n",
       "[150 rows x 4 columns]"
      ]
     },
     "execution_count": 52,
     "metadata": {},
     "output_type": "execute_result"
    }
   ],
   "source": [
    "cycle2.rename(columns={\"가입일자\":\"Date2\", \n",
    "                       \"가입 수\":\"Num of Sign-Up\"},\n",
    "              inplace = True)\n",
    "\n",
    "# 두 데이터를 합쳐주기\n",
    "cycle = pd.concat([cycle1, cycle2], axis = 1)\n",
    "cycle"
   ]
  },
  {
   "cell_type": "markdown",
   "metadata": {},
   "source": [
    "#### 코드 12.39"
   ]
  },
  {
   "cell_type": "code",
   "execution_count": 53,
   "metadata": {
    "colab": {
     "base_uri": "https://localhost:8080/",
     "height": 424
    },
    "executionInfo": {
     "elapsed": 7,
     "status": "ok",
     "timestamp": 1638622183212,
     "user": {
      "displayName": "심규현",
      "photoUrl": "https://lh3.googleusercontent.com/a-/AOh14GhUsWhBvCuWBX8eybQOLddreDC1UApHKcmBFbvDAA=s64",
      "userId": "00091973774470887912"
     },
     "user_tz": -540
    },
    "id": "WXY77T_3KXvl",
    "outputId": "dfbd1e23-e82b-45ee-dfd8-145c3b9e894e"
   },
   "outputs": [
    {
     "data": {
      "text/html": [
       "<div>\n",
       "<style scoped>\n",
       "    .dataframe tbody tr th:only-of-type {\n",
       "        vertical-align: middle;\n",
       "    }\n",
       "\n",
       "    .dataframe tbody tr th {\n",
       "        vertical-align: top;\n",
       "    }\n",
       "\n",
       "    .dataframe thead th {\n",
       "        text-align: right;\n",
       "    }\n",
       "</style>\n",
       "<table border=\"1\" class=\"dataframe\">\n",
       "  <thead>\n",
       "    <tr style=\"text-align: right;\">\n",
       "      <th></th>\n",
       "      <th>Date</th>\n",
       "      <th>Num of Rent</th>\n",
       "      <th>Num of Sign-Up</th>\n",
       "    </tr>\n",
       "  </thead>\n",
       "  <tbody>\n",
       "    <tr>\n",
       "      <th>0</th>\n",
       "      <td>2021-02-01</td>\n",
       "      <td>41152</td>\n",
       "      <td>732</td>\n",
       "    </tr>\n",
       "    <tr>\n",
       "      <th>1</th>\n",
       "      <td>2021-02-02</td>\n",
       "      <td>31136</td>\n",
       "      <td>463</td>\n",
       "    </tr>\n",
       "    <tr>\n",
       "      <th>2</th>\n",
       "      <td>2021-02-03</td>\n",
       "      <td>31016</td>\n",
       "      <td>407</td>\n",
       "    </tr>\n",
       "    <tr>\n",
       "      <th>3</th>\n",
       "      <td>2021-02-04</td>\n",
       "      <td>20201</td>\n",
       "      <td>316</td>\n",
       "    </tr>\n",
       "    <tr>\n",
       "      <th>4</th>\n",
       "      <td>2021-02-05</td>\n",
       "      <td>37675</td>\n",
       "      <td>576</td>\n",
       "    </tr>\n",
       "    <tr>\n",
       "      <th>...</th>\n",
       "      <td>...</td>\n",
       "      <td>...</td>\n",
       "      <td>...</td>\n",
       "    </tr>\n",
       "    <tr>\n",
       "      <th>145</th>\n",
       "      <td>2021-06-26</td>\n",
       "      <td>105813</td>\n",
       "      <td>3526</td>\n",
       "    </tr>\n",
       "    <tr>\n",
       "      <th>146</th>\n",
       "      <td>2021-06-27</td>\n",
       "      <td>92869</td>\n",
       "      <td>3371</td>\n",
       "    </tr>\n",
       "    <tr>\n",
       "      <th>147</th>\n",
       "      <td>2021-06-28</td>\n",
       "      <td>106378</td>\n",
       "      <td>1804</td>\n",
       "    </tr>\n",
       "    <tr>\n",
       "      <th>148</th>\n",
       "      <td>2021-06-29</td>\n",
       "      <td>111907</td>\n",
       "      <td>1687</td>\n",
       "    </tr>\n",
       "    <tr>\n",
       "      <th>149</th>\n",
       "      <td>2021-06-30</td>\n",
       "      <td>122200</td>\n",
       "      <td>1784</td>\n",
       "    </tr>\n",
       "  </tbody>\n",
       "</table>\n",
       "<p>150 rows × 3 columns</p>\n",
       "</div>"
      ],
      "text/plain": [
       "           Date  Num of Rent  Num of Sign-Up\n",
       "0    2021-02-01        41152             732\n",
       "1    2021-02-02        31136             463\n",
       "2    2021-02-03        31016             407\n",
       "3    2021-02-04        20201             316\n",
       "4    2021-02-05        37675             576\n",
       "..          ...          ...             ...\n",
       "145  2021-06-26       105813            3526\n",
       "146  2021-06-27        92869            3371\n",
       "147  2021-06-28       106378            1804\n",
       "148  2021-06-29       111907            1687\n",
       "149  2021-06-30       122200            1784\n",
       "\n",
       "[150 rows x 3 columns]"
      ]
     },
     "execution_count": 53,
     "metadata": {},
     "output_type": "execute_result"
    }
   ],
   "source": [
    "# 중복되는 날짜 데이터를 하나만 남기기\n",
    "cycle = cycle[['Date', 'Num of Rent', 'Num of Sign-Up']]\n",
    "cycle"
   ]
  },
  {
   "cell_type": "markdown",
   "metadata": {
    "id": "Ph4vp17Bc20D"
   },
   "source": [
    "#### 코드 12.40"
   ]
  },
  {
   "cell_type": "code",
   "execution_count": 54,
   "metadata": {
    "colab": {
     "base_uri": "https://localhost:8080/"
    },
    "executionInfo": {
     "elapsed": 276,
     "status": "ok",
     "timestamp": 1638622196161,
     "user": {
      "displayName": "심규현",
      "photoUrl": "https://lh3.googleusercontent.com/a-/AOh14GhUsWhBvCuWBX8eybQOLddreDC1UApHKcmBFbvDAA=s64",
      "userId": "00091973774470887912"
     },
     "user_tz": -540
    },
    "id": "j34VgmS_dyp5",
    "outputId": "1b363aa0-4e16-4d44-f23b-c5425105e98f"
   },
   "outputs": [
    {
     "name": "stdout",
     "output_type": "stream",
     "text": [
      "[ 41152  31136  31016  20201  37675  41507  35676  34253  41159  46659\n",
      "  37794  38251  51329  44734  32504  23008  23281  30267  45223  60703\n",
      "  71467  54943  45246  54470  53694  67686  76214  63298   2966  51013\n",
      "  62386  66283  76821  61833  72037  71470  72364  77153  74080  67097\n",
      "  79057  72694  73254  71318  82757  85416  98932  25486  55103  75928\n",
      "  85788  91845  94209  97153  20331  32571  74935  98689 113259 116640\n",
      " 110607  14026  94160 110533 114292 114207 105191 113974 110980 113592\n",
      "  28992  84172  98226 108960  82177  71082 100004 108598 113785 119380\n",
      " 116722 116476 118773 127151 122090 103959 115380 105944  83165  41123\n",
      " 115492 122393  24069 125213 121660  88097  73912 114851  93814 130314\n",
      " 130245 128298 128239  36082   2514  60065 127759 133864  67451  78809\n",
      " 128763 115588 122961  93453 120987  74271  78928  63064  92536 115335\n",
      " 110305 130227  41123 131838 127568 116208 121944 129558 126823  82549\n",
      " 120869 116059 103603 128217  97851 139346 115752  78992 122359 114793\n",
      " 138150 124808 126714 134714 140870 105813  92869 106378 111907 122200]\n",
      "[ 732  463  407  316  576 1393 1339  549  731  870 1723 2709 3366 2270\n",
      "  674  362  302  450  996 3142 4763 1599  964 1382 1242 2420 4847 4209\n",
      "  450 1231 1482 1499 2465 2905 4293 2020 1749 2003 1829 1644 4396 4697\n",
      " 1923 1620 2120 2387 3474 1235 2855 1757 2114 2301 2499 2976  849 1405\n",
      " 1537 2369 3522 3798 3749  740 5330 3149 2866 3141 2800 3625 6465 6721\n",
      "  852 1532 1825 2271 1642 2484 4790 2334 2355 2595 2472 2755 5489 6742\n",
      " 2829 2099 2402 2269 1786 1631 5802 2807  843 6894 2775 1809 2420 5225\n",
      " 1512 2695 2685 2800 2733 1036  351  882 2455 5560 1149 1497 4942 4372\n",
      " 2273 1759 1940 1246 1502 1768 3559 1731 1828 1977  802 2309 4288 3859\n",
      " 2011 1907 1759 1173 1788 3256 3454 2402 1849 2596 1725 1502 3986 3757\n",
      " 2512 2013 2030 2342 2644 3526 3371 1804 1687 1784]\n"
     ]
    }
   ],
   "source": [
    "rent = np.array(cycle['Num of Rent'])\n",
    "signup = np.array(cycle['Num of Sign-Up'])\n",
    "\n",
    "print(rent)\n",
    "print(signup)"
   ]
  },
  {
   "cell_type": "markdown",
   "metadata": {},
   "source": [
    "#### 코드 12.41"
   ]
  },
  {
   "cell_type": "code",
   "execution_count": 55,
   "metadata": {
    "colab": {
     "base_uri": "https://localhost:8080/"
    },
    "executionInfo": {
     "elapsed": 289,
     "status": "ok",
     "timestamp": 1638622199427,
     "user": {
      "displayName": "심규현",
      "photoUrl": "https://lh3.googleusercontent.com/a-/AOh14GhUsWhBvCuWBX8eybQOLddreDC1UApHKcmBFbvDAA=s64",
      "userId": "00091973774470887912"
     },
     "user_tz": -540
    },
    "id": "R9kJDQOOeqh8",
    "outputId": "c30c3ec4-be47-4625-a94a-925ad3662f3c"
   },
   "outputs": [
    {
     "name": "stdout",
     "output_type": "stream",
     "text": [
      "상관계수 = 0.5678658046374168, p-value = 3.50412958282644e-14\n"
     ]
    }
   ],
   "source": [
    "# Pearson 상관계수 구하기\n",
    "from scipy.stats import pearsonr\n",
    "\n",
    "correlation_coefficient, p_value = pearsonr(rent, signup)\n",
    "print(f'상관계수 = {correlation_coefficient}, p-value = {p_value}')"
   ]
  },
  {
   "cell_type": "markdown",
   "metadata": {},
   "source": [
    "#### 코드 12.42"
   ]
  },
  {
   "cell_type": "code",
   "execution_count": 56,
   "metadata": {
    "colab": {
     "base_uri": "https://localhost:8080/"
    },
    "executionInfo": {
     "elapsed": 244,
     "status": "ok",
     "timestamp": 1638622200881,
     "user": {
      "displayName": "심규현",
      "photoUrl": "https://lh3.googleusercontent.com/a-/AOh14GhUsWhBvCuWBX8eybQOLddreDC1UApHKcmBFbvDAA=s64",
      "userId": "00091973774470887912"
     },
     "user_tz": -540
    },
    "id": "dP7n6lSBe9UE",
    "outputId": "aed84e6b-af84-493a-e528-63fee4868d68"
   },
   "outputs": [
    {
     "data": {
      "text/plain": [
       "SpearmanrResult(correlation=0.6285936265277305, pvalue=7.184123934145475e-18)"
      ]
     },
     "execution_count": 56,
     "metadata": {},
     "output_type": "execute_result"
    }
   ],
   "source": [
    "# Spearman 상관계수 구하기\n",
    "from scipy.stats import spearmanr\n",
    "\n",
    "spearmanr(rent, signup)"
   ]
  },
  {
   "cell_type": "markdown",
   "metadata": {},
   "source": [
    "#### 코드 12.43"
   ]
  },
  {
   "cell_type": "code",
   "execution_count": 57,
   "metadata": {
    "colab": {
     "base_uri": "https://localhost:8080/",
     "height": 424
    },
    "executionInfo": {
     "elapsed": 2,
     "status": "ok",
     "timestamp": 1638622202061,
     "user": {
      "displayName": "심규현",
      "photoUrl": "https://lh3.googleusercontent.com/a-/AOh14GhUsWhBvCuWBX8eybQOLddreDC1UApHKcmBFbvDAA=s64",
      "userId": "00091973774470887912"
     },
     "user_tz": -540
    },
    "id": "yIhETpViSVbU",
    "outputId": "42764b80-9f5d-4b59-ea53-128b9e844209"
   },
   "outputs": [
    {
     "data": {
      "text/html": [
       "<div>\n",
       "<style scoped>\n",
       "    .dataframe tbody tr th:only-of-type {\n",
       "        vertical-align: middle;\n",
       "    }\n",
       "\n",
       "    .dataframe tbody tr th {\n",
       "        vertical-align: top;\n",
       "    }\n",
       "\n",
       "    .dataframe thead th {\n",
       "        text-align: right;\n",
       "    }\n",
       "</style>\n",
       "<table border=\"1\" class=\"dataframe\">\n",
       "  <thead>\n",
       "    <tr style=\"text-align: right;\">\n",
       "      <th></th>\n",
       "      <th>Date</th>\n",
       "      <th>Num of Rent</th>\n",
       "      <th>Num of Sign-Up</th>\n",
       "      <th>rent_categorical</th>\n",
       "      <th>signup_categorical</th>\n",
       "    </tr>\n",
       "  </thead>\n",
       "  <tbody>\n",
       "    <tr>\n",
       "      <th>0</th>\n",
       "      <td>2021-02-01</td>\n",
       "      <td>41152</td>\n",
       "      <td>732</td>\n",
       "      <td>S</td>\n",
       "      <td>A</td>\n",
       "    </tr>\n",
       "    <tr>\n",
       "      <th>1</th>\n",
       "      <td>2021-02-02</td>\n",
       "      <td>31136</td>\n",
       "      <td>463</td>\n",
       "      <td>S</td>\n",
       "      <td>A</td>\n",
       "    </tr>\n",
       "    <tr>\n",
       "      <th>2</th>\n",
       "      <td>2021-02-03</td>\n",
       "      <td>31016</td>\n",
       "      <td>407</td>\n",
       "      <td>S</td>\n",
       "      <td>A</td>\n",
       "    </tr>\n",
       "    <tr>\n",
       "      <th>3</th>\n",
       "      <td>2021-02-04</td>\n",
       "      <td>20201</td>\n",
       "      <td>316</td>\n",
       "      <td>XS</td>\n",
       "      <td>A</td>\n",
       "    </tr>\n",
       "    <tr>\n",
       "      <th>4</th>\n",
       "      <td>2021-02-05</td>\n",
       "      <td>37675</td>\n",
       "      <td>576</td>\n",
       "      <td>S</td>\n",
       "      <td>A</td>\n",
       "    </tr>\n",
       "    <tr>\n",
       "      <th>...</th>\n",
       "      <td>...</td>\n",
       "      <td>...</td>\n",
       "      <td>...</td>\n",
       "      <td>...</td>\n",
       "      <td>...</td>\n",
       "    </tr>\n",
       "    <tr>\n",
       "      <th>145</th>\n",
       "      <td>2021-06-26</td>\n",
       "      <td>105813</td>\n",
       "      <td>3526</td>\n",
       "      <td>L</td>\n",
       "      <td>C</td>\n",
       "    </tr>\n",
       "    <tr>\n",
       "      <th>146</th>\n",
       "      <td>2021-06-27</td>\n",
       "      <td>92869</td>\n",
       "      <td>3371</td>\n",
       "      <td>L</td>\n",
       "      <td>C</td>\n",
       "    </tr>\n",
       "    <tr>\n",
       "      <th>147</th>\n",
       "      <td>2021-06-28</td>\n",
       "      <td>106378</td>\n",
       "      <td>1804</td>\n",
       "      <td>L</td>\n",
       "      <td>B</td>\n",
       "    </tr>\n",
       "    <tr>\n",
       "      <th>148</th>\n",
       "      <td>2021-06-29</td>\n",
       "      <td>111907</td>\n",
       "      <td>1687</td>\n",
       "      <td>L</td>\n",
       "      <td>B</td>\n",
       "    </tr>\n",
       "    <tr>\n",
       "      <th>149</th>\n",
       "      <td>2021-06-30</td>\n",
       "      <td>122200</td>\n",
       "      <td>1784</td>\n",
       "      <td>XL</td>\n",
       "      <td>B</td>\n",
       "    </tr>\n",
       "  </tbody>\n",
       "</table>\n",
       "<p>150 rows × 5 columns</p>\n",
       "</div>"
      ],
      "text/plain": [
       "           Date  Num of Rent  Num of Sign-Up rent_categorical  \\\n",
       "0    2021-02-01        41152             732                S   \n",
       "1    2021-02-02        31136             463                S   \n",
       "2    2021-02-03        31016             407                S   \n",
       "3    2021-02-04        20201             316               XS   \n",
       "4    2021-02-05        37675             576                S   \n",
       "..          ...          ...             ...              ...   \n",
       "145  2021-06-26       105813            3526                L   \n",
       "146  2021-06-27        92869            3371                L   \n",
       "147  2021-06-28       106378            1804                L   \n",
       "148  2021-06-29       111907            1687                L   \n",
       "149  2021-06-30       122200            1784               XL   \n",
       "\n",
       "    signup_categorical  \n",
       "0                    A  \n",
       "1                    A  \n",
       "2                    A  \n",
       "3                    A  \n",
       "4                    A  \n",
       "..                 ...  \n",
       "145                  C  \n",
       "146                  C  \n",
       "147                  B  \n",
       "148                  B  \n",
       "149                  B  \n",
       "\n",
       "[150 rows x 5 columns]"
      ]
     },
     "execution_count": 57,
     "metadata": {},
     "output_type": "execute_result"
    }
   ],
   "source": [
    "# 카이제곱 검정\n",
    "\n",
    "# 카이제곱 검정을 위해 연속형 변수를 범주형 변수로 바꿔주기\n",
    "# 참고용: 대여건수는 2514~140870의 값을, \n",
    "# 가입수는 302~6894의 값을 가짐\n",
    "cycle['rent_categorical'] = pd.cut(cycle['Num of Rent'], bins=5,\n",
    "                                   labels=['XS', 'S', 'M', 'L', 'XL'])\n",
    "cycle['signup_categorical'] = pd.cut(cycle['Num of Sign-Up'], bins = 5,\n",
    "                                     labels=['A', 'B', 'C', 'D', 'E'])\n",
    "cycle"
   ]
  },
  {
   "cell_type": "markdown",
   "metadata": {},
   "source": [
    "#### 코드 12.44"
   ]
  },
  {
   "cell_type": "code",
   "execution_count": 58,
   "metadata": {
    "colab": {
     "base_uri": "https://localhost:8080/"
    },
    "executionInfo": {
     "elapsed": 278,
     "status": "ok",
     "timestamp": 1638622204406,
     "user": {
      "displayName": "심규현",
      "photoUrl": "https://lh3.googleusercontent.com/a-/AOh14GhUsWhBvCuWBX8eybQOLddreDC1UApHKcmBFbvDAA=s64",
      "userId": "00091973774470887912"
     },
     "user_tz": -540
    },
    "id": "n-u1FoZQTKHA",
    "outputId": "9fcd7cc1-6789-474e-a4c7-9b8bef221eeb"
   },
   "outputs": [
    {
     "data": {
      "text/plain": [
       "XL    50\n",
       "M     36\n",
       "L     28\n",
       "S     26\n",
       "XS    10\n",
       "Name: rent_categorical, dtype: int64"
      ]
     },
     "execution_count": 58,
     "metadata": {},
     "output_type": "execute_result"
    }
   ],
   "source": [
    "# 각 카테고리의 개수 확인\n",
    "cycle.rent_categorical.value_counts()"
   ]
  },
  {
   "cell_type": "code",
   "execution_count": 59,
   "metadata": {
    "colab": {
     "base_uri": "https://localhost:8080/"
    },
    "executionInfo": {
     "elapsed": 252,
     "status": "ok",
     "timestamp": 1638622206256,
     "user": {
      "displayName": "심규현",
      "photoUrl": "https://lh3.googleusercontent.com/a-/AOh14GhUsWhBvCuWBX8eybQOLddreDC1UApHKcmBFbvDAA=s64",
      "userId": "00091973774470887912"
     },
     "user_tz": -540
    },
    "id": "gxG48siZTOIV",
    "outputId": "82d7c47b-3ccb-4f2a-ae90-27bd4f98a6d8"
   },
   "outputs": [
    {
     "data": {
      "text/plain": [
       "B    70\n",
       "A    43\n",
       "C    19\n",
       "D    13\n",
       "E     5\n",
       "Name: signup_categorical, dtype: int64"
      ]
     },
     "execution_count": 59,
     "metadata": {},
     "output_type": "execute_result"
    }
   ],
   "source": [
    "cycle.signup_categorical.value_counts()"
   ]
  },
  {
   "cell_type": "markdown",
   "metadata": {},
   "source": [
    "#### 코드 12.45"
   ]
  },
  {
   "cell_type": "code",
   "execution_count": 60,
   "metadata": {
    "colab": {
     "base_uri": "https://localhost:8080/",
     "height": 206
    },
    "executionInfo": {
     "elapsed": 263,
     "status": "ok",
     "timestamp": 1638622207847,
     "user": {
      "displayName": "심규현",
      "photoUrl": "https://lh3.googleusercontent.com/a-/AOh14GhUsWhBvCuWBX8eybQOLddreDC1UApHKcmBFbvDAA=s64",
      "userId": "00091973774470887912"
     },
     "user_tz": -540
    },
    "id": "R3VWuh3nWeDM",
    "outputId": "b7ce8454-1266-47e1-d66c-8e14cf5496a4"
   },
   "outputs": [
    {
     "data": {
      "text/html": [
       "<div>\n",
       "<style scoped>\n",
       "    .dataframe tbody tr th:only-of-type {\n",
       "        vertical-align: middle;\n",
       "    }\n",
       "\n",
       "    .dataframe tbody tr th {\n",
       "        vertical-align: top;\n",
       "    }\n",
       "\n",
       "    .dataframe thead th {\n",
       "        text-align: right;\n",
       "    }\n",
       "</style>\n",
       "<table border=\"1\" class=\"dataframe\">\n",
       "  <thead>\n",
       "    <tr style=\"text-align: right;\">\n",
       "      <th></th>\n",
       "      <th>XS</th>\n",
       "      <th>S</th>\n",
       "      <th>M</th>\n",
       "      <th>L</th>\n",
       "      <th>XL</th>\n",
       "    </tr>\n",
       "  </thead>\n",
       "  <tbody>\n",
       "    <tr>\n",
       "      <th>A</th>\n",
       "      <td>0</td>\n",
       "      <td>0</td>\n",
       "      <td>0</td>\n",
       "      <td>0</td>\n",
       "      <td>0</td>\n",
       "    </tr>\n",
       "    <tr>\n",
       "      <th>B</th>\n",
       "      <td>0</td>\n",
       "      <td>0</td>\n",
       "      <td>0</td>\n",
       "      <td>0</td>\n",
       "      <td>0</td>\n",
       "    </tr>\n",
       "    <tr>\n",
       "      <th>C</th>\n",
       "      <td>0</td>\n",
       "      <td>0</td>\n",
       "      <td>0</td>\n",
       "      <td>0</td>\n",
       "      <td>0</td>\n",
       "    </tr>\n",
       "    <tr>\n",
       "      <th>D</th>\n",
       "      <td>0</td>\n",
       "      <td>0</td>\n",
       "      <td>0</td>\n",
       "      <td>0</td>\n",
       "      <td>0</td>\n",
       "    </tr>\n",
       "    <tr>\n",
       "      <th>E</th>\n",
       "      <td>0</td>\n",
       "      <td>0</td>\n",
       "      <td>0</td>\n",
       "      <td>0</td>\n",
       "      <td>0</td>\n",
       "    </tr>\n",
       "  </tbody>\n",
       "</table>\n",
       "</div>"
      ],
      "text/plain": [
       "   XS  S  M  L  XL\n",
       "A   0  0  0  0   0\n",
       "B   0  0  0  0   0\n",
       "C   0  0  0  0   0\n",
       "D   0  0  0  0   0\n",
       "E   0  0  0  0   0"
      ]
     },
     "execution_count": 60,
     "metadata": {},
     "output_type": "execute_result"
    }
   ],
   "source": [
    "# 빈 DataFrame 생성\n",
    "df = pd.DataFrame([[0, 0, 0, 0, 0],\n",
    "                   [0, 0, 0, 0, 0],\n",
    "                   [0, 0, 0, 0, 0],\n",
    "                   [0, 0, 0, 0, 0],\n",
    "                   [0, 0, 0, 0, 0]],\n",
    "                  index = ['A', 'B', 'C', 'D', 'E'],\n",
    "                  columns = ['XS', 'S', 'M', 'L', 'XL'])\n",
    "df"
   ]
  },
  {
   "cell_type": "markdown",
   "metadata": {},
   "source": [
    "#### 코드 12.46"
   ]
  },
  {
   "cell_type": "code",
   "execution_count": 61,
   "metadata": {
    "colab": {
     "base_uri": "https://localhost:8080/",
     "height": 206
    },
    "executionInfo": {
     "elapsed": 271,
     "status": "ok",
     "timestamp": 1638622209704,
     "user": {
      "displayName": "심규현",
      "photoUrl": "https://lh3.googleusercontent.com/a-/AOh14GhUsWhBvCuWBX8eybQOLddreDC1UApHKcmBFbvDAA=s64",
      "userId": "00091973774470887912"
     },
     "user_tz": -540
    },
    "id": "__k_ySe8Xpb-",
    "outputId": "3d9d1c29-af6b-4651-939b-140488995f87"
   },
   "outputs": [
    {
     "data": {
      "text/html": [
       "<div>\n",
       "<style scoped>\n",
       "    .dataframe tbody tr th:only-of-type {\n",
       "        vertical-align: middle;\n",
       "    }\n",
       "\n",
       "    .dataframe tbody tr th {\n",
       "        vertical-align: top;\n",
       "    }\n",
       "\n",
       "    .dataframe thead th {\n",
       "        text-align: right;\n",
       "    }\n",
       "</style>\n",
       "<table border=\"1\" class=\"dataframe\">\n",
       "  <thead>\n",
       "    <tr style=\"text-align: right;\">\n",
       "      <th></th>\n",
       "      <th>XS</th>\n",
       "      <th>S</th>\n",
       "      <th>M</th>\n",
       "      <th>L</th>\n",
       "      <th>XL</th>\n",
       "    </tr>\n",
       "  </thead>\n",
       "  <tbody>\n",
       "    <tr>\n",
       "      <th>A</th>\n",
       "      <td>10</td>\n",
       "      <td>20</td>\n",
       "      <td>12</td>\n",
       "      <td>1</td>\n",
       "      <td>0</td>\n",
       "    </tr>\n",
       "    <tr>\n",
       "      <th>B</th>\n",
       "      <td>0</td>\n",
       "      <td>5</td>\n",
       "      <td>17</td>\n",
       "      <td>16</td>\n",
       "      <td>32</td>\n",
       "    </tr>\n",
       "    <tr>\n",
       "      <th>C</th>\n",
       "      <td>0</td>\n",
       "      <td>1</td>\n",
       "      <td>2</td>\n",
       "      <td>8</td>\n",
       "      <td>8</td>\n",
       "    </tr>\n",
       "    <tr>\n",
       "      <th>D</th>\n",
       "      <td>0</td>\n",
       "      <td>0</td>\n",
       "      <td>5</td>\n",
       "      <td>2</td>\n",
       "      <td>6</td>\n",
       "    </tr>\n",
       "    <tr>\n",
       "      <th>E</th>\n",
       "      <td>0</td>\n",
       "      <td>0</td>\n",
       "      <td>0</td>\n",
       "      <td>1</td>\n",
       "      <td>4</td>\n",
       "    </tr>\n",
       "  </tbody>\n",
       "</table>\n",
       "</div>"
      ],
      "text/plain": [
       "   XS   S   M   L  XL\n",
       "A  10  20  12   1   0\n",
       "B   0   5  17  16  32\n",
       "C   0   1   2   8   8\n",
       "D   0   0   5   2   6\n",
       "E   0   0   0   1   4"
      ]
     },
     "execution_count": 61,
     "metadata": {},
     "output_type": "execute_result"
    }
   ],
   "source": [
    "# 각 범주에 속하는 값 (개수) 채워넣기\n",
    "for i in ['XS', 'S', 'M', 'L', 'XL']:\n",
    "    for j in ['A', 'B', 'C', 'D', 'E']:\n",
    "        df.loc[j, i] = cycle[(cycle.rent_categorical == i)\n",
    "                             &(cycle.signup_categorical == j)].shape[0]\n",
    "\n",
    "#결과 확인\n",
    "df"
   ]
  },
  {
   "cell_type": "markdown",
   "metadata": {},
   "source": [
    "#### 코드 12.47"
   ]
  },
  {
   "cell_type": "code",
   "execution_count": 62,
   "metadata": {
    "colab": {
     "base_uri": "https://localhost:8080/"
    },
    "executionInfo": {
     "elapsed": 304,
     "status": "ok",
     "timestamp": 1638622211731,
     "user": {
      "displayName": "심규현",
      "photoUrl": "https://lh3.googleusercontent.com/a-/AOh14GhUsWhBvCuWBX8eybQOLddreDC1UApHKcmBFbvDAA=s64",
      "userId": "00091973774470887912"
     },
     "user_tz": -540
    },
    "id": "RIfX-h3CY0jm",
    "outputId": "c64b08df-cb65-4cd8-be94-76cf9c9083c1"
   },
   "outputs": [
    {
     "name": "stdout",
     "output_type": "stream",
     "text": [
      "static : 93.34093421004594, p-value : 6.037953565598833e-13\n",
      "신뢰수준 99%에서 유의미한 관계이므로 대여건수와 가입 수는 관계가 있다.\n"
     ]
    }
   ],
   "source": [
    "# 카이제곱 검정으로 가설 검증하기\n",
    "# 귀무가설: 대여건수와 가입 수는 관계가 없다. (독립적이다)\n",
    "# 대립가설: 대여건수와 가입 수는 관계가 있다. (독립적이지 않다)\n",
    "\n",
    "from scipy.stats import chi2_contingency\n",
    "\n",
    "stat,p,_,_ = chi2_contingency(df)\n",
    "print(\"static : {}, p-value : {}\".format(stat,p))\n",
    "\n",
    "# 신뢰수준 99%로 잡으면\n",
    "if p < 0.01:\n",
    "    print(\"신뢰수준 99%에서 유의미한 관계이므로 대여건수와 가입 수는 관계가 있다.\")\n",
    "else:\n",
    "    print(\"신뢰수준 99%에서 무의미한 관계이므로 대여건수와 가입 수는 관계가 없다.\")"
   ]
  }
 ],
 "metadata": {
  "kernelspec": {
   "display_name": "Python 3",
   "language": "python",
   "name": "python3"
  },
  "language_info": {
   "codemirror_mode": {
    "name": "ipython",
    "version": 3
   },
   "file_extension": ".py",
   "mimetype": "text/x-python",
   "name": "python",
   "nbconvert_exporter": "python",
   "pygments_lexer": "ipython3",
   "version": "3.7.6"
  }
 },
 "nbformat": 4,
 "nbformat_minor": 4
}
