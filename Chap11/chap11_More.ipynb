{
 "cells": [
  {
   "cell_type": "markdown",
   "metadata": {},
   "source": [
    "### 확률 분포 참고"
   ]
  },
  {
   "cell_type": "code",
   "execution_count": 1,
   "metadata": {},
   "outputs": [],
   "source": [
    "import numpy as np\n",
    "import scipy as sp\n",
    "import scipy.stats\n",
    "import matplotlib.pyplot as plt\n",
    "import seaborn as sns"
   ]
  },
  {
   "cell_type": "markdown",
   "metadata": {},
   "source": [
    "#### 균일분포의확률분포에서 두 개의 표본값을 생성하여 그 값의 합을 구한 결과\n",
    "#### 10000번의 시뮬레이션 반복"
   ]
  },
  {
   "cell_type": "code",
   "execution_count": 8,
   "metadata": {},
   "outputs": [
    {
     "name": "stderr",
     "output_type": "stream",
     "text": [
      "C:\\ProgramData\\Anaconda3\\lib\\site-packages\\ipykernel_launcher.py:14: UserWarning: \n",
      "\n",
      "`distplot` is a deprecated function and will be removed in seaborn v0.14.0.\n",
      "\n",
      "Please adapt your code to use either `displot` (a figure-level function with\n",
      "similar flexibility) or `histplot` (an axes-level function for histograms).\n",
      "\n",
      "For a guide to updating your code to use the new functions, please see\n",
      "https://gist.github.com/mwaskom/de44147ed2974457ad6372750bbe5751\n",
      "\n",
      "  \n",
      "C:\\ProgramData\\Anaconda3\\lib\\site-packages\\ipykernel_launcher.py:20: UserWarning: \n",
      "\n",
      "`distplot` is a deprecated function and will be removed in seaborn v0.14.0.\n",
      "\n",
      "Please adapt your code to use either `displot` (a figure-level function with\n",
      "similar flexibility) or `histplot` (an axes-level function for histograms).\n",
      "\n",
      "For a guide to updating your code to use the new functions, please see\n",
      "https://gist.github.com/mwaskom/de44147ed2974457ad6372750bbe5751\n",
      "\n",
      "C:\\ProgramData\\Anaconda3\\lib\\site-packages\\ipykernel_launcher.py:26: UserWarning: \n",
      "\n",
      "`distplot` is a deprecated function and will be removed in seaborn v0.14.0.\n",
      "\n",
      "Please adapt your code to use either `displot` (a figure-level function with\n",
      "similar flexibility) or `histplot` (an axes-level function for histograms).\n",
      "\n",
      "For a guide to updating your code to use the new functions, please see\n",
      "https://gist.github.com/mwaskom/de44147ed2974457ad6372750bbe5751\n",
      "\n"
     ]
    },
    {
     "data": {
      "image/png": "[encoded data removed]",
      "text/plain": [
       "<Figure size 864x360 with 3 Axes>"
      ]
     },
     "metadata": {
      "needs_background": "light"
     },
     "output_type": "display_data"
    }
   ],
   "source": [
    "random_variable1 = sp.stats.uniform()\n",
    "random_variable2 = sp.stats.uniform()\n",
    "\n",
    "np.random.seed(0)\n",
    "CNT = 10000\n",
    "sampling_1 = random_variable1.rvs(CNT)\n",
    "sampling_2 = random_variable2.rvs(CNT)\n",
    "sum_of_sampling = sampling_1 + sampling_2\n",
    "\n",
    "plt.figure(figsize=(12, 5))\n",
    "sns.set(style=\"ticks\")\n",
    "\n",
    "plt.subplot(131)\n",
    "sns.distplot(sampling_1, kde=False)\n",
    "plt.title(\"Uniform Distribution\")\n",
    "plt.xlabel(\"Sample Value\")\n",
    "plt.xlim(-0.2, 1.2)\n",
    "\n",
    "plt.subplot(132)\n",
    "sns.distplot(sampling_2, kde=False)\n",
    "plt.title(\"Uniform Distribution\")\n",
    "plt.xlabel(\"Sample Value\")\n",
    "plt.xlim(-0.2, 1.2)\n",
    "\n",
    "plt.subplot(133)\n",
    "sns.distplot(sum_of_sampling, kde=False)\n",
    "plt.title(\"Distribution of Sum of Uniform Distribution\")\n",
    "plt.xlabel(\"Sample Value\")\n",
    "plt.xlim(-0.2, 2.2)\n",
    "\n",
    "plt.show()"
   ]
  }
 ],
 "metadata": {
  "kernelspec": {
   "display_name": "Python 3",
   "language": "python",
   "name": "python3"
  },
  "language_info": {
   "codemirror_mode": {
    "name": "ipython",
    "version": 3
   },
   "file_extension": ".py",
   "mimetype": "text/x-python",
   "name": "python",
   "nbconvert_exporter": "python",
   "pygments_lexer": "ipython3",
   "version": "3.7.6"
  }
 },
 "nbformat": 4,
 "nbformat_minor": 4
}
