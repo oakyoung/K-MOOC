{
 "cells": [
  {
   "cell_type": "markdown",
   "metadata": {},
   "source": [
    "### Chapter 7. 데이터 분석 방법론"
   ]
  },
  {
   "cell_type": "markdown",
   "metadata": {
    "id": "2507952a"
   },
   "source": [
    "#### 코드 7.1"
   ]
  },
  {
   "cell_type": "code",
   "execution_count": null,
   "metadata": {
    "executionInfo": {
     "elapsed": 669,
     "status": "ok",
     "timestamp": 1637872423884,
     "user": {
      "displayName": "심규현",
      "photoUrl": "https://lh3.googleusercontent.com/a-/AOh14GhUsWhBvCuWBX8eybQOLddreDC1UApHKcmBFbvDAA=s64",
      "userId": "00091973774470887912"
     },
     "user_tz": -540
    },
    "id": "9653b985"
   },
   "outputs": [],
   "source": [
    "from sklearn.linear_model import LinearRegression\n",
    "import matplotlib.pyplot as plt"
   ]
  },
  {
   "cell_type": "code",
   "execution_count": 2,
   "metadata": {
    "colab": {
     "base_uri": "https://localhost:8080/"
    },
    "executionInfo": {
     "elapsed": 6,
     "status": "ok",
     "timestamp": 1637872423884,
     "user": {
      "displayName": "심규현",
      "photoUrl": "https://lh3.googleusercontent.com/a-/AOh14GhUsWhBvCuWBX8eybQOLddreDC1UApHKcmBFbvDAA=s64",
      "userId": "00091973774470887912"
     },
     "user_tz": -540
    },
    "id": "zyumLoVivxqg",
    "outputId": "82607add-1ae5-4d43-9586-3b636e3ec4aa"
   },
   "outputs": [
    {
     "data": {
      "text/plain": [
       "LinearRegression()"
      ]
     },
     "execution_count": 2,
     "metadata": {},
     "output_type": "execute_result"
    }
   ],
   "source": [
    "#선형회귀 모델 생성\n",
    "model = LinearRegression()\n",
    "\n",
    "X = [[1],[2],[3],[4],[5]]\n",
    "y = [[3],[5],[9],[13],[15]]\n",
    "model.fit(X, y) # 모델 학습"
   ]
  },
  {
   "cell_type": "markdown",
   "metadata": {},
   "source": [
    "#### 코드 7.2"
   ]
  },
  {
   "cell_type": "code",
   "execution_count": 3,
   "metadata": {
    "colab": {
     "base_uri": "https://localhost:8080/"
    },
    "executionInfo": {
     "elapsed": 5,
     "status": "ok",
     "timestamp": 1637872423885,
     "user": {
      "displayName": "심규현",
      "photoUrl": "https://lh3.googleusercontent.com/a-/AOh14GhUsWhBvCuWBX8eybQOLddreDC1UApHKcmBFbvDAA=s64",
      "userId": "00091973774470887912"
     },
     "user_tz": -540
    },
    "id": "UVDEtzylvz3I",
    "outputId": "d999f3fb-6929-4c92-ea74-2f40e2bb14dd"
   },
   "outputs": [
    {
     "name": "stdout",
     "output_type": "stream",
     "text": [
      "coef: [[3.2]]\n",
      "intercept: [-0.6]\n"
     ]
    }
   ],
   "source": [
    "#기울기 & y절편\n",
    "print(\"coef:\",model.coef_)\n",
    "print(\"intercept:\",model.intercept_)"
   ]
  },
  {
   "cell_type": "markdown",
   "metadata": {},
   "source": [
    "즉, Linear Regression이 나타내는 그래프는 <br>\n",
    "y = 3.2x - 0.6"
   ]
  },
  {
   "cell_type": "markdown",
   "metadata": {},
   "source": [
    "#### 코드 7.3"
   ]
  },
  {
   "cell_type": "code",
   "execution_count": 4,
   "metadata": {
    "colab": {
     "base_uri": "https://localhost:8080/",
     "height": 313
    },
    "executionInfo": {
     "elapsed": 314,
     "status": "ok",
     "timestamp": 1637872424196,
     "user": {
      "displayName": "심규현",
      "photoUrl": "https://lh3.googleusercontent.com/a-/AOh14GhUsWhBvCuWBX8eybQOLddreDC1UApHKcmBFbvDAA=s64",
      "userId": "00091973774470887912"
     },
     "user_tz": -540
    },
    "id": "cfEU90Fuv2Zs",
    "outputId": "94fc3a05-f02b-4231-f9af-2d174017d6ef"
   },
   "outputs": [
    {
     "data": {
      "text/plain": [
       "[<matplotlib.lines.Line2D at 0x1ebdc190df0>]"
      ]
     },
     "execution_count": 4,
     "metadata": {},
     "output_type": "execute_result"
    },
    {
     "data": {
      "image/png": "[encoded data removed]",
      "text/plain": [
       "<Figure size 432x288 with 1 Axes>"
      ]
     },
     "metadata": {
      "needs_background": "light"
     },
     "output_type": "display_data"
    }
   ],
   "source": [
    "#시각화\n",
    "plt.title(\"Linear Regression\")\n",
    "plt.xlabel(\"X\")\n",
    "plt.ylabel(\"Y\")\n",
    "plt.scatter(X,y)\n",
    "plt.plot(X,model.coef_*X + model.intercept_)"
   ]
  },
  {
   "cell_type": "markdown",
   "metadata": {},
   "source": [
    "#### 코드 7.4"
   ]
  },
  {
   "cell_type": "code",
   "execution_count": 5,
   "metadata": {
    "colab": {
     "base_uri": "https://localhost:8080/"
    },
    "executionInfo": {
     "elapsed": 8,
     "status": "ok",
     "timestamp": 1637872424196,
     "user": {
      "displayName": "심규현",
      "photoUrl": "https://lh3.googleusercontent.com/a-/AOh14GhUsWhBvCuWBX8eybQOLddreDC1UApHKcmBFbvDAA=s64",
      "userId": "00091973774470887912"
     },
     "user_tz": -540
    },
    "id": "53c2ea85",
    "outputId": "d8aade15-bf33-45fc-e3b8-29eebd713dec"
   },
   "outputs": [
    {
     "name": "stdout",
     "output_type": "stream",
     "text": [
      "x: [[6]] -> y_predict: [[18.6]]\n"
     ]
    }
   ],
   "source": [
    "#예측\n",
    "x = [[6]]\n",
    "y_predict = model.predict(x)\n",
    "print(\"x: {} -> y_predict: {}\".format(x,y_predict))"
   ]
  },
  {
   "cell_type": "markdown",
   "metadata": {
    "id": "b0af60d3"
   },
   "source": [
    "#### 코드 7.5"
   ]
  },
  {
   "cell_type": "code",
   "execution_count": 8,
   "metadata": {
    "executionInfo": {
     "elapsed": 7,
     "status": "ok",
     "timestamp": 1637872424197,
     "user": {
      "displayName": "심규현",
      "photoUrl": "https://lh3.googleusercontent.com/a-/AOh14GhUsWhBvCuWBX8eybQOLddreDC1UApHKcmBFbvDAA=s64",
      "userId": "00091973774470887912"
     },
     "user_tz": -540
    },
    "id": "Uo-Hml7qvWjt"
   },
   "outputs": [
    {
     "name": "stdout",
     "output_type": "stream",
     "text": [
      "데이터 수: 150\n",
      "데이터 >>\n",
      " [[5.1 3.5 1.4 0.2]\n",
      " [4.9 3.  1.4 0.2]\n",
      " [4.7 3.2 1.3 0.2]\n",
      " [4.6 3.1 1.5 0.2]\n",
      " [5.  3.6 1.4 0.2]\n",
      " [5.4 3.9 1.7 0.4]\n",
      " [4.6 3.4 1.4 0.3]\n",
      " [5.  3.4 1.5 0.2]\n",
      " [4.4 2.9 1.4 0.2]\n",
      " [4.9 3.1 1.5 0.1]\n",
      " [5.4 3.7 1.5 0.2]\n",
      " [4.8 3.4 1.6 0.2]\n",
      " [4.8 3.  1.4 0.1]\n",
      " [4.3 3.  1.1 0.1]\n",
      " [5.8 4.  1.2 0.2]\n",
      " [5.7 4.4 1.5 0.4]\n",
      " [5.4 3.9 1.3 0.4]\n",
      " [5.1 3.5 1.4 0.3]\n",
      " [5.7 3.8 1.7 0.3]\n",
      " [5.1 3.8 1.5 0.3]\n",
      " [5.4 3.4 1.7 0.2]\n",
      " [5.1 3.7 1.5 0.4]\n",
      " [4.6 3.6 1.  0.2]\n",
      " [5.1 3.3 1.7 0.5]\n",
      " [4.8 3.4 1.9 0.2]\n",
      " [5.  3.  1.6 0.2]\n",
      " [5.  3.4 1.6 0.4]\n",
      " [5.2 3.5 1.5 0.2]\n",
      " [5.2 3.4 1.4 0.2]\n",
      " [4.7 3.2 1.6 0.2]\n",
      " [4.8 3.1 1.6 0.2]\n",
      " [5.4 3.4 1.5 0.4]\n",
      " [5.2 4.1 1.5 0.1]\n",
      " [5.5 4.2 1.4 0.2]\n",
      " [4.9 3.1 1.5 0.2]\n",
      " [5.  3.2 1.2 0.2]\n",
      " [5.5 3.5 1.3 0.2]\n",
      " [4.9 3.6 1.4 0.1]\n",
      " [4.4 3.  1.3 0.2]\n",
      " [5.1 3.4 1.5 0.2]\n",
      " [5.  3.5 1.3 0.3]\n",
      " [4.5 2.3 1.3 0.3]\n",
      " [4.4 3.2 1.3 0.2]\n",
      " [5.  3.5 1.6 0.6]\n",
      " [5.1 3.8 1.9 0.4]\n",
      " [4.8 3.  1.4 0.3]\n",
      " [5.1 3.8 1.6 0.2]\n",
      " [4.6 3.2 1.4 0.2]\n",
      " [5.3 3.7 1.5 0.2]\n",
      " [5.  3.3 1.4 0.2]\n",
      " [7.  3.2 4.7 1.4]\n",
      " [6.4 3.2 4.5 1.5]\n",
      " [6.9 3.1 4.9 1.5]\n",
      " [5.5 2.3 4.  1.3]\n",
      " [6.5 2.8 4.6 1.5]\n",
      " [5.7 2.8 4.5 1.3]\n",
      " [6.3 3.3 4.7 1.6]\n",
      " [4.9 2.4 3.3 1. ]\n",
      " [6.6 2.9 4.6 1.3]\n",
      " [5.2 2.7 3.9 1.4]\n",
      " [5.  2.  3.5 1. ]\n",
      " [5.9 3.  4.2 1.5]\n",
      " [6.  2.2 4.  1. ]\n",
      " [6.1 2.9 4.7 1.4]\n",
      " [5.6 2.9 3.6 1.3]\n",
      " [6.7 3.1 4.4 1.4]\n",
      " [5.6 3.  4.5 1.5]\n",
      " [5.8 2.7 4.1 1. ]\n",
      " [6.2 2.2 4.5 1.5]\n",
      " [5.6 2.5 3.9 1.1]\n",
      " [5.9 3.2 4.8 1.8]\n",
      " [6.1 2.8 4.  1.3]\n",
      " [6.3 2.5 4.9 1.5]\n",
      " [6.1 2.8 4.7 1.2]\n",
      " [6.4 2.9 4.3 1.3]\n",
      " [6.6 3.  4.4 1.4]\n",
      " [6.8 2.8 4.8 1.4]\n",
      " [6.7 3.  5.  1.7]\n",
      " [6.  2.9 4.5 1.5]\n",
      " [5.7 2.6 3.5 1. ]\n",
      " [5.5 2.4 3.8 1.1]\n",
      " [5.5 2.4 3.7 1. ]\n",
      " [5.8 2.7 3.9 1.2]\n",
      " [6.  2.7 5.1 1.6]\n",
      " [5.4 3.  4.5 1.5]\n",
      " [6.  3.4 4.5 1.6]\n",
      " [6.7 3.1 4.7 1.5]\n",
      " [6.3 2.3 4.4 1.3]\n",
      " [5.6 3.  4.1 1.3]\n",
      " [5.5 2.5 4.  1.3]\n",
      " [5.5 2.6 4.4 1.2]\n",
      " [6.1 3.  4.6 1.4]\n",
      " [5.8 2.6 4.  1.2]\n",
      " [5.  2.3 3.3 1. ]\n",
      " [5.6 2.7 4.2 1.3]\n",
      " [5.7 3.  4.2 1.2]\n",
      " [5.7 2.9 4.2 1.3]\n",
      " [6.2 2.9 4.3 1.3]\n",
      " [5.1 2.5 3.  1.1]\n",
      " [5.7 2.8 4.1 1.3]\n",
      " [6.3 3.3 6.  2.5]\n",
      " [5.8 2.7 5.1 1.9]\n",
      " [7.1 3.  5.9 2.1]\n",
      " [6.3 2.9 5.6 1.8]\n",
      " [6.5 3.  5.8 2.2]\n",
      " [7.6 3.  6.6 2.1]\n",
      " [4.9 2.5 4.5 1.7]\n",
      " [7.3 2.9 6.3 1.8]\n",
      " [6.7 2.5 5.8 1.8]\n",
      " [7.2 3.6 6.1 2.5]\n",
      " [6.5 3.2 5.1 2. ]\n",
      " [6.4 2.7 5.3 1.9]\n",
      " [6.8 3.  5.5 2.1]\n",
      " [5.7 2.5 5.  2. ]\n",
      " [5.8 2.8 5.1 2.4]\n",
      " [6.4 3.2 5.3 2.3]\n",
      " [6.5 3.  5.5 1.8]\n",
      " [7.7 3.8 6.7 2.2]\n",
      " [7.7 2.6 6.9 2.3]\n",
      " [6.  2.2 5.  1.5]\n",
      " [6.9 3.2 5.7 2.3]\n",
      " [5.6 2.8 4.9 2. ]\n",
      " [7.7 2.8 6.7 2. ]\n",
      " [6.3 2.7 4.9 1.8]\n",
      " [6.7 3.3 5.7 2.1]\n",
      " [7.2 3.2 6.  1.8]\n",
      " [6.2 2.8 4.8 1.8]\n",
      " [6.1 3.  4.9 1.8]\n",
      " [6.4 2.8 5.6 2.1]\n",
      " [7.2 3.  5.8 1.6]\n",
      " [7.4 2.8 6.1 1.9]\n",
      " [7.9 3.8 6.4 2. ]\n",
      " [6.4 2.8 5.6 2.2]\n",
      " [6.3 2.8 5.1 1.5]\n",
      " [6.1 2.6 5.6 1.4]\n",
      " [7.7 3.  6.1 2.3]\n",
      " [6.3 3.4 5.6 2.4]\n",
      " [6.4 3.1 5.5 1.8]\n",
      " [6.  3.  4.8 1.8]\n",
      " [6.9 3.1 5.4 2.1]\n",
      " [6.7 3.1 5.6 2.4]\n",
      " [6.9 3.1 5.1 2.3]\n",
      " [5.8 2.7 5.1 1.9]\n",
      " [6.8 3.2 5.9 2.3]\n",
      " [6.7 3.3 5.7 2.5]\n",
      " [6.7 3.  5.2 2.3]\n",
      " [6.3 2.5 5.  1.9]\n",
      " [6.5 3.  5.2 2. ]\n",
      " [6.2 3.4 5.4 2.3]\n",
      " [5.9 3.  5.1 1.8]]\n"
     ]
    }
   ],
   "source": [
    "#붓꽃 데이터 불러오기\n",
    "from sklearn.datasets import load_iris\n",
    "\n",
    "iris = load_iris() \n",
    "\n",
    "# sepal length(꽃받침의 길이), sepal width(꽃받침의 넓이), \n",
    "# petal length(꽃잎의 길이), petal width(꽃잎의 넓이)\n",
    "X = iris.data\n",
    "print(f'데이터 수: {len(X)}\\n데이터 >>\\n {X}')"
   ]
  },
  {
   "cell_type": "markdown",
   "metadata": {},
   "source": [
    "#### 코드 7.6"
   ]
  },
  {
   "cell_type": "code",
   "execution_count": 10,
   "metadata": {},
   "outputs": [
    {
     "name": "stdout",
     "output_type": "stream",
     "text": [
      "데이터 수: 150\n",
      "데이터 >>\n",
      " [0 0 0 0 0 0 0 0 0 0 0 0 0 0 0 0 0 0 0 0 0 0 0 0 0 0 0 0 0 0 0 0 0 0 0 0 0\n",
      " 0 0 0 0 0 0 0 0 0 0 0 0 0 1 1 1 1 1 1 1 1 1 1 1 1 1 1 1 1 1 1 1 1 1 1 1 1\n",
      " 1 1 1 1 1 1 1 1 1 1 1 1 1 1 1 1 1 1 1 1 1 1 1 1 1 1 2 2 2 2 2 2 2 2 2 2 2\n",
      " 2 2 2 2 2 2 2 2 2 2 2 2 2 2 2 2 2 2 2 2 2 2 2 2 2 2 2 2 2 2 2 2 2 2 2 2 2\n",
      " 2 2]\n"
     ]
    }
   ],
   "source": [
    "#꽃 종류 class\n",
    "y = iris.target\n",
    "print(f'데이터 수: {len(y)}\\n데이터 >>\\n {y}')"
   ]
  },
  {
   "cell_type": "markdown",
   "metadata": {},
   "source": [
    "#### 코드 7.7"
   ]
  },
  {
   "cell_type": "code",
   "execution_count": 11,
   "metadata": {},
   "outputs": [
    {
     "name": "stdout",
     "output_type": "stream",
     "text": [
      "학습 결과 값 >>\n",
      "데이터 수: 120\n",
      " [1 1 2 0 2 2 2 2 1 2 1 2 2 1 1 0 0 0 2 2 2 0 0 1 0 1 0 0 1 1 0 1 1 1 1 0 2\n",
      " 2 2 0 0 1 0 1 2 0 2 0 0 2 2 0 2 1 2 0 0 2 2 0 2 0 2 1 0 1 1 0 2 0 2 0 0 2\n",
      " 1 2 2 1 2 1 2 2 1 1 1 1 0 1 1 0 0 0 1 1 1 2 1 0 1 0 0 2 1 0 1 2 1 2 1 2 0\n",
      " 2 2 0 1 2 1 0 1 0]\n",
      "학습 데이터 >>\n",
      "[[6.  2.7 5.1 1.6]\n",
      " [5.9 3.  4.2 1.5]\n",
      " [7.2 3.2 6.  1.8]\n",
      " [4.5 2.3 1.3 0.3]\n",
      " [6.4 2.7 5.3 1.9]\n",
      " [7.9 3.8 6.4 2. ]\n",
      " [6.9 3.1 5.1 2.3]\n",
      " [6.7 3.1 5.6 2.4]\n",
      " [6.7 3.  5.  1.7]\n",
      " [5.7 2.5 5.  2. ]\n",
      " [5.  2.  3.5 1. ]\n",
      " [6.1 2.6 5.6 1.4]\n",
      " [6.4 3.1 5.5 1.8]\n",
      " [5.5 2.4 3.7 1. ]\n",
      " [6.6 2.9 4.6 1.3]\n",
      " [5.1 3.8 1.6 0.2]\n",
      " [5.  3.2 1.2 0.2]\n",
      " [4.6 3.2 1.4 0.2]\n",
      " [7.2 3.  5.8 1.6]\n",
      " [6.9 3.1 5.4 2.1]\n",
      " [7.4 2.8 6.1 1.9]\n",
      " [5.  3.5 1.3 0.3]\n",
      " [4.8 3.4 1.6 0.2]\n",
      " [6.  3.4 4.5 1.6]\n",
      " [4.6 3.4 1.4 0.3]\n",
      " [6.1 2.8 4.7 1.2]\n",
      " [4.9 3.6 1.4 0.1]\n",
      " [5.7 3.8 1.7 0.3]\n",
      " [6.7 3.1 4.7 1.5]\n",
      " [5.5 2.6 4.4 1.2]\n",
      " [4.8 3.  1.4 0.1]\n",
      " [6.3 2.5 4.9 1.5]\n",
      " [5.1 2.5 3.  1.1]\n",
      " [5.7 2.9 4.2 1.3]\n",
      " [5.4 3.  4.5 1.5]\n",
      " [5.8 4.  1.2 0.2]\n",
      " [6.3 2.7 4.9 1.8]\n",
      " [6.4 3.2 5.3 2.3]\n",
      " [6.3 3.4 5.6 2.4]\n",
      " [4.9 3.1 1.5 0.2]\n",
      " [5.4 3.9 1.7 0.4]\n",
      " [6.  2.9 4.5 1.5]\n",
      " [5.2 4.1 1.5 0.1]\n",
      " [6.8 2.8 4.8 1.4]\n",
      " [6.  2.2 5.  1.5]\n",
      " [5.3 3.7 1.5 0.2]\n",
      " [6.7 3.3 5.7 2.5]\n",
      " [4.9 3.  1.4 0.2]\n",
      " [5.  3.6 1.4 0.2]\n",
      " [7.7 2.6 6.9 2.3]\n",
      " [6.3 2.9 5.6 1.8]\n",
      " [5.4 3.9 1.3 0.4]\n",
      " [6.3 2.5 5.  1.9]\n",
      " [5.8 2.7 4.1 1. ]\n",
      " [7.7 3.  6.1 2.3]\n",
      " [5.2 3.4 1.4 0.2]\n",
      " [4.8 3.1 1.6 0.2]\n",
      " [6.7 2.5 5.8 1.8]\n",
      " [6.4 2.8 5.6 2.2]\n",
      " [4.7 3.2 1.6 0.2]\n",
      " [7.6 3.  6.6 2.1]\n",
      " [5.4 3.4 1.5 0.4]\n",
      " [6.5 3.  5.5 1.8]\n",
      " [5.  2.3 3.3 1. ]\n",
      " [4.6 3.1 1.5 0.2]\n",
      " [6.5 2.8 4.6 1.5]\n",
      " [5.5 2.4 3.8 1.1]\n",
      " [5.1 3.3 1.7 0.5]\n",
      " [5.8 2.7 5.1 1.9]\n",
      " [5.4 3.7 1.5 0.2]\n",
      " [6.2 3.4 5.4 2.3]\n",
      " [5.  3.4 1.6 0.4]\n",
      " [5.1 3.4 1.5 0.2]\n",
      " [6.5 3.2 5.1 2. ]\n",
      " [5.6 2.5 3.9 1.1]\n",
      " [6.1 3.  4.9 1.8]\n",
      " [6.5 3.  5.8 2.2]\n",
      " [5.7 2.8 4.5 1.3]\n",
      " [6.8 3.2 5.9 2.3]\n",
      " [5.9 3.2 4.8 1.8]\n",
      " [6.5 3.  5.2 2. ]\n",
      " [5.6 2.8 4.9 2. ]\n",
      " [7.  3.2 4.7 1.4]\n",
      " [6.2 2.2 4.5 1.5]\n",
      " [6.1 3.  4.6 1.4]\n",
      " [6.9 3.1 4.9 1.5]\n",
      " [5.  3.3 1.4 0.2]\n",
      " [5.8 2.6 4.  1.2]\n",
      " [6.6 3.  4.4 1.4]\n",
      " [4.6 3.6 1.  0.2]\n",
      " [4.8 3.  1.4 0.3]\n",
      " [5.5 4.2 1.4 0.2]\n",
      " [5.2 2.7 3.9 1.4]\n",
      " [6.3 3.3 4.7 1.6]\n",
      " [6.7 3.1 4.4 1.4]\n",
      " [5.8 2.8 5.1 2.4]\n",
      " [6.3 2.3 4.4 1.3]\n",
      " [5.2 3.5 1.5 0.2]\n",
      " [6.1 2.8 4.  1.3]\n",
      " [5.  3.5 1.6 0.6]\n",
      " [4.4 3.  1.3 0.2]\n",
      " [5.9 3.  5.1 1.8]\n",
      " [5.7 2.8 4.1 1.3]\n",
      " [4.8 3.4 1.9 0.2]\n",
      " [6.1 2.9 4.7 1.4]\n",
      " [6.4 2.8 5.6 2.1]\n",
      " [6.4 3.2 4.5 1.5]\n",
      " [6.3 2.8 5.1 1.5]\n",
      " [5.8 2.7 3.9 1.2]\n",
      " [4.9 2.5 4.5 1.7]\n",
      " [5.1 3.5 1.4 0.2]\n",
      " [6.2 2.8 4.8 1.8]\n",
      " [6.3 3.3 6.  2.5]\n",
      " [5.1 3.5 1.4 0.3]\n",
      " [5.7 3.  4.2 1.2]\n",
      " [7.1 3.  5.9 2.1]\n",
      " [5.6 2.7 4.2 1.3]\n",
      " [5.1 3.7 1.5 0.4]\n",
      " [5.5 2.3 4.  1.3]\n",
      " [5.  3.4 1.5 0.2]]\n"
     ]
    }
   ],
   "source": [
    "# 학습데이터와 테스트 데이터 생성\n",
    "# 전체 데이터의 80%를 학습데이터로 사용\n",
    "from sklearn.model_selection import train_test_split\n",
    "\n",
    "X_train, X_test, y_train, y_test = train_test_split(X, y, test_size=0.2)\n",
    "print(f'학습 결과 값 >>\\n데이터 수: {len(y_train)}\\n \\\n",
    "{y_train}\\n학습 데이터 >>\\n{X_train}')"
   ]
  },
  {
   "cell_type": "code",
   "execution_count": 14,
   "metadata": {
    "colab": {
     "base_uri": "https://localhost:8080/"
    },
    "executionInfo": {
     "elapsed": 7,
     "status": "ok",
     "timestamp": 1637872424197,
     "user": {
      "displayName": "심규현",
      "photoUrl": "https://lh3.googleusercontent.com/a-/AOh14GhUsWhBvCuWBX8eybQOLddreDC1UApHKcmBFbvDAA=s64",
      "userId": "00091973774470887912"
     },
     "user_tz": -540
    },
    "id": "bf553179",
    "outputId": "e9bd0daf-d516-4e57-d036-d2dd21549961"
   },
   "outputs": [
    {
     "data": {
      "text/plain": [
       "GaussianNB(priors=None, var_smoothing=1e-09)"
      ]
     },
     "execution_count": 14,
     "metadata": {},
     "output_type": "execute_result"
    }
   ],
   "source": [
    "#가우시안 나이즈 베이즈 모델 생성\n",
    "from sklearn.naive_bayes import GaussianNB\n",
    "\n",
    "model = GaussianNB()\n",
    "model.fit(X_train,y_train) #모델 학습"
   ]
  },
  {
   "cell_type": "code",
   "execution_count": 15,
   "metadata": {
    "colab": {
     "base_uri": "https://localhost:8080/"
    },
    "executionInfo": {
     "elapsed": 6,
     "status": "ok",
     "timestamp": 1637872424197,
     "user": {
      "displayName": "심규현",
      "photoUrl": "https://lh3.googleusercontent.com/a-/AOh14GhUsWhBvCuWBX8eybQOLddreDC1UApHKcmBFbvDAA=s64",
      "userId": "00091973774470887912"
     },
     "user_tz": -540
    },
    "id": "WQzB2VKWoo4s",
    "outputId": "87205f52-03fa-4259-f261-7b2a1cfcd90f"
   },
   "outputs": [
    {
     "name": "stdout",
     "output_type": "stream",
     "text": [
      "X :\n",
      " [5.1 3.5 1.4 0.2] [7.  3.2 4.7 1.4] [6.3 3.3 6.  2.5]\n",
      "y :\n",
      " 0 1 2\n"
     ]
    }
   ],
   "source": [
    "print(\"X :\\n\", X[0],X[50],X[100])\n",
    "print(\"y :\\n\", y[0],y[50],y[100])"
   ]
  },
  {
   "cell_type": "code",
   "execution_count": 16,
   "metadata": {
    "colab": {
     "base_uri": "https://localhost:8080/"
    },
    "executionInfo": {
     "elapsed": 6,
     "status": "ok",
     "timestamp": 1637872424198,
     "user": {
      "displayName": "심규현",
      "photoUrl": "https://lh3.googleusercontent.com/a-/AOh14GhUsWhBvCuWBX8eybQOLddreDC1UApHKcmBFbvDAA=s64",
      "userId": "00091973774470887912"
     },
     "user_tz": -540
    },
    "id": "Rc5dUbyon8Wm",
    "outputId": "f6e956c4-d9d8-47cc-9446-f51736156c6e"
   },
   "outputs": [
    {
     "data": {
      "text/plain": [
       "array([0, 1, 2])"
      ]
     },
     "execution_count": 16,
     "metadata": {},
     "output_type": "execute_result"
    }
   ],
   "source": [
    "model.classes_ #y 클래스 종류"
   ]
  },
  {
   "cell_type": "code",
   "execution_count": 17,
   "metadata": {
    "colab": {
     "base_uri": "https://localhost:8080/"
    },
    "executionInfo": {
     "elapsed": 275,
     "status": "ok",
     "timestamp": 1637872424468,
     "user": {
      "displayName": "심규현",
      "photoUrl": "https://lh3.googleusercontent.com/a-/AOh14GhUsWhBvCuWBX8eybQOLddreDC1UApHKcmBFbvDAA=s64",
      "userId": "00091973774470887912"
     },
     "user_tz": -540
    },
    "id": "rj0IvcnCoCsD",
    "outputId": "eb68d609-30f4-4f7d-f2ff-ebd592438542"
   },
   "outputs": [
    {
     "data": {
      "text/plain": [
       "array([39., 41., 40.])"
      ]
     },
     "execution_count": 17,
     "metadata": {},
     "output_type": "execute_result"
    }
   ],
   "source": [
    "model.class_count_ #클래스별 표본 수"
   ]
  },
  {
   "cell_type": "code",
   "execution_count": 18,
   "metadata": {
    "colab": {
     "base_uri": "https://localhost:8080/"
    },
    "executionInfo": {
     "elapsed": 8,
     "status": "ok",
     "timestamp": 1637872424469,
     "user": {
      "displayName": "심규현",
      "photoUrl": "https://lh3.googleusercontent.com/a-/AOh14GhUsWhBvCuWBX8eybQOLddreDC1UApHKcmBFbvDAA=s64",
      "userId": "00091973774470887912"
     },
     "user_tz": -540
    },
    "id": "u1bQmefCoMWd",
    "outputId": "f62ee186-6bb9-4ba1-9539-90a28d2e84ef"
   },
   "outputs": [
    {
     "data": {
      "text/plain": [
       "array([0.325     , 0.34166667, 0.33333333])"
      ]
     },
     "execution_count": 18,
     "metadata": {},
     "output_type": "execute_result"
    }
   ],
   "source": [
    "model.class_prior_ #클래스별 사전확률"
   ]
  },
  {
   "cell_type": "code",
   "execution_count": 19,
   "metadata": {
    "colab": {
     "base_uri": "https://localhost:8080/"
    },
    "executionInfo": {
     "elapsed": 7,
     "status": "ok",
     "timestamp": 1637872424469,
     "user": {
      "displayName": "심규현",
      "photoUrl": "https://lh3.googleusercontent.com/a-/AOh14GhUsWhBvCuWBX8eybQOLddreDC1UApHKcmBFbvDAA=s64",
      "userId": "00091973774470887912"
     },
     "user_tz": -540
    },
    "id": "Iz8sIjA1n5C_",
    "outputId": "30385806-b3bf-4e38-e964-e0a28b6a0fbb"
   },
   "outputs": [
    {
     "name": "stdout",
     "output_type": "stream",
     "text": [
      "x: [[4.9 2.4 3.3 1. ]\n",
      " [5.6 3.  4.5 1.5]\n",
      " [4.9 3.1 1.5 0.1]\n",
      " [7.3 2.9 6.3 1.8]\n",
      " [4.4 2.9 1.4 0.2]\n",
      " [4.4 3.2 1.3 0.2]\n",
      " [7.2 3.6 6.1 2.5]\n",
      " [5.1 3.8 1.5 0.3]\n",
      " [5.8 2.7 5.1 1.9]\n",
      " [5.  3.  1.6 0.2]] \n",
      "-> y_predict: [1 1 0 2 0 0 2 0 2 0]\n"
     ]
    }
   ],
   "source": [
    "#예측\n",
    "y_predict = model.predict(X_test) \n",
    "print(\"x: {} \\n-> y_predict: {}\".format(X_test[:10],y_predict[:10]))"
   ]
  },
  {
   "cell_type": "code",
   "execution_count": 21,
   "metadata": {},
   "outputs": [
    {
     "name": "stdout",
     "output_type": "stream",
     "text": [
      "[1]\n"
     ]
    }
   ],
   "source": [
    "new_predict = model.predict([[5, 2,4,0.2]]) \n",
    "print(new_predict)"
   ]
  },
  {
   "cell_type": "code",
   "execution_count": 22,
   "metadata": {},
   "outputs": [
    {
     "name": "stdout",
     "output_type": "stream",
     "text": [
      "타깃의 이름: ['setosa' 'versicolor' 'virginica']\n"
     ]
    }
   ],
   "source": [
    "print(\"타깃의 이름: {}\".format(iris['target_names']))"
   ]
  },
  {
   "cell_type": "code",
   "execution_count": 14,
   "metadata": {
    "colab": {
     "base_uri": "https://localhost:8080/"
    },
    "executionInfo": {
     "elapsed": 6,
     "status": "ok",
     "timestamp": 1637872424469,
     "user": {
      "displayName": "심규현",
      "photoUrl": "https://lh3.googleusercontent.com/a-/AOh14GhUsWhBvCuWBX8eybQOLddreDC1UApHKcmBFbvDAA=s64",
      "userId": "00091973774470887912"
     },
     "user_tz": -540
    },
    "id": "8OhqVXqbuUPu",
    "outputId": "f3fdc008-92b6-4b8b-8784-a9ffc6fc5729",
    "scrolled": true
   },
   "outputs": [
    {
     "name": "stdout",
     "output_type": "stream",
     "text": [
      "[[11  0  0]\n",
      " [ 0 12  1]\n",
      " [ 0  0  6]]\n",
      "              precision    recall  f1-score   support\n",
      "\n",
      "           0       1.00      1.00      1.00        11\n",
      "           1       1.00      0.92      0.96        13\n",
      "           2       0.86      1.00      0.92         6\n",
      "\n",
      "    accuracy                           0.97        30\n",
      "   macro avg       0.95      0.97      0.96        30\n",
      "weighted avg       0.97      0.97      0.97        30\n",
      "\n"
     ]
    }
   ],
   "source": [
    "#성능 평가\n",
    "from sklearn.metrics import confusion_matrix, classification_report\n",
    "\n",
    "print(confusion_matrix(y_test, y_predict))\n",
    "print(classification_report(y_test, y_predict))"
   ]
  },
  {
   "cell_type": "markdown",
   "metadata": {
    "id": "4026ef60"
   },
   "source": [
    "3. Clustering 활용\n",
    "k-means"
   ]
  },
  {
   "cell_type": "code",
   "execution_count": 15,
   "metadata": {
    "colab": {
     "base_uri": "https://localhost:8080/"
    },
    "executionInfo": {
     "elapsed": 6,
     "status": "ok",
     "timestamp": 1637872424470,
     "user": {
      "displayName": "심규현",
      "photoUrl": "https://lh3.googleusercontent.com/a-/AOh14GhUsWhBvCuWBX8eybQOLddreDC1UApHKcmBFbvDAA=s64",
      "userId": "00091973774470887912"
     },
     "user_tz": -540
    },
    "id": "fca533ce",
    "outputId": "d051837f-3d33-48ab-b569-6a6087d3f227"
   },
   "outputs": [
    {
     "data": {
      "text/plain": [
       "array([[5.1, 3.5],\n",
       "       [4.9, 3. ],\n",
       "       [4.7, 3.2],\n",
       "       [4.6, 3.1],\n",
       "       [5. , 3.6],\n",
       "       [5.4, 3.9],\n",
       "       [4.6, 3.4],\n",
       "       [5. , 3.4],\n",
       "       [4.4, 2.9],\n",
       "       [4.9, 3.1]])"
      ]
     },
     "execution_count": 15,
     "metadata": {},
     "output_type": "execute_result"
    }
   ],
   "source": [
    "#라이브러리 불러오기\n",
    "from sklearn.cluster import KMeans\n",
    "from sklearn.datasets import load_iris\n",
    "import matplotlib.pyplot as plt\n",
    "\n",
    "# iris 데이터 불러온 뒤 sepal length, sepal width를 활용하여 \n",
    "# 클러스터링 할 것이므로 해당 데이터만 추림.\n",
    "iris = load_iris()\n",
    "data = iris.data[:,[0,1]]\n",
    "\n",
    "#data 값 확인\n",
    "data[:10]"
   ]
  },
  {
   "cell_type": "code",
   "execution_count": 16,
   "metadata": {
    "colab": {
     "base_uri": "https://localhost:8080/"
    },
    "executionInfo": {
     "elapsed": 4,
     "status": "ok",
     "timestamp": 1637872424470,
     "user": {
      "displayName": "심규현",
      "photoUrl": "https://lh3.googleusercontent.com/a-/AOh14GhUsWhBvCuWBX8eybQOLddreDC1UApHKcmBFbvDAA=s64",
      "userId": "00091973774470887912"
     },
     "user_tz": -540
    },
    "id": "21431190",
    "outputId": "0c4f55b3-e8ad-4fc4-cf06-460576acca04"
   },
   "outputs": [
    {
     "data": {
      "text/plain": [
       "array([1, 1, 1, 1, 1, 1, 1, 1, 1, 1, 1, 1, 1, 1, 1, 1, 1, 1, 1, 1, 1, 1,\n",
       "       1, 1, 1, 1, 1, 1, 1, 1, 1, 1, 1, 1, 1, 1, 1, 1, 1, 1, 1, 1, 1, 1,\n",
       "       1, 1, 1, 1, 1, 1, 0, 0, 0, 2, 0, 2, 0, 2, 0, 2, 2, 2, 2, 2, 2, 0,\n",
       "       2, 2, 2, 2, 2, 2, 2, 2, 0, 0, 0, 0, 2, 2, 2, 2, 2, 2, 2, 2, 0, 2,\n",
       "       2, 2, 2, 2, 2, 2, 2, 2, 2, 2, 2, 2, 0, 2, 0, 0, 0, 0, 2, 0, 0, 0,\n",
       "       0, 0, 0, 2, 2, 0, 0, 0, 0, 2, 0, 2, 0, 2, 0, 0, 2, 2, 0, 0, 0, 0,\n",
       "       0, 2, 2, 0, 0, 0, 2, 0, 0, 0, 2, 0, 0, 0, 2, 0, 0, 2])"
      ]
     },
     "execution_count": 16,
     "metadata": {},
     "output_type": "execute_result"
    }
   ],
   "source": [
    "# Iris의 종류는 3가지 (Iris Versicolor, Iris Setosa, Iris Virginica)\n",
    "# 클러스터를 3개 활용하여 클러스터링\n",
    "model = KMeans(n_clusters=3, algorithm='auto')\n",
    "model.fit(data)\n",
    "\n",
    "#이후 predict 함수를 사용하여 예측\n",
    "predict = model.predict(data)\n",
    "\n",
    "#예측값 확인\n",
    "predict"
   ]
  },
  {
   "cell_type": "code",
   "execution_count": 17,
   "metadata": {
    "colab": {
     "base_uri": "https://localhost:8080/",
     "height": 268
    },
    "executionInfo": {
     "elapsed": 426,
     "status": "ok",
     "timestamp": 1637872424893,
     "user": {
      "displayName": "심규현",
      "photoUrl": "https://lh3.googleusercontent.com/a-/AOh14GhUsWhBvCuWBX8eybQOLddreDC1UApHKcmBFbvDAA=s64",
      "userId": "00091973774470887912"
     },
     "user_tz": -540
    },
    "id": "ukQ7sfrix-Zw",
    "outputId": "0f7ed73f-41ff-4bc9-edb0-a4860589912b"
   },
   "outputs": [
    {
     "data": {
      "image/png": "[encoded data removed]",
      "text/plain": [
       "<Figure size 432x288 with 1 Axes>"
      ]
     },
     "metadata": {
      "needs_background": "light"
     },
     "output_type": "display_data"
    }
   ],
   "source": [
    "# sepal length를 x, sepal width를 y, \n",
    "# 예측 결과를 색상으로 활용하여 시각화\n",
    "plt.scatter(data[:,0], data[:,1], c=predict)\n",
    "plt.show()"
   ]
  }
 ],
 "metadata": {
  "colab": {
   "collapsed_sections": [],
   "name": "7주차 실습.ipynb",
   "provenance": []
  },
  "kernelspec": {
   "display_name": "Python 3",
   "language": "python",
   "name": "python3"
  },
  "language_info": {
   "codemirror_mode": {
    "name": "ipython",
    "version": 3
   },
   "file_extension": ".py",
   "mimetype": "text/x-python",
   "name": "python",
   "nbconvert_exporter": "python",
   "pygments_lexer": "ipython3",
   "version": "3.7.6"
  }
 },
 "nbformat": 4,
 "nbformat_minor": 5
}
