{
 "cells": [
  {
   "cell_type": "markdown",
   "metadata": {},
   "source": [
    "### Chapter 15. 실전 데이터 분석"
   ]
  },
  {
   "cell_type": "markdown",
   "metadata": {},
   "source": [
    "### 음악 순위"
   ]
  },
  {
   "cell_type": "markdown",
   "metadata": {},
   "source": [
    "#### [참고] selenium 설치"
   ]
  },
  {
   "cell_type": "code",
   "execution_count": 12,
   "metadata": {},
   "outputs": [
    {
     "name": "stdout",
     "output_type": "stream",
     "text": [
      "Requirement already satisfied: selenium==4.0.0a6 in c:\\programdata\\anaconda3\\lib\\site-packages (4.0.0a6)\n",
      "Requirement already satisfied: urllib3[secure] in c:\\users\\한옥영\\appdata\\roaming\\python\\python37\\site-packages (from selenium==4.0.0a6) (1.26.8)\n",
      "Requirement already satisfied: cryptography>=1.3.4; extra == \"secure\" in c:\\programdata\\anaconda3\\lib\\site-packages (from urllib3[secure]->selenium==4.0.0a6) (2.8)\n",
      "Requirement already satisfied: certifi; extra == \"secure\" in c:\\programdata\\anaconda3\\lib\\site-packages (from urllib3[secure]->selenium==4.0.0a6) (2019.11.28)\n",
      "Requirement already satisfied: pyOpenSSL>=0.14; extra == \"secure\" in c:\\programdata\\anaconda3\\lib\\site-packages (from urllib3[secure]->selenium==4.0.0a6) (19.1.0)\n",
      "Requirement already satisfied: idna>=2.0.0; extra == \"secure\" in c:\\programdata\\anaconda3\\lib\\site-packages (from urllib3[secure]->selenium==4.0.0a6) (2.8)\n",
      "Requirement already satisfied: cffi!=1.11.3,>=1.8 in c:\\programdata\\anaconda3\\lib\\site-packages (from cryptography>=1.3.4; extra == \"secure\"->urllib3[secure]->selenium==4.0.0a6) (1.14.0)\n",
      "Requirement already satisfied: six>=1.4.1 in c:\\programdata\\anaconda3\\lib\\site-packages (from cryptography>=1.3.4; extra == \"secure\"->urllib3[secure]->selenium==4.0.0a6) (1.14.0)\n",
      "Requirement already satisfied: pycparser in c:\\programdata\\anaconda3\\lib\\site-packages (from cffi!=1.11.3,>=1.8->cryptography>=1.3.4; extra == \"secure\"->urllib3[secure]->selenium==4.0.0a6) (2.19)\n"
     ]
    }
   ],
   "source": [
    "!pip install selenium==4.0.0a6"
   ]
  },
  {
   "cell_type": "markdown",
   "metadata": {},
   "source": [
    "#### 코드 15.1"
   ]
  },
  {
   "cell_type": "code",
   "execution_count": 13,
   "metadata": {},
   "outputs": [
    {
     "name": "stderr",
     "output_type": "stream",
     "text": [
      "C:\\ProgramData\\Anaconda3\\lib\\site-packages\\ipykernel_launcher.py:8: DeprecationWarning: executable_path has been deprecated, please pass in a Service object\n",
      "  \n"
     ]
    }
   ],
   "source": [
    "# 웹 사이트 접속을 위한 모듈\n",
    "from selenium import webdriver\n",
    "from bs4 import BeautifulSoup\n",
    "\n",
    "# https://chromedriver.chromium.org/downloads 에서 \n",
    "# ChromeDriver 97.0.4692.71을 다운로드\n",
    "# 활용 예제 파일 위치에 저장\n",
    "driver = webdriver.Chrome('chromedriver.exe')    \n",
    "url  = 'https://music.bugs.co.kr/chart'\n",
    "driver.get(url)     \n",
    "\n",
    "html = driver.page_source\n",
    "soup = BeautifulSoup(html, 'html.parser')  "
   ]
  },
  {
   "cell_type": "markdown",
   "metadata": {},
   "source": [
    "#### [참고]"
   ]
  },
  {
   "cell_type": "code",
   "execution_count": 14,
   "metadata": {},
   "outputs": [
    {
     "name": "stdout",
     "output_type": "stream",
     "text": [
      "104\n"
     ]
    }
   ],
   "source": [
    "# tr 태그로 곡 정보 찾기 (1)\n",
    "songs = soup.select('tr')\n",
    "print(len(songs))"
   ]
  },
  {
   "cell_type": "code",
   "execution_count": 15,
   "metadata": {},
   "outputs": [
    {
     "name": "stdout",
     "output_type": "stream",
     "text": [
      "103\n"
     ]
    }
   ],
   "source": [
    "# tr 태그로 곡 정보 찾기 (2)\n",
    "songs = soup.select('tbody > tr')\n",
    "print(len(songs))"
   ]
  },
  {
   "cell_type": "code",
   "execution_count": 16,
   "metadata": {},
   "outputs": [
    {
     "name": "stdout",
     "output_type": "stream",
     "text": [
      "103\n"
     ]
    }
   ],
   "source": [
    "# tr 태그로 곡 정보 찾기 (3)\n",
    "songs = soup.select('table > tbody > tr')\n",
    "print(len(songs))"
   ]
  },
  {
   "cell_type": "code",
   "execution_count": 17,
   "metadata": {},
   "outputs": [
    {
     "name": "stdout",
     "output_type": "stream",
     "text": [
      "100\n"
     ]
    }
   ],
   "source": [
    "# tr 태그로 곡 정보 찾기 (4)\n",
    "songs = soup.select('table.byChart > tbody > tr')\n",
    "print(len(songs))"
   ]
  },
  {
   "cell_type": "code",
   "execution_count": 18,
   "metadata": {},
   "outputs": [
    {
     "name": "stdout",
     "output_type": "stream",
     "text": [
      "<tr albumid=\"20453371\" artistid=\"20134526\" multiartist=\"N\" mvid=\"606529\" rowtype=\"track\" trackid=\"32478445\">\n",
      "<input name=\"_isStream\" type=\"hidden\" value=\"32478445\"/>\n",
      "<input name=\"_isDown\" type=\"hidden\" value=\"32478445\"/>\n",
      "<td class=\"check\"><input buyminquality=\"T\" disc_id=\"1\" name=\"check\" title=\"듣고 싶을까\" type=\"checkbox\" value=\"32478445\"/></td>\n",
      "<td>\n",
      "<div class=\"ranking\">\n",
      "<strong>1</strong>\n",
      "<p class=\"change up\"><span class=\"arrow\"></span> <em>4</em> <span>계단 상승</span></p>\n",
      "</div>\n",
      "</td>\n",
      "<td>\n",
      "<a class=\"thumbnail\" href=\"https://music.bugs.co.kr/album/20453371?wl_ref=list_tr_07_chart\" onclick=\"\n",
      "\">\n",
      "<span class=\"mask\"></span>\n",
      "<img alt=\"듣고 싶을까 대표이미지\" onerror=\"bugs.utils.imgError(this);\" src=\"https://image.bugsm.co.kr/album/images/50/204533/20453371.jpg?version=20220227011607.0\"/>\n",
      "</a>\n",
      "</td>\n",
      "<td>\n",
      "<a class=\"trackInfo\" href=\"https://music.bugs.co.kr/track/32478445?wl_ref=list_tr_08_chart\" onclick=\"\n",
      "\">곡정보</a>\n",
      "</td>\n",
      "<th scope=\"row\">\n",
      "<p adult_yn=\"N\" class=\"title\">\n",
      "<a adultcheckval=\"1\" aria-label=\"새창\" href=\"javascript:;\" onclick=\"bugs.wiselog.area('list_tr_09_chart');bugs.music.listen('32478445',true);\n",
      "\" title=\"듣고 싶을까\">듣고 싶을까</a>\n",
      "</p>\n",
      "</th>\n",
      "<td class=\"left\">\n",
      "<p class=\"artist\">\n",
      "<a href=\"https://music.bugs.co.kr/artist/20134526?wl_ref=list_tr_10_chart\" onclick=\"\n",
      "\" title=\"MSG워너비(M.O.M)\">MSG워너비(M.O.M)</a>\n",
      "</p>\n",
      "</td>\n",
      "<td class=\"left\">\n",
      "<a class=\"album\" href=\"https://music.bugs.co.kr/album/20453371?wl_ref=list_tr_11_chart\" onclick=\"\n",
      "\" title=\"듣고 싶을까\">듣고 싶을까</a>\n",
      "</td>\n",
      "<td>\n",
      "<a adultcheckval=\"1\" aria-label=\"새창\" class=\"btn play\" href=\"javascript:;\" onclick=\"bugs.wiselog.area('list_tr_12_chart');bugs.music.listen('32478445',true);\n",
      "\">듣기</a>\n",
      "</td>\n",
      "<td>\n",
      "<a adultcheckval=\"1\" aria-label=\"새창\" class=\"btn addPlaylist\" href=\"javascript:;\" onclick=\"bugs.wiselog.area('list_tr_13_chart');bugs.music.listen('32478445');\n",
      "\">재생목록에 추가</a>\n",
      "</td>\n",
      "<td>\n",
      "<a class=\"btn addAlbum\" href=\"javascript:;\" onclick=\"bugs.wiselog.area('list_tr_14_chart');bugs.music.addTrackToMyAlbum(this,'32478445');\n",
      "\" track_title=\"듣고 싶을까\">내 앨범에 담기</a>\n",
      "</td>\n",
      "<td>\n",
      "<a adultcheckval=\"1\" aria-label=\"새창\" class=\"btn download flac\" href=\"javascript:;\" onclick=\"bugs.wiselog.area('list_tr_15_chart');bugs.layermenu.down(this,'32478445','true','true','44.1','true','48', null );\n",
      "\"><em class=\"flac\">flac </em>다운로드</a>\n",
      "</td>\n",
      "<td>\n",
      "<a aria-label=\"새창\" class=\"btn viewMV\" href=\"javascript:;\" onclick=\"bugs.wiselog.area('list_tr_16_chart');\n",
      "bugs.layermenu.mv(this,32478445, 606529, 'Y', 'Y', 'Y', 'Y', 32478445, 'N','ALL', 'Y');\n",
      "\">영상 재생</a>\n",
      "</td>\n",
      "<td>\n",
      "<a artist_disp_nm=\"MSG워너비(M.O.M)\" artist_id=\"20134526\" class=\"btnActions\" href=\"javascript:;\" layer_type=\"CHART\" layerpositiontarget=\"td\" onclick=\"bugs.wiselog.area('list_tr_17_chart');\n",
      "bugs.layermenu.trackMoreAction(this,'32478445','0','20453371','bugs.music.listenRadioFromSeed(\\'32478445\\',\\'track\\');','N', 'Y', '_chart');\n",
      "\" track_title=\"듣고 싶을까\">기타 기능</a>\n",
      "</td>\n",
      "</tr>\n"
     ]
    }
   ],
   "source": [
    "# songs 태그 중 첫 번째 태그 확인해보기\n",
    "print(songs[0])"
   ]
  },
  {
   "cell_type": "code",
   "execution_count": 19,
   "metadata": {},
   "outputs": [],
   "source": [
    "# 한 개의 곡 정보 저장하기\n",
    "song = songs[0]"
   ]
  },
  {
   "cell_type": "code",
   "execution_count": 20,
   "metadata": {},
   "outputs": [
    {
     "data": {
      "text/plain": [
       "11"
      ]
     },
     "execution_count": 20,
     "metadata": {},
     "output_type": "execute_result"
    }
   ],
   "source": [
    "# 벅스 사이트에서 곡 제목 찾기 (1)\n",
    "title = song.select('a')\n",
    "len(title)"
   ]
  },
  {
   "cell_type": "code",
   "execution_count": 21,
   "metadata": {},
   "outputs": [
    {
     "data": {
      "text/plain": [
       "2"
      ]
     },
     "execution_count": 21,
     "metadata": {},
     "output_type": "execute_result"
    }
   ],
   "source": [
    "# 벅스 사이트에서 곡 제목 찾기 (2)\n",
    "title = song.select('p > a')\n",
    "len(title)"
   ]
  },
  {
   "cell_type": "code",
   "execution_count": 22,
   "metadata": {},
   "outputs": [
    {
     "data": {
      "text/plain": [
       "1"
      ]
     },
     "execution_count": 22,
     "metadata": {},
     "output_type": "execute_result"
    }
   ],
   "source": [
    "# 벅스 사이트에서 곡 제목 찾기 (3)\n",
    "title = song.select('p.title > a')\n",
    "len(title)"
   ]
  },
  {
   "cell_type": "code",
   "execution_count": 23,
   "metadata": {},
   "outputs": [
    {
     "data": {
      "text/plain": [
       "'듣고 싶을까'"
      ]
     },
     "execution_count": 23,
     "metadata": {},
     "output_type": "execute_result"
    }
   ],
   "source": [
    "# 벅스 사이트에서 곡 제목 텍스트 출력하기\n",
    "title = song.select('p.title > a')[0].text\n",
    "title"
   ]
  },
  {
   "cell_type": "code",
   "execution_count": 24,
   "metadata": {},
   "outputs": [
    {
     "data": {
      "text/plain": [
       "'MSG워너비(M.O.M)'"
      ]
     },
     "execution_count": 24,
     "metadata": {},
     "output_type": "execute_result"
    }
   ],
   "source": [
    "# 벅스 사이트에서 가수 이름 텍스트 출력하기\n",
    "singer = song.select('p.artist > a')[0].text.strip()\n",
    "singer"
   ]
  },
  {
   "cell_type": "markdown",
   "metadata": {},
   "source": [
    "---\n",
    "#### 코드 15.2"
   ]
  },
  {
   "cell_type": "code",
   "execution_count": 25,
   "metadata": {},
   "outputs": [
    {
     "name": "stdout",
     "output_type": "stream",
     "text": [
      "2022/2/27 Bugs! 차트\n",
      "==================================================\n",
      "듣고 싶을까...MSG워너비(M.O.M)\n",
      "INVU...태연 (TAEYEON)\n",
      "그래서 그래 (Feat. 윤하)...에픽하이 (EPIK HIGH)\n",
      "SMILEY (Feat. BIBI)...YENA (최예나)\n",
      "RUN2U...STAYC(스테이씨)\n",
      "언제나 사랑해...케이시\n",
      "그런 밤 (Some Nights)...태연 (TAEYEON)\n",
      "존재만으로...원슈타인\n",
      "Stronger (What Doesn't Kill You)...Kelly Clarkson(켈리 클락슨)\n",
      "사랑은 늘 도망가...임영웅\n",
      "취중고백...김민석 (멜로망스)\n",
      "작은 온기...린(LYn)\n",
      "노래 (The Song)...비투비\n",
      "abcdefu...GAYLE\n",
      "잊을 수 있을까...노을\n",
      "ELEVEN...IVE (아이브)\n",
      "너, 너 (N번째 연애 X 휘인 (Whee In))...휘인(Whee In)\n",
      "직진 (JIKJIN)...TREASURE(트레저)\n",
      "라일락...아이유(IU)\n",
      "BOP BOP!...VIVIZ (비비지)\n",
      "듣고 싶을까 (Inst.)...MSG워너비(M.O.M)\n",
      "Can't Control Myself...태연 (TAEYEON)\n",
      "드라마...아이유(IU)\n",
      "아무렇지 않은 척...빅마마(Big Mama)\n",
      "Step Back...GOT the beat\n",
      "너무 아픈 사랑은 사랑이 아니었음을...김기태\n",
      "Siren...태연 (TAEYEON)\n",
      "Dilemma...Apink (에이핑크)\n",
      "Dreams Come True...aespa\n",
      "흔들리는 꽃들 속에서 네 샴푸향이 느껴진거야...장범준\n",
      "You Better Not...태연 (TAEYEON)\n",
      "No Love Again...태연 (TAEYEON)\n",
      "Weekend...태연 (TAEYEON)\n",
      "회전목마 (Feat. Zion.T, 원슈타인) (Prod. Slom)...sokodomo\n",
      "Cold As Hell...태연 (TAEYEON)\n",
      "STAY...The Kid LAROI\n",
      "품 (Heart)...태연 (TAEYEON)\n",
      "다라리 (DARARI)...TREASURE(트레저)\n",
      "ASAP...STAYC(스테이씨)\n",
      "서랍...10CM\n",
      "겨울..그다음 봄...로시(Rothy)\n",
      "스물다섯, 스물하나...자우림(Jaurim)\n",
      "리무진 (Feat. MINO) (Prod. GRAY)...BE'O (비오)\n",
      "U...TREASURE(트레저)\n",
      "strawberry moon...아이유(IU)\n",
      "오래된 노래...스탠딩 에그(Standing Egg)\n",
      "괜찮아질 거야 (IT'S OKAY)...TREASURE(트레저)\n",
      "우리가 헤어져야 했던 이유...비비(BIBI)\n",
      "색안경 (STEREOTYPE)...STAYC(스테이씨)\n",
      "Next Level...aespa\n",
      "다정히 내 이름을 부르면...경서예지\n",
      "Ending Credits...태연 (TAEYEON)\n",
      "Counting Stars (Feat. Beenzino)...BE'O (비오)\n",
      "눈이 오잖아(Feat.헤이즈)...이무진\n",
      "신호등...이무진\n",
      "늦은 밤 너의 집 앞 골목길에서...노을\n",
      "I Miss You...이무진\n",
      "Butter...방탄소년단\n",
      "YOUNG LUV...STAYC(스테이씨)\n",
      "Santa Tell Me ...Ariana Grande(아리아나 그란데)\n",
      "SAME SAME...STAYC(스테이씨)\n",
      "그녀의 웃음소리뿐...박현규\n",
      "천일동안...박현규\n",
      "SO BAD...STAYC(스테이씨)\n",
      "GHOST TOWN...Benson Boone\n",
      "겨울잠...아이유(IU)\n",
      "진또배기...이찬원\n",
      "대낮에 한 이별...선예\n",
      "Dynamite...방탄소년단\n",
      "위로...권진아\n",
      "여름비...샘김(Sam Kim)\n",
      "I Don't Care...2NE1\n",
      "Peaches (feat. Daniel Caesar, Giveon)...Justin Bieber(저스틴 비버)\n",
      "Light Switch...Charlie Puth(찰리 푸스)\n",
      "LUNATIC...문별 (마마무)\n",
      "나에게로의 초대 (이상한 나라의 앨리스, 하트다 하트여왕)...조유진 (체리필터)\n",
      "247...STAYC(스테이씨)\n",
      "DM...프로미스나인\n",
      "SO WHAT...STAYC(스테이씨)\n",
      "TOMBOY...혁오 (HYUKOH)\n",
      "Christmas Tree...V\n",
      "모나리자...울랄라세션(Ulala Session)\n",
      "THRILL RIDE...더보이즈(THE BOYZ)\n",
      "내사랑 내곁에 (응답하라 1988 삽입곡)...김현식\n",
      "Insomnia (불면증)...휘성(Realslow)\n",
      "어른아이 (Toddler)...태연 (TAEYEON)\n",
      "Set Myself On Fire...태연 (TAEYEON)\n",
      "party (SHUT DOWN) (Feat. 크러쉬)...식케이 (Sik-K)\n",
      "그대를 그리고 그린다...영학\n",
      "추억속의 그대...이주혁\n",
      "달의 몰락...태우(TAEWOO)\n",
      "오늘도 술잔에 너를 채운다...황가람\n",
      "꽃 (Flower Jar) (Feat. 윤립)...런치박스(lunCHbox)\n",
      "SLOW DOWN...STAYC(스테이씨)\n",
      "널 사랑하겠어...동물원\n",
      "Nothing...Apink (에이핑크)\n",
      "Tiny Riot...Sam Ryder\n",
      "걱정말아요 그대 (우리 동네 음악대장)...하현우(국카스텐)\n",
      "Bad Habits...Ed Sheeran(에드 시런)\n",
      "Savage...aespa\n"
     ]
    }
   ],
   "source": [
    "# 오늘의 날짜 출력\n",
    "from datetime import datetime\n",
    "year = datetime.today().year        # 현재 연도 가져오기\n",
    "month = datetime.today().month      # 현재 월 가져오기\n",
    "day = datetime.today().day        # 현재 일 가져오기\n",
    "print(f'{year}/{month}/{day} Bugs! 차트')\n",
    "print('='*50)\n",
    "\n",
    "# 벅스 100위 노래 순위 정보 가져오기\n",
    "songs = soup.select('table.byChart > tbody > tr')\n",
    "for song in songs:\n",
    "    title = song.select('p.title > a')[0].text\n",
    "    singer = song.select('p.artist > a')[0].text\n",
    "    print(title, singer, sep = '...')"
   ]
  },
  {
   "cell_type": "markdown",
   "metadata": {},
   "source": [
    "#### 코드 15.3"
   ]
  },
  {
   "cell_type": "code",
   "execution_count": 26,
   "metadata": {},
   "outputs": [
    {
     "name": "stdout",
     "output_type": "stream",
     "text": [
      "[1, '듣고 싶을까', 'MSG워너비(M.O.M)']\n",
      "[2, 'INVU', '태연 (TAEYEON)']\n",
      "[3, '그래서 그래 (Feat. 윤하)', '에픽하이 (EPIK HIGH)']\n",
      "[4, 'SMILEY (Feat. BIBI)', 'YENA (최예나)']\n",
      "[5, 'RUN2U', 'STAYC(스테이씨)']\n",
      "[6, '언제나 사랑해', '케이시']\n",
      "[7, '그런 밤 (Some Nights)', '태연 (TAEYEON)']\n",
      "[8, '존재만으로', '원슈타인']\n",
      "[9, \"Stronger (What Doesn't Kill You)\", 'Kelly Clarkson(켈리 클락슨)']\n",
      "[10, '사랑은 늘 도망가', '임영웅']\n",
      "[11, '취중고백', '김민석 (멜로망스)']\n",
      "[12, '작은 온기', '린(LYn)']\n",
      "[13, '노래 (The Song)', '비투비']\n",
      "[14, 'abcdefu', 'GAYLE']\n",
      "[15, '잊을 수 있을까', '노을']\n",
      "[16, 'ELEVEN', 'IVE (아이브)']\n",
      "[17, '너, 너 (N번째 연애 X 휘인 (Whee In))', '휘인(Whee In)']\n",
      "[18, '직진 (JIKJIN)', 'TREASURE(트레저)']\n",
      "[19, '라일락', '아이유(IU)']\n",
      "[20, 'BOP BOP!', 'VIVIZ (비비지)']\n",
      "[21, '듣고 싶을까 (Inst.)', 'MSG워너비(M.O.M)']\n",
      "[22, \"Can't Control Myself\", '태연 (TAEYEON)']\n",
      "[23, '드라마', '아이유(IU)']\n",
      "[24, '아무렇지 않은 척', '빅마마(Big Mama)']\n",
      "[25, 'Step Back', 'GOT the beat']\n",
      "[26, '너무 아픈 사랑은 사랑이 아니었음을', '김기태']\n",
      "[27, 'Siren', '태연 (TAEYEON)']\n",
      "[28, 'Dilemma', 'Apink (에이핑크)']\n",
      "[29, 'Dreams Come True', 'aespa']\n",
      "[30, '흔들리는 꽃들 속에서 네 샴푸향이 느껴진거야', '장범준']\n",
      "[31, 'You Better Not', '태연 (TAEYEON)']\n",
      "[32, 'No Love Again', '태연 (TAEYEON)']\n",
      "[33, 'Weekend', '태연 (TAEYEON)']\n",
      "[34, '회전목마 (Feat. Zion.T, 원슈타인) (Prod. Slom)', 'sokodomo']\n",
      "[35, 'Cold As Hell', '태연 (TAEYEON)']\n",
      "[36, 'STAY', 'The Kid LAROI']\n",
      "[37, '품 (Heart)', '태연 (TAEYEON)']\n",
      "[38, '다라리 (DARARI)', 'TREASURE(트레저)']\n",
      "[39, 'ASAP', 'STAYC(스테이씨)']\n",
      "[40, '서랍', '10CM']\n",
      "[41, '겨울..그다음 봄', '로시(Rothy)']\n",
      "[42, '스물다섯, 스물하나', '자우림(Jaurim)']\n",
      "[43, '리무진 (Feat. MINO) (Prod. GRAY)', \"BE'O (비오)\"]\n",
      "[44, 'U', 'TREASURE(트레저)']\n",
      "[45, 'strawberry moon', '아이유(IU)']\n",
      "[46, '오래된 노래', '스탠딩 에그(Standing Egg)']\n",
      "[47, \"괜찮아질 거야 (IT'S OKAY)\", 'TREASURE(트레저)']\n",
      "[48, '우리가 헤어져야 했던 이유', '비비(BIBI)']\n",
      "[49, '색안경 (STEREOTYPE)', 'STAYC(스테이씨)']\n",
      "[50, 'Next Level', 'aespa']\n",
      "[51, '다정히 내 이름을 부르면', '경서예지']\n",
      "[52, 'Ending Credits', '태연 (TAEYEON)']\n",
      "[53, 'Counting Stars (Feat. Beenzino)', \"BE'O (비오)\"]\n",
      "[54, '눈이 오잖아(Feat.헤이즈)', '이무진']\n",
      "[55, '신호등', '이무진']\n",
      "[56, '늦은 밤 너의 집 앞 골목길에서', '노을']\n",
      "[57, 'I Miss You', '이무진']\n",
      "[58, 'Butter', '방탄소년단']\n",
      "[59, 'YOUNG LUV', 'STAYC(스테이씨)']\n",
      "[60, 'Santa Tell Me ', 'Ariana Grande(아리아나 그란데)']\n",
      "[61, 'SAME SAME', 'STAYC(스테이씨)']\n",
      "[62, '그녀의 웃음소리뿐', '박현규']\n",
      "[63, '천일동안', '박현규']\n",
      "[64, 'SO BAD', 'STAYC(스테이씨)']\n",
      "[65, 'GHOST TOWN', 'Benson Boone']\n",
      "[66, '겨울잠', '아이유(IU)']\n",
      "[67, '진또배기', '이찬원']\n",
      "[68, '대낮에 한 이별', '선예']\n",
      "[69, 'Dynamite', '방탄소년단']\n",
      "[70, '위로', '권진아']\n",
      "[71, '여름비', '샘김(Sam Kim)']\n",
      "[72, \"I Don't Care\", '2NE1']\n",
      "[73, 'Peaches (feat. Daniel Caesar, Giveon)', 'Justin Bieber(저스틴 비버)']\n",
      "[74, 'Light Switch', 'Charlie Puth(찰리 푸스)']\n",
      "[75, 'LUNATIC', '문별 (마마무)']\n",
      "[76, '나에게로의 초대 (이상한 나라의 앨리스, 하트다 하트여왕)', '조유진 (체리필터)']\n",
      "[77, '247', 'STAYC(스테이씨)']\n",
      "[78, 'DM', '프로미스나인']\n",
      "[79, 'SO WHAT', 'STAYC(스테이씨)']\n",
      "[80, 'TOMBOY', '혁오 (HYUKOH)']\n",
      "[81, 'Christmas Tree', 'V']\n",
      "[82, '모나리자', '울랄라세션(Ulala Session)']\n",
      "[83, 'THRILL RIDE', '더보이즈(THE BOYZ)']\n",
      "[84, '내사랑 내곁에 (응답하라 1988 삽입곡)', '김현식']\n",
      "[85, 'Insomnia (불면증)', '휘성(Realslow)']\n",
      "[86, '어른아이 (Toddler)', '태연 (TAEYEON)']\n",
      "[87, 'Set Myself On Fire', '태연 (TAEYEON)']\n",
      "[88, 'party (SHUT DOWN) (Feat. 크러쉬)', '식케이 (Sik-K)']\n",
      "[89, '그대를 그리고 그린다', '영학']\n",
      "[90, '추억속의 그대', '이주혁']\n",
      "[91, '달의 몰락', '태우(TAEWOO)']\n",
      "[92, '오늘도 술잔에 너를 채운다', '황가람']\n",
      "[93, '꽃 (Flower Jar) (Feat. 윤립)', '런치박스(lunCHbox)']\n",
      "[94, 'SLOW DOWN', 'STAYC(스테이씨)']\n",
      "[95, '널 사랑하겠어', '동물원']\n",
      "[96, 'Nothing', 'Apink (에이핑크)']\n",
      "[97, 'Tiny Riot', 'Sam Ryder']\n",
      "[98, '걱정말아요 그대 (우리 동네 음악대장)', '하현우(국카스텐)']\n",
      "[99, 'Bad Habits', 'Ed Sheeran(에드 시런)']\n",
      "[100, 'Savage', 'aespa']\n"
     ]
    }
   ],
   "source": [
    "# 벅스 100위 노래 순위 정보 가져온 후 song_data에 저장하기\n",
    "song_data = []\n",
    "rank = 1\n",
    "songs = soup.select('table.byChart > tbody > tr')\n",
    "for song in songs:\n",
    "    title = song.select('p.title > a')[0].text\n",
    "    singer = song.select('p.artist > a')[0].text\n",
    "    song_data.append(['Bugs', rank, title, singer])\n",
    "    rank = rank + 1\n",
    "for data in song_data:\n",
    "    print (data[1:])"
   ]
  },
  {
   "cell_type": "markdown",
   "metadata": {},
   "source": [
    "#### 코드 15.4"
   ]
  },
  {
   "cell_type": "code",
   "execution_count": 27,
   "metadata": {},
   "outputs": [
    {
     "name": "stdout",
     "output_type": "stream",
     "text": [
      "<class 'pandas.core.frame.DataFrame'>\n",
      "RangeIndex: 100 entries, 0 to 99\n",
      "Data columns (total 4 columns):\n",
      " #   Column  Non-Null Count  Dtype \n",
      "---  ------  --------------  ----- \n",
      " 0   서비스     100 non-null    object\n",
      " 1   순위      100 non-null    int64 \n",
      " 2   타이틀     100 non-null    object\n",
      " 3   가수      100 non-null    object\n",
      "dtypes: int64(1), object(3)\n",
      "memory usage: 3.2+ KB\n"
     ]
    }
   ],
   "source": [
    "# song_data 리스트를 이용해 데이터프레임 만들기 \n",
    "import pandas as pd\n",
    "columns = ['서비스', '순위', '타이틀', '가수']\n",
    "df = pd.DataFrame(song_data, columns = columns)\n",
    "df.info()"
   ]
  },
  {
   "cell_type": "markdown",
   "metadata": {},
   "source": [
    "#### 코드 15.5"
   ]
  },
  {
   "cell_type": "code",
   "execution_count": 28,
   "metadata": {},
   "outputs": [
    {
     "data": {
      "text/html": [
       "<div>\n",
       "<style scoped>\n",
       "    .dataframe tbody tr th:only-of-type {\n",
       "        vertical-align: middle;\n",
       "    }\n",
       "\n",
       "    .dataframe tbody tr th {\n",
       "        vertical-align: top;\n",
       "    }\n",
       "\n",
       "    .dataframe thead th {\n",
       "        text-align: right;\n",
       "    }\n",
       "</style>\n",
       "<table border=\"1\" class=\"dataframe\">\n",
       "  <thead>\n",
       "    <tr style=\"text-align: right;\">\n",
       "      <th></th>\n",
       "      <th>서비스</th>\n",
       "      <th>순위</th>\n",
       "      <th>타이틀</th>\n",
       "      <th>가수</th>\n",
       "    </tr>\n",
       "  </thead>\n",
       "  <tbody>\n",
       "    <tr>\n",
       "      <th>0</th>\n",
       "      <td>Bugs</td>\n",
       "      <td>1</td>\n",
       "      <td>듣고 싶을까</td>\n",
       "      <td>MSG워너비(M.O.M)</td>\n",
       "    </tr>\n",
       "    <tr>\n",
       "      <th>1</th>\n",
       "      <td>Bugs</td>\n",
       "      <td>2</td>\n",
       "      <td>INVU</td>\n",
       "      <td>태연 (TAEYEON)</td>\n",
       "    </tr>\n",
       "    <tr>\n",
       "      <th>2</th>\n",
       "      <td>Bugs</td>\n",
       "      <td>3</td>\n",
       "      <td>그래서 그래 (Feat. 윤하)</td>\n",
       "      <td>에픽하이 (EPIK HIGH)</td>\n",
       "    </tr>\n",
       "    <tr>\n",
       "      <th>3</th>\n",
       "      <td>Bugs</td>\n",
       "      <td>4</td>\n",
       "      <td>SMILEY (Feat. BIBI)</td>\n",
       "      <td>YENA (최예나)</td>\n",
       "    </tr>\n",
       "    <tr>\n",
       "      <th>4</th>\n",
       "      <td>Bugs</td>\n",
       "      <td>5</td>\n",
       "      <td>RUN2U</td>\n",
       "      <td>STAYC(스테이씨)</td>\n",
       "    </tr>\n",
       "    <tr>\n",
       "      <th>5</th>\n",
       "      <td>Bugs</td>\n",
       "      <td>6</td>\n",
       "      <td>언제나 사랑해</td>\n",
       "      <td>케이시</td>\n",
       "    </tr>\n",
       "    <tr>\n",
       "      <th>6</th>\n",
       "      <td>Bugs</td>\n",
       "      <td>7</td>\n",
       "      <td>그런 밤 (Some Nights)</td>\n",
       "      <td>태연 (TAEYEON)</td>\n",
       "    </tr>\n",
       "    <tr>\n",
       "      <th>7</th>\n",
       "      <td>Bugs</td>\n",
       "      <td>8</td>\n",
       "      <td>존재만으로</td>\n",
       "      <td>원슈타인</td>\n",
       "    </tr>\n",
       "    <tr>\n",
       "      <th>8</th>\n",
       "      <td>Bugs</td>\n",
       "      <td>9</td>\n",
       "      <td>Stronger (What Doesn't Kill You)</td>\n",
       "      <td>Kelly Clarkson(켈리 클락슨)</td>\n",
       "    </tr>\n",
       "    <tr>\n",
       "      <th>9</th>\n",
       "      <td>Bugs</td>\n",
       "      <td>10</td>\n",
       "      <td>사랑은 늘 도망가</td>\n",
       "      <td>임영웅</td>\n",
       "    </tr>\n",
       "  </tbody>\n",
       "</table>\n",
       "</div>"
      ],
      "text/plain": [
       "    서비스  순위                               타이틀                      가수\n",
       "0  Bugs   1                            듣고 싶을까           MSG워너비(M.O.M)\n",
       "1  Bugs   2                              INVU            태연 (TAEYEON)\n",
       "2  Bugs   3                 그래서 그래 (Feat. 윤하)        에픽하이 (EPIK HIGH)\n",
       "3  Bugs   4               SMILEY (Feat. BIBI)              YENA (최예나)\n",
       "4  Bugs   5                             RUN2U             STAYC(스테이씨)\n",
       "5  Bugs   6                           언제나 사랑해                     케이시\n",
       "6  Bugs   7                그런 밤 (Some Nights)            태연 (TAEYEON)\n",
       "7  Bugs   8                             존재만으로                    원슈타인\n",
       "8  Bugs   9  Stronger (What Doesn't Kill You)  Kelly Clarkson(켈리 클락슨)\n",
       "9  Bugs  10                         사랑은 늘 도망가                     임영웅"
      ]
     },
     "execution_count": 28,
     "metadata": {},
     "output_type": "execute_result"
    }
   ],
   "source": [
    "df.head(10)"
   ]
  },
  {
   "cell_type": "markdown",
   "metadata": {},
   "source": [
    "#### 코드 15.6"
   ]
  },
  {
   "cell_type": "code",
   "execution_count": 29,
   "metadata": {},
   "outputs": [
    {
     "data": {
      "text/html": [
       "<div>\n",
       "<style scoped>\n",
       "    .dataframe tbody tr th:only-of-type {\n",
       "        vertical-align: middle;\n",
       "    }\n",
       "\n",
       "    .dataframe tbody tr th {\n",
       "        vertical-align: top;\n",
       "    }\n",
       "\n",
       "    .dataframe thead th {\n",
       "        text-align: right;\n",
       "    }\n",
       "</style>\n",
       "<table border=\"1\" class=\"dataframe\">\n",
       "  <thead>\n",
       "    <tr style=\"text-align: right;\">\n",
       "      <th></th>\n",
       "      <th>서비스</th>\n",
       "      <th>순위</th>\n",
       "      <th>타이틀</th>\n",
       "      <th>가수</th>\n",
       "    </tr>\n",
       "  </thead>\n",
       "  <tbody>\n",
       "    <tr>\n",
       "      <th>90</th>\n",
       "      <td>Bugs</td>\n",
       "      <td>91</td>\n",
       "      <td>달의 몰락</td>\n",
       "      <td>태우(TAEWOO)</td>\n",
       "    </tr>\n",
       "    <tr>\n",
       "      <th>91</th>\n",
       "      <td>Bugs</td>\n",
       "      <td>92</td>\n",
       "      <td>오늘도 술잔에 너를 채운다</td>\n",
       "      <td>황가람</td>\n",
       "    </tr>\n",
       "    <tr>\n",
       "      <th>92</th>\n",
       "      <td>Bugs</td>\n",
       "      <td>93</td>\n",
       "      <td>꽃 (Flower Jar) (Feat. 윤립)</td>\n",
       "      <td>런치박스(lunCHbox)</td>\n",
       "    </tr>\n",
       "    <tr>\n",
       "      <th>93</th>\n",
       "      <td>Bugs</td>\n",
       "      <td>94</td>\n",
       "      <td>SLOW DOWN</td>\n",
       "      <td>STAYC(스테이씨)</td>\n",
       "    </tr>\n",
       "    <tr>\n",
       "      <th>94</th>\n",
       "      <td>Bugs</td>\n",
       "      <td>95</td>\n",
       "      <td>널 사랑하겠어</td>\n",
       "      <td>동물원</td>\n",
       "    </tr>\n",
       "    <tr>\n",
       "      <th>95</th>\n",
       "      <td>Bugs</td>\n",
       "      <td>96</td>\n",
       "      <td>Nothing</td>\n",
       "      <td>Apink (에이핑크)</td>\n",
       "    </tr>\n",
       "    <tr>\n",
       "      <th>96</th>\n",
       "      <td>Bugs</td>\n",
       "      <td>97</td>\n",
       "      <td>Tiny Riot</td>\n",
       "      <td>Sam Ryder</td>\n",
       "    </tr>\n",
       "    <tr>\n",
       "      <th>97</th>\n",
       "      <td>Bugs</td>\n",
       "      <td>98</td>\n",
       "      <td>걱정말아요 그대 (우리 동네 음악대장)</td>\n",
       "      <td>하현우(국카스텐)</td>\n",
       "    </tr>\n",
       "    <tr>\n",
       "      <th>98</th>\n",
       "      <td>Bugs</td>\n",
       "      <td>99</td>\n",
       "      <td>Bad Habits</td>\n",
       "      <td>Ed Sheeran(에드 시런)</td>\n",
       "    </tr>\n",
       "    <tr>\n",
       "      <th>99</th>\n",
       "      <td>Bugs</td>\n",
       "      <td>100</td>\n",
       "      <td>Savage</td>\n",
       "      <td>aespa</td>\n",
       "    </tr>\n",
       "  </tbody>\n",
       "</table>\n",
       "</div>"
      ],
      "text/plain": [
       "     서비스   순위                        타이틀                 가수\n",
       "90  Bugs   91                      달의 몰락         태우(TAEWOO)\n",
       "91  Bugs   92             오늘도 술잔에 너를 채운다                황가람\n",
       "92  Bugs   93  꽃 (Flower Jar) (Feat. 윤립)     런치박스(lunCHbox)\n",
       "93  Bugs   94                  SLOW DOWN        STAYC(스테이씨)\n",
       "94  Bugs   95                    널 사랑하겠어                동물원\n",
       "95  Bugs   96                    Nothing       Apink (에이핑크)\n",
       "96  Bugs   97                  Tiny Riot          Sam Ryder\n",
       "97  Bugs   98      걱정말아요 그대 (우리 동네 음악대장)          하현우(국카스텐)\n",
       "98  Bugs   99                 Bad Habits  Ed Sheeran(에드 시런)\n",
       "99  Bugs  100                     Savage              aespa"
      ]
     },
     "execution_count": 29,
     "metadata": {},
     "output_type": "execute_result"
    }
   ],
   "source": [
    "df.tail(10)"
   ]
  },
  {
   "cell_type": "markdown",
   "metadata": {},
   "source": [
    "#### 코드 15.7"
   ]
  },
  {
   "cell_type": "code",
   "execution_count": 30,
   "metadata": {},
   "outputs": [],
   "source": [
    "# 크롤링 결과를 엑셀 파일로 저장하기\n",
    "df.to_excel('bugs.xlsx', index=False)"
   ]
  },
  {
   "cell_type": "markdown",
   "metadata": {},
   "source": [
    "#### [참고]"
   ]
  },
  {
   "cell_type": "code",
   "execution_count": 31,
   "metadata": {
    "scrolled": true
   },
   "outputs": [
    {
     "name": "stderr",
     "output_type": "stream",
     "text": [
      "C:\\ProgramData\\Anaconda3\\lib\\site-packages\\ipykernel_launcher.py:6: DeprecationWarning: executable_path has been deprecated, please pass in a Service object\n",
      "  \n"
     ]
    }
   ],
   "source": [
    "# 벅스 인기차트를 크롤링한 결과를 엑셀 파일로 저장하기(전체 코드)\n",
    "from selenium import webdriver \n",
    "from bs4 import BeautifulSoup \n",
    "import pandas as pd\n",
    "\n",
    "driver = webdriver.Chrome('chromedriver.exe') \n",
    "url = 'https://music.bugs.co.kr/chart'\n",
    "driver.get(url)\n",
    "\n",
    "html = driver.page_source\n",
    "soup = BeautifulSoup(html, 'html.parser')\n",
    "\n",
    "song_data = []\n",
    "rank = 1\n",
    "songs = soup.select('table.byChart > tbody > tr') \n",
    "for song in songs:\n",
    "    title = song.select('p.title > a')[0].text \n",
    "    singer = song.select('p.artist > a')[0].text \n",
    "    song_data.append(['Bugs', rank, title, singer]) \n",
    "    rank = rank + 1\n",
    "\n",
    "columns = ['서비스', '순위', '타이틀', '가수']\n",
    "pd_data = pd.DataFrame(song_data, columns = columns) \n",
    "pd_data.to_excel('bugs_final.xlsx', index=False)"
   ]
  },
  {
   "cell_type": "markdown",
   "metadata": {},
   "source": [
    "---\n",
    "### 인긴 있는 Youtube 방송"
   ]
  },
  {
   "cell_type": "markdown",
   "metadata": {},
   "source": [
    "#### 코드 15.8"
   ]
  },
  {
   "cell_type": "code",
   "execution_count": 32,
   "metadata": {},
   "outputs": [],
   "source": [
    "# 라이브러리 불러오기\n",
    "from selenium import webdriver \n",
    "from bs4 import BeautifulSoup \n",
    "import time\n",
    "import pandas as pd"
   ]
  },
  {
   "cell_type": "code",
   "execution_count": 33,
   "metadata": {},
   "outputs": [
    {
     "name": "stderr",
     "output_type": "stream",
     "text": [
      "C:\\ProgramData\\Anaconda3\\lib\\site-packages\\ipykernel_launcher.py:2: DeprecationWarning: executable_path has been deprecated, please pass in a Service object\n",
      "  \n"
     ]
    }
   ],
   "source": [
    "# webdriver로 크롬 브라우저 실행하기\n",
    "browser = webdriver.Chrome('chromedriver.exe')\n",
    "url = \"https://youtube-rank.com/board/bbs/board.php?bo_table=youtube\" \n",
    "browser.get(url)"
   ]
  },
  {
   "cell_type": "markdown",
   "metadata": {},
   "source": [
    "#### 코드 15.9"
   ]
  },
  {
   "cell_type": "code",
   "execution_count": 34,
   "metadata": {},
   "outputs": [],
   "source": [
    "# 페이지 정보 가져오기\n",
    "html = browser.page_source\n",
    "soup = BeautifulSoup(html, 'html.parser')"
   ]
  },
  {
   "cell_type": "markdown",
   "metadata": {},
   "source": [
    "#### [참고]"
   ]
  },
  {
   "cell_type": "code",
   "execution_count": 35,
   "metadata": {},
   "outputs": [
    {
     "name": "stdout",
     "output_type": "stream",
     "text": [
      "102 \n",
      "\n",
      "<tr>\n",
      "<th class=\"rank\"><a href=\"/board/bbs/board.php?bo_table=youtube&amp;sop=and&amp;sst=rank&amp;sod=desc&amp;sfl=&amp;stx=&amp;sca=&amp;page=1\">순위 <i aria-hidden=\"true\" class=\"fa fa-sort\"></i></a></th>\n",
      "<th class=\"td_img\">이미지</th>\n",
      "<th class=\"subject\">제목</th>\n",
      "<th class=\"subscriber_cnt\"><a href=\"/board/bbs/board.php?bo_table=youtube&amp;sop=and&amp;sst=subscriber_cnt&amp;sod=desc&amp;sfl=&amp;stx=&amp;sca=&amp;page=1\">구독자순 <i aria-hidden=\"true\" class=\"fa fa-sort\"></i></a></th>\n",
      "<th class=\"view_cnt\"><a href=\"/board/bbs/board.php?bo_table=youtube&amp;sop=and&amp;sst=view_cnt&amp;sod=desc&amp;sfl=&amp;stx=&amp;sca=&amp;page=1\">View순 <i aria-hidden=\"true\" class=\"fa fa-sort\"></i></a></th>\n",
      "<th class=\"video_cnt\"><a href=\"/board/bbs/board.php?bo_table=youtube&amp;sop=and&amp;sst=video_cnt&amp;sod=desc&amp;sfl=&amp;stx=&amp;sca=&amp;page=1\">Video순 <i aria-hidden=\"true\" class=\"fa fa-sort\"></i></a></th>\n",
      "<th class=\"hit\"><a href=\"/board/bbs/board.php?bo_table=youtube&amp;sop=and&amp;sst=wr_hit&amp;sod=desc&amp;sfl=&amp;stx=&amp;sca=&amp;page=1\">조회수 <i aria-hidden=\"true\" class=\"fa fa-sort\"></i></a></th>\n",
      "</tr>\n"
     ]
    }
   ],
   "source": [
    "# BeautifulSoup으로 tr 태그 추출하기\n",
    "channel_list = soup.select('tr') \n",
    "print(len(channel_list), '\\n')\n",
    "print(channel_list[0])"
   ]
  },
  {
   "cell_type": "code",
   "execution_count": 36,
   "metadata": {},
   "outputs": [
    {
     "name": "stdout",
     "output_type": "stream",
     "text": [
      "100\n"
     ]
    }
   ],
   "source": [
    "# tr 태그 확인하기\n",
    "channel_list = soup.select('form > table > tbody > tr')\n",
    "print(len(channel_list))"
   ]
  },
  {
   "cell_type": "code",
   "execution_count": 37,
   "metadata": {},
   "outputs": [
    {
     "name": "stdout",
     "output_type": "stream",
     "text": [
      "<tr class=\"aos-init aos-animate\" data-aos=\"fade-up\" data-aos-duration=\"800\">\n",
      "<td class=\"rank\">\n",
      "                        1                    </td>\n",
      "<td class=\"td_img\">\n",
      "<div class=\"info_img\"><a href=\"https://youtube-rank.com/board/bbs/board.php?bo_table=youtube&amp;wr_id=3203\"><img class=\"lazyload\" data-src=\"https://yt3.ggpht.com/ytc/AKedOLSHCtgoVkvbkntK7QjbGCT4FUrYTjGf1NQ_7VPEsA=s88-c-k-c0x00ffffff-no-rj-mo\" height=\"88\" src=\"https://yt3.ggpht.com/ytc/AKedOLSHCtgoVkvbkntK7QjbGCT4FUrYTjGf1NQ_7VPEsA=s88-c-k-c0x00ffffff-no-rj-mo\" width=\"88\"/></a></div>\n",
      "<p class=\"info_rank\">1</p>\n",
      "</td>\n",
      "<td class=\"subject\">\n",
      "<h1>\n",
      "<p <a=\"\" class=\"category\" href=\"https://youtube-rank.com/board/bbs/board.php?bo_table=youtube&amp;sca=%EC%9D%8C%EC%95%85%2F%EB%8C%84%EC%8A%A4%2F%EA%B0%80%EC%88%98\">[음악/댄스/가수]\n",
      "                                \n",
      "                                </p>\n",
      "<a href=\"https://youtube-rank.com/board/bbs/board.php?bo_table=youtube&amp;wr_id=3203\">\n",
      "\t\t\t\t\t\t\t\t\n",
      "\t\t\t\t\t\t\t\tBLACKPINK\t\t\t\t\t\t\t</a>\n",
      "<span>\n",
      "<i class=\"fa fa-comment\"></i>\n",
      "\t\t\t\t\t\t\t\t1\t\t\t\t\t\t\t</span>\n",
      "<i aria-hidden=\"true\" class=\"fa fa-heart\"></i> </h1>\n",
      "<h2><span><a href=\"https://youtube-rank.com/board/bbs/board.php?bo_table=youtube&amp;wr_id=3203\">\"YG Entertainment\" YG 와이지 K-pop BLACKPINK 블랙핑크 블핑 제니 로제 리사 지수 Lisa Jisoo Jennie ...</a></span></h2>\n",
      "<h3>\n",
      "<i class=\"fa fa-user\"></i>\n",
      "                            7240만<i class=\"fa fa-play\"></i>226억7933만                            <i class=\"fa fa-video-camera\"></i>\n",
      "                            396                            <i class=\"fa fa-eye\"></i>\n",
      "                            19,057                        </h3>\n",
      "</td>\n",
      "<td class=\"subscriber_cnt\">7240만</td>\n",
      "<td class=\"view_cnt\">226억7933만</td>\n",
      "<td class=\"video_cnt\">396개</td>\n",
      "<td class=\"hit\">\n",
      "<strong>19,057</strong>\n",
      "<span>HIT</span>\n",
      "</td>\n",
      "</tr>\n"
     ]
    }
   ],
   "source": [
    "# 채널태그출력및태그구조 확인하기\n",
    "channel = channel_list[0]\n",
    "print(channel)"
   ]
  },
  {
   "cell_type": "markdown",
   "metadata": {},
   "source": [
    "---\n",
    "#### 코드 15.10"
   ]
  },
  {
   "cell_type": "code",
   "execution_count": 38,
   "metadata": {},
   "outputs": [
    {
     "name": "stdout",
     "output_type": "stream",
     "text": [
      "[음악/댄스/가수]\n"
     ]
    }
   ],
   "source": [
    "# 카테고리 정보 추출하기\n",
    "category = channel.select('p.category')[0].text.strip()\n",
    "print(category)"
   ]
  },
  {
   "cell_type": "code",
   "execution_count": 39,
   "metadata": {},
   "outputs": [
    {
     "name": "stdout",
     "output_type": "stream",
     "text": [
      "BLACKPINK\n"
     ]
    }
   ],
   "source": [
    "# 채널명 찾아오기\n",
    "title = channel.select('h1 > a')[0].text.strip()\n",
    "print(title)"
   ]
  },
  {
   "cell_type": "code",
   "execution_count": 40,
   "metadata": {},
   "outputs": [
    {
     "name": "stdout",
     "output_type": "stream",
     "text": [
      "7240만\n",
      "226억7933만\n",
      "396개\n"
     ]
    }
   ],
   "source": [
    "# 구독자 수, View 수, 동영상 수 추출하기\n",
    "subscriber = channel.select('.subscriber_cnt')[0].text\n",
    "view = channel.select('.view_cnt')[0].text\n",
    "video = channel.select('.video_cnt')[0].text\n",
    "\n",
    "print(subscriber)\n",
    "print(view)\n",
    "print(video)"
   ]
  },
  {
   "cell_type": "markdown",
   "metadata": {},
   "source": [
    "#### 코드 15.11"
   ]
  },
  {
   "cell_type": "code",
   "execution_count": 41,
   "metadata": {},
   "outputs": [
    {
     "name": "stdout",
     "output_type": "stream",
     "text": [
      "BLACKPINK [음악/댄스/가수] 7240만 226억7933만 396개\n",
      "HYBE LABELS [음악/댄스/가수] 6430만 215억8914만 796개\n",
      "BANGTANTV [음악/댄스/가수] 6420만 152억3973만 1,675개\n",
      "SMTOWN [음악/댄스/가수] 2990만 238억3841만 3,864개\n",
      "Boram Tube Vlog [보람튜브 브이로그] [키즈/어린이] 2650만 110억5288만 223개\n",
      "1MILLION Dance Studio [음악/댄스/가수] 2490만 71억0064만 3,658개\n",
      "1theK (원더케이) [음악/댄스/가수] 2390만 217억7272만 15,994개\n",
      "JYP Entertainment [음악/댄스/가수] 2380만 157억5208만 1,461개\n",
      "Mnet K-POP [음악/댄스/가수] 1930만 144억6149만 27,300개\n",
      "KBS WORLD TV [TV/방송] 1760만 132억8645만 55,472개\n",
      "JFlaMusic [음악/댄스/가수] 1750만 35억5974만 282개\n",
      "Jane ASMR 제인 [음식/요리/레시피] 1600만 58억8984만 1,382개\n",
      "officialpsy [음악/댄스/가수] 1540만 89억9488만 91개\n",
      "BIGBANG [음악/댄스/가수] 1400만 69억5352만 773개\n",
      "TWICE [음악/댄스/가수] 1320만 30억5215만 749개\n",
      "Hongyu ASMR 홍유 [음식/요리/레시피] 1190만 35억2867만 447개\n",
      "Nao FunFun [키즈/어린이] 1060만 440만 33개\n",
      "Stone Music Entertainment [음악/댄스/가수] 1030만 85억3030만 8,579개\n",
      "핑크퐁 (인기 동요・동화) [키즈/어린이] 1030만 62억5211만 2,491개\n",
      "DuDuPopTOY [키즈/어린이] 1020만 46억3553만 2,019개\n",
      "Toymong tv 토이몽TV [키즈/어린이] 988만 40억8117만 1,985개\n",
      "MBCkpop [TV/방송] 977만 78억6837만 42,336개\n",
      "Larva TUBA [키즈/어린이] 961만 42억1979만 3,028개\n",
      "서은이야기[SeoeunStory] [키즈/어린이] 943만 40억8905만 1,051개\n",
      "[햄지]Hamzy [음식/요리/레시피] 903만 27억5593만 395개\n",
      "Mnet TV [음악/댄스/가수] 880만 105억1988만 19,668개\n",
      "TOMORROW X TOGETHER OFFICIAL [음악/댄스/가수] 875만 6억8135만 988개\n",
      "EXO [음악/댄스/가수] 870만 5억7687만 247개\n",
      "Stray Kids [음악/댄스/가수] 868만 15억1288만 554개\n",
      "MBCentertainment [뉴스/정치/사회] 862만 153억5947만 89,530개\n",
      "iKON [음악/댄스/가수] 848만 22억0663만 475개\n",
      "M2 [TV/방송] 805만 62억8384만 15,462개\n",
      "Serie A [해외] 799만 27억7038만 22,013개\n",
      "쏘영 Ssoyoung [음식/요리/레시피] 767만 8억3107만 552개\n",
      "MariAndKids [키즈/어린이] 760만 23억3763만 810개\n",
      "SEVENTEEN [음악/댄스/가수] 751만 25억9030만 1,018개\n",
      "문복희 Eat with Boki [음식/요리/레시피] 738만 17억9169만 532개\n",
      "이지금 [IU Official] [음악/댄스/가수] 737만 13억3062만 140개\n",
      "SonicToy소닉토이 [키즈/어린이] 728만 30억4503만 164개\n",
      "JTBC Entertainment [뉴스/정치/사회] 718만 104억6631만 68,406개\n",
      "Sungha Jung [음악/댄스/가수] 687만 19억1127만 1,312개\n",
      "ITZY [음악/댄스/가수] 681만 13억4688만 548개\n",
      "KBS Kpop [TV/방송] 673만 53억4573만 31,743개\n",
      "Pixar [미분류] 663만 33억1309만 701개\n",
      "YG ENTERTAINMENT [음악/댄스/가수] 660만 16억7950만 393개\n",
      "ALL THE K-POP [음악/댄스/가수] 658만 41억0343만 21,692개\n",
      "MAMAMOO [음악/댄스/가수] 653만 19억0426만 659개\n",
      "스브스케이팝 / SBS KPOP [TV/방송] 638만 45억3537만 28,394개\n",
      "SBS Entertainment [TV/방송] 621만 74억3770만 219,907개\n",
      "GOT7 [음악/댄스/가수] 617만 7억9859만 579개\n",
      "Samsung [회사/오피셜] 609만 14억6282만 1,655개\n",
      "야미보이 Yummyboy [음식/요리/레시피] 609만 22억7876만 926개\n",
      "tvN drama [TV/방송] 606만 63억0183만 39,919개\n",
      "미니특공대TV [키즈/어린이] 598만 33억7605만 1,241개\n",
      "SBS Drama [TV/방송] 595만 63억0784만 342,255개\n",
      "[장난감티비]TOYTV [키즈/어린이] 593만 29억2905만 1,569개\n",
      "PONY Syndrome [패션/미용] 593만 3억5010만 204개\n",
      "tzuyang쯔양 [음식/요리/레시피] 568만 9억9809만 331개\n",
      "스위트티비 SweetTV [키즈/어린이] 561만 27억5015만 517개\n",
      "2NE1 [음악/댄스/가수] 542만 20억2963만 321개\n",
      "백종원의 요리비책 Paik's Cuisine [음식/요리/레시피] 530만 6억1712만 387개\n",
      "TREASURE (트레저) [음악/댄스/가수] 527만 11억1283만 407개\n",
      "콩순이 Kongsuni [키즈/어린이] 521만 46억9321만 1,310개\n",
      "[Awesome Haeun]어썸하은 [BJ/인물/연예인] 519만 8억3181만 521개\n",
      "starshipTV [음악/댄스/가수] 515만 30억1292만 2,004개\n",
      "베이비버스 -인기 동요・동화 [키즈/어린이] 497만 34억1002만 1,379개\n",
      "TOY GUMA [키즈/어린이] 496만 16억3937만 306개\n",
      "NCT [음악/댄스/가수] 494만 4억2618만 337개\n",
      "BT21 [음악/댄스/가수] 491만 4억1327만 222개\n",
      "With Kids Playground [위드키즈 놀이터] [키즈/어린이] 491만 18억5292만 423개\n",
      "ToyMart TV [키즈/어린이] 490만 21억4954만 651개\n",
      "SBS NOW / SBS 공식 채널 [뉴스/정치/사회] 486만 49억2833만 20,879개\n",
      "Red Velvet [음악/댄스/가수] 476만 7억8424만 159개\n",
      "푸메Fume [음식/요리/레시피] 472만 9억8579만 528개\n",
      "KBS Entertain [TV/방송] 469만 76억7841만 104,660개\n",
      "MBCdrama [TV/방송] 463만 52억4785만 55,528개\n",
      "영국남자 Korean Englishman [BJ/인물/연예인] 463만 15억2542만 453개\n",
      "ASTRO 아스트로 [음악/댄스/가수] 461만 4억7069만 509개\n",
      "떵개떵 [음식/요리/레시피] 461만 26억6280만 4,519개\n",
      "뽀로로(Pororo) [키즈/어린이] 453만 62억1159만 3,762개\n",
      "JTBC Drama [TV/방송] 447만 45억6139만 24,563개\n",
      "NCT 127 [음악/댄스/가수] 446만 5억5271만 310개\n",
      "NCT DREAM [음악/댄스/가수] 445만 5억4009만 247개\n",
      "SBS TV동물농장x애니멀봐 [애완/반려동물] 440만 40억2703만 3,339개\n",
      "하루한끼 one meal a day [음식/요리/레시피] 440만 4억3776만 181개\n",
      "Cooking tree 쿠킹트리 [음식/요리/레시피] 439만 4억1808만 1,219개\n",
      "채널 NCT DAILY [TV/방송] 437만 7억8796만 467개\n",
      "까니짱 [ G-NI ] [음식/요리/레시피] 433만 11억6922만 577개\n",
      "슈슈토이 Shushu ToysReview [키즈/어린이] 430만 16억2891만 679개\n",
      "EA SPORTS FIFA [게임] 427만 8억0703만 796개\n",
      "Raon [음악/댄스/가수] 426만 9억9129만 304개\n",
      "로미유 스토리[Romiyu Story] [키즈/어린이] 420만 11억0975만 434개\n",
      "[Dorothy]도로시 [음식/요리/레시피] 416만 10억0938만 915개\n",
      "ROSÉ Official [음악/댄스/가수] 411만 2840만 7개\n",
      "CoCosToy 꼬꼬스토이 [키즈/어린이] 406만 23억6082만 620개\n",
      "JaeYeol ASMR 재열 [취미/라이프] 403만 11억3361만 1,060개\n",
      "MayTree [미분류] 395만 7억0366만 168개\n",
      "허팝Heopop [BJ/인물/연예인] 391만 33억8705만 1,932개\n",
      "미니팡TV [키즈/어린이] 388만 26억3497만 693개\n",
      "채널 십오야 [TV/방송] 386만 8억2773만 536개\n"
     ]
    }
   ],
   "source": [
    "# 반복문으로 채널 정보 추출하기\n",
    "channel_list = soup.select('tbody > tr')\n",
    "\n",
    "i=0\n",
    "for channel in channel_list:\n",
    "    title = channel.select('h1 > a')[0].text.strip()\n",
    "    category = channel.select('p.category')[0].text.strip()\n",
    "    subscriber = channel.select('.subscriber_cnt')[0].text\n",
    "    view = channel.select('.view_cnt')[0].text\n",
    "    video = channel.select('.video_cnt')[0].text \n",
    "    print(title, category, subscriber, view, video)\n",
    "    i+=1\n",
    "    if i==len(channel_list) - 1: break"
   ]
  },
  {
   "cell_type": "markdown",
   "metadata": {},
   "source": [
    "#### [참고]"
   ]
  },
  {
   "cell_type": "code",
   "execution_count": 42,
   "metadata": {},
   "outputs": [
    {
     "name": "stdout",
     "output_type": "stream",
     "text": [
      "https://youtube-rank.com/board/bbs/board.php?bo_table=youtube&page=1\n"
     ]
    }
   ],
   "source": [
    "# 페이지별 URL 만들기\n",
    "page = 1\n",
    "url = 'https://youtube-rank.com/board/bbs/board.php?bo_table=youtube&page={}'.format(page)\n",
    "print(url)"
   ]
  },
  {
   "cell_type": "markdown",
   "metadata": {},
   "source": [
    "#### 코드 15.12"
   ]
  },
  {
   "cell_type": "code",
   "execution_count": 43,
   "metadata": {},
   "outputs": [],
   "source": [
    "# 반복문으로 유튜브 랭킹 화면의 여러 페이지를 크롤링하기\n",
    "results = []\n",
    "for page in range(1,11):\n",
    "    url = f\"https://youtube-rank.com/board/bbs/board.php?bo_table=youtube&page={page}\" \n",
    "    browser.get(url)\n",
    "    time.sleep(2)\n",
    "    html = browser.page_source\n",
    "    soup = BeautifulSoup(html, 'html.parser')\n",
    "    channel_list = soup.select('form > table > tbody > tr')\n",
    "    for channel in channel_list:\n",
    "        title = channel.select('h1 > a')[0].text.strip() \n",
    "        category = channel.select('p.category')[0].text.strip()\n",
    "        subscriber = channel.select('.subscriber_cnt')[0].text \n",
    "        view = channel.select('.view_cnt')[0].text\n",
    "        video = channel.select('.video_cnt')[0].text\n",
    "        data = [title, category, subscriber, view, video]\n",
    "        results.append(data)"
   ]
  },
  {
   "cell_type": "markdown",
   "metadata": {},
   "source": [
    "#### 코드 15.13"
   ]
  },
  {
   "cell_type": "code",
   "execution_count": 44,
   "metadata": {},
   "outputs": [],
   "source": [
    "# 데이터 칼럼명을 설정하고 엑셀 파일로 저장하기\n",
    "df = pd.DataFrame(results)\n",
    "df.columns = ['title', 'category', 'subscriber', 'view', 'video']\n",
    "df.to_excel('youtube_rank.xlsx', index = False)"
   ]
  },
  {
   "cell_type": "markdown",
   "metadata": {},
   "source": [
    "## 유튜브 랭킹 데이터 시각화하기"
   ]
  },
  {
   "cell_type": "markdown",
   "metadata": {},
   "source": [
    "#### 코드 15.14"
   ]
  },
  {
   "cell_type": "code",
   "execution_count": 45,
   "metadata": {},
   "outputs": [],
   "source": [
    "# 라이브러리 호출\n",
    "import pandas as pd\n",
    "import matplotlib.pyplot as plt"
   ]
  },
  {
   "cell_type": "markdown",
   "metadata": {},
   "source": [
    "#### [참고]"
   ]
  },
  {
   "cell_type": "code",
   "execution_count": 46,
   "metadata": {},
   "outputs": [],
   "source": [
    "# 그래프에서 한글을 표기하기 위한 글꼴 변경(윈도우, macOS에 대해 각각 처리)\n",
    "from matplotlib import font_manager, rc\n",
    "import platform\n",
    "if platform.system() == 'Windows':\n",
    "    path = 'c:/Windows/Fonts/malgun.ttf'\n",
    "    font_name = font_manager.FontProperties(fname = path).get_name()\n",
    "    rc('font', family = font_name)\n",
    "elif platform.system() == 'Darwin':\n",
    "    rc('font', family = 'AppleGothic')\n",
    "else:\n",
    "    print('Check your OS system')"
   ]
  },
  {
   "cell_type": "markdown",
   "metadata": {},
   "source": [
    "#### 코드 15.15"
   ]
  },
  {
   "cell_type": "code",
   "execution_count": 47,
   "metadata": {},
   "outputs": [
    {
     "data": {
      "text/html": [
       "<div>\n",
       "<style scoped>\n",
       "    .dataframe tbody tr th:only-of-type {\n",
       "        vertical-align: middle;\n",
       "    }\n",
       "\n",
       "    .dataframe tbody tr th {\n",
       "        vertical-align: top;\n",
       "    }\n",
       "\n",
       "    .dataframe thead th {\n",
       "        text-align: right;\n",
       "    }\n",
       "</style>\n",
       "<table border=\"1\" class=\"dataframe\">\n",
       "  <thead>\n",
       "    <tr style=\"text-align: right;\">\n",
       "      <th></th>\n",
       "      <th>title</th>\n",
       "      <th>category</th>\n",
       "      <th>subscriber</th>\n",
       "      <th>view</th>\n",
       "      <th>video</th>\n",
       "    </tr>\n",
       "  </thead>\n",
       "  <tbody>\n",
       "    <tr>\n",
       "      <th>0</th>\n",
       "      <td>BLACKPINK</td>\n",
       "      <td>[음악/댄스/가수]</td>\n",
       "      <td>7240만</td>\n",
       "      <td>226억7933만</td>\n",
       "      <td>396개</td>\n",
       "    </tr>\n",
       "    <tr>\n",
       "      <th>1</th>\n",
       "      <td>HYBE LABELS</td>\n",
       "      <td>[음악/댄스/가수]</td>\n",
       "      <td>6430만</td>\n",
       "      <td>215억8914만</td>\n",
       "      <td>796개</td>\n",
       "    </tr>\n",
       "    <tr>\n",
       "      <th>2</th>\n",
       "      <td>BANGTANTV</td>\n",
       "      <td>[음악/댄스/가수]</td>\n",
       "      <td>6420만</td>\n",
       "      <td>152억3973만</td>\n",
       "      <td>1,675개</td>\n",
       "    </tr>\n",
       "    <tr>\n",
       "      <th>3</th>\n",
       "      <td>SMTOWN</td>\n",
       "      <td>[음악/댄스/가수]</td>\n",
       "      <td>2990만</td>\n",
       "      <td>238억3841만</td>\n",
       "      <td>3,864개</td>\n",
       "    </tr>\n",
       "    <tr>\n",
       "      <th>4</th>\n",
       "      <td>Boram Tube Vlog [보람튜브 브이로그]</td>\n",
       "      <td>[키즈/어린이]</td>\n",
       "      <td>2650만</td>\n",
       "      <td>110억5288만</td>\n",
       "      <td>223개</td>\n",
       "    </tr>\n",
       "  </tbody>\n",
       "</table>\n",
       "</div>"
      ],
      "text/plain": [
       "                         title    category subscriber       view   video\n",
       "0                    BLACKPINK  [음악/댄스/가수]      7240만  226억7933만    396개\n",
       "1                  HYBE LABELS  [음악/댄스/가수]      6430만  215억8914만    796개\n",
       "2                    BANGTANTV  [음악/댄스/가수]      6420만  152억3973만  1,675개\n",
       "3                       SMTOWN  [음악/댄스/가수]      2990만  238억3841만  3,864개\n",
       "4  Boram Tube Vlog [보람튜브 브이로그]    [키즈/어린이]      2650만  110억5288만    223개"
      ]
     },
     "execution_count": 47,
     "metadata": {},
     "output_type": "execute_result"
    }
   ],
   "source": [
    "# 엑셀 파일 불러오기\n",
    "df = pd.read_excel('youtube_rank.xlsx')\n",
    "df.head()"
   ]
  },
  {
   "cell_type": "markdown",
   "metadata": {},
   "source": [
    "#### [참고]"
   ]
  },
  {
   "cell_type": "code",
   "execution_count": 48,
   "metadata": {},
   "outputs": [
    {
     "data": {
      "text/html": [
       "<div>\n",
       "<style scoped>\n",
       "    .dataframe tbody tr th:only-of-type {\n",
       "        vertical-align: middle;\n",
       "    }\n",
       "\n",
       "    .dataframe tbody tr th {\n",
       "        vertical-align: top;\n",
       "    }\n",
       "\n",
       "    .dataframe thead th {\n",
       "        text-align: right;\n",
       "    }\n",
       "</style>\n",
       "<table border=\"1\" class=\"dataframe\">\n",
       "  <thead>\n",
       "    <tr style=\"text-align: right;\">\n",
       "      <th></th>\n",
       "      <th>title</th>\n",
       "      <th>category</th>\n",
       "      <th>subscriber</th>\n",
       "      <th>view</th>\n",
       "      <th>video</th>\n",
       "    </tr>\n",
       "  </thead>\n",
       "  <tbody>\n",
       "    <tr>\n",
       "      <th>995</th>\n",
       "      <td>TAU</td>\n",
       "      <td>[취미/라이프]</td>\n",
       "      <td>57만</td>\n",
       "      <td>3억5613만</td>\n",
       "      <td>111개</td>\n",
       "    </tr>\n",
       "    <tr>\n",
       "      <th>996</th>\n",
       "      <td>Ed Sheeran - Topic</td>\n",
       "      <td>[미분류]</td>\n",
       "      <td>57만</td>\n",
       "      <td>16억3262만</td>\n",
       "      <td>568개</td>\n",
       "    </tr>\n",
       "    <tr>\n",
       "      <th>997</th>\n",
       "      <td>DanalEntertainment</td>\n",
       "      <td>[음악/댄스/가수]</td>\n",
       "      <td>57만</td>\n",
       "      <td>3억0303만</td>\n",
       "      <td>9,844개</td>\n",
       "    </tr>\n",
       "    <tr>\n",
       "      <th>998</th>\n",
       "      <td>효크포크 Krazy girl</td>\n",
       "      <td>[TV/방송]</td>\n",
       "      <td>57만</td>\n",
       "      <td>1억3968만</td>\n",
       "      <td>129개</td>\n",
       "    </tr>\n",
       "    <tr>\n",
       "      <th>999</th>\n",
       "      <td>Arirang News</td>\n",
       "      <td>[뉴스/정치/사회]</td>\n",
       "      <td>56만</td>\n",
       "      <td>2억5501만</td>\n",
       "      <td>129,730개</td>\n",
       "    </tr>\n",
       "  </tbody>\n",
       "</table>\n",
       "</div>"
      ],
      "text/plain": [
       "                  title    category subscriber      view     video\n",
       "995                 TAU    [취미/라이프]        57만   3억5613만      111개\n",
       "996  Ed Sheeran - Topic       [미분류]        57만  16억3262만      568개\n",
       "997  DanalEntertainment  [음악/댄스/가수]        57만   3억0303만    9,844개\n",
       "998     효크포크 Krazy girl     [TV/방송]        57만   1억3968만      129개\n",
       "999        Arirang News  [뉴스/정치/사회]        56만   2억5501만  129,730개"
      ]
     },
     "execution_count": 48,
     "metadata": {},
     "output_type": "execute_result"
    }
   ],
   "source": [
    "# 데이터 살펴보기\n",
    "df.tail()"
   ]
  },
  {
   "cell_type": "code",
   "execution_count": 49,
   "metadata": {},
   "outputs": [
    {
     "data": {
      "text/plain": [
       "0    7240만\n",
       "1    6430만\n",
       "2    6420만\n",
       "3    2990만\n",
       "4    2650만\n",
       "5    2490만\n",
       "6    2390만\n",
       "7    2380만\n",
       "8    1930만\n",
       "9    1760만\n",
       "Name: subscriber, dtype: object"
      ]
     },
     "execution_count": 49,
     "metadata": {},
     "output_type": "execute_result"
    }
   ],
   "source": [
    "# 데이터 살펴보기\n",
    "df['subscriber'].head(10)"
   ]
  },
  {
   "cell_type": "code",
   "execution_count": 50,
   "metadata": {},
   "outputs": [
    {
     "data": {
      "text/plain": [
       "0    72400000\n",
       "1    64300000\n",
       "2    64200000\n",
       "3    29900000\n",
       "4    26500000\n",
       "5    24900000\n",
       "6    23900000\n",
       "7    23800000\n",
       "8    19300000\n",
       "9    17600000\n",
       "Name: subscriber, dtype: object"
      ]
     },
     "execution_count": 50,
     "metadata": {},
     "output_type": "execute_result"
    }
   ],
   "source": [
    "# 데이터 살펴보기\n",
    "df['subscriber'].str.replace('만', '0000').head(10)"
   ]
  },
  {
   "cell_type": "markdown",
   "metadata": {},
   "source": [
    "---\n",
    "#### 코드 15.16"
   ]
  },
  {
   "cell_type": "code",
   "execution_count": 51,
   "metadata": {},
   "outputs": [
    {
     "data": {
      "text/html": [
       "<div>\n",
       "<style scoped>\n",
       "    .dataframe tbody tr th:only-of-type {\n",
       "        vertical-align: middle;\n",
       "    }\n",
       "\n",
       "    .dataframe tbody tr th {\n",
       "        vertical-align: top;\n",
       "    }\n",
       "\n",
       "    .dataframe thead th {\n",
       "        text-align: right;\n",
       "    }\n",
       "</style>\n",
       "<table border=\"1\" class=\"dataframe\">\n",
       "  <thead>\n",
       "    <tr style=\"text-align: right;\">\n",
       "      <th></th>\n",
       "      <th>title</th>\n",
       "      <th>category</th>\n",
       "      <th>subscriber</th>\n",
       "      <th>view</th>\n",
       "      <th>video</th>\n",
       "      <th>replaced_subscriber</th>\n",
       "    </tr>\n",
       "  </thead>\n",
       "  <tbody>\n",
       "    <tr>\n",
       "      <th>0</th>\n",
       "      <td>BLACKPINK</td>\n",
       "      <td>[음악/댄스/가수]</td>\n",
       "      <td>7240만</td>\n",
       "      <td>226억7933만</td>\n",
       "      <td>396개</td>\n",
       "      <td>72400000</td>\n",
       "    </tr>\n",
       "    <tr>\n",
       "      <th>1</th>\n",
       "      <td>HYBE LABELS</td>\n",
       "      <td>[음악/댄스/가수]</td>\n",
       "      <td>6430만</td>\n",
       "      <td>215억8914만</td>\n",
       "      <td>796개</td>\n",
       "      <td>64300000</td>\n",
       "    </tr>\n",
       "    <tr>\n",
       "      <th>2</th>\n",
       "      <td>BANGTANTV</td>\n",
       "      <td>[음악/댄스/가수]</td>\n",
       "      <td>6420만</td>\n",
       "      <td>152억3973만</td>\n",
       "      <td>1,675개</td>\n",
       "      <td>64200000</td>\n",
       "    </tr>\n",
       "    <tr>\n",
       "      <th>3</th>\n",
       "      <td>SMTOWN</td>\n",
       "      <td>[음악/댄스/가수]</td>\n",
       "      <td>2990만</td>\n",
       "      <td>238억3841만</td>\n",
       "      <td>3,864개</td>\n",
       "      <td>29900000</td>\n",
       "    </tr>\n",
       "    <tr>\n",
       "      <th>4</th>\n",
       "      <td>Boram Tube Vlog [보람튜브 브이로그]</td>\n",
       "      <td>[키즈/어린이]</td>\n",
       "      <td>2650만</td>\n",
       "      <td>110억5288만</td>\n",
       "      <td>223개</td>\n",
       "      <td>26500000</td>\n",
       "    </tr>\n",
       "  </tbody>\n",
       "</table>\n",
       "</div>"
      ],
      "text/plain": [
       "                         title    category subscriber       view   video  \\\n",
       "0                    BLACKPINK  [음악/댄스/가수]      7240만  226억7933만    396개   \n",
       "1                  HYBE LABELS  [음악/댄스/가수]      6430만  215억8914만    796개   \n",
       "2                    BANGTANTV  [음악/댄스/가수]      6420만  152억3973만  1,675개   \n",
       "3                       SMTOWN  [음악/댄스/가수]      2990만  238억3841만  3,864개   \n",
       "4  Boram Tube Vlog [보람튜브 브이로그]    [키즈/어린이]      2650만  110억5288만    223개   \n",
       "\n",
       "  replaced_subscriber  \n",
       "0            72400000  \n",
       "1            64300000  \n",
       "2            64200000  \n",
       "3            29900000  \n",
       "4            26500000  "
      ]
     },
     "execution_count": 51,
     "metadata": {},
     "output_type": "execute_result"
    }
   ],
   "source": [
    "# replaced_subscriber 시리즈 문자열 변경하기\n",
    "df['replaced_subscriber'] = df['subscriber'].str.replace('만', '0000')\n",
    "df.head()"
   ]
  },
  {
   "cell_type": "markdown",
   "metadata": {},
   "source": [
    "#### [참고]"
   ]
  },
  {
   "cell_type": "code",
   "execution_count": 52,
   "metadata": {},
   "outputs": [
    {
     "name": "stdout",
     "output_type": "stream",
     "text": [
      "<class 'pandas.core.frame.DataFrame'>\n",
      "RangeIndex: 1000 entries, 0 to 999\n",
      "Data columns (total 6 columns):\n",
      " #   Column               Non-Null Count  Dtype \n",
      "---  ------               --------------  ----- \n",
      " 0   title                1000 non-null   object\n",
      " 1   category             1000 non-null   object\n",
      " 2   subscriber           1000 non-null   object\n",
      " 3   view                 1000 non-null   object\n",
      " 4   video                1000 non-null   object\n",
      " 5   replaced_subscriber  1000 non-null   object\n",
      "dtypes: object(6)\n",
      "memory usage: 47.0+ KB\n"
     ]
    }
   ],
   "source": [
    "# 데이터 상세 정보\n",
    "df.info()"
   ]
  },
  {
   "cell_type": "markdown",
   "metadata": {},
   "source": [
    "#### 코드 15.17"
   ]
  },
  {
   "cell_type": "code",
   "execution_count": 53,
   "metadata": {},
   "outputs": [
    {
     "name": "stdout",
     "output_type": "stream",
     "text": [
      "<class 'pandas.core.frame.DataFrame'>\n",
      "RangeIndex: 1000 entries, 0 to 999\n",
      "Data columns (total 6 columns):\n",
      " #   Column               Non-Null Count  Dtype \n",
      "---  ------               --------------  ----- \n",
      " 0   title                1000 non-null   object\n",
      " 1   category             1000 non-null   object\n",
      " 2   subscriber           1000 non-null   object\n",
      " 3   view                 1000 non-null   object\n",
      " 4   video                1000 non-null   object\n",
      " 5   replaced_subscriber  1000 non-null   int32 \n",
      "dtypes: int32(1), object(5)\n",
      "memory usage: 43.1+ KB\n"
     ]
    }
   ],
   "source": [
    "# Series 데이터 타입 변환하기\n",
    "df['replaced_subscriber'] = df['replaced_subscriber'].astype('int')\n",
    "df.info()"
   ]
  },
  {
   "cell_type": "markdown",
   "metadata": {},
   "source": [
    "#### 코드 15.18"
   ]
  },
  {
   "cell_type": "code",
   "execution_count": 54,
   "metadata": {},
   "outputs": [
    {
     "data": {
      "text/html": [
       "<div>\n",
       "<style scoped>\n",
       "    .dataframe tbody tr th:only-of-type {\n",
       "        vertical-align: middle;\n",
       "    }\n",
       "\n",
       "    .dataframe tbody tr th {\n",
       "        vertical-align: top;\n",
       "    }\n",
       "\n",
       "    .dataframe thead tr th {\n",
       "        text-align: left;\n",
       "    }\n",
       "\n",
       "    .dataframe thead tr:last-of-type th {\n",
       "        text-align: right;\n",
       "    }\n",
       "</style>\n",
       "<table border=\"1\" class=\"dataframe\">\n",
       "  <thead>\n",
       "    <tr>\n",
       "      <th></th>\n",
       "      <th>sum</th>\n",
       "      <th>count</th>\n",
       "    </tr>\n",
       "    <tr>\n",
       "      <th></th>\n",
       "      <th>replaced_subscriber</th>\n",
       "      <th>replaced_subscriber</th>\n",
       "    </tr>\n",
       "    <tr>\n",
       "      <th>category</th>\n",
       "      <th></th>\n",
       "      <th></th>\n",
       "    </tr>\n",
       "  </thead>\n",
       "  <tbody>\n",
       "    <tr>\n",
       "      <th>[BJ/인물/연예인]</th>\n",
       "      <td>93110000</td>\n",
       "      <td>63</td>\n",
       "    </tr>\n",
       "    <tr>\n",
       "      <th>[IT/기술/컴퓨터]</th>\n",
       "      <td>8720000</td>\n",
       "      <td>8</td>\n",
       "    </tr>\n",
       "    <tr>\n",
       "      <th>[TV/방송]</th>\n",
       "      <td>251480000</td>\n",
       "      <td>147</td>\n",
       "    </tr>\n",
       "    <tr>\n",
       "      <th>[게임]</th>\n",
       "      <td>71720000</td>\n",
       "      <td>69</td>\n",
       "    </tr>\n",
       "    <tr>\n",
       "      <th>[교육/강의]</th>\n",
       "      <td>25140000</td>\n",
       "      <td>21</td>\n",
       "    </tr>\n",
       "  </tbody>\n",
       "</table>\n",
       "</div>"
      ],
      "text/plain": [
       "                            sum               count\n",
       "            replaced_subscriber replaced_subscriber\n",
       "category                                           \n",
       "[BJ/인물/연예인]            93110000                  63\n",
       "[IT/기술/컴퓨터]             8720000                   8\n",
       "[TV/방송]               251480000                 147\n",
       "[게임]                   71720000                  69\n",
       "[교육/강의]                25140000                  21"
      ]
     },
     "execution_count": 54,
     "metadata": {},
     "output_type": "execute_result"
    }
   ],
   "source": [
    "# 카테고리별 구독자 수, 채널 수 피봇 테이블 생성하기\n",
    "pivot_df = df.pivot_table(index = 'category', values = 'replaced_subscriber', \n",
    "                          aggfunc = ['sum','count'])\n",
    "pivot_df.head()"
   ]
  },
  {
   "cell_type": "markdown",
   "metadata": {},
   "source": [
    "#### 코드 15.19"
   ]
  },
  {
   "cell_type": "code",
   "execution_count": 55,
   "metadata": {},
   "outputs": [
    {
     "data": {
      "text/html": [
       "<div>\n",
       "<style scoped>\n",
       "    .dataframe tbody tr th:only-of-type {\n",
       "        vertical-align: middle;\n",
       "    }\n",
       "\n",
       "    .dataframe tbody tr th {\n",
       "        vertical-align: top;\n",
       "    }\n",
       "\n",
       "    .dataframe thead th {\n",
       "        text-align: right;\n",
       "    }\n",
       "</style>\n",
       "<table border=\"1\" class=\"dataframe\">\n",
       "  <thead>\n",
       "    <tr style=\"text-align: right;\">\n",
       "      <th></th>\n",
       "      <th>subscriber_sum</th>\n",
       "      <th>category_count</th>\n",
       "    </tr>\n",
       "    <tr>\n",
       "      <th>category</th>\n",
       "      <th></th>\n",
       "      <th></th>\n",
       "    </tr>\n",
       "  </thead>\n",
       "  <tbody>\n",
       "    <tr>\n",
       "      <th>[BJ/인물/연예인]</th>\n",
       "      <td>93110000</td>\n",
       "      <td>63</td>\n",
       "    </tr>\n",
       "    <tr>\n",
       "      <th>[IT/기술/컴퓨터]</th>\n",
       "      <td>8720000</td>\n",
       "      <td>8</td>\n",
       "    </tr>\n",
       "    <tr>\n",
       "      <th>[TV/방송]</th>\n",
       "      <td>251480000</td>\n",
       "      <td>147</td>\n",
       "    </tr>\n",
       "    <tr>\n",
       "      <th>[게임]</th>\n",
       "      <td>71720000</td>\n",
       "      <td>69</td>\n",
       "    </tr>\n",
       "    <tr>\n",
       "      <th>[교육/강의]</th>\n",
       "      <td>25140000</td>\n",
       "      <td>21</td>\n",
       "    </tr>\n",
       "  </tbody>\n",
       "</table>\n",
       "</div>"
      ],
      "text/plain": [
       "             subscriber_sum  category_count\n",
       "category                                   \n",
       "[BJ/인물/연예인]        93110000              63\n",
       "[IT/기술/컴퓨터]         8720000               8\n",
       "[TV/방송]           251480000             147\n",
       "[게임]               71720000              69\n",
       "[교육/강의]            25140000              21"
      ]
     },
     "execution_count": 55,
     "metadata": {},
     "output_type": "execute_result"
    }
   ],
   "source": [
    "# 데이터프레임의 칼럼명 변경하기\n",
    "pivot_df.columns = ['subscriber_sum', 'category_count']\n",
    "pivot_df.head()"
   ]
  },
  {
   "cell_type": "markdown",
   "metadata": {},
   "source": [
    "#### 코드 15.20"
   ]
  },
  {
   "cell_type": "code",
   "execution_count": 56,
   "metadata": {},
   "outputs": [
    {
     "data": {
      "text/html": [
       "<div>\n",
       "<style scoped>\n",
       "    .dataframe tbody tr th:only-of-type {\n",
       "        vertical-align: middle;\n",
       "    }\n",
       "\n",
       "    .dataframe tbody tr th {\n",
       "        vertical-align: top;\n",
       "    }\n",
       "\n",
       "    .dataframe thead th {\n",
       "        text-align: right;\n",
       "    }\n",
       "</style>\n",
       "<table border=\"1\" class=\"dataframe\">\n",
       "  <thead>\n",
       "    <tr style=\"text-align: right;\">\n",
       "      <th></th>\n",
       "      <th>category</th>\n",
       "      <th>subscriber_sum</th>\n",
       "      <th>category_count</th>\n",
       "    </tr>\n",
       "  </thead>\n",
       "  <tbody>\n",
       "    <tr>\n",
       "      <th>0</th>\n",
       "      <td>[BJ/인물/연예인]</td>\n",
       "      <td>93110000</td>\n",
       "      <td>63</td>\n",
       "    </tr>\n",
       "    <tr>\n",
       "      <th>1</th>\n",
       "      <td>[IT/기술/컴퓨터]</td>\n",
       "      <td>8720000</td>\n",
       "      <td>8</td>\n",
       "    </tr>\n",
       "    <tr>\n",
       "      <th>2</th>\n",
       "      <td>[TV/방송]</td>\n",
       "      <td>251480000</td>\n",
       "      <td>147</td>\n",
       "    </tr>\n",
       "    <tr>\n",
       "      <th>3</th>\n",
       "      <td>[게임]</td>\n",
       "      <td>71720000</td>\n",
       "      <td>69</td>\n",
       "    </tr>\n",
       "    <tr>\n",
       "      <th>4</th>\n",
       "      <td>[교육/강의]</td>\n",
       "      <td>25140000</td>\n",
       "      <td>21</td>\n",
       "    </tr>\n",
       "  </tbody>\n",
       "</table>\n",
       "</div>"
      ],
      "text/plain": [
       "      category  subscriber_sum  category_count\n",
       "0  [BJ/인물/연예인]        93110000              63\n",
       "1  [IT/기술/컴퓨터]         8720000               8\n",
       "2      [TV/방송]       251480000             147\n",
       "3         [게임]        71720000              69\n",
       "4      [교육/강의]        25140000              21"
      ]
     },
     "execution_count": 56,
     "metadata": {},
     "output_type": "execute_result"
    }
   ],
   "source": [
    "# 데이터프레임의인덱스초기화하기\n",
    "pivot_df = pivot_df.reset_index()\n",
    "pivot_df.head()"
   ]
  },
  {
   "cell_type": "markdown",
   "metadata": {},
   "source": [
    "#### 코드 15.21"
   ]
  },
  {
   "cell_type": "code",
   "execution_count": 57,
   "metadata": {},
   "outputs": [
    {
     "data": {
      "text/html": [
       "<div>\n",
       "<style scoped>\n",
       "    .dataframe tbody tr th:only-of-type {\n",
       "        vertical-align: middle;\n",
       "    }\n",
       "\n",
       "    .dataframe tbody tr th {\n",
       "        vertical-align: top;\n",
       "    }\n",
       "\n",
       "    .dataframe thead th {\n",
       "        text-align: right;\n",
       "    }\n",
       "</style>\n",
       "<table border=\"1\" class=\"dataframe\">\n",
       "  <thead>\n",
       "    <tr style=\"text-align: right;\">\n",
       "      <th></th>\n",
       "      <th>category</th>\n",
       "      <th>subscriber_sum</th>\n",
       "      <th>category_count</th>\n",
       "    </tr>\n",
       "  </thead>\n",
       "  <tbody>\n",
       "    <tr>\n",
       "      <th>12</th>\n",
       "      <td>[음악/댄스/가수]</td>\n",
       "      <td>734550000</td>\n",
       "      <td>169</td>\n",
       "    </tr>\n",
       "    <tr>\n",
       "      <th>17</th>\n",
       "      <td>[키즈/어린이]</td>\n",
       "      <td>268940000</td>\n",
       "      <td>88</td>\n",
       "    </tr>\n",
       "    <tr>\n",
       "      <th>2</th>\n",
       "      <td>[TV/방송]</td>\n",
       "      <td>251480000</td>\n",
       "      <td>147</td>\n",
       "    </tr>\n",
       "    <tr>\n",
       "      <th>11</th>\n",
       "      <td>[음식/요리/레시피]</td>\n",
       "      <td>192180000</td>\n",
       "      <td>82</td>\n",
       "    </tr>\n",
       "    <tr>\n",
       "      <th>7</th>\n",
       "      <td>[미분류]</td>\n",
       "      <td>116540000</td>\n",
       "      <td>133</td>\n",
       "    </tr>\n",
       "  </tbody>\n",
       "</table>\n",
       "</div>"
      ],
      "text/plain": [
       "       category  subscriber_sum  category_count\n",
       "12   [음악/댄스/가수]       734550000             169\n",
       "17     [키즈/어린이]       268940000              88\n",
       "2       [TV/방송]       251480000             147\n",
       "11  [음식/요리/레시피]       192180000              82\n",
       "7         [미분류]       116540000             133"
      ]
     },
     "execution_count": 57,
     "metadata": {},
     "output_type": "execute_result"
    }
   ],
   "source": [
    "# 데이터프레임을내림차순정렬하기\n",
    "pivot_df = pivot_df.sort_values(by='subscriber_sum', \n",
    "                                ascending=False)\n",
    "pivot_df.head()"
   ]
  },
  {
   "cell_type": "markdown",
   "metadata": {},
   "source": [
    "#### 코드 15.22"
   ]
  },
  {
   "cell_type": "code",
   "execution_count": 58,
   "metadata": {},
   "outputs": [
    {
     "data": {
      "image/png": "[encoded data removed]",
      "text/plain": [
       "<Figure size 2160x720 with 1 Axes>"
      ]
     },
     "metadata": {},
     "output_type": "display_data"
    }
   ],
   "source": [
    "# 카테고리별구독자수시각화하기\n",
    "plt.figure(figsize = (30,10))\n",
    "plt.pie(pivot_df['subscriber_sum'],\n",
    "        labels=pivot_df['category'], autopct='%1.1f%%')\n",
    "plt.show()"
   ]
  },
  {
   "cell_type": "markdown",
   "metadata": {},
   "source": [
    "#### 코드 15.23"
   ]
  },
  {
   "cell_type": "code",
   "execution_count": 59,
   "metadata": {},
   "outputs": [
    {
     "data": {
      "image/png": "[encoded data removed]",
      "text/plain": [
       "<Figure size 2160x720 with 1 Axes>"
      ]
     },
     "metadata": {},
     "output_type": "display_data"
    }
   ],
   "source": [
    "# 카테고리별 채널 수 시각화하기\n",
    "pivot_df = pivot_df.sort_values(by='category_count', \n",
    "                                ascending=False)\n",
    "plt.figure(figsize = (30,10))\n",
    "plt.pie(pivot_df['category_count'], labels=pivot_df['category'], \n",
    "        autopct='%1.1f%%')\n",
    "plt.show()"
   ]
  },
  {
   "cell_type": "markdown",
   "metadata": {},
   "source": [
    "---\n",
    "### Naver 키워드 검색"
   ]
  },
  {
   "cell_type": "markdown",
   "metadata": {
    "id": "wFSTMJmq_yij"
   },
   "source": [
    "1. 데이터 획득\n",
    "\n",
    "먼저 [네이버 개발자 센터](https://developers.naver.com)에서 어플리케이션 등록(api 이용 신청)을 한다.\n",
    "\n",
    "등록 후, 자신의 Client ID와 비밀번호를 따로 저장해둔다.\n"
   ]
  },
  {
   "cell_type": "markdown",
   "metadata": {},
   "source": [
    "#### 코드 15.24"
   ]
  },
  {
   "cell_type": "code",
   "execution_count": 1,
   "metadata": {
    "colab": {
     "base_uri": "https://localhost:8080/"
    },
    "executionInfo": {
     "elapsed": 1200,
     "status": "ok",
     "timestamp": 1638584789849,
     "user": {
      "displayName": "심규현",
      "photoUrl": "https://lh3.googleusercontent.com/a-/AOh14GhUsWhBvCuWBX8eybQOLddreDC1UApHKcmBFbvDAA=s64",
      "userId": "00091973774470887912"
     },
     "user_tz": -540
    },
    "id": "OIJFOfKK_was",
    "outputId": "2724331d-da57-4101-df17-238d4e26cdab"
   },
   "outputs": [
    {
     "name": "stdout",
     "output_type": "stream",
     "text": [
      "{'startDate': '2017-08-01', 'endDate': '2021-03-31', 'timeUnit': 'month', 'results': [{'title': '강릉', 'keyword': ['강릉'], 'data': [{'period': '2017-08-01', 'ratio': 3.07962}, {'period': '2017-09-01', 'ratio': 5.5277}, {'period': '2017-10-01', 'ratio': 13.1584}, {'period': '2017-11-01', 'ratio': 8.4706}, {'period': '2017-12-01', 'ratio': 15.04655}, {'period': '2018-01-01', 'ratio': 14.86424}, {'period': '2018-02-01', 'ratio': 19.8841}, {'period': '2018-03-01', 'ratio': 16.00364}, {'period': '2018-04-01', 'ratio': 20.47008}, {'period': '2018-05-01', 'ratio': 19.32417}, {'period': '2018-06-01', 'ratio': 20.06641}, {'period': '2018-07-01', 'ratio': 23.58226}, {'period': '2018-08-01', 'ratio': 32.35887}, {'period': '2018-09-01', 'ratio': 4.51852}, {'period': '2018-10-01', 'ratio': 4.81802}, {'period': '2018-11-01', 'ratio': 9.03704}, {'period': '2018-12-01', 'ratio': 19.02467}, {'period': '2019-01-01', 'ratio': 4.81802}, {'period': '2019-02-01', 'ratio': 7.37027}, {'period': '2019-03-01', 'ratio': 12.46174}, {'period': '2019-04-01', 'ratio': 6.86242}, {'period': '2019-05-01', 'ratio': 10.90565}, {'period': '2019-06-01', 'ratio': 14.14154}, {'period': '2019-07-01', 'ratio': 36.4607}, {'period': '2019-08-01', 'ratio': 21.92851}, {'period': '2019-09-01', 'ratio': 9.52535}, {'period': '2019-10-01', 'ratio': 5.79464}, {'period': '2019-11-01', 'ratio': 3.80233}, {'period': '2019-12-01', 'ratio': 6.95357}, {'period': '2020-01-01', 'ratio': 6.41968}, {'period': '2020-02-01', 'ratio': 4.7464}, {'period': '2020-03-01', 'ratio': 15.41767}, {'period': '2020-04-01', 'ratio': 28.21147}, {'period': '2020-05-01', 'ratio': 20.91933}, {'period': '2020-06-01', 'ratio': 32.32632}, {'period': '2020-07-01', 'ratio': 63.70206}, {'period': '2020-08-01', 'ratio': 34.39677}, {'period': '2020-09-01', 'ratio': 14.57777}, {'period': '2020-10-01', 'ratio': 15.74321}, {'period': '2020-11-01', 'ratio': 13.41884}, {'period': '2020-12-01', 'ratio': 9.03704}, {'period': '2021-01-01', 'ratio': 12.80031}, {'period': '2021-02-01', 'ratio': 18.06107}, {'period': '2021-03-01', 'ratio': 10.28712}]}, {'title': '제주', 'keyword': ['제주'], 'data': [{'period': '2017-08-01', 'ratio': 8.78963}, {'period': '2017-09-01', 'ratio': 3.62002}, {'period': '2017-10-01', 'ratio': 1.17195}, {'period': '2017-11-01', 'ratio': 1.00918}, {'period': '2017-12-01', 'ratio': 0.94407}, {'period': '2018-01-01', 'ratio': 1.73839}, {'period': '2018-02-01', 'ratio': 1.31518}, {'period': '2018-03-01', 'ratio': 1.85558}, {'period': '2018-04-01', 'ratio': 4.6878}, {'period': '2018-05-01', 'ratio': 4.83104}, {'period': '2018-06-01', 'ratio': 4.78546}, {'period': '2018-07-01', 'ratio': 1.56911}, {'period': '2018-08-01', 'ratio': 1.42587}, {'period': '2018-09-01', 'ratio': 0.86594}, {'period': '2018-10-01', 'ratio': 0.9636}, {'period': '2018-11-01', 'ratio': 0.85943}, {'period': '2018-12-01', 'ratio': 1.60166}, {'period': '2019-01-01', 'ratio': 3.17729}, {'period': '2019-02-01', 'ratio': 3.30099}, {'period': '2019-03-01', 'ratio': 3.46376}, {'period': '2019-04-01', 'ratio': 3.22286}, {'period': '2019-05-01', 'ratio': 4.36877}, {'period': '2019-06-01', 'ratio': 3.76326}, {'period': '2019-07-01', 'ratio': 2.36994}, {'period': '2019-08-01', 'ratio': 2.2267}, {'period': '2019-09-01', 'ratio': 1.28263}, {'period': '2019-10-01', 'ratio': 1.60166}, {'period': '2019-11-01', 'ratio': 1.61468}, {'period': '2019-12-01', 'ratio': 2.1681}, {'period': '2020-01-01', 'ratio': 2.97545}, {'period': '2020-02-01', 'ratio': 3.07962}, {'period': '2020-03-01', 'ratio': 2.89081}, {'period': '2020-04-01', 'ratio': 1.49749}, {'period': '2020-05-01', 'ratio': 2.07695}, {'period': '2020-06-01', 'ratio': 2.38947}, {'period': '2020-07-01', 'ratio': 5.00683}, {'period': '2020-08-01', 'ratio': 2.22019}, {'period': '2020-09-01', 'ratio': 1.71886}, {'period': '2020-10-01', 'ratio': 2.27228}, {'period': '2020-11-01', 'ratio': 1.47796}, {'period': '2020-12-01', 'ratio': 0.57946}, {'period': '2021-01-01', 'ratio': 0.306}, {'period': '2021-02-01', 'ratio': 0.33856}, {'period': '2021-03-01', 'ratio': 0.82687}]}, {'title': '오사카', 'keyword': ['오사카'], 'data': [{'period': '2017-08-01', 'ratio': 14.46057}, {'period': '2017-09-01', 'ratio': 14.3564}, {'period': '2017-10-01', 'ratio': 12.81984}, {'period': '2017-11-01', 'ratio': 16.12084}, {'period': '2017-12-01', 'ratio': 20.38544}, {'period': '2018-01-01', 'ratio': 22.37124}, {'period': '2018-02-01', 'ratio': 17.14304}, {'period': '2018-03-01', 'ratio': 21.72016}, {'period': '2018-04-01', 'ratio': 16.45289}, {'period': '2018-05-01', 'ratio': 14.55823}, {'period': '2018-06-01', 'ratio': 21.18627}, {'period': '2018-07-01', 'ratio': 14.78611}, {'period': '2018-08-01', 'ratio': 10.65824}, {'period': '2018-09-01', 'ratio': 11.79764}, {'period': '2018-10-01', 'ratio': 8.01484}, {'period': '2018-11-01', 'ratio': 9.8509}, {'period': '2018-12-01', 'ratio': 17.60531}, {'period': '2019-01-01', 'ratio': 20.94537}, {'period': '2019-02-01', 'ratio': 13.60114}, {'period': '2019-03-01', 'ratio': 10.06575}, {'period': '2019-04-01', 'ratio': 8.90682}, {'period': '2019-05-01', 'ratio': 4.6292}, {'period': '2019-06-01', 'ratio': 6.00299}, {'period': '2019-07-01', 'ratio': 2.74757}, {'period': '2019-08-01', 'ratio': 1.30867}, {'period': '2019-09-01', 'ratio': 1.9272}, {'period': '2019-10-01', 'ratio': 2.08346}, {'period': '2019-11-01', 'ratio': 3.07962}, {'period': '2019-12-01', 'ratio': 4.13438}, {'period': '2020-01-01', 'ratio': 4.45341}, {'period': '2020-02-01', 'ratio': 0.93756}, {'period': '2020-03-01', 'ratio': 0.7227}, {'period': '2020-04-01', 'ratio': 0.57946}, {'period': '2020-05-01', 'ratio': 0.52737}, {'period': '2020-06-01', 'ratio': 0.42971}, {'period': '2020-07-01', 'ratio': 0.14323}, {'period': '2020-08-01', 'ratio': 0.05859}, {'period': '2020-10-01', 'ratio': 0.01302}, {'period': '2020-11-01', 'ratio': 0.13672}, {'period': '2020-12-01', 'ratio': 0.21485}, {'period': '2021-01-01', 'ratio': 0.01953}, {'period': '2021-02-01', 'ratio': 0.00651}, {'period': '2021-03-01', 'ratio': 0.00651}]}, {'title': '괌', 'keyword': ['괌'], 'data': [{'period': '2017-08-01', 'ratio': 59.61325}, {'period': '2017-09-01', 'ratio': 19.86457}, {'period': '2017-10-01', 'ratio': 32.24168}, {'period': '2017-11-01', 'ratio': 60.85682}, {'period': '2017-12-01', 'ratio': 46.79992}, {'period': '2018-01-01', 'ratio': 100}, {'period': '2018-02-01', 'ratio': 63.87785}, {'period': '2018-03-01', 'ratio': 60.7852}, {'period': '2018-04-01', 'ratio': 86.62022}, {'period': '2018-05-01', 'ratio': 54.61944}, {'period': '2018-06-01', 'ratio': 41.16804}, {'period': '2018-07-01', 'ratio': 37.69125}, {'period': '2018-08-01', 'ratio': 30.22983}, {'period': '2018-09-01', 'ratio': 23.3674}, {'period': '2018-10-01', 'ratio': 30.53584}, {'period': '2018-11-01', 'ratio': 32.33934}, {'period': '2018-12-01', 'ratio': 49.05918}, {'period': '2019-01-01', 'ratio': 42.35301}, {'period': '2019-02-01', 'ratio': 52.15183}, {'period': '2019-03-01', 'ratio': 55.69373}, {'period': '2019-04-01', 'ratio': 36.01796}, {'period': '2019-05-01', 'ratio': 40.21095}, {'period': '2019-06-01', 'ratio': 47.2687}, {'period': '2019-07-01', 'ratio': 58.87102}, {'period': '2019-08-01', 'ratio': 47.27521}, {'period': '2019-09-01', 'ratio': 47.11244}, {'period': '2019-10-01', 'ratio': 57.95299}, {'period': '2019-11-01', 'ratio': 71.07233}, {'period': '2019-12-01', 'ratio': 88.61253}, {'period': '2020-01-01', 'ratio': 75.05696}, {'period': '2020-02-01', 'ratio': 32.4956}, {'period': '2020-03-01', 'ratio': 9.90949}, {'period': '2020-04-01', 'ratio': 5.06543}, {'period': '2020-05-01', 'ratio': 5.81418}, {'period': '2020-06-01', 'ratio': 3.86743}, {'period': '2020-07-01', 'ratio': 2.68246}, {'period': '2020-08-01', 'ratio': 4.01718}, {'period': '2020-09-01', 'ratio': 3.26844}, {'period': '2020-10-01', 'ratio': 3.04056}, {'period': '2020-11-01', 'ratio': 2.18113}, {'period': '2020-12-01', 'ratio': 2.05742}, {'period': '2021-01-01', 'ratio': 4.6878}, {'period': '2021-02-01', 'ratio': 4.25808}, {'period': '2021-03-01', 'ratio': 3.19682}]}]}\n"
     ]
    }
   ],
   "source": [
    "import os\n",
    "import sys\n",
    "import urllib.request\n",
    "import json\n",
    "\n",
    "import numpy as np\n",
    "import pandas as pd\n",
    "import matplotlib.pyplot as plt\n",
    "\n",
    "client_id = \"YOUR_CLIENT_ID\" #본인 id 입력\n",
    "client_secret = \"YOUR_CLIENT_SECRET\" #본인 secret 입력\n",
    "client_id = \"wXsSH_1XqAUZud0SiGUZ\" \n",
    "client_secret = \"CCakxpoWTN\" \n",
    "\n",
    "url = \"https://openapi.naver.com/v1/datalab/shopping/category/keywords\"\n",
    "body = '''{\"startDate\":\"2017-08-01\",\n",
    "\"endDate\":\"2021-03-31\",\n",
    "\"timeUnit\":\"month\",\n",
    "\"category\":\"50000009\",\n",
    "\"keyword\": [\n",
    "      {\"name\": \"강릉\", \"param\": [\"강릉\"]},\n",
    "      {\"name\": \"제주\", \"param\": [\"제주\"]},\n",
    "      {\"name\": \"오사카\", \"param\": [\"오사카\"]},\n",
    "      {\"name\": \"괌\", \"param\": [\"괌\"]}\n",
    "  ]}'''\n",
    "\n",
    "request = urllib.request.Request(url)\n",
    "request.add_header(\"X-Naver-Client-Id\",client_id)\n",
    "request.add_header(\"X-Naver-Client-Secret\",client_secret)\n",
    "request.add_header(\"Content-Type\",\"application/json\")\n",
    "response = urllib.request.urlopen(request, data=body.encode(\"utf-8\"))\n",
    "rescode = response.getcode()\n",
    "if(rescode==200):\n",
    "    response_body = response.read()\n",
    "    response_dict = json.loads(response_body.decode('utf-8')) #json -> dict\n",
    "    print(response_dict)\n",
    "else:\n",
    "    print(\"Error Code:\" + rescode)"
   ]
  },
  {
   "cell_type": "markdown",
   "metadata": {
    "id": "kbKdU5SKASyr"
   },
   "source": [
    "2. 데이터 처리"
   ]
  },
  {
   "cell_type": "markdown",
   "metadata": {},
   "source": [
    "#### 코드 15.25"
   ]
  },
  {
   "cell_type": "code",
   "execution_count": 2,
   "metadata": {
    "id": "fw-9u6lAyOvp"
   },
   "outputs": [],
   "source": [
    "#응답받은 자료를 DataFrame으로 변환하여 사용\n",
    "keywords = ['강릉','제주','오사카','괌']\n",
    "periods = []\n",
    "ratio = []\n",
    "\n",
    "#먼저 period와 ratio를 리스트로 저장\n",
    "for i,result in enumerate(response_dict['results']):\n",
    "  ratio_now = []\n",
    "  for each in result['data']:\n",
    "    if i==0: \n",
    "      periods.append(each['period'])\n",
    "    ratio_now.append(each['ratio'])\n",
    "  ratio.append(ratio_now)"
   ]
  },
  {
   "cell_type": "code",
   "execution_count": 3,
   "metadata": {
    "colab": {
     "base_uri": "https://localhost:8080/",
     "height": 1000
    },
    "executionInfo": {
     "elapsed": 279,
     "status": "ok",
     "timestamp": 1638584799741,
     "user": {
      "displayName": "심규현",
      "photoUrl": "https://lh3.googleusercontent.com/a-/AOh14GhUsWhBvCuWBX8eybQOLddreDC1UApHKcmBFbvDAA=s64",
      "userId": "00091973774470887912"
     },
     "user_tz": -540
    },
    "id": "x0_9O5mJIoOY",
    "outputId": "5bc44112-e787-4abf-c208-92d1c2d1ce4a"
   },
   "outputs": [
    {
     "data": {
      "text/html": [
       "<div>\n",
       "<style scoped>\n",
       "    .dataframe tbody tr th:only-of-type {\n",
       "        vertical-align: middle;\n",
       "    }\n",
       "\n",
       "    .dataframe tbody tr th {\n",
       "        vertical-align: top;\n",
       "    }\n",
       "\n",
       "    .dataframe thead th {\n",
       "        text-align: right;\n",
       "    }\n",
       "</style>\n",
       "<table border=\"1\" class=\"dataframe\">\n",
       "  <thead>\n",
       "    <tr style=\"text-align: right;\">\n",
       "      <th></th>\n",
       "      <th>강릉</th>\n",
       "      <th>제주</th>\n",
       "      <th>오사카</th>\n",
       "      <th>괌</th>\n",
       "    </tr>\n",
       "  </thead>\n",
       "  <tbody>\n",
       "    <tr>\n",
       "      <th>2017-08-01</th>\n",
       "      <td>3.07962</td>\n",
       "      <td>8.78963</td>\n",
       "      <td>14.46057</td>\n",
       "      <td>59.61325</td>\n",
       "    </tr>\n",
       "    <tr>\n",
       "      <th>2017-09-01</th>\n",
       "      <td>5.52770</td>\n",
       "      <td>3.62002</td>\n",
       "      <td>14.35640</td>\n",
       "      <td>19.86457</td>\n",
       "    </tr>\n",
       "    <tr>\n",
       "      <th>2017-10-01</th>\n",
       "      <td>13.15840</td>\n",
       "      <td>1.17195</td>\n",
       "      <td>12.81984</td>\n",
       "      <td>32.24168</td>\n",
       "    </tr>\n",
       "    <tr>\n",
       "      <th>2017-11-01</th>\n",
       "      <td>8.47060</td>\n",
       "      <td>1.00918</td>\n",
       "      <td>16.12084</td>\n",
       "      <td>60.85682</td>\n",
       "    </tr>\n",
       "    <tr>\n",
       "      <th>2017-12-01</th>\n",
       "      <td>15.04655</td>\n",
       "      <td>0.94407</td>\n",
       "      <td>20.38544</td>\n",
       "      <td>46.79992</td>\n",
       "    </tr>\n",
       "    <tr>\n",
       "      <th>2018-01-01</th>\n",
       "      <td>14.86424</td>\n",
       "      <td>1.73839</td>\n",
       "      <td>22.37124</td>\n",
       "      <td>100.00000</td>\n",
       "    </tr>\n",
       "    <tr>\n",
       "      <th>2018-02-01</th>\n",
       "      <td>19.88410</td>\n",
       "      <td>1.31518</td>\n",
       "      <td>17.14304</td>\n",
       "      <td>63.87785</td>\n",
       "    </tr>\n",
       "    <tr>\n",
       "      <th>2018-03-01</th>\n",
       "      <td>16.00364</td>\n",
       "      <td>1.85558</td>\n",
       "      <td>21.72016</td>\n",
       "      <td>60.78520</td>\n",
       "    </tr>\n",
       "    <tr>\n",
       "      <th>2018-04-01</th>\n",
       "      <td>20.47008</td>\n",
       "      <td>4.68780</td>\n",
       "      <td>16.45289</td>\n",
       "      <td>86.62022</td>\n",
       "    </tr>\n",
       "    <tr>\n",
       "      <th>2018-05-01</th>\n",
       "      <td>19.32417</td>\n",
       "      <td>4.83104</td>\n",
       "      <td>14.55823</td>\n",
       "      <td>54.61944</td>\n",
       "    </tr>\n",
       "    <tr>\n",
       "      <th>2018-06-01</th>\n",
       "      <td>20.06641</td>\n",
       "      <td>4.78546</td>\n",
       "      <td>21.18627</td>\n",
       "      <td>41.16804</td>\n",
       "    </tr>\n",
       "    <tr>\n",
       "      <th>2018-07-01</th>\n",
       "      <td>23.58226</td>\n",
       "      <td>1.56911</td>\n",
       "      <td>14.78611</td>\n",
       "      <td>37.69125</td>\n",
       "    </tr>\n",
       "    <tr>\n",
       "      <th>2018-08-01</th>\n",
       "      <td>32.35887</td>\n",
       "      <td>1.42587</td>\n",
       "      <td>10.65824</td>\n",
       "      <td>30.22983</td>\n",
       "    </tr>\n",
       "    <tr>\n",
       "      <th>2018-09-01</th>\n",
       "      <td>4.51852</td>\n",
       "      <td>0.86594</td>\n",
       "      <td>11.79764</td>\n",
       "      <td>23.36740</td>\n",
       "    </tr>\n",
       "    <tr>\n",
       "      <th>2018-10-01</th>\n",
       "      <td>4.81802</td>\n",
       "      <td>0.96360</td>\n",
       "      <td>8.01484</td>\n",
       "      <td>30.53584</td>\n",
       "    </tr>\n",
       "    <tr>\n",
       "      <th>2018-11-01</th>\n",
       "      <td>9.03704</td>\n",
       "      <td>0.85943</td>\n",
       "      <td>9.85090</td>\n",
       "      <td>32.33934</td>\n",
       "    </tr>\n",
       "    <tr>\n",
       "      <th>2018-12-01</th>\n",
       "      <td>19.02467</td>\n",
       "      <td>1.60166</td>\n",
       "      <td>17.60531</td>\n",
       "      <td>49.05918</td>\n",
       "    </tr>\n",
       "    <tr>\n",
       "      <th>2019-01-01</th>\n",
       "      <td>4.81802</td>\n",
       "      <td>3.17729</td>\n",
       "      <td>20.94537</td>\n",
       "      <td>42.35301</td>\n",
       "    </tr>\n",
       "    <tr>\n",
       "      <th>2019-02-01</th>\n",
       "      <td>7.37027</td>\n",
       "      <td>3.30099</td>\n",
       "      <td>13.60114</td>\n",
       "      <td>52.15183</td>\n",
       "    </tr>\n",
       "    <tr>\n",
       "      <th>2019-03-01</th>\n",
       "      <td>12.46174</td>\n",
       "      <td>3.46376</td>\n",
       "      <td>10.06575</td>\n",
       "      <td>55.69373</td>\n",
       "    </tr>\n",
       "    <tr>\n",
       "      <th>2019-04-01</th>\n",
       "      <td>6.86242</td>\n",
       "      <td>3.22286</td>\n",
       "      <td>8.90682</td>\n",
       "      <td>36.01796</td>\n",
       "    </tr>\n",
       "    <tr>\n",
       "      <th>2019-05-01</th>\n",
       "      <td>10.90565</td>\n",
       "      <td>4.36877</td>\n",
       "      <td>4.62920</td>\n",
       "      <td>40.21095</td>\n",
       "    </tr>\n",
       "    <tr>\n",
       "      <th>2019-06-01</th>\n",
       "      <td>14.14154</td>\n",
       "      <td>3.76326</td>\n",
       "      <td>6.00299</td>\n",
       "      <td>47.26870</td>\n",
       "    </tr>\n",
       "    <tr>\n",
       "      <th>2019-07-01</th>\n",
       "      <td>36.46070</td>\n",
       "      <td>2.36994</td>\n",
       "      <td>2.74757</td>\n",
       "      <td>58.87102</td>\n",
       "    </tr>\n",
       "    <tr>\n",
       "      <th>2019-08-01</th>\n",
       "      <td>21.92851</td>\n",
       "      <td>2.22670</td>\n",
       "      <td>1.30867</td>\n",
       "      <td>47.27521</td>\n",
       "    </tr>\n",
       "    <tr>\n",
       "      <th>2019-09-01</th>\n",
       "      <td>9.52535</td>\n",
       "      <td>1.28263</td>\n",
       "      <td>1.92720</td>\n",
       "      <td>47.11244</td>\n",
       "    </tr>\n",
       "    <tr>\n",
       "      <th>2019-10-01</th>\n",
       "      <td>5.79464</td>\n",
       "      <td>1.60166</td>\n",
       "      <td>2.08346</td>\n",
       "      <td>57.95299</td>\n",
       "    </tr>\n",
       "    <tr>\n",
       "      <th>2019-11-01</th>\n",
       "      <td>3.80233</td>\n",
       "      <td>1.61468</td>\n",
       "      <td>3.07962</td>\n",
       "      <td>71.07233</td>\n",
       "    </tr>\n",
       "    <tr>\n",
       "      <th>2019-12-01</th>\n",
       "      <td>6.95357</td>\n",
       "      <td>2.16810</td>\n",
       "      <td>4.13438</td>\n",
       "      <td>88.61253</td>\n",
       "    </tr>\n",
       "    <tr>\n",
       "      <th>2020-01-01</th>\n",
       "      <td>6.41968</td>\n",
       "      <td>2.97545</td>\n",
       "      <td>4.45341</td>\n",
       "      <td>75.05696</td>\n",
       "    </tr>\n",
       "    <tr>\n",
       "      <th>2020-02-01</th>\n",
       "      <td>4.74640</td>\n",
       "      <td>3.07962</td>\n",
       "      <td>0.93756</td>\n",
       "      <td>32.49560</td>\n",
       "    </tr>\n",
       "    <tr>\n",
       "      <th>2020-03-01</th>\n",
       "      <td>15.41767</td>\n",
       "      <td>2.89081</td>\n",
       "      <td>0.72270</td>\n",
       "      <td>9.90949</td>\n",
       "    </tr>\n",
       "    <tr>\n",
       "      <th>2020-04-01</th>\n",
       "      <td>28.21147</td>\n",
       "      <td>1.49749</td>\n",
       "      <td>0.57946</td>\n",
       "      <td>5.06543</td>\n",
       "    </tr>\n",
       "    <tr>\n",
       "      <th>2020-05-01</th>\n",
       "      <td>20.91933</td>\n",
       "      <td>2.07695</td>\n",
       "      <td>0.52737</td>\n",
       "      <td>5.81418</td>\n",
       "    </tr>\n",
       "    <tr>\n",
       "      <th>2020-06-01</th>\n",
       "      <td>32.32632</td>\n",
       "      <td>2.38947</td>\n",
       "      <td>0.42971</td>\n",
       "      <td>3.86743</td>\n",
       "    </tr>\n",
       "    <tr>\n",
       "      <th>2020-07-01</th>\n",
       "      <td>63.70206</td>\n",
       "      <td>5.00683</td>\n",
       "      <td>0.14323</td>\n",
       "      <td>2.68246</td>\n",
       "    </tr>\n",
       "    <tr>\n",
       "      <th>2020-08-01</th>\n",
       "      <td>34.39677</td>\n",
       "      <td>2.22019</td>\n",
       "      <td>0.05859</td>\n",
       "      <td>4.01718</td>\n",
       "    </tr>\n",
       "    <tr>\n",
       "      <th>2020-09-01</th>\n",
       "      <td>14.57777</td>\n",
       "      <td>1.71886</td>\n",
       "      <td>0.01302</td>\n",
       "      <td>3.26844</td>\n",
       "    </tr>\n",
       "    <tr>\n",
       "      <th>2020-10-01</th>\n",
       "      <td>15.74321</td>\n",
       "      <td>2.27228</td>\n",
       "      <td>0.13672</td>\n",
       "      <td>3.04056</td>\n",
       "    </tr>\n",
       "    <tr>\n",
       "      <th>2020-11-01</th>\n",
       "      <td>13.41884</td>\n",
       "      <td>1.47796</td>\n",
       "      <td>0.21485</td>\n",
       "      <td>2.18113</td>\n",
       "    </tr>\n",
       "    <tr>\n",
       "      <th>2020-12-01</th>\n",
       "      <td>9.03704</td>\n",
       "      <td>0.57946</td>\n",
       "      <td>0.01953</td>\n",
       "      <td>2.05742</td>\n",
       "    </tr>\n",
       "    <tr>\n",
       "      <th>2021-01-01</th>\n",
       "      <td>12.80031</td>\n",
       "      <td>0.30600</td>\n",
       "      <td>0.00651</td>\n",
       "      <td>4.68780</td>\n",
       "    </tr>\n",
       "    <tr>\n",
       "      <th>2021-02-01</th>\n",
       "      <td>18.06107</td>\n",
       "      <td>0.33856</td>\n",
       "      <td>0.00651</td>\n",
       "      <td>4.25808</td>\n",
       "    </tr>\n",
       "    <tr>\n",
       "      <th>2021-03-01</th>\n",
       "      <td>10.28712</td>\n",
       "      <td>0.82687</td>\n",
       "      <td>NaN</td>\n",
       "      <td>3.19682</td>\n",
       "    </tr>\n",
       "  </tbody>\n",
       "</table>\n",
       "</div>"
      ],
      "text/plain": [
       "                  강릉       제주       오사카          괌\n",
       "2017-08-01   3.07962  8.78963  14.46057   59.61325\n",
       "2017-09-01   5.52770  3.62002  14.35640   19.86457\n",
       "2017-10-01  13.15840  1.17195  12.81984   32.24168\n",
       "2017-11-01   8.47060  1.00918  16.12084   60.85682\n",
       "2017-12-01  15.04655  0.94407  20.38544   46.79992\n",
       "2018-01-01  14.86424  1.73839  22.37124  100.00000\n",
       "2018-02-01  19.88410  1.31518  17.14304   63.87785\n",
       "2018-03-01  16.00364  1.85558  21.72016   60.78520\n",
       "2018-04-01  20.47008  4.68780  16.45289   86.62022\n",
       "2018-05-01  19.32417  4.83104  14.55823   54.61944\n",
       "2018-06-01  20.06641  4.78546  21.18627   41.16804\n",
       "2018-07-01  23.58226  1.56911  14.78611   37.69125\n",
       "2018-08-01  32.35887  1.42587  10.65824   30.22983\n",
       "2018-09-01   4.51852  0.86594  11.79764   23.36740\n",
       "2018-10-01   4.81802  0.96360   8.01484   30.53584\n",
       "2018-11-01   9.03704  0.85943   9.85090   32.33934\n",
       "2018-12-01  19.02467  1.60166  17.60531   49.05918\n",
       "2019-01-01   4.81802  3.17729  20.94537   42.35301\n",
       "2019-02-01   7.37027  3.30099  13.60114   52.15183\n",
       "2019-03-01  12.46174  3.46376  10.06575   55.69373\n",
       "2019-04-01   6.86242  3.22286   8.90682   36.01796\n",
       "2019-05-01  10.90565  4.36877   4.62920   40.21095\n",
       "2019-06-01  14.14154  3.76326   6.00299   47.26870\n",
       "2019-07-01  36.46070  2.36994   2.74757   58.87102\n",
       "2019-08-01  21.92851  2.22670   1.30867   47.27521\n",
       "2019-09-01   9.52535  1.28263   1.92720   47.11244\n",
       "2019-10-01   5.79464  1.60166   2.08346   57.95299\n",
       "2019-11-01   3.80233  1.61468   3.07962   71.07233\n",
       "2019-12-01   6.95357  2.16810   4.13438   88.61253\n",
       "2020-01-01   6.41968  2.97545   4.45341   75.05696\n",
       "2020-02-01   4.74640  3.07962   0.93756   32.49560\n",
       "2020-03-01  15.41767  2.89081   0.72270    9.90949\n",
       "2020-04-01  28.21147  1.49749   0.57946    5.06543\n",
       "2020-05-01  20.91933  2.07695   0.52737    5.81418\n",
       "2020-06-01  32.32632  2.38947   0.42971    3.86743\n",
       "2020-07-01  63.70206  5.00683   0.14323    2.68246\n",
       "2020-08-01  34.39677  2.22019   0.05859    4.01718\n",
       "2020-09-01  14.57777  1.71886   0.01302    3.26844\n",
       "2020-10-01  15.74321  2.27228   0.13672    3.04056\n",
       "2020-11-01  13.41884  1.47796   0.21485    2.18113\n",
       "2020-12-01   9.03704  0.57946   0.01953    2.05742\n",
       "2021-01-01  12.80031  0.30600   0.00651    4.68780\n",
       "2021-02-01  18.06107  0.33856   0.00651    4.25808\n",
       "2021-03-01  10.28712  0.82687       NaN    3.19682"
      ]
     },
     "execution_count": 3,
     "metadata": {},
     "output_type": "execute_result"
    }
   ],
   "source": [
    "#리스트를 DataFrame으로 변환\n",
    "df = pd.DataFrame(ratio)\n",
    "df = df.transpose() # 행과 열 바꿔주기\n",
    "df.index = periods\n",
    "df.columns = ['강릉', '제주', '오사카', '괌']\n",
    "df"
   ]
  },
  {
   "cell_type": "markdown",
   "metadata": {
    "id": "CIUBXFCXAUKs"
   },
   "source": [
    "3. 시각화"
   ]
  },
  {
   "cell_type": "markdown",
   "metadata": {},
   "source": [
    "#### 코드 15.26"
   ]
  },
  {
   "cell_type": "code",
   "execution_count": 4,
   "metadata": {
    "id": "dJxlU3VAQLeD"
   },
   "outputs": [],
   "source": [
    "# 시작에 앞서, 한글 깨짐을 막기 위한 설정 진행\n",
    "\n",
    "from matplotlib import font_manager, rc # 한글 폰트 사용\n",
    "font_path = \"./NanumGothic.ttf\"\n",
    "font = font_manager.FontProperties(fname=font_path).get_name()\n",
    "rc('font', family=font)"
   ]
  },
  {
   "cell_type": "markdown",
   "metadata": {},
   "source": [
    "#### 코드 15.27"
   ]
  },
  {
   "cell_type": "code",
   "execution_count": 5,
   "metadata": {
    "colab": {
     "base_uri": "https://localhost:8080/",
     "height": 303
    },
    "executionInfo": {
     "elapsed": 302,
     "status": "ok",
     "timestamp": 1638584803694,
     "user": {
      "displayName": "심규현",
      "photoUrl": "https://lh3.googleusercontent.com/a-/AOh14GhUsWhBvCuWBX8eybQOLddreDC1UApHKcmBFbvDAA=s64",
      "userId": "00091973774470887912"
     },
     "user_tz": -540
    },
    "id": "qKzerBZVNP1S",
    "outputId": "f0861a5d-5844-4ae7-f409-7d5386ebf6b2"
   },
   "outputs": [
    {
     "data": {
      "text/plain": [
       "<matplotlib.axes._subplots.AxesSubplot at 0x1bf84d0d848>"
      ]
     },
     "execution_count": 5,
     "metadata": {},
     "output_type": "execute_result"
    },
    {
     "data": {
      "image/png": "[encoded data removed]",
      "text/plain": [
       "<Figure size 432x288 with 1 Axes>"
      ]
     },
     "metadata": {
      "needs_background": "light"
     },
     "output_type": "display_data"
    }
   ],
   "source": [
    "# 시각화를 통해 각각의 검색량 추이 비교해보기\n",
    "df['강릉'].plot()"
   ]
  },
  {
   "cell_type": "code",
   "execution_count": 6,
   "metadata": {
    "colab": {
     "base_uri": "https://localhost:8080/",
     "height": 283
    },
    "executionInfo": {
     "elapsed": 413,
     "status": "ok",
     "timestamp": 1638584805040,
     "user": {
      "displayName": "심규현",
      "photoUrl": "https://lh3.googleusercontent.com/a-/AOh14GhUsWhBvCuWBX8eybQOLddreDC1UApHKcmBFbvDAA=s64",
      "userId": "00091973774470887912"
     },
     "user_tz": -540
    },
    "id": "lRUMdz2OORCx",
    "outputId": "b7d5fbfb-864b-48e8-ea46-be453cad2d23"
   },
   "outputs": [
    {
     "data": {
      "text/plain": [
       "<matplotlib.axes._subplots.AxesSubplot at 0x1bf8544f948>"
      ]
     },
     "execution_count": 6,
     "metadata": {},
     "output_type": "execute_result"
    },
    {
     "data": {
      "image/png": "[encoded data removed]",
      "text/plain": [
       "<Figure size 432x288 with 1 Axes>"
      ]
     },
     "metadata": {
      "needs_background": "light"
     },
     "output_type": "display_data"
    }
   ],
   "source": [
    "df['제주'].plot()"
   ]
  },
  {
   "cell_type": "code",
   "execution_count": 7,
   "metadata": {
    "colab": {
     "base_uri": "https://localhost:8080/",
     "height": 283
    },
    "executionInfo": {
     "elapsed": 342,
     "status": "ok",
     "timestamp": 1638584806276,
     "user": {
      "displayName": "심규현",
      "photoUrl": "https://lh3.googleusercontent.com/a-/AOh14GhUsWhBvCuWBX8eybQOLddreDC1UApHKcmBFbvDAA=s64",
      "userId": "00091973774470887912"
     },
     "user_tz": -540
    },
    "id": "yIKdfj0FO2y7",
    "outputId": "614d1057-25f7-44cd-c47c-36a1c76eec3a"
   },
   "outputs": [
    {
     "data": {
      "text/plain": [
       "<matplotlib.axes._subplots.AxesSubplot at 0x1bf854f5f08>"
      ]
     },
     "execution_count": 7,
     "metadata": {},
     "output_type": "execute_result"
    },
    {
     "data": {
      "image/png": "[encoded data removed]",
      "text/plain": [
       "<Figure size 432x288 with 1 Axes>"
      ]
     },
     "metadata": {
      "needs_background": "light"
     },
     "output_type": "display_data"
    }
   ],
   "source": [
    "df['오사카'].plot()"
   ]
  },
  {
   "cell_type": "code",
   "execution_count": 8,
   "metadata": {
    "colab": {
     "base_uri": "https://localhost:8080/",
     "height": 283
    },
    "executionInfo": {
     "elapsed": 577,
     "status": "ok",
     "timestamp": 1638584807759,
     "user": {
      "displayName": "심규현",
      "photoUrl": "https://lh3.googleusercontent.com/a-/AOh14GhUsWhBvCuWBX8eybQOLddreDC1UApHKcmBFbvDAA=s64",
      "userId": "00091973774470887912"
     },
     "user_tz": -540
    },
    "id": "_lvMPiInO7Il",
    "outputId": "c824025b-ece4-4952-da39-c9ab023f581b"
   },
   "outputs": [
    {
     "data": {
      "text/plain": [
       "<matplotlib.axes._subplots.AxesSubplot at 0x1bf8554ba88>"
      ]
     },
     "execution_count": 8,
     "metadata": {},
     "output_type": "execute_result"
    },
    {
     "data": {
      "image/png": "[encoded data removed]",
      "text/plain": [
       "<Figure size 432x288 with 1 Axes>"
      ]
     },
     "metadata": {
      "needs_background": "light"
     },
     "output_type": "display_data"
    }
   ],
   "source": [
    "df['괌'].plot()"
   ]
  },
  {
   "cell_type": "markdown",
   "metadata": {},
   "source": [
    "#### 코드 15.28"
   ]
  },
  {
   "cell_type": "code",
   "execution_count": 9,
   "metadata": {
    "colab": {
     "base_uri": "https://localhost:8080/",
     "height": 1000
    },
    "executionInfo": {
     "elapsed": 643,
     "status": "ok",
     "timestamp": 1638584809430,
     "user": {
      "displayName": "심규현",
      "photoUrl": "https://lh3.googleusercontent.com/a-/AOh14GhUsWhBvCuWBX8eybQOLddreDC1UApHKcmBFbvDAA=s64",
      "userId": "00091973774470887912"
     },
     "user_tz": -540
    },
    "id": "y8hXXCVUOK9G",
    "outputId": "e126c165-7827-4495-c4b9-fc96b9bff320"
   },
   "outputs": [
    {
     "data": {
      "text/plain": [
       "Text(0.5, 1.0, '월별 검색량 변화 추이')"
      ]
     },
     "execution_count": 9,
     "metadata": {},
     "output_type": "execute_result"
    },
    {
     "data": {
      "image/png": "[encoded data removed]",
      "text/plain": [
       "<Figure size 432x288 with 1 Axes>"
      ]
     },
     "metadata": {
      "needs_background": "light"
     },
     "output_type": "display_data"
    }
   ],
   "source": [
    "# 각 검색량의 변화를 한눈에 보기\n",
    "df.plot()\n",
    "plt.xlabel('날짜')\n",
    "plt.ylabel('검색빈도')\n",
    "plt.title('월별 검색량 변화 추이')"
   ]
  },
  {
   "cell_type": "markdown",
   "metadata": {
    "id": "YPv3QLpoAVja"
   },
   "source": [
    "4. 분석"
   ]
  },
  {
   "cell_type": "markdown",
   "metadata": {},
   "source": [
    "#### 코드 15.29"
   ]
  },
  {
   "cell_type": "code",
   "execution_count": 10,
   "metadata": {
    "id": "m5UQoBnW_wX_",
    "outputId": "9963fc81-dad3-491d-cb0f-7dabf9f609f6"
   },
   "outputs": [
    {
     "data": {
      "text/html": [
       "<div>\n",
       "<style scoped>\n",
       "    .dataframe tbody tr th:only-of-type {\n",
       "        vertical-align: middle;\n",
       "    }\n",
       "\n",
       "    .dataframe tbody tr th {\n",
       "        vertical-align: top;\n",
       "    }\n",
       "\n",
       "    .dataframe thead th {\n",
       "        text-align: right;\n",
       "    }\n",
       "</style>\n",
       "<table border=\"1\" class=\"dataframe\">\n",
       "  <thead>\n",
       "    <tr style=\"text-align: right;\">\n",
       "      <th></th>\n",
       "      <th>강릉</th>\n",
       "      <th>제주</th>\n",
       "      <th>오사카</th>\n",
       "      <th>괌</th>\n",
       "    </tr>\n",
       "  </thead>\n",
       "  <tbody>\n",
       "    <tr>\n",
       "      <th>count</th>\n",
       "      <td>44.000000</td>\n",
       "      <td>44.000000</td>\n",
       "      <td>43.000000</td>\n",
       "      <td>44.000000</td>\n",
       "    </tr>\n",
       "    <tr>\n",
       "      <th>mean</th>\n",
       "      <td>15.689197</td>\n",
       "      <td>2.369349</td>\n",
       "      <td>8.185333</td>\n",
       "      <td>37.178671</td>\n",
       "    </tr>\n",
       "    <tr>\n",
       "      <th>std</th>\n",
       "      <td>11.385320</td>\n",
       "      <td>1.611946</td>\n",
       "      <td>7.625321</td>\n",
       "      <td>26.934639</td>\n",
       "    </tr>\n",
       "    <tr>\n",
       "      <th>min</th>\n",
       "      <td>3.079620</td>\n",
       "      <td>0.306000</td>\n",
       "      <td>0.006510</td>\n",
       "      <td>2.057420</td>\n",
       "    </tr>\n",
       "    <tr>\n",
       "      <th>25%</th>\n",
       "      <td>7.266095</td>\n",
       "      <td>1.307043</td>\n",
       "      <td>0.651080</td>\n",
       "      <td>5.626993</td>\n",
       "    </tr>\n",
       "    <tr>\n",
       "      <th>50%</th>\n",
       "      <td>13.780190</td>\n",
       "      <td>1.966265</td>\n",
       "      <td>6.002990</td>\n",
       "      <td>38.951100</td>\n",
       "    </tr>\n",
       "    <tr>\n",
       "      <th>75%</th>\n",
       "      <td>19.929678</td>\n",
       "      <td>3.188683</td>\n",
       "      <td>14.509400</td>\n",
       "      <td>56.258545</td>\n",
       "    </tr>\n",
       "    <tr>\n",
       "      <th>max</th>\n",
       "      <td>63.702060</td>\n",
       "      <td>8.789630</td>\n",
       "      <td>22.371240</td>\n",
       "      <td>100.000000</td>\n",
       "    </tr>\n",
       "  </tbody>\n",
       "</table>\n",
       "</div>"
      ],
      "text/plain": [
       "              강릉         제주        오사카           괌\n",
       "count  44.000000  44.000000  43.000000   44.000000\n",
       "mean   15.689197   2.369349   8.185333   37.178671\n",
       "std    11.385320   1.611946   7.625321   26.934639\n",
       "min     3.079620   0.306000   0.006510    2.057420\n",
       "25%     7.266095   1.307043   0.651080    5.626993\n",
       "50%    13.780190   1.966265   6.002990   38.951100\n",
       "75%    19.929678   3.188683  14.509400   56.258545\n",
       "max    63.702060   8.789630  22.371240  100.000000"
      ]
     },
     "execution_count": 10,
     "metadata": {},
     "output_type": "execute_result"
    }
   ],
   "source": [
    "# 각 검색어의 속성들 확인해보기\n",
    "df.describe()"
   ]
  },
  {
   "cell_type": "markdown",
   "metadata": {},
   "source": [
    "#### 코드 15.30"
   ]
  },
  {
   "cell_type": "code",
   "execution_count": 11,
   "metadata": {
    "id": "eQ7lW9kW_wX_",
    "outputId": "64a07edd-fc5d-4f0b-e512-3a2dab642638"
   },
   "outputs": [
    {
     "data": {
      "text/html": [
       "<div>\n",
       "<style scoped>\n",
       "    .dataframe tbody tr th:only-of-type {\n",
       "        vertical-align: middle;\n",
       "    }\n",
       "\n",
       "    .dataframe tbody tr th {\n",
       "        vertical-align: top;\n",
       "    }\n",
       "\n",
       "    .dataframe thead th {\n",
       "        text-align: right;\n",
       "    }\n",
       "</style>\n",
       "<table border=\"1\" class=\"dataframe\">\n",
       "  <thead>\n",
       "    <tr style=\"text-align: right;\">\n",
       "      <th></th>\n",
       "      <th>강릉</th>\n",
       "      <th>제주</th>\n",
       "      <th>오사카</th>\n",
       "      <th>괌</th>\n",
       "    </tr>\n",
       "  </thead>\n",
       "  <tbody>\n",
       "    <tr>\n",
       "      <th>강릉</th>\n",
       "      <td>1.000000</td>\n",
       "      <td>0.090359</td>\n",
       "      <td>-0.198855</td>\n",
       "      <td>-0.281142</td>\n",
       "    </tr>\n",
       "    <tr>\n",
       "      <th>제주</th>\n",
       "      <td>0.090359</td>\n",
       "      <td>1.000000</td>\n",
       "      <td>0.186530</td>\n",
       "      <td>0.245934</td>\n",
       "    </tr>\n",
       "    <tr>\n",
       "      <th>오사카</th>\n",
       "      <td>-0.198855</td>\n",
       "      <td>0.186530</td>\n",
       "      <td>1.000000</td>\n",
       "      <td>0.561619</td>\n",
       "    </tr>\n",
       "    <tr>\n",
       "      <th>괌</th>\n",
       "      <td>-0.281142</td>\n",
       "      <td>0.245934</td>\n",
       "      <td>0.561619</td>\n",
       "      <td>1.000000</td>\n",
       "    </tr>\n",
       "  </tbody>\n",
       "</table>\n",
       "</div>"
      ],
      "text/plain": [
       "           강릉        제주       오사카         괌\n",
       "강릉   1.000000  0.090359 -0.198855 -0.281142\n",
       "제주   0.090359  1.000000  0.186530  0.245934\n",
       "오사카 -0.198855  0.186530  1.000000  0.561619\n",
       "괌   -0.281142  0.245934  0.561619  1.000000"
      ]
     },
     "execution_count": 11,
     "metadata": {},
     "output_type": "execute_result"
    }
   ],
   "source": [
    "# 지역간 (강릉, 제주, 오사카, 괌)의 검색량에 대한 상관관계 확인하기\n",
    "# -1.0 ~ -0.7 은 강한 음적 선형관계를,\n",
    "# -0.7 ~ -0.3 은 뚜렷한 음적 선형관계를,\n",
    "# -0.3 ~ 0.3은 선형관계가 거의 없음을,\n",
    "# 0.3 ~ 0.7은 뚜렷한 양적 선형관계를,\n",
    "# 0.7 ~ 1.0은 강한 양적 선형관계를 나타냄\n",
    "\n",
    "df.corr()"
   ]
  }
 ],
 "metadata": {
  "colab": {
   "collapsed_sections": [],
   "name": "15주차실습.ipynb",
   "provenance": []
  },
  "kernelspec": {
   "display_name": "Python 3",
   "language": "python",
   "name": "python3"
  },
  "language_info": {
   "codemirror_mode": {
    "name": "ipython",
    "version": 3
   },
   "file_extension": ".py",
   "mimetype": "text/x-python",
   "name": "python",
   "nbconvert_exporter": "python",
   "pygments_lexer": "ipython3",
   "version": "3.7.6"
  }
 },
 "nbformat": 4,
 "nbformat_minor": 1
}
