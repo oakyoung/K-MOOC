{
 "cells": [
  {
   "cell_type": "markdown",
   "metadata": {},
   "source": [
    "### Chapter 13. 텍스트 데이터 빈도 분석 "
   ]
  },
  {
   "cell_type": "markdown",
   "metadata": {},
   "source": [
    "#### 코드 13.1"
   ]
  },
  {
   "cell_type": "code",
   "execution_count": 1,
   "metadata": {
    "colab": {
     "base_uri": "https://localhost:8080/"
    },
    "id": "4ZvXFOQczsj4",
    "outputId": "b9dad350-8789-4840-f991-a79af1a27169"
   },
   "outputs": [
    {
     "name": "stdout",
     "output_type": "stream",
     "text": [
      "['I', 'am', 'studying', 'Fundamentals', 'of', 'Data', 'Analytics']\n"
     ]
    },
    {
     "name": "stderr",
     "output_type": "stream",
     "text": [
      "[nltk_data] Downloading package punkt to\n",
      "[nltk_data]     C:\\Users\\한옥영\\AppData\\Roaming\\nltk_data...\n",
      "[nltk_data]   Package punkt is already up-to-date!\n"
     ]
    }
   ],
   "source": [
    "import nltk\n",
    "nltk.download('punkt')\n",
    "from nltk import word_tokenize\n",
    "\n",
    "words = nltk.word_tokenize (\"I am studying Fundamentals of Data Analytics\")\n",
    "print(words)"
   ]
  },
  {
   "cell_type": "markdown",
   "metadata": {},
   "source": [
    "#### 코드 13.2"
   ]
  },
  {
   "cell_type": "code",
   "execution_count": 2,
   "metadata": {
    "colab": {
     "base_uri": "https://localhost:8080/"
    },
    "id": "BhgTXCn8z5XP",
    "outputId": "c6258be6-d017-46d7-9920-7ad4b8730fc5"
   },
   "outputs": [
    {
     "name": "stderr",
     "output_type": "stream",
     "text": [
      "[nltk_data] Downloading package averaged_perceptron_tagger to\n",
      "[nltk_data]     C:\\Users\\한옥영\\AppData\\Roaming\\nltk_data...\n",
      "[nltk_data]   Package averaged_perceptron_tagger is already up-to-\n",
      "[nltk_data]       date!\n"
     ]
    },
    {
     "data": {
      "text/plain": [
       "[('I', 'PRP'),\n",
       " ('am', 'VBP'),\n",
       " ('studying', 'VBG'),\n",
       " ('Fundamentals', 'NNS'),\n",
       " ('of', 'IN'),\n",
       " ('Data', 'NNP'),\n",
       " ('Analytics', 'NNS')]"
      ]
     },
     "execution_count": 2,
     "metadata": {},
     "output_type": "execute_result"
    }
   ],
   "source": [
    "nltk.download('averaged_perceptron_tagger')\n",
    "nltk.pos_tag(words)"
   ]
  },
  {
   "cell_type": "markdown",
   "metadata": {},
   "source": [
    "#### 코드 13.3"
   ]
  },
  {
   "cell_type": "code",
   "execution_count": 3,
   "metadata": {
    "colab": {
     "base_uri": "https://localhost:8080/"
    },
    "id": "ffYmc7aB1SwL",
    "outputId": "e3394329-96a5-41bf-b5c2-10a942bb2aba"
   },
   "outputs": [
    {
     "name": "stdout",
     "output_type": "stream",
     "text": [
      "['i', 'me', 'my', 'myself', 'we', 'our', 'ours', 'ourselves', 'you', \"you're\", \"you've\", \"you'll\", \"you'd\", 'your', 'yours', 'yourself', 'yourselves', 'he', 'him', 'his', 'himself', 'she', \"she's\", 'her', 'hers', 'herself', 'it', \"it's\", 'its', 'itself', 'they', 'them', 'their', 'theirs', 'themselves', 'what', 'which', 'who', 'whom', 'this', 'that', \"that'll\", 'these', 'those', 'am', 'is', 'are', 'was', 'were', 'be', 'been', 'being', 'have', 'has', 'had', 'having', 'do', 'does', 'did', 'doing', 'a', 'an', 'the', 'and', 'but', 'if', 'or', 'because', 'as', 'until', 'while', 'of', 'at', 'by', 'for', 'with', 'about', 'against', 'between', 'into', 'through', 'during', 'before', 'after', 'above', 'below', 'to', 'from', 'up', 'down', 'in', 'out', 'on', 'off', 'over', 'under', 'again', 'further', 'then', 'once', 'here', 'there', 'when', 'where', 'why', 'how', 'all', 'any', 'both', 'each', 'few', 'more', 'most', 'other', 'some', 'such', 'no', 'nor', 'not', 'only', 'own', 'same', 'so', 'than', 'too', 'very', 's', 't', 'can', 'will', 'just', 'don', \"don't\", 'should', \"should've\", 'now', 'd', 'll', 'm', 'o', 're', 've', 'y', 'ain', 'aren', \"aren't\", 'couldn', \"couldn't\", 'didn', \"didn't\", 'doesn', \"doesn't\", 'hadn', \"hadn't\", 'hasn', \"hasn't\", 'haven', \"haven't\", 'isn', \"isn't\", 'ma', 'mightn', \"mightn't\", 'mustn', \"mustn't\", 'needn', \"needn't\", 'shan', \"shan't\", 'shouldn', \"shouldn't\", 'wasn', \"wasn't\", 'weren', \"weren't\", 'won', \"won't\", 'wouldn', \"wouldn't\"]\n"
     ]
    },
    {
     "name": "stderr",
     "output_type": "stream",
     "text": [
      "[nltk_data] Downloading package stopwords to\n",
      "[nltk_data]     C:\\Users\\한옥영\\AppData\\Roaming\\nltk_data...\n",
      "[nltk_data]   Package stopwords is already up-to-date!\n"
     ]
    }
   ],
   "source": [
    "nltk.download('stopwords')\n",
    "from nltk.corpus import stopwords\n",
    "\n",
    "stop_words = stopwords.words('english')\n",
    "print(stop_words)"
   ]
  },
  {
   "cell_type": "markdown",
   "metadata": {},
   "source": [
    "#### 코드 13.4"
   ]
  },
  {
   "cell_type": "code",
   "execution_count": 4,
   "metadata": {
    "colab": {
     "base_uri": "https://localhost:8080/"
    },
    "id": "ET_g5vI73VKF",
    "outputId": "a14ae9f5-6e32-4453-c903-32e6387d51bc"
   },
   "outputs": [
    {
     "name": "stdout",
     "output_type": "stream",
     "text": [
      "Original: ['I', 'am', 'studying', 'Fundamentals', 'of', 'Data', 'Analytics']\n",
      "불용어 제거: ['I', 'studying', 'Fundamentals', 'Data', 'Analytics']\n"
     ]
    }
   ],
   "source": [
    "fixed = [word for word in words if word not in stop_words]\n",
    "print(f'Original: {words}')\n",
    "print(f'불용어 제거: {fixed}')"
   ]
  },
  {
   "cell_type": "markdown",
   "metadata": {},
   "source": [
    "#### 코드 13.5"
   ]
  },
  {
   "cell_type": "code",
   "execution_count": 5,
   "metadata": {
    "colab": {
     "base_uri": "https://localhost:8080/",
     "height": 256
    },
    "id": "lmWk44Xc5Q1n",
    "outputId": "cbbe22bb-32c8-459d-852b-6f6a0431fe70"
   },
   "outputs": [
    {
     "name": "stdout",
     "output_type": "stream",
     "text": [
      "Requirement already satisfied: autocorrect in c:\\programdata\\anaconda3\\lib\\site-packages (2.6.1)\n",
      "autocorrect.spell is deprecated,             use autocorrect.Speller instead\n"
     ]
    },
    {
     "data": {
      "text/plain": [
       "'Wednesday'"
      ]
     },
     "execution_count": 5,
     "metadata": {},
     "output_type": "execute_result"
    }
   ],
   "source": [
    "!pip install autocorrect\n",
    "from autocorrect import spell\n",
    "spell('Wensday')"
   ]
  },
  {
   "cell_type": "markdown",
   "metadata": {},
   "source": [
    "#### 코드 13.6"
   ]
  },
  {
   "cell_type": "code",
   "execution_count": 6,
   "metadata": {
    "colab": {
     "base_uri": "https://localhost:8080/",
     "height": 35
    },
    "id": "EYfMJUCb7hFx",
    "outputId": "0fc2ddb8-d37c-435e-b14c-c447b84c088d"
   },
   "outputs": [
    {
     "data": {
      "text/plain": [
       "'write'"
      ]
     },
     "execution_count": 6,
     "metadata": {},
     "output_type": "execute_result"
    }
   ],
   "source": [
    "stemmer = nltk.stem.PorterStemmer()\n",
    "stemmer.stem('writing')"
   ]
  },
  {
   "cell_type": "code",
   "execution_count": 7,
   "metadata": {
    "colab": {
     "base_uri": "https://localhost:8080/",
     "height": 35
    },
    "id": "z6g_HRMM80q6",
    "outputId": "06ee345f-5c18-4cff-d3b5-1bc479afa89e"
   },
   "outputs": [
    {
     "data": {
      "text/plain": [
       "'product'"
      ]
     },
     "execution_count": 7,
     "metadata": {},
     "output_type": "execute_result"
    }
   ],
   "source": [
    "stemmer.stem('production')"
   ]
  },
  {
   "cell_type": "markdown",
   "metadata": {
    "id": "AwV55t-exOw9"
   },
   "source": [
    "#### 코드 13.7"
   ]
  },
  {
   "cell_type": "code",
   "execution_count": 8,
   "metadata": {
    "colab": {
     "base_uri": "https://localhost:8080/"
    },
    "executionInfo": {
     "elapsed": 12,
     "status": "ok",
     "timestamp": 1638375021875,
     "user": {
      "displayName": "장미",
      "photoUrl": "https://lh3.googleusercontent.com/a-/AOh14Gh8vmABvWOSNvDaeVIMBgI8JCXrKrrNFVpOoYy7=s64",
      "userId": "15860598069959026002"
     },
     "user_tz": -540
    },
    "id": "GBSNKyx9w86z",
    "outputId": "af689bd3-3be8-4631-9984-b77ab10c7320"
   },
   "outputs": [
    {
     "name": "stdout",
     "output_type": "stream",
     "text": [
      "re.compile('[0-9a-z]')\n",
      "pattern.match(\"data4u\") => <re.Match object; span=(0, 1), match='d'>\n",
      "pattern.match(\"1234ABC\") => <re.Match object; span=(0, 1), match='1'>\n",
      "pattern.match(\"ABC123\") => None\n"
     ]
    }
   ],
   "source": [
    "import re\n",
    "\n",
    "pattern = re.compile(\"[0-9a-z]\") #정규표현식을 컴파일하여 패턴객체로 반환\n",
    "print(pattern)\n",
    "print(\"pattern.match(\\\"data4u\\\") =>\", pattern.match(\"data4u\")) \n",
    "print(\"pattern.match(\\\"1234ABC\\\") =>\", pattern.match(\"1234ABC\")) \n",
    "print(\"pattern.match(\\\"ABC123\\\") =>\", pattern.match(\"ABC123\")) "
   ]
  },
  {
   "cell_type": "markdown",
   "metadata": {},
   "source": [
    "#### 코드 13.8"
   ]
  },
  {
   "cell_type": "code",
   "execution_count": 9,
   "metadata": {
    "colab": {
     "base_uri": "https://localhost:8080/"
    },
    "executionInfo": {
     "elapsed": 10,
     "status": "ok",
     "timestamp": 1638375021876,
     "user": {
      "displayName": "장미",
      "photoUrl": "https://lh3.googleusercontent.com/a-/AOh14Gh8vmABvWOSNvDaeVIMBgI8JCXrKrrNFVpOoYy7=s64",
      "userId": "15860598069959026002"
     },
     "user_tz": -540
    },
    "id": "3naWHe1N5SnT",
    "outputId": "ea1cde07-54e3-4967-aeb4-ef329ac03d42"
   },
   "outputs": [
    {
     "name": "stdout",
     "output_type": "stream",
     "text": [
      "re.compile('[a-z]+')\n",
      "pattern.match(\"morning\") => <re.Match object; span=(0, 7), match='morning'>\n",
      "pattern.match(\"Morning\") => None\n",
      "pattern.match(\"123\") => None\n"
     ]
    }
   ],
   "source": [
    "#match 함수\n",
    "pattern = re.compile(\"[a-z]+\") #패턴 객체 생성\n",
    "print(pattern) #알파벳 소문자의 1번 이상 반복으로 이루어진 문자열\n",
    "print(\"pattern.match(\\\"morning\\\") =>\", pattern.match(\"morning\")) #정규식과 매치되면 Match 객체 반환\n",
    "print(\"pattern.match(\\\"Morning\\\") =>\", pattern.match(\"Morning\")) #정규식과 매치 안되면 None 반환\n",
    "print(\"pattern.match(\\\"123\\\") =>\", pattern.match(\"123\")) #정규식과 매치 안되면 None 반환"
   ]
  },
  {
   "cell_type": "markdown",
   "metadata": {},
   "source": [
    "#### 코드 13.9"
   ]
  },
  {
   "cell_type": "code",
   "execution_count": 10,
   "metadata": {
    "colab": {
     "base_uri": "https://localhost:8080/"
    },
    "executionInfo": {
     "elapsed": 8,
     "status": "ok",
     "timestamp": 1638375021876,
     "user": {
      "displayName": "장미",
      "photoUrl": "https://lh3.googleusercontent.com/a-/AOh14Gh8vmABvWOSNvDaeVIMBgI8JCXrKrrNFVpOoYy7=s64",
      "userId": "15860598069959026002"
     },
     "user_tz": -540
    },
    "id": "jRDqbw9L7qO9",
    "outputId": "46a92a21-6025-4c24-b9ef-1cca9cec64f8"
   },
   "outputs": [
    {
     "name": "stdout",
     "output_type": "stream",
     "text": [
      "re.compile('[a-z]+') search( ) 함수 적용 >>\n",
      "pattern.search(\"morning\") => <re.Match object; span=(0, 7), match='morning'>\n",
      "pattern.search(\"MorninG\") => <re.Match object; span=(1, 6), match='ornin'>\n",
      "pattern.search(\"123\") => None\n"
     ]
    }
   ],
   "source": [
    "#search 함수\n",
    "print(pattern, 'search( ) 함수 적용 >>')\n",
    "print(\"pattern.search(\\\"morning\\\") =>\",pattern.search(\"morning\"))\n",
    "print(\"pattern.search(\\\"MorninG\\\") =>\",pattern.search(\"MorninG\")) #중간에 포함되는 문자열까지 다 검사\n",
    "print(\"pattern.search(\\\"123\\\") =>\",pattern.search(\"123\")) "
   ]
  },
  {
   "cell_type": "markdown",
   "metadata": {},
   "source": [
    "#### 코드 13.10"
   ]
  },
  {
   "cell_type": "code",
   "execution_count": 11,
   "metadata": {
    "id": "tC-wtsGB422N"
   },
   "outputs": [],
   "source": [
    "data= '''Morning and evening\n",
    "    Maids heard the goblins cry:\n",
    "    'Come buy our orchard fruits,\n",
    "    Come buy, come buy:\n",
    "    Apples and quinces,\n",
    "    Lemons and oranges,\n",
    "    Plump unpecked cherries,\n",
    "    Melons and raspberries,\n",
    "    Bloom-down-cheeked peaches,\n",
    "    Swart-headed mulberries,\n",
    "    Wild free-born cranberries,\n",
    "    Crab-apples, dewberries,\n",
    "    Pine-apples, blackberries,\n",
    "    Apricots, strawberries;--'''"
   ]
  },
  {
   "cell_type": "code",
   "execution_count": 12,
   "metadata": {
    "colab": {
     "base_uri": "https://localhost:8080/"
    },
    "executionInfo": {
     "elapsed": 6,
     "status": "ok",
     "timestamp": 1638375021876,
     "user": {
      "displayName": "장미",
      "photoUrl": "https://lh3.googleusercontent.com/a-/AOh14Gh8vmABvWOSNvDaeVIMBgI8JCXrKrrNFVpOoYy7=s64",
      "userId": "15860598069959026002"
     },
     "user_tz": -540
    },
    "id": "sLEijPjI8qsH",
    "outputId": "c64cd8b6-a539-46aa-d4a7-f35f96917d67"
   },
   "outputs": [
    {
     "data": {
      "text/plain": [
       "['Maids', 'Apples', 'Lemons', 'Melons', 'Apricots']"
      ]
     },
     "execution_count": 12,
     "metadata": {},
     "output_type": "execute_result"
    }
   ],
   "source": [
    "# 대문자로 시작하고, 소문자가 0번 이상 반복되고, \n",
    "# 소문자 s로 끝나는 문자열\n",
    "\n",
    "# findall 함수 \n",
    "pattern = re.compile(\"[A-Z][a-z]*s\") \n",
    "pattern.findall(data) #매치되는 문자열들을 리스트로 반환"
   ]
  },
  {
   "cell_type": "markdown",
   "metadata": {},
   "source": [
    "#### 코드 13.11"
   ]
  },
  {
   "cell_type": "code",
   "execution_count": 13,
   "metadata": {
    "colab": {
     "base_uri": "https://localhost:8080/"
    },
    "executionInfo": {
     "elapsed": 361,
     "status": "ok",
     "timestamp": 1638375022232,
     "user": {
      "displayName": "장미",
      "photoUrl": "https://lh3.googleusercontent.com/a-/AOh14Gh8vmABvWOSNvDaeVIMBgI8JCXrKrrNFVpOoYy7=s64",
      "userId": "15860598069959026002"
     },
     "user_tz": -540
    },
    "id": "6QlbF05u_Hr0",
    "outputId": "881740d5-eacd-4382-8285-5ae2c1a1cf9d"
   },
   "outputs": [
    {
     "name": "stdout",
     "output_type": "stream",
     "text": [
      "<re.Match object; span=(313, 324), match='Crab-apples'>\n",
      "Match.group() =>  Crab-apples\n",
      "Match.start() =>  313\n",
      "Match.end()   =>  324\n",
      "Match.span()  =>  (313, 324)\n",
      "\n",
      "<re.Match object; span=(342, 353), match='Pine-apples'>\n",
      "Match.group() =>  Pine-apples\n",
      "Match.start() =>  342\n",
      "Match.end()   =>  353\n",
      "Match.span()  =>  (342, 353)\n",
      "\n"
     ]
    }
   ],
   "source": [
    "#finditer 함수\n",
    "pattern = re.compile(\"[\\S]*-[\\S]*s\") #'-'가 포함되고 소문자 s로 끝나는 문자열 (\\S : 공백이 아닌 문자)\n",
    "m = pattern.finditer(data) #매치되는 문자열들을 Match 객체들로 이루어진 iterator 객체로 반환\n",
    "for each in m:\n",
    "  print(each)\n",
    "  print(\"Match.group() => \", each.group()) #매치된 문자열\n",
    "  print(\"Match.start() => \",each.start()) #문자열 시작 위치\n",
    "  print(\"Match.end()   => \",each.end()) #문자열 끝 위치\n",
    "  print(\"Match.span()  => \",each.span()) #문자열 (시작, 끝 위치) 튜플 \n",
    "  print()"
   ]
  },
  {
   "cell_type": "markdown",
   "metadata": {},
   "source": [
    "---\n",
    "본문 출처 <br>\n",
    "공유마당 <br>\n",
    "https://gongu.copyright.or.kr/gongu/wrt/wrt/view.do?wrtSn=9001181&menuNo=200019"
   ]
  },
  {
   "cell_type": "markdown",
   "metadata": {},
   "source": [
    "#### 코드 13.12"
   ]
  },
  {
   "cell_type": "code",
   "execution_count": 14,
   "metadata": {
    "colab": {
     "base_uri": "https://localhost:8080/"
    },
    "executionInfo": {
     "elapsed": 13,
     "status": "ok",
     "timestamp": 1638375022232,
     "user": {
      "displayName": "장미",
      "photoUrl": "https://lh3.googleusercontent.com/a-/AOh14Gh8vmABvWOSNvDaeVIMBgI8JCXrKrrNFVpOoYy7=s64",
      "userId": "15860598069959026002"
     },
     "user_tz": -540
    },
    "id": "AHp9_nV81ug7",
    "outputId": "f45ee656-e1ee-4515-cb0c-c4a200a34749"
   },
   "outputs": [
    {
     "name": "stdout",
     "output_type": "stream",
     "text": [
      "  어슴푸레한 저녁 몇 리를 걸어도 사람의 그림자 하나 찾아볼 수 없는 무인지경인 산골ᄍᆞᆨ 비탈길 여우의 밥이 다 되어 버린 해골덩이가 똘똘구는 무덤 옆 혹은 비가 축축이 뿌리는 버덩의 다 쓰러져 가는 물레방앗간, 또 혹은 몇 백 년이다 묵은 듯한 우중충한 늪가!\n",
      "\n",
      "  거기에는 흔히 도깨비나 귀신이 나타난다 한다. 그럴 것이다. 고요하고 축축하고 우중충하고. 그리고 그것이 정칙일 것이다. 그러나 나는 아직도 그런 곳에서 그런 것을 본 적은 없다. 따라서 그런 것에 관하여서는 아무 지식도 가지지 못하였다. 하나 나는――자랑이 아니라―― 더 놀라운 유령을 보았다. 그리고 그것이 적어도 문명의 도시인 서울이니 놀라웁단 말이다. 나는 그래도 문명을 자랑하는 서울에서 유령을 목격하였다. 거짓말이라구? 아니다. 거짓말도 아니고 환영도 아니었다. 세상 사람이 말하여 ‘유령’이라는 것을 나는 이 두 분을 가지고 확실히 보았다.\n",
      "\n",
      "  어떻든 길게 말할 것 없이 다음 이야기를 읽으면 알 것이다.\n",
      "\n",
      "  동대문 밖에 상업학교가 가제될 무렵이었다. 나는 날마다 학교 집터에   ‘미쟁이’로 다니면서 일을 하였다. 남과 같이 버젓하게 일정한 노동을 못하고 밤낮 뜨내기 벌잇군으로밖에는 돌아다니지 못하는 나에게는 그래도 몇 달 동안은 입에 풀칠을 할 수 있었다. 마는 과격한 노동이었다. 그러므로 하루라도 쉬어본 일은커녕 한 번이라도 늦게 가존 적도 없었다. 원수같이 지글지글 타 내리는 여름 태양 아래에서 이른 아침부터 저녁때까지 감독의 말 한마디 거슬리는 법 없이 고분고분히 일을 하였다. 체로 모래를 쳐라, 불같은 태양 아래에 새까맣게 타는 석탄으로 ‘노리’를 끓여라, 시멘트에다 모래를 섞어라, 그것을 노리로 반죽하여라 하여 쉴 새 없는 기계같이 휘돌아쳤다. 그 열매인지 선물인지는 알 수 없으나 우리들이 다지는 시멘트가 몇 백 간의 벌집 같은 방으로 변하고 친구들의 쨍쨍 울리는 끌 소리가 여러 층의 웅장한 건축으로 변함을 볼 때에 미상불 우리의 위해단 힘을 또 한번 자랑하지 않을 수 없었다. ――어리석은 미련둥이들이라……(1행 약)……. 어떻든 콧구명이 다 턱턱 막히는 시멘트 가루를 전신에 보얗게 뒤집어쓰고 매캐한 노린 냄새와 더구나 전신을 한바탕 쪽 씻어 내리는 땀 냄새를 맡으면서 온종일 들볶에치고 나면 저녁물에는 정말이지 전신이 나른하였다. 그래도 집안 식구들을 생각하고 끼니거리를 생각하면 마지막 힘이 났다. 일을 마치고 정신을 가다듬어 가지고 일인 감독의 집으로 간다. 삯전을 얻어 가지고 그 길로 바로 술집에 가서 한잔 빨고 나면 그제야 겨우 제 세상인 듯싶었던 것이다. \n",
      "\n",
      "  술! 사실 술처럼 고마운 것은 없었다. 버쩍버쩍 상하는 속, 말할 수 없는 피로를 잠시라도 잊게 하는 것은 그래도 술의 힘이었다.\n",
      "\n",
      "  그날도 나는 술김에 얼근하였었다. 다른 때와 같이 역시 맨꽁무니에 떨어진 김서방과 나는 삯전을 받아들고 나서자마자 행길 옆 술집에서 만판 먹어댔다. \n",
      "\n",
      "  술집을 나와 보니 벌써 밤은 꽤 저물었었다. 잠을 자도 한잠 너그러지게 잤을 판이었다. 잠이라니 말이지 종일 피곤하였던 판에 주기조차 돌아놓으니 사실이지 글자대로 눈이 스르르 내리 감겼다. 김서방과 나는 즉시 잠자리로 향하였다.\n",
      "\n",
      "  잠자리라니 보들보들한 아름다운 계집이 기다리고 있는 분홍 모기장 속 두툼한 요 위인 줄은 알지 말아라. 그렇다고 어둠침침한 행랑방으로 알라는 것도 아니다. 비록 빈대에는 뜯길망정 어둠침침한 행랑방 하나 나에게는 없었다. 단지 내 몸뚱이 하나인 나는 서울 안을 못 돌아다닐 데 없이 돌아다니면서 노숙露宿을 하였던 것이다. (그래도 그것이 여름이었으니 말이지 겨울이었던들 꼼짝없이 얼어죽었을 것이다.) 따라서 세상에 못 볼 것을 다 보고 겪어 왔었다. 참말이지 별별 야릇하고 말 못할 일이 많았다. 여기에 쓰는 이야기 같은 것은 말하자면 그 중에서 가장 온당한 이야기의 하나에 지나지 못한다.\n",
      "\n"
     ]
    }
   ],
   "source": [
    "#출처 : https://gongu.copyright.or.kr/gongu/wrt/wrt/view.do?wrtSn=9001181&menuNo=200019\n",
    "\n",
    "fp = open(\"text.txt\", 'r', encoding = 'utf-8')  #이효석의 도시와 유령\n",
    "data = fp.readlines()\n",
    "for line in data[12:20]:\n",
    "  print(line)\n",
    "fp.close()"
   ]
  },
  {
   "cell_type": "markdown",
   "metadata": {},
   "source": [
    "#### 코드 13.13"
   ]
  },
  {
   "cell_type": "code",
   "execution_count": 15,
   "metadata": {
    "colab": {
     "base_uri": "https://localhost:8080/"
    },
    "executionInfo": {
     "elapsed": 11,
     "status": "ok",
     "timestamp": 1638375022233,
     "user": {
      "displayName": "장미",
      "photoUrl": "https://lh3.googleusercontent.com/a-/AOh14Gh8vmABvWOSNvDaeVIMBgI8JCXrKrrNFVpOoYy7=s64",
      "userId": "15860598069959026002"
     },
     "user_tz": -540
    },
    "id": "gEO4kWwlGDQ1",
    "outputId": "da798b83-4a40-4a5b-c265-ad949c353f7c"
   },
   "outputs": [
    {
     "name": "stdout",
     "output_type": "stream",
     "text": [
      "line 14 col 14 도깨비\n",
      "line 14 col 18 귀신\n",
      "line 71 col 55 도깨비\n",
      "line 82 col 28 도깨비\n",
      "line 84 col 66 도깨비\n",
      "line 84 col 70 귀신\n",
      "line 86 col 39 도깨비\n",
      "line 86 col 44 귀신\n",
      "line 86 col 145 도깨비\n",
      "line 90 col 61 도깨비\n",
      "line 91 col 12 도깨비\n",
      "line 101 col 11 도깨비\n",
      "line 112 col 25 도깨비\n",
      "line 114 col 15 도깨비\n",
      "line 124 col 59 도깨비\n",
      "line 126 col 89 도깨비\n",
      "line 132 col 15 도깨비\n",
      "line 138 col 11 도깨비\n",
      "line 140 col 13 도깨비\n",
      "line 141 col 7 도깨비\n",
      "['도깨비나', '귀신이', '도깨비불도', '도깨비굴이었든가', '도깨비나', '귀신치고', '도깨비인지', '귀신한테', '도깨비나', '도깨비면', '도깨비가', '도깨비해두', '도깨비는', '도깨비가', '도깨비가', '도깨비를', '도깨비가', '도깨비가', '도깨비장난이란', '도깨비란']\n",
      ">>> 도깨비와 귀신이 총 20번 등장하였습니다.\n"
     ]
    }
   ],
   "source": [
    "import re\n",
    "#'도깨비' 또는 '귀신'이 들어가는 단어 찾기\n",
    "p = re.compile(\"[가-힣]*(도깨비|귀신)[가-힣]+\")\n",
    "res = []\n",
    "\n",
    "for i,line in enumerate(data):\n",
    "  m = p.finditer(line)\n",
    "  for each in m:\n",
    "    res.append(each.group()) #group(0): 전체 문자열 (기본값)\n",
    "    # group(1): 소괄호로 그루핑된 첫번째 그룹(즉, 도깨비|귀신)\n",
    "    print(\"line\", i+1, \"col\", each.end(1)+1, each.group(1)) \n",
    "\n",
    "print(res)\n",
    "print(f\">>> 도깨비와 귀신이 총 {len(res)}번 등장하였습니다.\")"
   ]
  },
  {
   "cell_type": "markdown",
   "metadata": {
    "id": "bjKIbPg5MPte"
   },
   "source": [
    "메모장에서 Ctrl+F 로 찾으면 나오는 위치들이랑 일치하는 것을 알 수 있다.<br>\n",
    "![image.png](data:image/png;base64,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)"
   ]
  },
  {
   "cell_type": "markdown",
   "metadata": {},
   "source": [
    "#### [참고]"
   ]
  },
  {
   "cell_type": "code",
   "execution_count": 16,
   "metadata": {
    "colab": {
     "base_uri": "https://localhost:8080/"
    },
    "executionInfo": {
     "elapsed": 6,
     "status": "ok",
     "timestamp": 1638375022233,
     "user": {
      "displayName": "장미",
      "photoUrl": "https://lh3.googleusercontent.com/a-/AOh14Gh8vmABvWOSNvDaeVIMBgI8JCXrKrrNFVpOoYy7=s64",
      "userId": "15860598069959026002"
     },
     "user_tz": -540
    },
    "id": "UNfHMVLXNPcy",
    "outputId": "e40b23c0-6282-4b65-db91-0145ceb269cb"
   },
   "outputs": [
    {
     "name": "stdout",
     "output_type": "stream",
     "text": [
      "line 23 이 놈들 게 있거라!\n",
      "line 25 이래 보여두 한여름 동안을 이런 데루 댕기면서 잠자는 놈이다. 그렇게 쉽게 놀래겠니.\n",
      "line 27 이놈들 게 있거라!\n",
      "line 28 아이그 그년……\n",
      "line 29 이런 경칠 자식 보게.\n",
      "line 31 술맛 좋다!\n",
      "line 33 어떡 할려나?\n",
      "line 34 가세!\n",
      "line 35 가다니?\n",
      "line 36 아 아무데래두 가 자야지.\n",
      "line 38 이 세상에선 빠른게 첫째야. 이 잠자리두 이젠 세가 나네 그려. 허허허.\n",
      "line 40 여보게 저리루 들어가세.\n",
      "line 41 어데루 말인가?\n",
      "line 43 저 안으로 말야. 지금 가면 어델 간단 말인가. 아무레대루 쓰러져 한 잠 자면 됐지.\n",
      "line 44 그래두.\n",
      "line 45 머. 고지기한테 들킬까봐 말인가? 상관 있나 그까짓 거 낼 식전에 일즉이 달아나면 그만이지.\n",
      "line 49 에그 저게 뭔가 이 사람!\n",
      "line 53 하 하 하 하……\n",
      "line 55 미쳤나 이 사람!\n",
      "line 57 하하하 속았네, 속았어.\n",
      "line 58 …………\n",
      "line 59 속았어 개똥불을 보고 속았단 말야, 하하하.\n",
      "line 60 머 개똥불?\n",
      "line 62 그래 개똥불야 이거 볼려나.\n",
      "line 65 흥 흥\n",
      "line 66 에그머니!\n",
      "line 72 애초에 이리로 왔더라면 아무 일두 없었을걸.\n",
      "line 73 에라 아무데나\n",
      "line 77 어떤 놈야 이게!\n",
      "line 80 제발 사람을 죽이지 마라.\n",
      "line 82 이놈의 서울이 사람 사는 곳이 아니구 도깨비굴이었든가.\n",
      "line 84 어떤 놈야 이게!\n",
      "line 91 대체 원 도깨비가……\n",
      "line 94 머 도깨비?\n",
      "line 96 내가 있었더라면 그까짓 걸 그저……\n",
      "line 99 그래 그것한테 그렇게 혼이 났단 말인가…… 딴은 왕눈이 따위니까.\n",
      "line 101 도깨비 도깨비해두 나같이 밤마다야 보겠나.\n",
      "line 103 바로 우리 집 옆에 빈집이 하나 있네. 지금 있는 행랑에 든 지가 몇 달 안되어 모르긴 모르겠으나 어떻게 된 놈의 집이 원 사람이 들었던 집인지 안 들었던 집인지 벽은 다 떨어지구 문짝 하나 없단 말야. 그런데 그 빈집에 말일세.\n",
      "line 105 저녁을 먹구 인제 골목쟁이를 거닐지 않겠나. 그러면 그때일세. 별안간 고요하던 빈집에 불이 하나씩 둘씩 꺼졌다 켜졌다 하겠지. 그것이 진서방(나를 가리켜 하는 말이다) 말마따나 무엇을 찾는 듯이 슬슬 기다는 꺼지고 꺼졌단 또 생긴단 말야. 그런데 그런 불이 차차 늘어가겠지. 그리곤 무언지 지껄지껄하는 소리가 나자 한쪽에서는 돈을 세는지 은방망이로 장난을 하는지 질걱질걱하다간 또 무엇을 먹는지 쭉쭉 하는 소리까지 들리데. 그나 그뿐인가. 어떤 날은 저희끼리 싸움을 하는지 씨름을 하는지 후당탕하면서 욕지거리, 웃음소리 참 야단이지. 그러다가두 밤중만 되면 고요해지지만 그때면 또 별 괴괴망칙한 소리가 다 들려오데.\n",
      "line 107 어때 자미들 있나.\n",
      "line 109 정말유 그게?\n",
      "line 110 그럼 정말 아니구 내가 그래 자네들을 데리구 실없는 소리를 하겠나.\n",
      "line 112 하나 너무 속지들은 말게. 그런 도깨비는 비단 그 빈집에나 진서방들 혼난 데만 있는 것이 아닐세. 위선 밤에 동관이나 혹은 종묘께만 가보게. 시글시글할 테니.\n",
      "line 114 그럼 대체 그 도깨비가 무엇이란 말유.\n",
      "line 115 내가 이 자리에서 길다케 말할 것 없이 자네가 오늘 저녁에 또 한번 가서 찬찬히 살펴보게. 그러면 모든 것이 얼음장같이……\n",
      "line 117 무슨 얘기했소.\n",
      "line 119 오소 오소 일을 해야지.\n",
      "line 125 그까짓 거 여차직하면 이걸로.\n",
      "line 132 원 요런 놈의 도깨비가……\n",
      "line 137 원 이런 놈의……\n",
      "line 140 요게 정말 도깨비장난이란 것야.\n",
      "line 142 아이구 왜 이럽니까.\n",
      "line 144 나가라면 그저 나가라든지 그래 이 병신을 죽이시렵니까. 감히 못 들어올 덴 줄은 알면서도 헐 수 할 수 없이……\n",
      "line 147 아니우 앉아 계시우. 나는 고지기두 아무것두 아니니.\n",
      "line 148 네?\n",
      "line 150 어젯밤에 여기에 아무것도 나오지 않았소?\n",
      "line 152 네? 나오다니요? 아무것도 나오지는 않았습니다. 그리구 단지 우리 모자밖에는 여기 아무것도 없었습니다.\n",
      "line 154 그럼 대체 그 불은?\n",
      "line 156 무슨 일이나 생겼습니ᄁᆞ. 정말 저희들밖에는 아무것도 없었습니다. 그리구 저희는 저질른 것두 없습니다. 밤중은 돼서 다리가 하두 아프길래 약을 발르려고 찾으니 생전 있어야지유. 그래 그것을 찾느라구 성냥 한 갑을 다 거 내버린 일밖에는 아무것도 없었습니다.\n",
      "line 159 그놈의 원수의 자동차…… 그나마 얻어먹지도 못하게 이렇게 병신을 맨들어 놓고……\n",
      "line 161 자동차에요?\n",
      "line 162 네. 공원 앞에서 그놈의 자동차에……\n",
      "line 171 흥 여름밤이니까!\n",
      "line 182 그러문 대체――\n",
      "line 184 머? 겨우 요술꾼 약장수야!\n",
      "line 186 자동차 안에는\n",
      "line 187 오라질년 놈들!\n",
      "line 188 자동찰 타니 신이 나서 사람까지 치니.\n",
      "line 189 원 끔찍두 해라.\n",
      "line 192 그래 당신이 그……\n",
      "line 194 네 그렇답니다. 달포 전에 그 원수의 자동차에 치어가지구 병원엔지 무엔지를 끌구 가니 생전 저 어린 것이 보구 싶어 견딜 수 있어야지유. 그래 한달두 채 못돼 되루 나오지 않았어요. 그랬더니 이 놈의 다리가 또 아프기 시작해서 배길 수 있어야지유. 다리만 성하문야 그래두 돌아댕기면서 얻어먹을 수는 있지만……\n",
      "line 197 집이 원래 가난했습니다. 그런데다가 남편이 죽구 나니……\n",
      "['이 놈들 게 있거라!', '이래 보여두 한여름 동안을 이런 데루 댕기면서 잠자는 놈이다. 그렇게 쉽게 놀래겠니.', '이놈들 게 있거라!', '아이그 그년……', '이런 경칠 자식 보게.', '술맛 좋다!', '어떡 할려나?', '가세!', '가다니?', '아 아무데래두 가 자야지.', '이 세상에선 빠른게 첫째야. 이 잠자리두 이젠 세가 나네 그려. 허허허.', '여보게 저리루 들어가세.', '어데루 말인가?', '저 안으로 말야. 지금 가면 어델 간단 말인가. 아무레대루 쓰러져 한 잠 자면 됐지.', '그래두.', '머. 고지기한테 들킬까봐 말인가? 상관 있나 그까짓 거 낼 식전에 일즉이 달아나면 그만이지.', '에그 저게 뭔가 이 사람!', '하 하 하 하……', '미쳤나 이 사람!', '하하하 속았네, 속았어.', '…………', '속았어 개똥불을 보고 속았단 말야, 하하하.', '머 개똥불?', '그래 개똥불야 이거 볼려나.', '흥 흥', '에그머니!', '애초에 이리로 왔더라면 아무 일두 없었을걸.', '에라 아무데나', '어떤 놈야 이게!', '제발 사람을 죽이지 마라.', '이놈의 서울이 사람 사는 곳이 아니구 도깨비굴이었든가.', '어떤 놈야 이게!', '대체 원 도깨비가……', '머 도깨비?', '내가 있었더라면 그까짓 걸 그저……', '그래 그것한테 그렇게 혼이 났단 말인가…… 딴은 왕눈이 따위니까.', '도깨비 도깨비해두 나같이 밤마다야 보겠나.', '바로 우리 집 옆에 빈집이 하나 있네. 지금 있는 행랑에 든 지가 몇 달 안되어 모르긴 모르겠으나 어떻게 된 놈의 집이 원 사람이 들었던 집인지 안 들었던 집인지 벽은 다 떨어지구 문짝 하나 없단 말야. 그런데 그 빈집에 말일세.', '저녁을 먹구 인제 골목쟁이를 거닐지 않겠나. 그러면 그때일세. 별안간 고요하던 빈집에 불이 하나씩 둘씩 꺼졌다 켜졌다 하겠지. 그것이 진서방(나를 가리켜 하는 말이다) 말마따나 무엇을 찾는 듯이 슬슬 기다는 꺼지고 꺼졌단 또 생긴단 말야. 그런데 그런 불이 차차 늘어가겠지. 그리곤 무언지 지껄지껄하는 소리가 나자 한쪽에서는 돈을 세는지 은방망이로 장난을 하는지 질걱질걱하다간 또 무엇을 먹는지 쭉쭉 하는 소리까지 들리데. 그나 그뿐인가. 어떤 날은 저희끼리 싸움을 하는지 씨름을 하는지 후당탕하면서 욕지거리, 웃음소리 참 야단이지. 그러다가두 밤중만 되면 고요해지지만 그때면 또 별 괴괴망칙한 소리가 다 들려오데.', '어때 자미들 있나.', '정말유 그게?', '그럼 정말 아니구 내가 그래 자네들을 데리구 실없는 소리를 하겠나.', '하나 너무 속지들은 말게. 그런 도깨비는 비단 그 빈집에나 진서방들 혼난 데만 있는 것이 아닐세. 위선 밤에 동관이나 혹은 종묘께만 가보게. 시글시글할 테니.', '그럼 대체 그 도깨비가 무엇이란 말유.', '내가 이 자리에서 길다케 말할 것 없이 자네가 오늘 저녁에 또 한번 가서 찬찬히 살펴보게. 그러면 모든 것이 얼음장같이……', '무슨 얘기했소.', '오소 오소 일을 해야지.', '그까짓 거 여차직하면 이걸로.', '원 요런 놈의 도깨비가……', '원 이런 놈의……', '요게 정말 도깨비장난이란 것야.', '아이구 왜 이럽니까.', '나가라면 그저 나가라든지 그래 이 병신을 죽이시렵니까. 감히 못 들어올 덴 줄은 알면서도 헐 수 할 수 없이……', '아니우 앉아 계시우. 나는 고지기두 아무것두 아니니.', '네?', '어젯밤에 여기에 아무것도 나오지 않았소?', '네? 나오다니요? 아무것도 나오지는 않았습니다. 그리구 단지 우리 모자밖에는 여기 아무것도 없었습니다.', '그럼 대체 그 불은?', '무슨 일이나 생겼습니ᄁᆞ. 정말 저희들밖에는 아무것도 없었습니다. 그리구 저희는 저질른 것두 없습니다. 밤중은 돼서 다리가 하두 아프길래 약을 발르려고 찾으니 생전 있어야지유. 그래 그것을 찾느라구 성냥 한 갑을 다 거 내버린 일밖에는 아무것도 없었습니다.', '그놈의 원수의 자동차…… 그나마 얻어먹지도 못하게 이렇게 병신을 맨들어 놓고……', '자동차에요?', '네. 공원 앞에서 그놈의 자동차에……', '흥 여름밤이니까!', '그러문 대체――', '머? 겨우 요술꾼 약장수야!', '자동차 안에는', '오라질년 놈들!', '자동찰 타니 신이 나서 사람까지 치니.', '원 끔찍두 해라.', '그래 당신이 그……', '네 그렇답니다. 달포 전에 그 원수의 자동차에 치어가지구 병원엔지 무엔지를 끌구 가니 생전 저 어린 것이 보구 싶어 견딜 수 있어야지유. 그래 한달두 채 못돼 되루 나오지 않았어요. 그랬더니 이 놈의 다리가 또 아프기 시작해서 배길 수 있어야지유. 다리만 성하문야 그래두 돌아댕기면서 얻어먹을 수는 있지만……', '집이 원래 가난했습니다. 그런데다가 남편이 죽구 나니……']\n",
      "72 번 등장하였습니다.\n"
     ]
    }
   ],
   "source": [
    "#큰따옴표 안에 있는 직접인용 문장 찾기\n",
    "p = re.compile(\"\\“(.*)\\”\") \n",
    "res = []\n",
    "\n",
    "for i,line in enumerate(data):\n",
    "  m = p.finditer(line)\n",
    "  for each in m:\n",
    "    res.append(each.group(1))\n",
    "    print(\"line\", i+1, each.group(1)) \n",
    "\n",
    "print(res)\n",
    "print(len(res),\"번 등장하였습니다.\")"
   ]
  }
 ],
 "metadata": {
  "colab": {
   "authorship_tag": "ABX9TyOd6PzZ3zpue5MMR5hfjfYK",
   "collapsed_sections": [],
   "name": "13주차실습.ipynb",
   "provenance": []
  },
  "kernelspec": {
   "display_name": "Python 3",
   "language": "python",
   "name": "python3"
  },
  "language_info": {
   "codemirror_mode": {
    "name": "ipython",
    "version": 3
   },
   "file_extension": ".py",
   "mimetype": "text/x-python",
   "name": "python",
   "nbconvert_exporter": "python",
   "pygments_lexer": "ipython3",
   "version": "3.7.6"
  }
 },
 "nbformat": 4,
 "nbformat_minor": 1
}
